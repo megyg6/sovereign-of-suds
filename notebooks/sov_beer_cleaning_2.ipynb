{
 "cells": [
  {
   "cell_type": "code",
   "execution_count": null,
   "id": "e3ab2fec",
   "metadata": {},
   "outputs": [],
   "source": [
    "import pandas as pd   \n",
    "import numpy as np  \n",
    "import matplotlib.pyplot as plt  \n",
    "import seaborn as sns\n",
    "%matplotlib inline"
   ]
  },
  {
   "cell_type": "code",
   "execution_count": null,
   "id": "cc30f358",
   "metadata": {},
   "outputs": [],
   "source": [
    "beer_df=[]"
   ]
  },
  {
   "cell_type": "code",
   "execution_count": null,
   "id": "c03c6a4f",
   "metadata": {},
   "outputs": [],
   "source": [
    "beer_1= pd.read_csv('../data/1st_2_pg_pt1.csv')\n",
    "beer_df.append(beer_1)"
   ]
  },
  {
   "cell_type": "code",
   "execution_count": null,
   "id": "c9cc9619",
   "metadata": {},
   "outputs": [],
   "source": [
    "beer_2= pd.read_csv('../data/1st_2_pg_pt2.csv')\n",
    "beer_df.append(beer_2)"
   ]
  },
  {
   "cell_type": "code",
   "execution_count": null,
   "id": "70882dac",
   "metadata": {},
   "outputs": [],
   "source": [
    "beer_3= pd.read_csv('../data/1st_2_pg_pt3.csv')\n",
    "beer_df.append(beer_3)"
   ]
  },
  {
   "cell_type": "code",
   "execution_count": null,
   "id": "3180bef0",
   "metadata": {},
   "outputs": [],
   "source": [
    "beer_4= pd.read_csv('../data/1st_2_pg_pt4.csv')\n",
    "beer_df.append(beer_4)"
   ]
  },
  {
   "cell_type": "code",
   "execution_count": null,
   "id": "ec3a9150",
   "metadata": {},
   "outputs": [],
   "source": [
    "beer_5= pd.read_csv('../data/1st_2_pg_pt5.csv')\n",
    "beer_df.append(beer_5)"
   ]
  },
  {
   "cell_type": "code",
   "execution_count": null,
   "id": "b4e6b2ad",
   "metadata": {},
   "outputs": [],
   "source": [
    "beer=pd.concat(beer_df,ignore_index=True)\n",
    "#stacks the different df, and adjusts index"
   ]
  },
  {
   "cell_type": "code",
   "execution_count": null,
   "id": "762a319d",
   "metadata": {
    "scrolled": true
   },
   "outputs": [],
   "source": [
    "beer.head()\n",
    "\n",
    "#type_rank: ranking within its style\n",
    "#abv: percent of alcohol per volume\n",
    "#score:site score for beer\n",
    "#overall_rank: ranked against all beers on site \n",
    "#avg_rating: avg rating across all ratings on site \n",
    "#pdev: percentage of deviation with in ratings\n",
    "#reviews: numer of reviews\n",
    "#ratings: number of ratings\n",
    "#status: status of beer \n",
    "#date_added: date added to the site\n"
   ]
  },
  {
   "cell_type": "code",
   "execution_count": null,
   "id": "8e9a6757",
   "metadata": {},
   "outputs": [],
   "source": [
    "beer=beer.drop_duplicates().reset_index(drop=True)\n",
    "#different df that had to be concatinated due to webscrape being interrupted that many times\n",
    "#when restarted there must have been a few duplicates created \n",
    "#this part removes the dups"
   ]
  },
  {
   "cell_type": "code",
   "execution_count": null,
   "id": "b9581a0b",
   "metadata": {},
   "outputs": [],
   "source": [
    "beer.info()"
   ]
  },
  {
   "cell_type": "code",
   "execution_count": null,
   "id": "20e732b4",
   "metadata": {},
   "outputs": [],
   "source": [
    "beer['abv']=beer['abv'].str.rstrip('%')"
   ]
  },
  {
   "cell_type": "code",
   "execution_count": null,
   "id": "e05f6a93",
   "metadata": {},
   "outputs": [],
   "source": [
    "beer['pdev']=beer['pdev'].str.rstrip('%')"
   ]
  },
  {
   "cell_type": "code",
   "execution_count": null,
   "id": "00ac289c",
   "metadata": {},
   "outputs": [],
   "source": [
    "beer['reviews']=beer['reviews'].str.replace(',','')"
   ]
  },
  {
   "cell_type": "code",
   "execution_count": null,
   "id": "e6f18601",
   "metadata": {},
   "outputs": [],
   "source": [
    "beer['ratings']=beer['ratings'].str.replace(',','')"
   ]
  },
  {
   "cell_type": "code",
   "execution_count": null,
   "id": "5eb9f450",
   "metadata": {
    "scrolled": true
   },
   "outputs": [],
   "source": [
    "beer.head(2)"
   ]
  },
  {
   "cell_type": "code",
   "execution_count": null,
   "id": "82138403",
   "metadata": {},
   "outputs": [],
   "source": [
    "beer['rank']=beer['rank'].str.lstrip('Ranked')"
   ]
  },
  {
   "cell_type": "code",
   "execution_count": null,
   "id": "e06894b3",
   "metadata": {},
   "outputs": [],
   "source": [
    "beer['rank']=beer['rank'].str.replace('#','')"
   ]
  },
  {
   "cell_type": "code",
   "execution_count": null,
   "id": "af1f0ce9",
   "metadata": {},
   "outputs": [],
   "source": [
    "beer['rank']=beer['rank'].str.replace(',','')"
   ]
  },
  {
   "cell_type": "code",
   "execution_count": null,
   "id": "82207cc8",
   "metadata": {},
   "outputs": [],
   "source": [
    "beer['overall_rank']=beer['overall_rank'].str.lstrip('Ranked')"
   ]
  },
  {
   "cell_type": "code",
   "execution_count": null,
   "id": "6d6e98f4",
   "metadata": {},
   "outputs": [],
   "source": [
    "beer['overall_rank']=beer['overall_rank'].str.replace('#','')"
   ]
  },
  {
   "cell_type": "code",
   "execution_count": null,
   "id": "e1b79b98",
   "metadata": {},
   "outputs": [],
   "source": [
    "beer['overall_rank']=beer['overall_rank'].str.replace(',','')"
   ]
  },
  {
   "cell_type": "code",
   "execution_count": null,
   "id": "2d6ba2d2",
   "metadata": {
    "scrolled": true
   },
   "outputs": [],
   "source": [
    "beer"
   ]
  },
  {
   "cell_type": "code",
   "execution_count": null,
   "id": "7896add3",
   "metadata": {},
   "outputs": [],
   "source": [
    "beer[['abv','score','avg_rating','pdev','reviews','ratings','rank','overall_rank']]=beer[['abv','score','avg_rating','pdev','reviews','ratings','rank','overall_rank']].replace('Na',np.nan)"
   ]
  },
  {
   "cell_type": "code",
   "execution_count": null,
   "id": "e63b1868",
   "metadata": {},
   "outputs": [],
   "source": [
    "# beer['abv'].unique()\n",
    "beer['abv']=beer['abv'].replace('Not listed',np.nan)\n",
    "# # using apply method\n",
    "# df[['A', 'C']] = df[['A', 'C']].apply(pd.to_numeric)"
   ]
  },
  {
   "cell_type": "code",
   "execution_count": null,
   "id": "06a35119",
   "metadata": {},
   "outputs": [],
   "source": [
    "beer[['abv','score','avg_rating','pdev']]=beer[['abv','score','avg_rating','pdev']].astype(float)"
   ]
  },
  {
   "cell_type": "code",
   "execution_count": null,
   "id": "ed9788e5",
   "metadata": {},
   "outputs": [],
   "source": [
    "beer[['reviews','ratings']]=beer[['reviews','ratings']].astype(int)"
   ]
  },
  {
   "cell_type": "code",
   "execution_count": null,
   "id": "ae98c95d",
   "metadata": {},
   "outputs": [],
   "source": [
    "beer.info()"
   ]
  },
  {
   "cell_type": "code",
   "execution_count": null,
   "id": "b192cb60",
   "metadata": {},
   "outputs": [],
   "source": [
    "beer= beer.drop(columns = ['type_rank','score_orank','avg_and_pdev'])"
   ]
  },
  {
   "cell_type": "code",
   "execution_count": null,
   "id": "4f1e0e58",
   "metadata": {
    "scrolled": true
   },
   "outputs": [],
   "source": [
    "beer"
   ]
  },
  {
   "cell_type": "code",
   "execution_count": null,
   "id": "a2ed5dea",
   "metadata": {},
   "outputs": [],
   "source": [
    "beer = beer.rename(columns={'type_': 'sub_type'})"
   ]
  },
  {
   "cell_type": "code",
   "execution_count": null,
   "id": "b98b2418",
   "metadata": {},
   "outputs": [],
   "source": [
    "beer.head(1)"
   ]
  },
  {
   "cell_type": "code",
   "execution_count": null,
   "id": "c2b0d9e3",
   "metadata": {},
   "outputs": [],
   "source": [
    "# https://saturncloud.io/blog/how-to-create-a-new-column-based-on-the-value-of-another-column-in-pandas/\n",
    "# https://www.geeksforgeeks.org/check-multiple-conditions-in-if-statement-python/\n",
    "def type_(sub_type):\n",
    "    if sub_type == 'Bock' or sub_type == 'Doppelbock' or sub_type == 'Eisbock' or sub_type == 'Maibock' or sub_type == 'Weizenbock':\n",
    "        return 'Bock'\n",
    "    elif sub_type  == 'Altbier' or sub_type == 'American Brown Ale' or sub_type == 'Belgian Dark Ale' or sub_type == 'English Brown Ale' or sub_type == 'English Dark Mild Ale':\n",
    "        return 'Brown Ale'\n",
    "    elif sub_type == 'Dubbel' or sub_type == 'Roggenbier' or sub_type == 'Scottish Ale' or sub_type =='Winter Warmer':\n",
    "        return 'Dark Ale'\n",
    "    elif sub_type == 'American Amber / Red Lager' or sub_type == 'Czech Amber Lager' or sub_type =='Czech Dark Lager' or sub_type == 'European Dark Lager' or sub_type == 'Märzen' or sub_type == 'Munich Dunkel' or sub_type =='Rauchbier' or sub_type == 'Schwarzbier' or sub_type == 'Vienna Lager':\n",
    "        return 'Dark Lager'\n",
    "    elif sub_type == 'Bière de Champagne / Bière Brut' or sub_type =='Braggot' or sub_type =='California Common / Steam Beer' or sub_type =='Cream Ale':\n",
    "        return 'Hybrid Beer'\n",
    "    elif sub_type == 'American IPA' or sub_type =='Belgian IPA' or sub_type == 'Black IPA' or sub_type == 'Brut IPA' or sub_type =='English IPA' or sub_type =='Imperial IPA' or sub_type =='Milkshake IPA' or sub_type =='New England IPA':\n",
    "        return 'India Pale Ale'\n",
    "    elif sub_type == 'American Amber / Red Ale' or sub_type =='American Blonde Ale' or sub_type =='American Pale Ale' or sub_type =='Belgian Blonde Ale' or sub_type == 'Belgian Pale Ale' or sub_type =='Bière de Garde' or sub_type =='English Bitter' or sub_type =='English Pale Ale' or sub_type =='English Pale Mild Ale' or sub_type == 'Extra Special / Strong Bitter (ESB)' or sub_type =='Grisette' or sub_type =='Irish Red Ale' or sub_type =='Kölsch' or sub_type =='Saison':\n",
    "        return 'Pale Ale'\n",
    "    elif sub_type == 'American Adjunct Lager' or sub_type == 'American Lager' or sub_type =='Bohemian / Czech Pilsner' or sub_type =='Czech Pale Lager' or sub_type =='European / Dortmunder Export Lager' or sub_type =='European Pale Lager' or sub_type =='European Strong Lager' or sub_type =='Festbier / Wiesnbier' or sub_type =='German Pilsner' or sub_type =='Helles' or sub_type =='Imperial Pilsner' or sub_type =='India Pale Lager (IPL)' or sub_type =='Kellerbier / Zwickelbier' or sub_type =='Light Lager' or sub_type =='Malt Liquor':\n",
    "        return 'Pale Lager'\n",
    "    elif sub_type == 'American Porter' or sub_type == 'Baltic Porter' or sub_type =='English Porter' or sub_type == 'Imperial Porter' or sub_type =='Robust Porter' or sub_type =='Smoked Porter':\n",
    "        return 'Porter'\n",
    "    elif sub_type == 'Chile Beer' or sub_type =='Fruit and Field Beer' or sub_type =='Gruit / Ancient Herbed Ale' or sub_type =='Happoshu' or sub_type =='Herb and Spice Beer' or sub_type == 'Japanese Rice Lager' or sub_type =='Kvass' or sub_type == 'Low-Alcohol Beer' or sub_type =='Pumpkin Beer' or sub_type =='Rye Beer' or sub_type =='Sahti' or sub_type == 'Smoked Beer':\n",
    "        return 'Specialty Beer'\n",
    "    elif sub_type == 'American Imperial Stout' or sub_type == 'American Stout' or sub_type == 'English Stout' or sub_type =='Foreign / Export Stout' or sub_type == 'Irish Dry Stout' or sub_type == 'Oatmeal Stout' or sub_type =='Russian Imperial Stout' or sub_type =='Sweet / Milk Stout':\n",
    "        return 'Stout'\n",
    "    elif sub_type == 'American Barleywine' or sub_type =='American Strong Ale' or sub_type =='Belgian Dark Strong Ale' or sub_type == 'Belgian Pale Strong Ale' or sub_type =='English Barleywine' or sub_type =='English Strong Ale' or sub_type =='Imperial Red Ale' or sub_type =='Old Ale' or sub_type == 'Quadrupel (Quad)' or sub_type =='Scotch Ale / Wee Heavy' or sub_type =='Tripel' or sub_type == 'Wheatwine':\n",
    "        return 'Strong Ale'\n",
    "    elif sub_type == 'American Dark Wheat Beer' or sub_type =='American Pale Wheat Beer' or sub_type =='Dunkelweizen' or sub_type =='Grodziskie' or sub_type =='Hefeweizen' or sub_type =='Kristallweizen' or sub_type =='Witbier':\n",
    "        return 'Wheat Beer'\n",
    "    elif sub_type == 'Berliner Weisse' or sub_type == 'Brett Beer' or sub_type == 'Faro' or  sub_type =='Flanders Oud Bruin' or sub_type =='Flanders Red Ale' or sub_type =='Fruit Lambic' or sub_type == 'Fruited Kettle Sour' or sub_type =='Gose' or sub_type == 'Gueuze' or sub_type == 'Lambic' or sub_type == 'Wild Ale':\n",
    "        return 'Wild/Sour Beer'\n",
    "    else:\n",
    "        return 'Na'\n",
    "    "
   ]
  },
  {
   "cell_type": "code",
   "execution_count": null,
   "id": "c3375c57",
   "metadata": {},
   "outputs": [],
   "source": [
    "beer['sub_type'] = beer['sub_type'].str.strip()"
   ]
  },
  {
   "cell_type": "code",
   "execution_count": null,
   "id": "9cad20cf",
   "metadata": {},
   "outputs": [],
   "source": [
    "beer['type_'] = beer['sub_type'].apply(type_)"
   ]
  },
  {
   "cell_type": "code",
   "execution_count": null,
   "id": "02865ab6",
   "metadata": {},
   "outputs": [],
   "source": [
    "beer.tail(1)"
   ]
  },
  {
   "cell_type": "code",
   "execution_count": null,
   "id": "b720c196",
   "metadata": {},
   "outputs": [],
   "source": [
    "beer.type_.unique()"
   ]
  },
  {
   "cell_type": "code",
   "execution_count": null,
   "id": "e2904961",
   "metadata": {},
   "outputs": [],
   "source": [
    "beer.loc[beer['type_']=='Na']"
   ]
  },
  {
   "cell_type": "code",
   "execution_count": null,
   "id": "180c5a60",
   "metadata": {},
   "outputs": [],
   "source": [
    "beer"
   ]
  },
  {
   "cell_type": "code",
   "execution_count": null,
   "id": "5963e3d5",
   "metadata": {},
   "outputs": [],
   "source": [
    "beer.info()"
   ]
  },
  {
   "cell_type": "code",
   "execution_count": null,
   "id": "c9cdb91c",
   "metadata": {},
   "outputs": [],
   "source": [
    "beer[['rank','overall_rank']] = beer[['rank','overall_rank']].fillna(0).astype(int)"
   ]
  },
  {
   "cell_type": "code",
   "execution_count": null,
   "id": "8068ca91",
   "metadata": {},
   "outputs": [],
   "source": [
    "beer.info()"
   ]
  },
  {
   "cell_type": "code",
   "execution_count": null,
   "id": "c69787ec",
   "metadata": {},
   "outputs": [],
   "source": [
    "beer['date_added'] = pd.to_datetime(beer['date_added'], \n",
    "                                           format='mixed')"
   ]
  },
  {
   "cell_type": "code",
   "execution_count": null,
   "id": "410a483d",
   "metadata": {},
   "outputs": [],
   "source": [
    "beer.iloc[1596]"
   ]
  },
  {
   "cell_type": "code",
   "execution_count": null,
   "id": "473732b4",
   "metadata": {},
   "outputs": [],
   "source": [
    "beer['date_added']=beer['date_added'].str.replace('Today at 12:42 AM','Feb 19, 2024')"
   ]
  },
  {
   "cell_type": "code",
   "execution_count": null,
   "id": "91b5ad5f",
   "metadata": {},
   "outputs": [],
   "source": [
    "beer['date_added'] = pd.to_datetime(beer['date_added'], \n",
    "                                           format='mixed')"
   ]
  },
  {
   "cell_type": "code",
   "execution_count": null,
   "id": "1fbdb08e",
   "metadata": {},
   "outputs": [],
   "source": [
    "beer.info()"
   ]
  },
  {
   "cell_type": "code",
   "execution_count": null,
   "id": "b51771c9",
   "metadata": {},
   "outputs": [],
   "source": [
    "beer['month_added'] = beer['date_added'].dt.month_name()"
   ]
  },
  {
   "cell_type": "code",
   "execution_count": null,
   "id": "8898176f",
   "metadata": {},
   "outputs": [],
   "source": [
    "beer['day_added'] = beer['date_added'].dt.day_name()"
   ]
  },
  {
   "cell_type": "code",
   "execution_count": null,
   "id": "899b27c2",
   "metadata": {},
   "outputs": [],
   "source": [
    " beer['year_added']=beer['date_added'].dt.year"
   ]
  },
  {
   "cell_type": "code",
   "execution_count": null,
   "id": "ddbfaada",
   "metadata": {},
   "outputs": [],
   "source": [
    "beer"
   ]
  },
  {
   "cell_type": "code",
   "execution_count": null,
   "id": "056c06d9",
   "metadata": {},
   "outputs": [],
   "source": [
    "beer.info()"
   ]
  },
  {
   "cell_type": "code",
   "execution_count": null,
   "id": "54e6bad8",
   "metadata": {},
   "outputs": [],
   "source": [
    "beer.to_csv('../data/cleaned_beer.csv', index=False)"
   ]
  },
  {
   "cell_type": "code",
   "execution_count": null,
   "id": "3a09a27c",
   "metadata": {},
   "outputs": [],
   "source": []
  }
 ],
 "metadata": {
  "kernelspec": {
   "display_name": "Python 3 (ipykernel)",
   "language": "python",
   "name": "python3"
  },
  "language_info": {
   "codemirror_mode": {
    "name": "ipython",
    "version": 3
   },
   "file_extension": ".py",
   "mimetype": "text/x-python",
   "name": "python",
   "nbconvert_exporter": "python",
   "pygments_lexer": "ipython3",
   "version": "3.11.5"
  }
 },
 "nbformat": 4,
 "nbformat_minor": 5
}
