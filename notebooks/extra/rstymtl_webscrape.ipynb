{
 "cells": [
  {
   "cell_type": "code",
   "execution_count": 1,
   "id": "d52997f1",
   "metadata": {},
   "outputs": [],
   "source": [
    "import requests\n",
    "from bs4 import BeautifulSoup\n",
    "import pandas as pd\n",
    "import cloudscraper"
   ]
  },
  {
   "cell_type": "code",
   "execution_count": 4,
   "id": "652cbe26",
   "metadata": {},
   "outputs": [
    {
     "name": "stdout",
     "output_type": "stream",
     "text": [
      "200\n"
     ]
    }
   ],
   "source": [
    "url='https://www.beeradvocate.com/beer/profile/50850/554909/'\n",
    "headers = ({'User-Agent': 'Mozilla/5.0 (Windows NT 10.0; Win64; x64) AppleWebKit/537.36 (KHTML, like Gecko) Chrome/99.0.4844.51 Safari/537.36'})\n",
    "scraper = cloudscraper.create_scraper() \n",
    "response = scraper.get(url, headers=headers) \n",
    "print(response.status_code)"
   ]
  },
  {
   "cell_type": "code",
   "execution_count": 5,
   "id": "cb7a19b9",
   "metadata": {},
   "outputs": [],
   "source": [
    "soup = BeautifulSoup(response.text, 'lxml') "
   ]
  },
  {
   "cell_type": "code",
   "execution_count": 6,
   "id": "047bdeca",
   "metadata": {},
   "outputs": [
    {
     "data": {
      "text/plain": [
       "'RSTYMTL'"
      ]
     },
     "execution_count": 6,
     "metadata": {},
     "output_type": "execute_result"
    }
   ],
   "source": [
    "name=soup.h1.find(string=True)\n",
    "name"
   ]
  },
  {
   "cell_type": "code",
   "execution_count": 9,
   "id": "c461c22a",
   "metadata": {},
   "outputs": [],
   "source": [
    "beerstats=soup.find('dl',{'class': 'beerstats'})"
   ]
  },
  {
   "cell_type": "code",
   "execution_count": 11,
   "id": "f52e865e",
   "metadata": {},
   "outputs": [
    {
     "data": {
      "text/plain": [
       "'Kettlehead Brewing Company'"
      ]
     },
     "execution_count": 11,
     "metadata": {},
     "output_type": "execute_result"
    }
   ],
   "source": [
    "brewery=beerstats.find_all('dd',{'class':'beerstats'})[0].text\n",
    "brewery"
   ]
  },
  {
   "cell_type": "code",
   "execution_count": 12,
   "id": "c867a370",
   "metadata": {},
   "outputs": [
    {
     "data": {
      "text/plain": [
       "'New Hampshire, United States'"
      ]
     },
     "execution_count": 12,
     "metadata": {},
     "output_type": "execute_result"
    }
   ],
   "source": [
    "location=beerstats.find_all('dd',{'class':'beerstats'})[1].text\n",
    "location"
   ]
  },
  {
   "cell_type": "code",
   "execution_count": 14,
   "id": "d48e1400",
   "metadata": {},
   "outputs": [
    {
     "data": {
      "text/plain": [
       "'Altbier'"
      ]
     },
     "execution_count": 14,
     "metadata": {},
     "output_type": "execute_result"
    }
   ],
   "source": [
    "type_somerank=beerstats.find_all('dd',{'class':'beerstats'})[2].text\n",
    "type_somerank"
   ]
  },
  {
   "cell_type": "code",
   "execution_count": 16,
   "id": "f92b9b7f",
   "metadata": {},
   "outputs": [
    {
     "data": {
      "text/plain": [
       "'Altbier'"
      ]
     },
     "execution_count": 16,
     "metadata": {},
     "output_type": "execute_result"
    }
   ],
   "source": [
    "type_=beerstats.find_all('a',{'class':'Tooltip'})[1].text\n",
    "type_"
   ]
  },
  {
   "cell_type": "code",
   "execution_count": 18,
   "id": "1dea4075",
   "metadata": {},
   "outputs": [
    {
     "ename": "IndexError",
     "evalue": "list index out of range",
     "output_type": "error",
     "traceback": [
      "\u001b[0;31m---------------------------------------------------------------------------\u001b[0m",
      "\u001b[0;31mIndexError\u001b[0m                                Traceback (most recent call last)",
      "Cell \u001b[0;32mIn[18], line 1\u001b[0m\n\u001b[0;32m----> 1\u001b[0m rank\u001b[38;5;241m=\u001b[39mbeerstats\u001b[38;5;241m.\u001b[39mfind_all(\u001b[38;5;124m'\u001b[39m\u001b[38;5;124ma\u001b[39m\u001b[38;5;124m'\u001b[39m,{\u001b[38;5;124m'\u001b[39m\u001b[38;5;124mclass\u001b[39m\u001b[38;5;124m'\u001b[39m:\u001b[38;5;124m'\u001b[39m\u001b[38;5;124mTooltip\u001b[39m\u001b[38;5;124m'\u001b[39m})[\u001b[38;5;241m2\u001b[39m]\u001b[38;5;241m.\u001b[39mtext\n\u001b[1;32m      2\u001b[0m rank\n",
      "\u001b[0;31mIndexError\u001b[0m: list index out of range"
     ]
    }
   ],
   "source": [
    "rank=beerstats.find_all('a',{'class':'Tooltip'})[2].text\n",
    "rank\n",
    "##try except to return 'NA'"
   ]
  },
  {
   "cell_type": "code",
   "execution_count": 19,
   "id": "ad7cec3b",
   "metadata": {},
   "outputs": [
    {
     "data": {
      "text/plain": [
       "' 6%'"
      ]
     },
     "execution_count": 19,
     "metadata": {},
     "output_type": "execute_result"
    }
   ],
   "source": [
    "abv=beerstats.find_all('dd',{'class':'beerstats'})[3].text\n",
    "abv"
   ]
  },
  {
   "cell_type": "code",
   "execution_count": 20,
   "id": "9640cf31",
   "metadata": {},
   "outputs": [
    {
     "data": {
      "text/plain": [
       "'Needs more ratings'"
      ]
     },
     "execution_count": 20,
     "metadata": {},
     "output_type": "execute_result"
    }
   ],
   "source": [
    "score_orank=beerstats.find_all('dd',{'class':'beerstats'})[4].text\n",
    "score_orank"
   ]
  },
  {
   "cell_type": "code",
   "execution_count": 22,
   "id": "fc3041a8",
   "metadata": {},
   "outputs": [
    {
     "ename": "AttributeError",
     "evalue": "'NoneType' object has no attribute 'text'",
     "output_type": "error",
     "traceback": [
      "\u001b[0;31m---------------------------------------------------------------------------\u001b[0m",
      "\u001b[0;31mAttributeError\u001b[0m                            Traceback (most recent call last)",
      "Cell \u001b[0;32mIn[22], line 1\u001b[0m\n\u001b[0;32m----> 1\u001b[0m score\u001b[38;5;241m=\u001b[39mbeerstats\u001b[38;5;241m.\u001b[39mfind(\u001b[38;5;124m'\u001b[39m\u001b[38;5;124mspan\u001b[39m\u001b[38;5;124m'\u001b[39m,{\u001b[38;5;124m'\u001b[39m\u001b[38;5;124mclass\u001b[39m\u001b[38;5;124m'\u001b[39m:\u001b[38;5;124m'\u001b[39m\u001b[38;5;124mba-score Tooltip\u001b[39m\u001b[38;5;124m'\u001b[39m})\u001b[38;5;241m.\u001b[39mtext\n\u001b[1;32m      2\u001b[0m score\n",
      "\u001b[0;31mAttributeError\u001b[0m: 'NoneType' object has no attribute 'text'"
     ]
    }
   ],
   "source": [
    "score=beerstats.find('span',{'class':'ba-score Tooltip'}).text\n",
    "score\n",
    "##try except to return 'NA'"
   ]
  },
  {
   "cell_type": "code",
   "execution_count": 23,
   "id": "e43115d5",
   "metadata": {},
   "outputs": [
    {
     "ename": "IndexError",
     "evalue": "list index out of range",
     "output_type": "error",
     "traceback": [
      "\u001b[0;31m---------------------------------------------------------------------------\u001b[0m",
      "\u001b[0;31mIndexError\u001b[0m                                Traceback (most recent call last)",
      "Cell \u001b[0;32mIn[23], line 1\u001b[0m\n\u001b[0;32m----> 1\u001b[0m overall_rank\u001b[38;5;241m=\u001b[39mbeerstats\u001b[38;5;241m.\u001b[39mfind_all(\u001b[38;5;124m'\u001b[39m\u001b[38;5;124ma\u001b[39m\u001b[38;5;124m'\u001b[39m,{\u001b[38;5;124m'\u001b[39m\u001b[38;5;124mclass\u001b[39m\u001b[38;5;124m'\u001b[39m:\u001b[38;5;124m'\u001b[39m\u001b[38;5;124mTooltip\u001b[39m\u001b[38;5;124m'\u001b[39m})[\u001b[38;5;241m3\u001b[39m]\u001b[38;5;241m.\u001b[39mtext\n\u001b[1;32m      2\u001b[0m overall_rank\n",
      "\u001b[0;31mIndexError\u001b[0m: list index out of range"
     ]
    }
   ],
   "source": [
    "overall_rank=beerstats.find_all('a',{'class':'Tooltip'})[3].text\n",
    "overall_rank"
   ]
  },
  {
   "cell_type": "code",
   "execution_count": 24,
   "id": "3750b841",
   "metadata": {},
   "outputs": [
    {
     "data": {
      "text/plain": [
       "'3.85 | pDev: 8.57%'"
      ]
     },
     "execution_count": 24,
     "metadata": {},
     "output_type": "execute_result"
    }
   ],
   "source": [
    "avg_and_pdev=beerstats.find_all('dd',{'class':'beerstats'})[5].text\n",
    "avg_and_pdev"
   ]
  },
  {
   "cell_type": "code",
   "execution_count": 25,
   "id": "c8fb5978",
   "metadata": {},
   "outputs": [
    {
     "data": {
      "text/plain": [
       "'3.85'"
      ]
     },
     "execution_count": 25,
     "metadata": {},
     "output_type": "execute_result"
    }
   ],
   "source": [
    "avg_rating=beerstats.find('span',{'class':'ba-ravg Tooltip'}).text\n",
    "avg_rating"
   ]
  },
  {
   "cell_type": "code",
   "execution_count": 26,
   "id": "6f006d78",
   "metadata": {},
   "outputs": [
    {
     "data": {
      "text/plain": [
       "'8.57%'"
      ]
     },
     "execution_count": 26,
     "metadata": {},
     "output_type": "execute_result"
    }
   ],
   "source": [
    "pdev=beerstats.find('span',{'class':'ba-pdev muted Tooltip'}).text\n",
    "pdev"
   ]
  },
  {
   "cell_type": "code",
   "execution_count": 27,
   "id": "2bbf2da2",
   "metadata": {},
   "outputs": [
    {
     "data": {
      "text/plain": [
       "'2'"
      ]
     },
     "execution_count": 27,
     "metadata": {},
     "output_type": "execute_result"
    }
   ],
   "source": [
    "reviews=beerstats.find_all('dd',{'class':'beerstats'})[6].text\n",
    "reviews"
   ]
  },
  {
   "cell_type": "code",
   "execution_count": 28,
   "id": "9318d364",
   "metadata": {},
   "outputs": [
    {
     "data": {
      "text/plain": [
       "'4'"
      ]
     },
     "execution_count": 28,
     "metadata": {},
     "output_type": "execute_result"
    }
   ],
   "source": [
    "ratings=beerstats.find_all('dd',{'class':'beerstats'})[7].text\n",
    "ratings"
   ]
  },
  {
   "cell_type": "code",
   "execution_count": 29,
   "id": "d56ccafb",
   "metadata": {},
   "outputs": [
    {
     "data": {
      "text/plain": [
       "'Active'"
      ]
     },
     "execution_count": 29,
     "metadata": {},
     "output_type": "execute_result"
    }
   ],
   "source": [
    "status=beerstats.find_all('dd',{'class':'beerstats'})[8].text\n",
    "status"
   ]
  },
  {
   "cell_type": "code",
   "execution_count": 30,
   "id": "cea7389f",
   "metadata": {},
   "outputs": [
    {
     "data": {
      "text/plain": [
       "'Jun 19, 2021'"
      ]
     },
     "execution_count": 30,
     "metadata": {},
     "output_type": "execute_result"
    }
   ],
   "source": [
    "date_added=beerstats.find_all('dd',{'class':'beerstats'})[10].text\n",
    "date_added"
   ]
  },
  {
   "cell_type": "code",
   "execution_count": null,
   "id": "8f64b396",
   "metadata": {},
   "outputs": [],
   "source": []
  }
 ],
 "metadata": {
  "kernelspec": {
   "display_name": "Python 3 (ipykernel)",
   "language": "python",
   "name": "python3"
  },
  "language_info": {
   "codemirror_mode": {
    "name": "ipython",
    "version": 3
   },
   "file_extension": ".py",
   "mimetype": "text/x-python",
   "name": "python",
   "nbconvert_exporter": "python",
   "pygments_lexer": "ipython3",
   "version": "3.11.5"
  }
 },
 "nbformat": 4,
 "nbformat_minor": 5
}
