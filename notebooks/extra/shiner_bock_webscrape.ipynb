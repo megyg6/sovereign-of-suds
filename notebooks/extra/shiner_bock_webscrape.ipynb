{
 "cells": [
  {
   "cell_type": "code",
   "execution_count": 1,
   "id": "d5f9ecd8",
   "metadata": {},
   "outputs": [],
   "source": [
    "import requests\n",
    "from bs4 import BeautifulSoup\n",
    "import pandas as pd\n",
    "import cloudscraper"
   ]
  },
  {
   "cell_type": "code",
   "execution_count": 6,
   "id": "cc76016c",
   "metadata": {},
   "outputs": [
    {
     "name": "stdout",
     "output_type": "stream",
     "text": [
      "200\n"
     ]
    }
   ],
   "source": [
    "url='https://www.beeradvocate.com/beer/profile/143/1352/'\n",
    "headers = ({'User-Agent': 'Mozilla/5.0 (Windows NT 10.0; Win64; x64) AppleWebKit/537.36 (KHTML, like Gecko) Chrome/99.0.4844.51 Safari/537.36'})\n",
    "scraper = cloudscraper.create_scraper() \n",
    "response = scraper.get(url, headers=headers) \n",
    "print(response.status_code)\n"
   ]
  },
  {
   "cell_type": "code",
   "execution_count": 7,
   "id": "8c5feb9d",
   "metadata": {},
   "outputs": [],
   "source": [
    "soup = BeautifulSoup(response.text, 'lxml') "
   ]
  },
  {
   "cell_type": "code",
   "execution_count": 10,
   "id": "722811bf",
   "metadata": {},
   "outputs": [
    {
     "data": {
      "text/plain": [
       "'Shiner Bock'"
      ]
     },
     "execution_count": 10,
     "metadata": {},
     "output_type": "execute_result"
    }
   ],
   "source": [
    "name=soup.h1.find(string=True)\n",
    "name"
   ]
  },
  {
   "cell_type": "code",
   "execution_count": 13,
   "id": "dc40e069",
   "metadata": {},
   "outputs": [],
   "source": [
    "beerstats=soup.find('dl',{'class': 'beerstats'})"
   ]
  },
  {
   "cell_type": "code",
   "execution_count": 18,
   "id": "230a4695",
   "metadata": {},
   "outputs": [],
   "source": [
    "brewery=beerstats.find_all('dd',{'class':'beerstats'})[0].text\n",
    "brewery"
   ]
  },
  {
   "cell_type": "code",
   "execution_count": 20,
   "id": "e5574685",
   "metadata": {},
   "outputs": [
    {
     "data": {
      "text/plain": [
       "'Texas, United States'"
      ]
     },
     "execution_count": 20,
     "metadata": {},
     "output_type": "execute_result"
    }
   ],
   "source": [
    "location=beerstats.find_all('dd',{'class':'beerstats'})[1].text\n",
    "location"
   ]
  },
  {
   "cell_type": "code",
   "execution_count": 26,
   "id": "b2da56de",
   "metadata": {},
   "outputs": [
    {
     "data": {
      "text/plain": [
       "'BockRanked #96'"
      ]
     },
     "execution_count": 26,
     "metadata": {},
     "output_type": "execute_result"
    }
   ],
   "source": [
    "type_rank=beerstats.find_all('dd',{'class':'beerstats'})[2].text\n",
    "type_somerank"
   ]
  },
  {
   "cell_type": "code",
   "execution_count": 28,
   "id": "c2f2dcaf",
   "metadata": {},
   "outputs": [
    {
     "data": {
      "text/plain": [
       "'Bock'"
      ]
     },
     "execution_count": 28,
     "metadata": {},
     "output_type": "execute_result"
    }
   ],
   "source": [
    "type_=beerstats.find_all('a',{'class':'Tooltip'})[1].text\n",
    "type_"
   ]
  },
  {
   "cell_type": "code",
   "execution_count": 30,
   "id": "f7635a48",
   "metadata": {},
   "outputs": [
    {
     "data": {
      "text/plain": [
       "'Ranked #96'"
      ]
     },
     "execution_count": 30,
     "metadata": {},
     "output_type": "execute_result"
    }
   ],
   "source": [
    "rank=beerstats.find_all('a',{'class':'Tooltip'})[2].text\n",
    "rank\n",
    "#style rank"
   ]
  },
  {
   "cell_type": "code",
   "execution_count": 57,
   "id": "708d6be4",
   "metadata": {},
   "outputs": [
    {
     "data": {
      "text/plain": [
       "' 4.5%'"
      ]
     },
     "execution_count": 57,
     "metadata": {},
     "output_type": "execute_result"
    }
   ],
   "source": [
    "abv=beerstats.find_all('dd',{'class':'beerstats'})[3].text\n",
    "abv"
   ]
  },
  {
   "cell_type": "code",
   "execution_count": 34,
   "id": "d0f37a50",
   "metadata": {},
   "outputs": [
    {
     "data": {
      "text/plain": [
       "'74Ranked #27,996'"
      ]
     },
     "execution_count": 34,
     "metadata": {},
     "output_type": "execute_result"
    }
   ],
   "source": [
    "score_orank=beerstats.find_all('dd',{'class':'beerstats'})[4].text\n",
    "score_orank"
   ]
  },
  {
   "cell_type": "code",
   "execution_count": 38,
   "id": "b96603bb",
   "metadata": {},
   "outputs": [
    {
     "data": {
      "text/plain": [
       "'74'"
      ]
     },
     "execution_count": 38,
     "metadata": {},
     "output_type": "execute_result"
    }
   ],
   "source": [
    "score=beerstats.find('span',{'class':'ba-score Tooltip'}).text\n",
    "score"
   ]
  },
  {
   "cell_type": "code",
   "execution_count": 43,
   "id": "e49ec511",
   "metadata": {},
   "outputs": [
    {
     "data": {
      "text/plain": [
       "'Ranked #27,996'"
      ]
     },
     "execution_count": 43,
     "metadata": {},
     "output_type": "execute_result"
    }
   ],
   "source": [
    "overall_rank=beerstats.find_all('a',{'class':'Tooltip'})[3].text\n",
    "overall_rank"
   ]
  },
  {
   "cell_type": "code",
   "execution_count": 45,
   "id": "51ddbbea",
   "metadata": {},
   "outputs": [
    {
     "data": {
      "text/plain": [
       "'3.21 | pDev: 19.63%'"
      ]
     },
     "execution_count": 45,
     "metadata": {},
     "output_type": "execute_result"
    }
   ],
   "source": [
    "avg_and_pdev=beerstats.find_all('dd',{'class':'beerstats'})[5].text\n",
    "avg_and_pdev"
   ]
  },
  {
   "cell_type": "code",
   "execution_count": 48,
   "id": "2dba4aad",
   "metadata": {},
   "outputs": [
    {
     "data": {
      "text/plain": [
       "'3.21'"
      ]
     },
     "execution_count": 48,
     "metadata": {},
     "output_type": "execute_result"
    }
   ],
   "source": [
    "avg_rating=beerstats.find('span',{'class':'ba-ravg Tooltip'}).text\n",
    "avg_rating\n",
    "##avg rating"
   ]
  },
  {
   "cell_type": "code",
   "execution_count": 50,
   "id": "61e15be5",
   "metadata": {},
   "outputs": [
    {
     "data": {
      "text/plain": [
       "'19.63%'"
      ]
     },
     "execution_count": 50,
     "metadata": {},
     "output_type": "execute_result"
    }
   ],
   "source": [
    "pdev=beerstats.find('span',{'class':'ba-pdev muted Tooltip'}).text\n",
    "pdev"
   ]
  },
  {
   "cell_type": "code",
   "execution_count": 51,
   "id": "54e95542",
   "metadata": {},
   "outputs": [
    {
     "data": {
      "text/plain": [
       "'1,234'"
      ]
     },
     "execution_count": 51,
     "metadata": {},
     "output_type": "execute_result"
    }
   ],
   "source": [
    "reviews=beerstats.find_all('dd',{'class':'beerstats'})[6].text\n",
    "reviews"
   ]
  },
  {
   "cell_type": "code",
   "execution_count": 53,
   "id": "a2ae87e9",
   "metadata": {},
   "outputs": [
    {
     "data": {
      "text/plain": [
       "'4,564'"
      ]
     },
     "execution_count": 53,
     "metadata": {},
     "output_type": "execute_result"
    }
   ],
   "source": [
    "ratings=beerstats.find_all('dd',{'class':'beerstats'})[7].text\n",
    "ratings"
   ]
  },
  {
   "cell_type": "code",
   "execution_count": 55,
   "id": "34f38163",
   "metadata": {},
   "outputs": [
    {
     "data": {
      "text/plain": [
       "'Active'"
      ]
     },
     "execution_count": 55,
     "metadata": {},
     "output_type": "execute_result"
    }
   ],
   "source": [
    "status=beerstats.find_all('dd',{'class':'beerstats'})[8].text\n",
    "status"
   ]
  },
  {
   "cell_type": "code",
   "execution_count": 56,
   "id": "d6ed91dc",
   "metadata": {},
   "outputs": [
    {
     "data": {
      "text/plain": [
       "'Oct 03, 1999'"
      ]
     },
     "execution_count": 56,
     "metadata": {},
     "output_type": "execute_result"
    }
   ],
   "source": [
    "date_added=beerstats.find_all('dd',{'class':'beerstats'})[10].text\n",
    "date_added\n",
    "#added to database"
   ]
  },
  {
   "cell_type": "code",
   "execution_count": null,
   "id": "cc5f87a8",
   "metadata": {},
   "outputs": [],
   "source": []
  }
 ],
 "metadata": {
  "kernelspec": {
   "display_name": "Python 3 (ipykernel)",
   "language": "python",
   "name": "python3"
  },
  "language_info": {
   "codemirror_mode": {
    "name": "ipython",
    "version": 3
   },
   "file_extension": ".py",
   "mimetype": "text/x-python",
   "name": "python",
   "nbconvert_exporter": "python",
   "pygments_lexer": "ipython3",
   "version": "3.11.5"
  }
 },
 "nbformat": 4,
 "nbformat_minor": 5
}
