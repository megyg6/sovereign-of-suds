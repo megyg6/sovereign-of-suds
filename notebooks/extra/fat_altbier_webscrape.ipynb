{
 "cells": [
  {
   "cell_type": "code",
   "execution_count": 1,
   "id": "230cc0a1",
   "metadata": {},
   "outputs": [],
   "source": [
    "import requests\n",
    "from bs4 import BeautifulSoup\n",
    "import pandas as pd\n",
    "import cloudscraper"
   ]
  },
  {
   "cell_type": "code",
   "execution_count": 6,
   "id": "f4257d93",
   "metadata": {},
   "outputs": [
    {
     "name": "stdout",
     "output_type": "stream",
     "text": [
      "200\n"
     ]
    }
   ],
   "source": [
    "url='https://www.beeradvocate.com/beer/profile/1937/42658/'\n",
    "headers = ({'User-Agent': 'Mozilla/5.0 (Windows NT 10.0; Win64; x64) AppleWebKit/537.36 (KHTML, like Gecko) Chrome/99.0.4844.51 Safari/537.36'})\n",
    "scraper = cloudscraper.create_scraper() \n",
    "response = scraper.get(url, headers=headers) \n",
    "print(response.status_code)"
   ]
  },
  {
   "cell_type": "code",
   "execution_count": 7,
   "id": "b775f18c",
   "metadata": {},
   "outputs": [],
   "source": [
    "soup = BeautifulSoup(response.text, 'lxml') "
   ]
  },
  {
   "cell_type": "code",
   "execution_count": 8,
   "id": "a3251a3e",
   "metadata": {},
   "outputs": [
    {
     "data": {
      "text/plain": [
       "'Fat Altbier'"
      ]
     },
     "execution_count": 8,
     "metadata": {},
     "output_type": "execute_result"
    }
   ],
   "source": [
    "name=soup.h1.find(string=True)\n",
    "name"
   ]
  },
  {
   "cell_type": "code",
   "execution_count": 11,
   "id": "43dba421",
   "metadata": {},
   "outputs": [],
   "source": [
    "beerstats=soup.find('dl',{'class': 'beerstats'})"
   ]
  },
  {
   "cell_type": "code",
   "execution_count": 13,
   "id": "220ad7f7",
   "metadata": {},
   "outputs": [
    {
     "data": {
      "text/plain": [
       "'Swashbuckler Brewing Company'"
      ]
     },
     "execution_count": 13,
     "metadata": {},
     "output_type": "execute_result"
    }
   ],
   "source": [
    "brewery=beerstats.find_all('dd',{'class':'beerstats'})[0].text\n",
    "brewery"
   ]
  },
  {
   "cell_type": "code",
   "execution_count": 14,
   "id": "5e8e12e4",
   "metadata": {},
   "outputs": [
    {
     "data": {
      "text/plain": [
       "'Pennsylvania, United States'"
      ]
     },
     "execution_count": 14,
     "metadata": {},
     "output_type": "execute_result"
    }
   ],
   "source": [
    "location=beerstats.find_all('dd',{'class':'beerstats'})[1].text\n",
    "location"
   ]
  },
  {
   "cell_type": "code",
   "execution_count": 17,
   "id": "fbcf807c",
   "metadata": {},
   "outputs": [
    {
     "data": {
      "text/plain": [
       "'Altbier'"
      ]
     },
     "execution_count": 17,
     "metadata": {},
     "output_type": "execute_result"
    }
   ],
   "source": [
    "type_somerank=beerstats.find_all('dd',{'class':'beerstats'})[2].text\n",
    "type_somerank"
   ]
  },
  {
   "cell_type": "code",
   "execution_count": 19,
   "id": "5b67ad4a",
   "metadata": {},
   "outputs": [
    {
     "data": {
      "text/plain": [
       "'Altbier'"
      ]
     },
     "execution_count": 19,
     "metadata": {},
     "output_type": "execute_result"
    }
   ],
   "source": [
    "type_=beerstats.find_all('a',{'class':'Tooltip'})[1].text\n",
    "type_"
   ]
  },
  {
   "cell_type": "code",
   "execution_count": 21,
   "id": "1afa599f",
   "metadata": {},
   "outputs": [
    {
     "ename": "IndexError",
     "evalue": "list index out of range",
     "output_type": "error",
     "traceback": [
      "\u001b[0;31m---------------------------------------------------------------------------\u001b[0m",
      "\u001b[0;31mIndexError\u001b[0m                                Traceback (most recent call last)",
      "Cell \u001b[0;32mIn[21], line 1\u001b[0m\n\u001b[0;32m----> 1\u001b[0m rank\u001b[38;5;241m=\u001b[39mbeerstats\u001b[38;5;241m.\u001b[39mfind_all(\u001b[38;5;124m'\u001b[39m\u001b[38;5;124ma\u001b[39m\u001b[38;5;124m'\u001b[39m,{\u001b[38;5;124m'\u001b[39m\u001b[38;5;124mclass\u001b[39m\u001b[38;5;124m'\u001b[39m:\u001b[38;5;124m'\u001b[39m\u001b[38;5;124mTooltip\u001b[39m\u001b[38;5;124m'\u001b[39m})[\u001b[38;5;241m2\u001b[39m]\u001b[38;5;241m.\u001b[39mtext\n\u001b[1;32m      2\u001b[0m rank\n",
      "\u001b[0;31mIndexError\u001b[0m: list index out of range"
     ]
    }
   ],
   "source": [
    "rank=beerstats.find_all('a',{'class':'Tooltip'})[2].text\n",
    "rank\n",
    "##try except to return 'NA'"
   ]
  },
  {
   "cell_type": "code",
   "execution_count": 22,
   "id": "903dcaaa",
   "metadata": {},
   "outputs": [
    {
     "data": {
      "text/plain": [
       "' 5.1%'"
      ]
     },
     "execution_count": 22,
     "metadata": {},
     "output_type": "execute_result"
    }
   ],
   "source": [
    "abv=beerstats.find_all('dd',{'class':'beerstats'})[3].text\n",
    "abv"
   ]
  },
  {
   "cell_type": "code",
   "execution_count": 23,
   "id": "224f2d7d",
   "metadata": {},
   "outputs": [
    {
     "data": {
      "text/plain": [
       "'Needs more ratings'"
      ]
     },
     "execution_count": 23,
     "metadata": {},
     "output_type": "execute_result"
    }
   ],
   "source": [
    "score_orank=beerstats.find_all('dd',{'class':'beerstats'})[4].text\n",
    "score_orank"
   ]
  },
  {
   "cell_type": "code",
   "execution_count": 24,
   "id": "c8f3fc05",
   "metadata": {},
   "outputs": [
    {
     "ename": "AttributeError",
     "evalue": "'NoneType' object has no attribute 'text'",
     "output_type": "error",
     "traceback": [
      "\u001b[0;31m---------------------------------------------------------------------------\u001b[0m",
      "\u001b[0;31mAttributeError\u001b[0m                            Traceback (most recent call last)",
      "Cell \u001b[0;32mIn[24], line 1\u001b[0m\n\u001b[0;32m----> 1\u001b[0m score\u001b[38;5;241m=\u001b[39mbeerstats\u001b[38;5;241m.\u001b[39mfind(\u001b[38;5;124m'\u001b[39m\u001b[38;5;124mspan\u001b[39m\u001b[38;5;124m'\u001b[39m,{\u001b[38;5;124m'\u001b[39m\u001b[38;5;124mclass\u001b[39m\u001b[38;5;124m'\u001b[39m:\u001b[38;5;124m'\u001b[39m\u001b[38;5;124mba-score Tooltip\u001b[39m\u001b[38;5;124m'\u001b[39m})\u001b[38;5;241m.\u001b[39mtext\n\u001b[1;32m      2\u001b[0m score\n",
      "\u001b[0;31mAttributeError\u001b[0m: 'NoneType' object has no attribute 'text'"
     ]
    }
   ],
   "source": [
    "score=beerstats.find('span',{'class':'ba-score Tooltip'}).text\n",
    "score\n",
    "##try except to return 'NA'"
   ]
  },
  {
   "cell_type": "code",
   "execution_count": 25,
   "id": "8a1cf4a7",
   "metadata": {},
   "outputs": [
    {
     "ename": "IndexError",
     "evalue": "list index out of range",
     "output_type": "error",
     "traceback": [
      "\u001b[0;31m---------------------------------------------------------------------------\u001b[0m",
      "\u001b[0;31mIndexError\u001b[0m                                Traceback (most recent call last)",
      "Cell \u001b[0;32mIn[25], line 1\u001b[0m\n\u001b[0;32m----> 1\u001b[0m overall_rank\u001b[38;5;241m=\u001b[39mbeerstats\u001b[38;5;241m.\u001b[39mfind_all(\u001b[38;5;124m'\u001b[39m\u001b[38;5;124ma\u001b[39m\u001b[38;5;124m'\u001b[39m,{\u001b[38;5;124m'\u001b[39m\u001b[38;5;124mclass\u001b[39m\u001b[38;5;124m'\u001b[39m:\u001b[38;5;124m'\u001b[39m\u001b[38;5;124mTooltip\u001b[39m\u001b[38;5;124m'\u001b[39m})[\u001b[38;5;241m3\u001b[39m]\u001b[38;5;241m.\u001b[39mtext\n\u001b[1;32m      2\u001b[0m overall_rank\n",
      "\u001b[0;31mIndexError\u001b[0m: list index out of range"
     ]
    }
   ],
   "source": [
    "overall_rank=beerstats.find_all('a',{'class':'Tooltip'})[3].text\n",
    "overall_rank"
   ]
  },
  {
   "cell_type": "code",
   "execution_count": 26,
   "id": "32cb9933",
   "metadata": {},
   "outputs": [
    {
     "data": {
      "text/plain": [
       "'3.55 | pDev: 11.83%'"
      ]
     },
     "execution_count": 26,
     "metadata": {},
     "output_type": "execute_result"
    }
   ],
   "source": [
    "avg_and_pdev=beerstats.find_all('dd',{'class':'beerstats'})[5].text\n",
    "avg_and_pdev"
   ]
  },
  {
   "cell_type": "code",
   "execution_count": 27,
   "id": "e2ea6330",
   "metadata": {},
   "outputs": [
    {
     "data": {
      "text/plain": [
       "'3.55'"
      ]
     },
     "execution_count": 27,
     "metadata": {},
     "output_type": "execute_result"
    }
   ],
   "source": [
    "avg_rating=beerstats.find('span',{'class':'ba-ravg Tooltip'}).text\n",
    "avg_rating"
   ]
  },
  {
   "cell_type": "code",
   "execution_count": 28,
   "id": "f0eb6608",
   "metadata": {},
   "outputs": [
    {
     "data": {
      "text/plain": [
       "'11.83%'"
      ]
     },
     "execution_count": 28,
     "metadata": {},
     "output_type": "execute_result"
    }
   ],
   "source": [
    "pdev=beerstats.find('span',{'class':'ba-pdev muted Tooltip'}).text\n",
    "pdev"
   ]
  },
  {
   "cell_type": "code",
   "execution_count": 29,
   "id": "25115807",
   "metadata": {},
   "outputs": [
    {
     "data": {
      "text/plain": [
       "'3'"
      ]
     },
     "execution_count": 29,
     "metadata": {},
     "output_type": "execute_result"
    }
   ],
   "source": [
    "reviews=beerstats.find_all('dd',{'class':'beerstats'})[6].text\n",
    "reviews"
   ]
  },
  {
   "cell_type": "code",
   "execution_count": 30,
   "id": "644d07a9",
   "metadata": {},
   "outputs": [
    {
     "data": {
      "text/plain": [
       "'4'"
      ]
     },
     "execution_count": 30,
     "metadata": {},
     "output_type": "execute_result"
    }
   ],
   "source": [
    "ratings=beerstats.find_all('dd',{'class':'beerstats'})[7].text\n",
    "ratings"
   ]
  },
  {
   "cell_type": "code",
   "execution_count": 31,
   "id": "96042502",
   "metadata": {},
   "outputs": [
    {
     "data": {
      "text/plain": [
       "'Active'"
      ]
     },
     "execution_count": 31,
     "metadata": {},
     "output_type": "execute_result"
    }
   ],
   "source": [
    "status=beerstats.find_all('dd',{'class':'beerstats'})[8].text\n",
    "status"
   ]
  },
  {
   "cell_type": "code",
   "execution_count": 32,
   "id": "b922940a",
   "metadata": {},
   "outputs": [
    {
     "data": {
      "text/plain": [
       "'May 14, 2008'"
      ]
     },
     "execution_count": 32,
     "metadata": {},
     "output_type": "execute_result"
    }
   ],
   "source": [
    "date_added=beerstats.find_all('dd',{'class':'beerstats'})[10].text\n",
    "date_added"
   ]
  },
  {
   "cell_type": "code",
   "execution_count": null,
   "id": "fbaf9579",
   "metadata": {},
   "outputs": [],
   "source": []
  }
 ],
 "metadata": {
  "kernelspec": {
   "display_name": "Python 3 (ipykernel)",
   "language": "python",
   "name": "python3"
  },
  "language_info": {
   "codemirror_mode": {
    "name": "ipython",
    "version": 3
   },
   "file_extension": ".py",
   "mimetype": "text/x-python",
   "name": "python",
   "nbconvert_exporter": "python",
   "pygments_lexer": "ipython3",
   "version": "3.11.5"
  }
 },
 "nbformat": 4,
 "nbformat_minor": 5
}
