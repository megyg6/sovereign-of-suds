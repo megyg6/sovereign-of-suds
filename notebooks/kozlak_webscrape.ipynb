{
 "cells": [
  {
   "cell_type": "code",
   "execution_count": 1,
   "id": "dfa53123",
   "metadata": {},
   "outputs": [],
   "source": [
    "import requests\n",
    "from bs4 import BeautifulSoup\n",
    "import pandas as pd\n",
    "import cloudscraper"
   ]
  },
  {
   "cell_type": "code",
   "execution_count": 2,
   "id": "f06f3815",
   "metadata": {},
   "outputs": [
    {
     "name": "stdout",
     "output_type": "stream",
     "text": [
      "200\n"
     ]
    }
   ],
   "source": [
    "url='https://www.beeradvocate.com/beer/profile/5502/27167/'\n",
    "headers = ({'User-Agent': 'Mozilla/5.0 (Windows NT 10.0; Win64; x64) AppleWebKit/537.36 (KHTML, like Gecko) Chrome/99.0.4844.51 Safari/537.36'})\n",
    "scraper = cloudscraper.create_scraper() \n",
    "response = scraper.get(url, headers=headers) \n",
    "print(response.status_code)"
   ]
  },
  {
   "cell_type": "code",
   "execution_count": 3,
   "id": "2e582f7f",
   "metadata": {},
   "outputs": [],
   "source": [
    "soup = BeautifulSoup(response.text, 'lxml') "
   ]
  },
  {
   "cell_type": "code",
   "execution_count": 4,
   "id": "0ec26e0c",
   "metadata": {},
   "outputs": [
    {
     "data": {
      "text/plain": [
       "'Koźlak'"
      ]
     },
     "execution_count": 4,
     "metadata": {},
     "output_type": "execute_result"
    }
   ],
   "source": [
    "name=soup.h1.find(string=True)\n",
    "name"
   ]
  },
  {
   "cell_type": "code",
   "execution_count": 5,
   "id": "29d7dd87",
   "metadata": {},
   "outputs": [],
   "source": [
    "beerstats=soup.find('dl',{'class': 'beerstats'})"
   ]
  },
  {
   "cell_type": "code",
   "execution_count": 6,
   "id": "2a88ba9c",
   "metadata": {},
   "outputs": [
    {
     "data": {
      "text/plain": [
       "'Browar Amber'"
      ]
     },
     "execution_count": 6,
     "metadata": {},
     "output_type": "execute_result"
    }
   ],
   "source": [
    "brewery=beerstats.find_all('dd',{'class':'beerstats'})[0].text\n",
    "brewery"
   ]
  },
  {
   "cell_type": "code",
   "execution_count": 7,
   "id": "956c2574",
   "metadata": {},
   "outputs": [
    {
     "data": {
      "text/plain": [
       "'Poland'"
      ]
     },
     "execution_count": 7,
     "metadata": {},
     "output_type": "execute_result"
    }
   ],
   "source": [
    "location=beerstats.find_all('dd',{'class':'beerstats'})[1].text\n",
    "location"
   ]
  },
  {
   "cell_type": "code",
   "execution_count": 11,
   "id": "7d29cce9",
   "metadata": {},
   "outputs": [
    {
     "data": {
      "text/plain": [
       "'BockRanked #77'"
      ]
     },
     "execution_count": 11,
     "metadata": {},
     "output_type": "execute_result"
    }
   ],
   "source": [
    "type_somerank=beerstats.find_all('dd',{'class':'beerstats'})[2].text\n",
    "type_somerank"
   ]
  },
  {
   "cell_type": "code",
   "execution_count": 13,
   "id": "b9c4e301",
   "metadata": {},
   "outputs": [
    {
     "data": {
      "text/plain": [
       "'Bock'"
      ]
     },
     "execution_count": 13,
     "metadata": {},
     "output_type": "execute_result"
    }
   ],
   "source": [
    "type_=beerstats.find_all('a',{'class':'Tooltip'})[1].text\n",
    "type_"
   ]
  },
  {
   "cell_type": "code",
   "execution_count": 14,
   "id": "71e23f65",
   "metadata": {},
   "outputs": [
    {
     "data": {
      "text/plain": [
       "'Ranked #77'"
      ]
     },
     "execution_count": 14,
     "metadata": {},
     "output_type": "execute_result"
    }
   ],
   "source": [
    "rank=beerstats.find_all('a',{'class':'Tooltip'})[2].text\n",
    "rank\n"
   ]
  },
  {
   "cell_type": "code",
   "execution_count": 16,
   "id": "746253a3",
   "metadata": {},
   "outputs": [
    {
     "data": {
      "text/plain": [
       "' 6.5%'"
      ]
     },
     "execution_count": 16,
     "metadata": {},
     "output_type": "execute_result"
    }
   ],
   "source": [
    "abv=beerstats.find_all('dd',{'class':'beerstats'})[3].text\n",
    "abv"
   ]
  },
  {
   "cell_type": "code",
   "execution_count": 17,
   "id": "fb079c53",
   "metadata": {},
   "outputs": [
    {
     "data": {
      "text/plain": [
       "'82Ranked #25,260'"
      ]
     },
     "execution_count": 17,
     "metadata": {},
     "output_type": "execute_result"
    }
   ],
   "source": [
    "score_orank=beerstats.find_all('dd',{'class':'beerstats'})[4].text\n",
    "score_orank\n",
    "##this will be like a double check for score and overall rank, and eventually dropped"
   ]
  },
  {
   "cell_type": "code",
   "execution_count": 18,
   "id": "203cb164",
   "metadata": {},
   "outputs": [
    {
     "data": {
      "text/plain": [
       "'82'"
      ]
     },
     "execution_count": 18,
     "metadata": {},
     "output_type": "execute_result"
    }
   ],
   "source": [
    "score=beerstats.find('span',{'class':'ba-score Tooltip'}).text\n",
    "score\n",
    "##try except to return 'NA'"
   ]
  },
  {
   "cell_type": "code",
   "execution_count": 19,
   "id": "86822a1a",
   "metadata": {},
   "outputs": [
    {
     "data": {
      "text/plain": [
       "'Ranked #25,260'"
      ]
     },
     "execution_count": 19,
     "metadata": {},
     "output_type": "execute_result"
    }
   ],
   "source": [
    "overall_rank=beerstats.find_all('a',{'class':'Tooltip'})[3].text\n",
    "overall_rank"
   ]
  },
  {
   "cell_type": "code",
   "execution_count": 20,
   "id": "957a7892",
   "metadata": {},
   "outputs": [
    {
     "data": {
      "text/plain": [
       "'3.6 | pDev: 13.61%'"
      ]
     },
     "execution_count": 20,
     "metadata": {},
     "output_type": "execute_result"
    }
   ],
   "source": [
    "avg_and_pdev=beerstats.find_all('dd',{'class':'beerstats'})[5].text\n",
    "avg_and_pdev"
   ]
  },
  {
   "cell_type": "code",
   "execution_count": 21,
   "id": "02b6a63e",
   "metadata": {},
   "outputs": [
    {
     "data": {
      "text/plain": [
       "'3.6'"
      ]
     },
     "execution_count": 21,
     "metadata": {},
     "output_type": "execute_result"
    }
   ],
   "source": [
    "avg_rating=beerstats.find('span',{'class':'ba-ravg Tooltip'}).text\n",
    "avg_rating"
   ]
  },
  {
   "cell_type": "code",
   "execution_count": 22,
   "id": "1bfd91b2",
   "metadata": {},
   "outputs": [
    {
     "data": {
      "text/plain": [
       "'13.61%'"
      ]
     },
     "execution_count": 22,
     "metadata": {},
     "output_type": "execute_result"
    }
   ],
   "source": [
    "pdev=beerstats.find('span',{'class':'ba-pdev muted Tooltip'}).text\n",
    "pdev"
   ]
  },
  {
   "cell_type": "code",
   "execution_count": 25,
   "id": "d202380a",
   "metadata": {},
   "outputs": [
    {
     "data": {
      "text/plain": [
       "'69'"
      ]
     },
     "execution_count": 25,
     "metadata": {},
     "output_type": "execute_result"
    }
   ],
   "source": [
    "reviews=beerstats.find_all('dd',{'class':'beerstats'})[6].text\n",
    "reviews"
   ]
  },
  {
   "cell_type": "code",
   "execution_count": 26,
   "id": "89c7f3e2",
   "metadata": {},
   "outputs": [
    {
     "data": {
      "text/plain": [
       "'116'"
      ]
     },
     "execution_count": 26,
     "metadata": {},
     "output_type": "execute_result"
    }
   ],
   "source": [
    "ratings=beerstats.find_all('dd',{'class':'beerstats'})[7].text\n",
    "ratings"
   ]
  },
  {
   "cell_type": "code",
   "execution_count": 27,
   "id": "c4cee926",
   "metadata": {},
   "outputs": [
    {
     "data": {
      "text/plain": [
       "'Active'"
      ]
     },
     "execution_count": 27,
     "metadata": {},
     "output_type": "execute_result"
    }
   ],
   "source": [
    "status=beerstats.find_all('dd',{'class':'beerstats'})[8].text\n",
    "status"
   ]
  },
  {
   "cell_type": "code",
   "execution_count": 28,
   "id": "bfd3e04e",
   "metadata": {},
   "outputs": [
    {
     "data": {
      "text/plain": [
       "'Dec 02, 2005'"
      ]
     },
     "execution_count": 28,
     "metadata": {},
     "output_type": "execute_result"
    }
   ],
   "source": [
    "date_added=beerstats.find_all('dd',{'class':'beerstats'})[10].text\n",
    "date_added"
   ]
  },
  {
   "cell_type": "code",
   "execution_count": null,
   "id": "89ad62b5",
   "metadata": {},
   "outputs": [],
   "source": []
  }
 ],
 "metadata": {
  "kernelspec": {
   "display_name": "Python 3 (ipykernel)",
   "language": "python",
   "name": "python3"
  },
  "language_info": {
   "codemirror_mode": {
    "name": "ipython",
    "version": 3
   },
   "file_extension": ".py",
   "mimetype": "text/x-python",
   "name": "python",
   "nbconvert_exporter": "python",
   "pygments_lexer": "ipython3",
   "version": "3.11.5"
  }
 },
 "nbformat": 4,
 "nbformat_minor": 5
}
