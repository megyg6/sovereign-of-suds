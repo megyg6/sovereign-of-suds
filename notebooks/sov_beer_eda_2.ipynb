{
 "cells": [
  {
   "cell_type": "code",
   "execution_count": null,
   "id": "1e080ade",
   "metadata": {},
   "outputs": [],
   "source": [
    "import pandas as pd\n",
    "import matplotlib.pyplot as plt\n",
    "import seaborn as sns\n",
    "\n",
    "%matplotlib inline"
   ]
  },
  {
   "cell_type": "code",
   "execution_count": null,
   "id": "9139cd8a",
   "metadata": {},
   "outputs": [],
   "source": [
    "beer = pd.read_csv('../data/cleaned_beer.csv')"
   ]
  },
  {
   "cell_type": "code",
   "execution_count": null,
   "id": "ccf93feb",
   "metadata": {
    "scrolled": true
   },
   "outputs": [],
   "source": [
    "beer.head(1)"
   ]
  },
  {
   "cell_type": "code",
   "execution_count": null,
   "id": "11746a23",
   "metadata": {},
   "outputs": [],
   "source": [
    "beer.shape"
   ]
  },
  {
   "cell_type": "code",
   "execution_count": null,
   "id": "63d96c34",
   "metadata": {},
   "outputs": [],
   "source": [
    "beer.describe()"
   ]
  },
  {
   "cell_type": "code",
   "execution_count": null,
   "id": "ada5cdf2",
   "metadata": {},
   "outputs": [],
   "source": [
    "beer['date_added'].max()"
   ]
  },
  {
   "cell_type": "code",
   "execution_count": null,
   "id": "e7e95b8a",
   "metadata": {},
   "outputs": [],
   "source": [
    "beer['date_added'].min()"
   ]
  },
  {
   "cell_type": "code",
   "execution_count": null,
   "id": "d246e040",
   "metadata": {},
   "outputs": [],
   "source": [
    "beer['type_'].value_counts()"
   ]
  },
  {
   "cell_type": "code",
   "execution_count": null,
   "id": "094d07bc",
   "metadata": {},
   "outputs": [],
   "source": [
    "beer['sub_type'].value_counts().head()"
   ]
  },
  {
   "cell_type": "code",
   "execution_count": null,
   "id": "62cf3746",
   "metadata": {},
   "outputs": [],
   "source": [
    "beer['sub_type'].value_counts().tail(5)"
   ]
  },
  {
   "cell_type": "code",
   "execution_count": null,
   "id": "effff02c",
   "metadata": {},
   "outputs": [],
   "source": [
    "beer['reviews'].max()"
   ]
  },
  {
   "cell_type": "code",
   "execution_count": null,
   "id": "c81ff36c",
   "metadata": {
    "scrolled": false
   },
   "outputs": [],
   "source": [
    "beer.loc[beer['reviews']==4157]"
   ]
  },
  {
   "cell_type": "code",
   "execution_count": null,
   "id": "c39089f8",
   "metadata": {},
   "outputs": [],
   "source": [
    "beer['reviews'].min()"
   ]
  },
  {
   "cell_type": "code",
   "execution_count": null,
   "id": "cf0104f4",
   "metadata": {},
   "outputs": [],
   "source": [
    "beer.loc[(beer['reviews']==0) & (beer['score']>1) ]"
   ]
  },
  {
   "cell_type": "code",
   "execution_count": null,
   "id": "b89d31f0",
   "metadata": {
    "scrolled": false
   },
   "outputs": [],
   "source": [
    "beer.plot(kind = 'scatter',\n",
    "             x = 'score',\n",
    "             y = 'reviews',\n",
    "             figsize = (10,6));"
   ]
  },
  {
   "cell_type": "code",
   "execution_count": null,
   "id": "6cd9eef9",
   "metadata": {
    "scrolled": false
   },
   "outputs": [],
   "source": [
    "beer.plot(kind = 'scatter',\n",
    "             x = 'reviews',\n",
    "             y = 'ratings',\n",
    "             figsize = (10,6));"
   ]
  },
  {
   "cell_type": "code",
   "execution_count": null,
   "id": "f66ecc54",
   "metadata": {
    "scrolled": false
   },
   "outputs": [],
   "source": [
    "beer.plot(kind = 'scatter',\n",
    "             x = 'avg_rating',\n",
    "             y = 'ratings',\n",
    "             figsize = (10,6));"
   ]
  },
  {
   "cell_type": "code",
   "execution_count": null,
   "id": "21b1f909",
   "metadata": {
    "scrolled": true
   },
   "outputs": [],
   "source": [
    "beer.plot(kind = 'scatter',\n",
    "             x = 'avg_rating',\n",
    "             y = 'reviews',\n",
    "             figsize = (10,6));"
   ]
  },
  {
   "cell_type": "code",
   "execution_count": null,
   "id": "e9a0a8f1",
   "metadata": {},
   "outputs": [],
   "source": []
  },
  {
   "cell_type": "code",
   "execution_count": null,
   "id": "106bf01a",
   "metadata": {},
   "outputs": [],
   "source": [
    "avg_amount_rev_by_score=beer.groupby(['score'])['reviews'].median()\n",
    "avg_amount_rev_by_score = pd.DataFrame(avg_amount_rev_by_score).reset_index()\n",
    "#avg # of reviews per score "
   ]
  },
  {
   "cell_type": "code",
   "execution_count": null,
   "id": "9b9cb52c",
   "metadata": {
    "scrolled": true
   },
   "outputs": [],
   "source": [
    "plt.figure(figsize=(10, 6))\n",
    "sns.lineplot(data=avg_amount_rev_by_score, x='score', y='reviews', color='#022B3A', linewidth=2)\n",
    "plt.title('Median Number of Review by BA Score');"
   ]
  },
  {
   "cell_type": "code",
   "execution_count": null,
   "id": "2dec0554",
   "metadata": {},
   "outputs": [],
   "source": [
    "avg_amount_rev_by_score"
   ]
  },
  {
   "cell_type": "code",
   "execution_count": null,
   "id": "d8dcf23a",
   "metadata": {
    "scrolled": false
   },
   "outputs": [],
   "source": [
    "sns.set(style=\"ticks\", color_codes=True)\n",
    "\n",
    "sns.pairplot(beer);"
   ]
  },
  {
   "cell_type": "code",
   "execution_count": null,
   "id": "2d91b717",
   "metadata": {},
   "outputs": [],
   "source": [
    "beer['score'].nunique()"
   ]
  },
  {
   "cell_type": "code",
   "execution_count": null,
   "id": "f96f9f1e",
   "metadata": {},
   "outputs": [],
   "source": [
    "score_100=beer.loc[beer['score']==100]"
   ]
  },
  {
   "cell_type": "code",
   "execution_count": null,
   "id": "d1ad7b53",
   "metadata": {},
   "outputs": [],
   "source": [
    "score_100['type_'].value_counts().plot(kind='bar')\n",
    "plt.title('Number of Perfectly Scored Beer Types');"
   ]
  },
  {
   "cell_type": "code",
   "execution_count": null,
   "id": "d8a09054",
   "metadata": {},
   "outputs": [],
   "source": [
    "ipa_score_100=score_100.loc[score_100['type_']=='India Pale Ale']"
   ]
  },
  {
   "cell_type": "code",
   "execution_count": null,
   "id": "4e69a7f9",
   "metadata": {},
   "outputs": [],
   "source": [
    "ipa_score_100.groupby('sub_type')['sub_type'].count().plot(kind='bar');"
   ]
  },
  {
   "cell_type": "code",
   "execution_count": null,
   "id": "cc6f9834",
   "metadata": {},
   "outputs": [],
   "source": [
    "score_good=beer.loc[beer['score']>=96]\n"
   ]
  },
  {
   "cell_type": "code",
   "execution_count": null,
   "id": "fca5c244",
   "metadata": {},
   "outputs": [],
   "source": [
    "score_good['type_'].value_counts().plot(kind='bar')\n",
    "plt.title('Number of Top Scored Beer Types');"
   ]
  },
  {
   "cell_type": "code",
   "execution_count": null,
   "id": "9ce795d1",
   "metadata": {},
   "outputs": [],
   "source": [
    "score_poorly=beer.loc[beer['score']<=69]"
   ]
  },
  {
   "cell_type": "code",
   "execution_count": null,
   "id": "eaaae7af",
   "metadata": {},
   "outputs": [],
   "source": [
    "score_poorly['type_'].value_counts().plot(kind='bar')\n",
    "plt.title('Number of Poorly Scored Beer Types');"
   ]
  },
  {
   "cell_type": "code",
   "execution_count": null,
   "id": "a14b327c",
   "metadata": {},
   "outputs": [],
   "source": [
    "score_terrible=beer.loc[beer['score']<=59]"
   ]
  },
  {
   "cell_type": "code",
   "execution_count": null,
   "id": "00620de3",
   "metadata": {},
   "outputs": [],
   "source": [
    "score_terrible['type_'].value_counts().plot(kind='bar')\n",
    "plt.title('Number of Worst Scored Beer Types');"
   ]
  },
  {
   "cell_type": "code",
   "execution_count": null,
   "id": "72615c61",
   "metadata": {},
   "outputs": [],
   "source": [
    "ter_pale_lager=score_terrible.loc[score_terrible['type_']=='Pale Lager']"
   ]
  },
  {
   "cell_type": "code",
   "execution_count": null,
   "id": "2ef14155",
   "metadata": {},
   "outputs": [],
   "source": [
    "ter_pale_lager.groupby('sub_type')['sub_type'].count().plot(kind='bar');"
   ]
  },
  {
   "cell_type": "code",
   "execution_count": null,
   "id": "9db8f808",
   "metadata": {},
   "outputs": [],
   "source": []
  }
 ],
 "metadata": {
  "kernelspec": {
   "display_name": "Python 3 (ipykernel)",
   "language": "python",
   "name": "python3"
  },
  "language_info": {
   "codemirror_mode": {
    "name": "ipython",
    "version": 3
   },
   "file_extension": ".py",
   "mimetype": "text/x-python",
   "name": "python",
   "nbconvert_exporter": "python",
   "pygments_lexer": "ipython3",
   "version": "3.11.5"
  }
 },
 "nbformat": 4,
 "nbformat_minor": 5
}
