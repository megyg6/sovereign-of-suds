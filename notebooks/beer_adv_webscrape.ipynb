{
 "cells": [
  {
   "cell_type": "markdown",
   "id": "5db7784b",
   "metadata": {},
   "source": [
    "#### Goal for this webscrape phase: \"go into\" a page with links to \"zoom in\"/loop through links that then take you to another level that will then loop through links to scrape each webpage with in\n",
    "    Challenge:\n",
    "    -there are 14 styles (categories) and around ~120 links (subcategories)\n",
    "    -each style can have multiptle pages to loop through"
   ]
  },
  {
   "cell_type": "markdown",
   "id": "a4af4fa1",
   "metadata": {},
   "source": [
    "###### Starting small by scraping one page"
   ]
  },
  {
   "cell_type": "code",
   "execution_count": 155,
   "id": "fd3fd91a",
   "metadata": {},
   "outputs": [],
   "source": [
    "import cloudscraper\n",
    "import requests\n",
    "import re\n",
    "from bs4 import BeautifulSoup\n",
    "import pandas as pd  \n",
    "import time \n",
    "import random"
   ]
  },
  {
   "cell_type": "code",
   "execution_count": 138,
   "id": "50129b5a",
   "metadata": {},
   "outputs": [
    {
     "name": "stdout",
     "output_type": "stream",
     "text": [
      "200\n"
     ]
    }
   ],
   "source": [
    "# url = \"https://www.beeradvocate.com/beer/profile/143/1352/\" \n",
    "# header= {'User-Agent': 'Mozilla/5.0 (Macintosh; Intel Mac OS X 10_15_7) AppleWebKit/537.36 (KHTML, like Gecko) Chrome/121.0.0.0 Safari/537.36'} \n",
    "# scraper = cloudscraper.create_scraper() \n",
    "# info = scraper.get(url) \n",
    "# print(info.status_code) \n",
    " "
   ]
  },
  {
   "cell_type": "code",
   "execution_count": 3,
   "id": "b2e2371d",
   "metadata": {},
   "outputs": [],
   "source": [
    "# soup = BeautifulSoup(info.text, 'lxml') "
   ]
  },
  {
   "cell_type": "code",
   "execution_count": 4,
   "id": "004a7f75",
   "metadata": {},
   "outputs": [
    {
     "data": {
      "text/plain": [
       "'Shiner Bock'"
      ]
     },
     "execution_count": 4,
     "metadata": {},
     "output_type": "execute_result"
    }
   ],
   "source": [
    "# name=soup.h1.find(string=True)\n",
    "# name"
   ]
  },
  {
   "cell_type": "code",
   "execution_count": 5,
   "id": "b5458638",
   "metadata": {},
   "outputs": [],
   "source": [
    "# soup.find('h1').text\n",
    "##will give me both the beer title and brewery merged together"
   ]
  },
  {
   "cell_type": "code",
   "execution_count": 6,
   "id": "a0f0d0a8",
   "metadata": {},
   "outputs": [],
   "source": [
    "# soup.find('dl',{'class':'beerstats'}).text"
   ]
  },
  {
   "cell_type": "code",
   "execution_count": 7,
   "id": "a165157e",
   "metadata": {
    "scrolled": false
   },
   "outputs": [
    {
     "data": {
      "text/plain": [
       "'Spoetzl Brewery'"
      ]
     },
     "execution_count": 7,
     "metadata": {},
     "output_type": "execute_result"
    }
   ],
   "source": [
    "# brewery=soup.find_all('a',attrs={'class':'Tooltip'})[4].text\n",
    "# brewery"
   ]
  },
  {
   "cell_type": "code",
   "execution_count": 9,
   "id": "67af1398",
   "metadata": {},
   "outputs": [
    {
     "data": {
      "text/plain": [
       "'Texas'"
      ]
     },
     "execution_count": 9,
     "metadata": {},
     "output_type": "execute_result"
    }
   ],
   "source": [
    "# loaction=soup.find_all('dd', attrs={'class':'beerstats'})[1].a.text\n",
    "# loaction"
   ]
  },
  {
   "cell_type": "code",
   "execution_count": 10,
   "id": "efa8ec02",
   "metadata": {},
   "outputs": [
    {
     "data": {
      "text/plain": [
       "'United States'"
      ]
     },
     "execution_count": 10,
     "metadata": {},
     "output_type": "execute_result"
    }
   ],
   "source": [
    "# location2=soup.find_all('dd', attrs={'class':'beerstats'})[1].find_all('a')[1].text\n",
    "# location2"
   ]
  },
  {
   "cell_type": "code",
   "execution_count": 11,
   "id": "e3c70b7e",
   "metadata": {},
   "outputs": [
    {
     "data": {
      "text/plain": [
       "'Bock'"
      ]
     },
     "execution_count": 11,
     "metadata": {},
     "output_type": "execute_result"
    }
   ],
   "source": [
    "# style=soup.find_all('a',attrs={'class':'Tooltip'})[5].text\n",
    "# style"
   ]
  },
  {
   "cell_type": "code",
   "execution_count": 12,
   "id": "3f3cc0ff",
   "metadata": {},
   "outputs": [
    {
     "data": {
      "text/plain": [
       "'74'"
      ]
     },
     "execution_count": 12,
     "metadata": {},
     "output_type": "execute_result"
    }
   ],
   "source": [
    "# ba_score=soup.find_all('span',attrs={'class':'Tooltip'})[5].text\n",
    "# ba_score\n",
    "##official score on ba site 74::'okay'"
   ]
  },
  {
   "cell_type": "code",
   "execution_count": 13,
   "id": "ba8d86a6",
   "metadata": {},
   "outputs": [
    {
     "data": {
      "text/plain": [
       "'Ranked #28,056'"
      ]
     },
     "execution_count": 13,
     "metadata": {},
     "output_type": "execute_result"
    }
   ],
   "source": [
    "# over_all_rank=soup.find_all('a',attrs={'class':'Tooltip'})[7].text\n",
    "# over_all_rank\n",
    "##over all rank is against all beers in ba site"
   ]
  },
  {
   "cell_type": "code",
   "execution_count": 14,
   "id": "acfc58b1",
   "metadata": {},
   "outputs": [
    {
     "data": {
      "text/plain": [
       "'Ranked #96'"
      ]
     },
     "execution_count": 14,
     "metadata": {},
     "output_type": "execute_result"
    }
   ],
   "source": [
    "# style_rank=soup.find_all('a',attrs={'class':'Tooltip'})[6].text\n",
    "# style_rank\n",
    "## style rank is among all beers within style category"
   ]
  },
  {
   "cell_type": "code",
   "execution_count": 15,
   "id": "3dbd3fe0",
   "metadata": {},
   "outputs": [
    {
     "data": {
      "text/plain": [
       "'4.5%'"
      ]
     },
     "execution_count": 15,
     "metadata": {},
     "output_type": "execute_result"
    }
   ],
   "source": [
    "# alcohol_percent=soup.find_all('span',attrs={'class':'Tooltip'})[3].text\n",
    "# alcohol_percent"
   ]
  },
  {
   "cell_type": "code",
   "execution_count": 16,
   "id": "c5416539",
   "metadata": {},
   "outputs": [
    {
     "data": {
      "text/plain": [
       "'3.21'"
      ]
     },
     "execution_count": 16,
     "metadata": {},
     "output_type": "execute_result"
    }
   ],
   "source": [
    "# avg_rating=soup.find_all('span',attrs={'class':'Tooltip'})[7].text\n",
    "# avg_rating\n",
    "# Average across all ratings for this beer"
   ]
  },
  {
   "cell_type": "code",
   "execution_count": 17,
   "id": "d420045c",
   "metadata": {},
   "outputs": [],
   "source": [
    "# percent_dev=soup.find_all('span',attrs={'class':'Tooltip'})[8].text\n",
    "# percent_dev\n",
    "# Percentage of deviation within the ratings"
   ]
  },
  {
   "cell_type": "code",
   "execution_count": 18,
   "id": "13173fe1",
   "metadata": {},
   "outputs": [
    {
     "data": {
      "text/plain": [
       "'1,234'"
      ]
     },
     "execution_count": 18,
     "metadata": {},
     "output_type": "execute_result"
    }
   ],
   "source": [
    "# review_count=soup.find_all('span',attrs={'class':'Tooltip'})[10].text\n",
    "# review_count\n",
    "# Number of reviews for this beer"
   ]
  },
  {
   "cell_type": "code",
   "execution_count": 19,
   "id": "c129271d",
   "metadata": {},
   "outputs": [
    {
     "data": {
      "text/plain": [
       "'4,564'"
      ]
     },
     "execution_count": 19,
     "metadata": {},
     "output_type": "execute_result"
    }
   ],
   "source": [
    "# rating_count=soup.find_all('span',attrs={'class':'Tooltip'})[12].text\n",
    "# rating_count\n",
    "# Number of ratings for this beer"
   ]
  },
  {
   "cell_type": "code",
   "execution_count": 20,
   "id": "80c0ff82",
   "metadata": {},
   "outputs": [
    {
     "data": {
      "text/plain": [
       "'Active'"
      ]
     },
     "execution_count": 20,
     "metadata": {},
     "output_type": "execute_result"
    }
   ],
   "source": [
    "# status=soup.find_all('span',attrs={'class':'Tooltip'})[14].text\n",
    "# status\n",
    "# the beer's current activity status"
   ]
  },
  {
   "cell_type": "code",
   "execution_count": 21,
   "id": "9c97b53a",
   "metadata": {
    "scrolled": true
   },
   "outputs": [
    {
     "data": {
      "text/plain": [
       "'Oct 03, 1999'"
      ]
     },
     "execution_count": 21,
     "metadata": {},
     "output_type": "execute_result"
    }
   ],
   "source": [
    "# date_added=soup.find_all('span',attrs={'class':'Tooltip'})[18].text\n",
    "# date_added\n",
    "# The date this beer was added to the site"
   ]
  },
  {
   "cell_type": "markdown",
   "id": "6b7c75a0",
   "metadata": {},
   "source": [
    "###### zooming out one level to scrape through \"bocks\" pg 1 with 50 results"
   ]
  },
  {
   "cell_type": "code",
   "execution_count": 110,
   "id": "feaf9888",
   "metadata": {},
   "outputs": [],
   "source": [
    "# youtube page: John Watson Rooney helped get more of the wabscraping process \n",
    "# root='https://www.beeradvocate.com'\n",
    "# header= {'User-Agent': 'Mozilla/5.0 (Macintosh; Intel Mac OS X 10_15_7) AppleWebKit/537.36 (KHTML, like Gecko) Chrome/121.0.0.0 Safari/537.36'} \n",
    "# website=f'{root}/beer/styles/32/?sort=revsD&start=0'\n",
    "# scraper = cloudscraper.create_scraper() \n",
    "# info = scraper.get(website) \n",
    "# print(info.status_code)\n"
   ]
  },
  {
   "cell_type": "code",
   "execution_count": 111,
   "id": "0247c206",
   "metadata": {},
   "outputs": [],
   "source": [
    "# soup = BeautifulSoup(info.text, 'lxml')"
   ]
  },
  {
   "cell_type": "code",
   "execution_count": 24,
   "id": "ffe73ae0",
   "metadata": {},
   "outputs": [],
   "source": [
    "# table=soup.find('table')\n",
    "#table is where the links are concentrated in "
   ]
  },
  {
   "cell_type": "code",
   "execution_count": 25,
   "id": "73fdb9f8",
   "metadata": {
    "scrolled": true
   },
   "outputs": [
    {
     "data": {
      "text/plain": [
       "[<a href=\"/beer/profile/143/1352/\"><b>Shiner Bock</b><br/></a>,\n",
       " <a href=\"/beer/profile/35/14309/\"><b>Samuel Adams Chocolate Bock</b><br/></a>,\n",
       " <a href=\"/beer/profile/29/1252/\"><b>Michelob AmberBock</b><br/></a>,\n",
       " <a href=\"/beer/profile/35/68000/\"><b>Samuel Adams Cherry Chocolate Bock</b><br/></a>,\n",
       " <a href=\"/beer/profile/590/2565/\"><b>Uff-da</b><br/></a>,\n",
       " <a href=\"/beer/profile/35/74579/\"><b>Samuel Adams The Vixen</b><br/></a>,\n",
       " <a href=\"/beer/profile/590/62671/\"><b>Back Forty Bock</b><br/></a>,\n",
       " <a href=\"/beer/profile/125/2272/\"><b>St. Nikolaus Bock Bier</b><br/></a>,\n",
       " <a href=\"/beer/profile/337/1070/\"><b>Spring Bock</b><br/></a>,\n",
       " <a href=\"/beer/profile/2137/3835/\"><b>Pandora's Bock</b><br/></a>,\n",
       " <a href=\"/beer/profile/302/41422/\"><b>Genesee Spring Bock</b><br/></a>,\n",
       " <a href=\"/beer/profile/66/1873/\"><b>Ur-Bock Dunkel</b><br/></a>,\n",
       " <a href=\"/beer/profile/184/20299/\"><b>La Trappe Bockbier</b><br/></a>,\n",
       " <a href=\"/beer/profile/35/520715/\"><b>Samuel Adams Winter Lager</b><br/></a>,\n",
       " <a href=\"/beer/profile/428/14899/\"><b>Christmas Bock</b><br/></a>,\n",
       " <a href=\"/beer/profile/417/47795/\"><b>Schell's Bock</b><br/></a>,\n",
       " <a href=\"/beer/profile/57/7714/\"><b>Noche Buena</b><br/></a>,\n",
       " <a href=\"/beer/profile/35/225611/\"><b>Samuel Adams Toasted Caramel Bock</b><br/></a>,\n",
       " <a href=\"/beer/profile/107/7904/\"><b>Schokolade Bock</b><br/></a>,\n",
       " <a href=\"/beer/profile/99/75739/\"><b>Saranac Chocolate Lager</b><br/></a>,\n",
       " <a href=\"/beer/profile/1819/31215/\"><b>Brother Benedict's Bock</b><br/></a>,\n",
       " <a href=\"/beer/profile/455/2250/\"><b>Creemore Springs UrBock</b><br/></a>,\n",
       " <a href=\"/beer/profile/15280/39884/\"><b>Winterbock</b><br/></a>,\n",
       " <a href=\"/beer/profile/30128/86334/\"><b>Revolver Bock</b><br/></a>,\n",
       " <a href=\"/beer/profile/628/5119/\"><b>Holsten Festbock</b><br/></a>,\n",
       " <a href=\"/beer/profile/220/283116/\"><b>LAG Lagunator Lager</b><br/></a>,\n",
       " <a href=\"/beer/profile/710/507335/\"><b>Toasted Bock</b><br/></a>,\n",
       " <a href=\"/beer/profile/1805/20968/\"><b>Mountain Holidays In Vermont</b><br/></a>,\n",
       " <a href=\"/beer/profile/5502/27167/\"><b>Koźlak</b><br/></a>,\n",
       " <a href=\"/beer/profile/435/6340/\"><b>Huber Bock Beer</b><br/></a>,\n",
       " <a href=\"/beer/profile/410/144046/\"><b>Block House Double Chocolate Bock</b><br/></a>,\n",
       " <a href=\"/beer/profile/35/289887/\"><b>Samuel Adams Amber Bock</b><br/></a>,\n",
       " <a href=\"/beer/profile/31272/171485/\"><b>Bockslider Toadies Texas Bock</b><br/></a>,\n",
       " <a href=\"/beer/profile/38015/170131/\"><b>Love Honey</b><br/></a>,\n",
       " <a href=\"/beer/profile/7734/76116/\"><b>Nero's 1st Century Double Dark Malt Ale</b><br/></a>,\n",
       " <a href=\"/beer/profile/26762/401984/\"><b>Crawford Bock</b><br/></a>,\n",
       " <a href=\"/beer/profile/514/11985/\"><b>Bokbier</b><br/></a>,\n",
       " <a href=\"/beer/profile/46029/453249/\"><b>Der Schwarze Bock</b><br/></a>,\n",
       " <a href=\"/beer/profile/412/13231/\"><b>Mönchshof Bockbier</b><br/></a>,\n",
       " <a href=\"/beer/profile/2951/42771/\"><b>Battlefield Bock</b><br/></a>,\n",
       " <a href=\"/beer/profile/321/872/\"><b>Chouffe-Bok 6666</b><br/></a>,\n",
       " <a href=\"/beer/profile/1819/125387/\"><b>The Bennie</b><br/></a>,\n",
       " <a href=\"/beer/profile/553/26322/\"><b>Christoffel Bokbier</b><br/></a>,\n",
       " <a href=\"/beer/profile/185/664/\"><b>Aass Bock</b><br/></a>,\n",
       " <a href=\"/beer/profile/2854/21493/\"><b>Flensburger Winterbock</b><br/></a>,\n",
       " <a href=\"/beer/profile/623/93901/\"><b>Zywiec Bock</b><br/></a>,\n",
       " <a href=\"/beer/profile/817/5286/\"><b>Original Stieglbock</b><br/></a>,\n",
       " <a href=\"/beer/profile/46663/243251/\"><b>Billy Jenkins Session Bock</b><br/></a>,\n",
       " <a href=\"/beer/profile/150/28396/\"><b>Stegmaier Brewhouse Bock</b><br/></a>,\n",
       " <a href=\"/beer/profile/503/9465/\"><b>Dreher Bak</b><br/></a>]"
      ]
     },
     "execution_count": 25,
     "metadata": {},
     "output_type": "execute_result"
    }
   ],
   "source": [
    "# table.find_all(\"a\", href=re.compile(\"profile\"))[::2]"
   ]
  },
  {
   "cell_type": "code",
   "execution_count": 27,
   "id": "8953b3df",
   "metadata": {},
   "outputs": [
    {
     "data": {
      "text/plain": [
       "50"
      ]
     },
     "execution_count": 27,
     "metadata": {},
     "output_type": "execute_result"
    }
   ],
   "source": [
    "# links=[link['href'] for link in table.find_all(\"a\", href=re.compile(\"profile\"))[::2]]\n",
    "# len(links)"
   ]
  },
  {
   "cell_type": "code",
   "execution_count": 36,
   "id": "7feb2716",
   "metadata": {
    "scrolled": true
   },
   "outputs": [],
   "source": [
    "# beerlinks=[]\n",
    "# for link in table.find_all(\"a\", href=re.compile(\"profile\"))[::2]:\n",
    "#     beerlinks.append(root + link['href'])\n"
   ]
  },
  {
   "cell_type": "code",
   "execution_count": 40,
   "id": "66b95cec",
   "metadata": {
    "scrolled": true
   },
   "outputs": [
    {
     "data": {
      "text/plain": [
       "['https://www.beeradvocate.com/beer/profile/143/1352/',\n",
       " 'https://www.beeradvocate.com/beer/profile/35/14309/',\n",
       " 'https://www.beeradvocate.com/beer/profile/29/1252/',\n",
       " 'https://www.beeradvocate.com/beer/profile/35/68000/',\n",
       " 'https://www.beeradvocate.com/beer/profile/590/2565/',\n",
       " 'https://www.beeradvocate.com/beer/profile/35/74579/',\n",
       " 'https://www.beeradvocate.com/beer/profile/590/62671/',\n",
       " 'https://www.beeradvocate.com/beer/profile/125/2272/',\n",
       " 'https://www.beeradvocate.com/beer/profile/337/1070/',\n",
       " 'https://www.beeradvocate.com/beer/profile/2137/3835/',\n",
       " 'https://www.beeradvocate.com/beer/profile/302/41422/',\n",
       " 'https://www.beeradvocate.com/beer/profile/66/1873/',\n",
       " 'https://www.beeradvocate.com/beer/profile/184/20299/',\n",
       " 'https://www.beeradvocate.com/beer/profile/35/520715/',\n",
       " 'https://www.beeradvocate.com/beer/profile/428/14899/',\n",
       " 'https://www.beeradvocate.com/beer/profile/417/47795/',\n",
       " 'https://www.beeradvocate.com/beer/profile/57/7714/',\n",
       " 'https://www.beeradvocate.com/beer/profile/35/225611/',\n",
       " 'https://www.beeradvocate.com/beer/profile/107/7904/',\n",
       " 'https://www.beeradvocate.com/beer/profile/99/75739/',\n",
       " 'https://www.beeradvocate.com/beer/profile/1819/31215/',\n",
       " 'https://www.beeradvocate.com/beer/profile/455/2250/',\n",
       " 'https://www.beeradvocate.com/beer/profile/15280/39884/',\n",
       " 'https://www.beeradvocate.com/beer/profile/30128/86334/',\n",
       " 'https://www.beeradvocate.com/beer/profile/628/5119/',\n",
       " 'https://www.beeradvocate.com/beer/profile/220/283116/',\n",
       " 'https://www.beeradvocate.com/beer/profile/710/507335/',\n",
       " 'https://www.beeradvocate.com/beer/profile/1805/20968/',\n",
       " 'https://www.beeradvocate.com/beer/profile/5502/27167/',\n",
       " 'https://www.beeradvocate.com/beer/profile/435/6340/',\n",
       " 'https://www.beeradvocate.com/beer/profile/410/144046/',\n",
       " 'https://www.beeradvocate.com/beer/profile/35/289887/',\n",
       " 'https://www.beeradvocate.com/beer/profile/31272/171485/',\n",
       " 'https://www.beeradvocate.com/beer/profile/38015/170131/',\n",
       " 'https://www.beeradvocate.com/beer/profile/7734/76116/',\n",
       " 'https://www.beeradvocate.com/beer/profile/26762/401984/',\n",
       " 'https://www.beeradvocate.com/beer/profile/514/11985/',\n",
       " 'https://www.beeradvocate.com/beer/profile/46029/453249/',\n",
       " 'https://www.beeradvocate.com/beer/profile/412/13231/',\n",
       " 'https://www.beeradvocate.com/beer/profile/2951/42771/',\n",
       " 'https://www.beeradvocate.com/beer/profile/321/872/',\n",
       " 'https://www.beeradvocate.com/beer/profile/1819/125387/',\n",
       " 'https://www.beeradvocate.com/beer/profile/553/26322/',\n",
       " 'https://www.beeradvocate.com/beer/profile/185/664/',\n",
       " 'https://www.beeradvocate.com/beer/profile/2854/21493/',\n",
       " 'https://www.beeradvocate.com/beer/profile/623/93901/',\n",
       " 'https://www.beeradvocate.com/beer/profile/817/5286/',\n",
       " 'https://www.beeradvocate.com/beer/profile/46663/243251/',\n",
       " 'https://www.beeradvocate.com/beer/profile/150/28396/',\n",
       " 'https://www.beeradvocate.com/beer/profile/503/9465/']"
      ]
     },
     "execution_count": 40,
     "metadata": {},
     "output_type": "execute_result"
    }
   ],
   "source": [
    "beerlinks"
   ]
  },
  {
   "cell_type": "markdown",
   "id": "f5b14cee",
   "metadata": {},
   "source": [
    "##### Need to loop through pages now, as the above only has info for one page which contains 50 links \n",
    "-bock category has around 35 pages\n",
    "-/?sort=revsD&start=1700 (last page of bocks)\n",
    "-/?sort=revsD&start=0 (first page of bocks)\n",
    "\n",
    "the number at the end is the only change, however each style has a different number of results and 1700 will not be consistent\n",
    "\n",
    "maybe there is a way to count down and some how have that be the range when paginating through pages"
   ]
  },
  {
   "cell_type": "code",
   "execution_count": null,
   "id": "03829569",
   "metadata": {},
   "outputs": [],
   "source": [
    "# print(f'{variable im using in the for loop} : {variable 1 i am getting out of the loop this pass}, {variable 2 im getting out of the loop this pass}')\n",
    "# https://medium.com/swlh/improve-your-web-scraper-with-limited-retry-loops-python-35e21730cbf5\n",
    "# https://www.youtube.com/watch?v=sIOMDu6MXJQ&list=PLRzwgpycm-Fio7EyivRKOBN4D3tfQ_rpu&index=3\n",
    "# https://www.youtube.com/watch?v=8dTpNajxaH0&t=503s"
   ]
  },
  {
   "cell_type": "code",
   "execution_count": 163,
   "id": "fde370d2",
   "metadata": {},
   "outputs": [
    {
     "ename": "KeyboardInterrupt",
     "evalue": "",
     "output_type": "error",
     "traceback": [
      "\u001b[0;31m---------------------------------------------------------------------------\u001b[0m",
      "\u001b[0;31mKeyboardInterrupt\u001b[0m                         Traceback (most recent call last)",
      "Cell \u001b[0;32mIn[163], line 103\u001b[0m\n\u001b[1;32m     85\u001b[0m             beer_info\u001b[38;5;241m=\u001b[39m {\n\u001b[1;32m     86\u001b[0m                         \u001b[38;5;124m'\u001b[39m\u001b[38;5;124mname\u001b[39m\u001b[38;5;124m'\u001b[39m: name,\n\u001b[1;32m     87\u001b[0m                         \u001b[38;5;124m'\u001b[39m\u001b[38;5;124mbrewery\u001b[39m\u001b[38;5;124m'\u001b[39m: brewery,\n\u001b[0;32m   (...)\u001b[0m\n\u001b[1;32m    100\u001b[0m                         \u001b[38;5;124m'\u001b[39m\u001b[38;5;124mdate_added\u001b[39m\u001b[38;5;124m'\u001b[39m: date_added\n\u001b[1;32m    101\u001b[0m                         }\n\u001b[1;32m    102\u001b[0m             beerlist\u001b[38;5;241m.\u001b[39mappend(beer_info)\n\u001b[0;32m--> 103\u001b[0m             time\u001b[38;5;241m.\u001b[39msleep(random\u001b[38;5;241m.\u001b[39mrandint(\u001b[38;5;241m2\u001b[39m,\u001b[38;5;241m5\u001b[39m))\n\u001b[1;32m    105\u001b[0m \u001b[38;5;28mprint\u001b[39m(beerlist)\n",
      "\u001b[0;31mKeyboardInterrupt\u001b[0m: "
     ]
    }
   ],
   "source": [
    "# testlink='https://www.beeradvocate.com/beer/profile/143/1352/'\n",
    "# for page pagination, ran a range to an imposiblly high number, by 50  (results per page that url uses to fill start param)\n",
    "root='https://www.beeradvocate.com'\n",
    "header= {'User-Agent': 'Mozilla/5.0 (Macintosh; Intel Mac OS X 10_15_7) AppleWebKit/537.36 (KHTML, like Gecko) Chrome/121.0.0.0 Safari/537.36'} \n",
    "\n",
    "beerlist=[]\n",
    "\n",
    "for x in range(0,100,50):    \n",
    "    website=f'{root}/beer/styles/32/?sort=revsD&start={x}'\n",
    "    scraper = cloudscraper.create_scraper() \n",
    "    info = scraper.get(website)  \n",
    "    if info.status_code != 200:\n",
    "        break\n",
    "        print(f'stopped at{x}')\n",
    "    else:\n",
    "        time.sleep(random.randint(2,3))\n",
    "        soup = BeautifulSoup(info.text, 'lxml')\n",
    "        table=soup.find('table')\n",
    "\n",
    "        beerlinks=[]\n",
    "        for link in table.find_all(\"a\", href=re.compile(\"profile\"))[::2]:\n",
    "            beerlinks.append(root + link['href'])\n",
    "\n",
    "\n",
    "        for link in beerlinks:\n",
    "            r=requests.get(link, headers=header)\n",
    "            soup=BeautifulSoup(r.content,'lxml')\n",
    "            name=soup.h1.find(string=True)\n",
    "            try:    \n",
    "                brewery=soup.find_all('a',attrs={'class':'Tooltip'})[4].text\n",
    "            except:\n",
    "                brewery= 'Na'\n",
    "            try:\n",
    "                location=soup.find_all('dd', attrs={'class':'beerstats'})[1].a.text\n",
    "            except:\n",
    "                location= 'Na'\n",
    "            try:\n",
    "                location2=soup.find_all('dd', attrs={'class':'beerstats'})[1].find_all('a')[1].text\n",
    "            except:\n",
    "                location2= 'Na'\n",
    "            try:\n",
    "                style=soup.find_all('a',attrs={'class':'Tooltip'})[5].text\n",
    "            except:\n",
    "                style= 'Na'\n",
    "            try:\n",
    "                ba_score=soup.find_all('span',attrs={'class':'Tooltip'})[5].text\n",
    "            except:\n",
    "                ba_score= 'Na'\n",
    "            try:\n",
    "                over_all_rank=soup.find_all('a',attrs={'class':'Tooltip'})[7].text\n",
    "            except:\n",
    "                over_all_rank= 'Na'\n",
    "            try:\n",
    "                style_rank=soup.find_all('a',attrs={'class':'Tooltip'})[6].text\n",
    "            except:\n",
    "                style_rank= 'Na'\n",
    "            try:\n",
    "                alcohol_percent=soup.find_all('span',attrs={'class':'Tooltip'})[3].text\n",
    "            except:\n",
    "                alcohol_percent= 'Na'\n",
    "            try:\n",
    "                avg_rating=soup.find_all('span',attrs={'class':'Tooltip'})[7].text\n",
    "            except:\n",
    "                avg_rating= 'Na'\n",
    "            try:\n",
    "                percent_dev=soup.find_all('span',attrs={'class':'Tooltip'})[8].text\n",
    "            except:\n",
    "                percent_dev= 'Na'\n",
    "            try:\n",
    "                review_count=soup.find_all('span',attrs={'class':'Tooltip'})[10].text\n",
    "            except:\n",
    "                review_count= 'Na'\n",
    "            try:\n",
    "                rating_count=soup.find_all('span',attrs={'class':'Tooltip'})[12].text\n",
    "            except:\n",
    "                rating_count= 'Na'\n",
    "            try:\n",
    "                status=soup.find_all('span',attrs={'class':'Tooltip'})[14].text\n",
    "            except:\n",
    "                status= 'Na'\n",
    "            try:\n",
    "                date_added=soup.find_all('span',attrs={'class':'Tooltip'})[18].text\n",
    "            except:\n",
    "                date_added= 'Na'\n",
    "            beer_info= {\n",
    "                        'name': name,\n",
    "                        'brewery': brewery,\n",
    "                        'location':location,\n",
    "                        'location2':location2,\n",
    "                        'style': style,\n",
    "                        'ba_score':ba_score,\n",
    "                        'over_all_rank': over_all_rank,\n",
    "                        'style_rank': style_rank,\n",
    "                        'alcohol_percent': alcohol_percent,\n",
    "                        'avg_rating':avg_rating,\n",
    "                        'percent_dev': percent_dev,\n",
    "                        'review_count': review_count,\n",
    "                        'rating_count':rating_count,\n",
    "                        'status': status,\n",
    "                        'date_added': date_added\n",
    "                        }\n",
    "            beerlist.append(beer_info)\n",
    "            time.sleep(random.randint(2,5))\n",
    "                \n",
    "print(beerlist)\n",
    "                  \n",
    "# print({variable 1 i am getting out of the loop this pass}, {variable 2 im getting out of the loop this pass}')"
   ]
  },
  {
   "cell_type": "code",
   "execution_count": 158,
   "id": "c9dfb6a3",
   "metadata": {},
   "outputs": [
    {
     "name": "stdout",
     "output_type": "stream",
     "text": [
      "[{'name': 'Shiner Bock', 'brewery': 'Spoetzl Brewery', 'location': 'Texas', 'location2': 'United States', 'style': 'Bock', 'ba_score': '74', 'over_all_rank': 'Ranked #28,041', 'style_rank': 'Ranked #96', 'alcohol_percent': '4.5%', 'avg_rating': '3.21', 'percent_dev': '19.63%', 'review_count': '1,234', 'rating_count': '4,564', 'status': 'Active', 'date_added': 'Oct 03, 1999'}, {'name': 'Samuel Adams Chocolate Bock', 'brewery': 'Boston Beer Company (Samuel Adams)', 'location': 'Massachusetts', 'location2': 'United States', 'style': 'Bock', 'ba_score': '82', 'over_all_rank': 'Ranked #24,988', 'style_rank': 'Ranked #70', 'alcohol_percent': '5.8%', 'avg_rating': '3.64', 'percent_dev': '16.21%', 'review_count': '1,247', 'rating_count': '3,144', 'status': 'Active', 'date_added': 'Nov 20, 2003'}, {'name': 'Michelob AmberBock', 'brewery': 'Anheuser-Busch', 'location': 'Missouri', 'location2': 'United States', 'style': 'Bock', 'ba_score': '68', 'over_all_rank': 'Ranked #28,543', 'style_rank': 'Ranked #100', 'alcohol_percent': '5.1%', 'avg_rating': '2.91', 'percent_dev': '22.34%', 'review_count': '732', 'rating_count': '1,970', 'status': 'Active', 'date_added': 'Aug 17, 2001'}, {'name': 'Samuel Adams Cherry Chocolate Bock', 'brewery': 'Boston Beer Company (Samuel Adams)', 'location': 'Massachusetts', 'location2': 'United States', 'style': 'Bock', 'ba_score': '79', 'over_all_rank': 'Ranked #26,970', 'style_rank': 'Ranked #85', 'alcohol_percent': '5.8%', 'avg_rating': '3.47', 'percent_dev': '19.6%', 'review_count': '188', 'rating_count': '875', 'status': 'Active', 'date_added': 'Apr 11, 2011'}, {'name': 'Uff-da', 'brewery': 'New Glarus Brewing Company', 'location': 'Wisconsin', 'location2': 'United States', 'style': 'Bock', 'ba_score': '86', 'over_all_rank': 'Ranked #19,074', 'style_rank': 'Ranked #27', 'alcohol_percent': '6.7%', 'avg_rating': '3.83', 'percent_dev': '10.97%', 'review_count': '342', 'rating_count': '662', 'status': 'Active', 'date_added': 'Jan 16, 2002'}, {'name': 'Samuel Adams The Vixen', 'brewery': 'Boston Beer Company (Samuel Adams)', 'location': 'Massachusetts', 'location2': 'United States', 'style': 'Bock', 'ba_score': '83', 'over_all_rank': 'Na', 'style_rank': 'Na', 'alcohol_percent': '8.5%', 'avg_rating': '3.67', 'percent_dev': '15.26%', 'review_count': '256', 'rating_count': '612', 'status': 'Active', 'date_added': 'Oct 27, 2011'}, {'name': 'Back Forty Bock', 'brewery': 'New Glarus Brewing Company', 'location': 'Wisconsin', 'location2': 'United States', 'style': 'Bock', 'ba_score': '85', 'over_all_rank': 'Ranked #21,085', 'style_rank': 'Ranked #38', 'alcohol_percent': '5.5%', 'avg_rating': '3.78', 'percent_dev': '12.7%', 'review_count': '149', 'rating_count': '546', 'status': 'Active', 'date_added': 'Oct 16, 2010'}, {'name': 'St. Nikolaus Bock Bier', 'brewery': 'Pennsylvania Brewing Company', 'location': 'Pennsylvania', 'location2': 'United States', 'style': 'Bock', 'ba_score': '88', 'over_all_rank': 'Ranked #13,280', 'style_rank': 'Ranked #12', 'alcohol_percent': '6%', 'avg_rating': '3.95', 'percent_dev': '11.39%', 'review_count': '229', 'rating_count': '449', 'status': 'Active', 'date_added': 'Dec 03, 2002'}, {'name': 'Spring Bock', 'brewery': 'Saint Arnold Brewing Company', 'location': 'Texas', 'location2': 'United States', 'style': 'Bock', 'ba_score': '82', 'over_all_rank': 'Ranked #24,889', 'style_rank': 'Ranked #69', 'alcohol_percent': '6.9%', 'avg_rating': '3.64', 'percent_dev': '12.91%', 'review_count': '161', 'rating_count': '422', 'status': 'Active', 'date_added': 'Jan 24, 2003'}, {'name': \"Pandora's Bock\", 'brewery': 'Breckenridge Brewery', 'location': 'Colorado', 'location2': 'United States', 'style': 'Bock', 'ba_score': '78', 'over_all_rank': 'Ranked #27,186', 'style_rank': 'Ranked #86', 'alcohol_percent': '7.5%', 'avg_rating': '3.43', 'percent_dev': '14.87%', 'review_count': '155', 'rating_count': '385', 'status': 'Active', 'date_added': 'May 25, 2002'}, {'name': 'Genesee Spring Bock', 'brewery': 'Genesee Brewing Co. / Dundee Brewing Co.', 'location': 'New York', 'location2': 'United States', 'style': 'Bock', 'ba_score': '79', 'over_all_rank': 'Ranked #26,920', 'style_rank': 'Ranked #84', 'alcohol_percent': '5.2%', 'avg_rating': '3.47', 'percent_dev': '13.54%', 'review_count': '170', 'rating_count': '356', 'status': 'Active', 'date_added': 'Mar 07, 2008'}, {'name': 'Ur-Bock Dunkel', 'brewery': 'Einbecker Brauhaus', 'location': 'Germany', 'location2': 'Na', 'style': 'Bock', 'ba_score': '84', 'over_all_rank': 'Ranked #22,691', 'style_rank': 'Ranked #50', 'alcohol_percent': '6.5%', 'avg_rating': '3.73', 'percent_dev': '11.53%', 'review_count': '204', 'rating_count': '331', 'status': 'Active', 'date_added': 'Jun 15, 2002'}, {'name': 'La Trappe Bockbier', 'brewery': 'Bierbrouwerij De Koningshoeven B.V.', 'location': 'Netherlands', 'location2': 'Na', 'style': 'Bock', 'ba_score': '89', 'over_all_rank': 'Ranked #11,844', 'style_rank': 'Ranked #7', 'alcohol_percent': '7%', 'avg_rating': '3.98', 'percent_dev': '9.55%', 'review_count': '124', 'rating_count': '305', 'status': 'Active', 'date_added': 'Mar 01, 2005'}, {'name': 'Samuel Adams Winter Lager', 'brewery': 'Boston Beer Company (Samuel Adams)', 'location': 'Massachusetts', 'location2': 'United States', 'style': 'Bock', 'ba_score': '83', 'over_all_rank': 'Ranked #24,626', 'style_rank': 'Ranked #67', 'alcohol_percent': '5.6%', 'avg_rating': '3.65', 'percent_dev': '10.96%', 'review_count': '105', 'rating_count': '249', 'status': 'Active', 'date_added': 'Nov 29, 2020'}, {'name': 'Christmas Bock', 'brewery': \"Mahr's Bräu\", 'location': 'Germany', 'location2': 'Na', 'style': 'Bock', 'ba_score': '83', 'over_all_rank': 'Na', 'style_rank': 'Na', 'alcohol_percent': '6%', 'avg_rating': '3.68', 'percent_dev': '12.23%', 'review_count': '180', 'rating_count': '249', 'status': 'Active', 'date_added': 'Dec 16, 2003'}, {'name': \"Schell's Bock\", 'brewery': 'August Schell Brewing Company', 'location': 'Minnesota', 'location2': 'United States', 'style': 'Bock', 'ba_score': '87', 'over_all_rank': 'Ranked #18,116', 'style_rank': 'Ranked #22', 'alcohol_percent': '6.1%', 'avg_rating': '3.85', 'percent_dev': '12.21%', 'review_count': '98', 'rating_count': '227', 'status': 'Active', 'date_added': 'Feb 07, 2009'}, {'name': 'Noche Buena', 'brewery': 'Cervecería Cuauhtémoc Moctezuma, S.A. de C.V.', 'location': 'Mexico', 'location2': 'Na', 'style': 'Bock', 'ba_score': '77', 'over_all_rank': 'Ranked #27,538', 'style_rank': 'Ranked #90', 'alcohol_percent': '5.9%', 'avg_rating': '3.35', 'percent_dev': '17.91%', 'review_count': '96', 'rating_count': '226', 'status': 'Active', 'date_added': 'Dec 28, 2002'}, {'name': 'Samuel Adams Toasted Caramel Bock', 'brewery': 'Boston Beer Company (Samuel Adams)', 'location': 'Massachusetts', 'location2': 'United States', 'style': 'Bock', 'ba_score': '82', 'over_all_rank': 'Na', 'style_rank': 'Na', 'alcohol_percent': '5.8%', 'avg_rating': '3.63', 'percent_dev': '11.57%', 'review_count': '68', 'rating_count': '207', 'status': 'Active', 'date_added': 'Apr 20, 2016'}, {'name': 'Schokolade Bock', 'brewery': 'Millstream Brewing Company', 'location': 'Iowa', 'location2': 'United States', 'style': 'Bock', 'ba_score': '89', 'over_all_rank': 'Na', 'style_rank': 'Na', 'alcohol_percent': '6%', 'avg_rating': '3.98', 'percent_dev': '10.8%', 'review_count': '109', 'rating_count': '187', 'status': 'Active', 'date_added': 'Jan 08, 2003'}, {'name': 'Saranac Chocolate Lager', 'brewery': 'Matt Brewing Company / Saranac Brewery', 'location': 'New York', 'location2': 'United States', 'style': 'Bock', 'ba_score': '77', 'over_all_rank': 'Na', 'style_rank': 'Na', 'alcohol_percent': '6%', 'avg_rating': '3.37', 'percent_dev': '15.13%', 'review_count': '65', 'rating_count': '176', 'status': 'Active', 'date_added': 'Nov 27, 2011'}, {'name': \"Brother Benedict's Bock\", 'brewery': 'Granite City Food & Brewery', 'location': 'United States', 'location2': 'Na', 'style': 'Bock', 'ba_score': '77', 'over_all_rank': 'Na', 'style_rank': 'Na', 'alcohol_percent': '5.1%', 'avg_rating': '3.35', 'percent_dev': '15.82%', 'review_count': '55', 'rating_count': '170', 'status': 'Active', 'date_added': 'Aug 01, 2002'}, {'name': 'Creemore Springs UrBock', 'brewery': 'Creemore Springs Brewery Limited', 'location': 'Ontario', 'location2': 'Canada', 'style': 'Bock', 'ba_score': '83', 'over_all_rank': 'Ranked #24,307', 'style_rank': 'Ranked #60', 'alcohol_percent': '6%', 'avg_rating': '3.66', 'percent_dev': '10.66%', 'review_count': '95', 'rating_count': '167', 'status': 'Active', 'date_added': 'Dec 10, 2001'}, {'name': 'Winterbock', 'brewery': 'Atwater Brewery', 'location': 'Michigan', 'location2': 'United States', 'style': 'Bock', 'ba_score': '76', 'over_all_rank': 'Na', 'style_rank': 'Na', 'alcohol_percent': '7.5%', 'avg_rating': '3.3', 'percent_dev': '18.79%', 'review_count': '71', 'rating_count': '162', 'status': 'Active', 'date_added': 'Dec 02, 2007'}, {'name': 'Revolver Bock', 'brewery': 'Revolver Brewing', 'location': 'Texas', 'location2': 'United States', 'style': 'Bock', 'ba_score': '86', 'over_all_rank': 'Na', 'style_rank': 'Na', 'alcohol_percent': '6.5%', 'avg_rating': '3.81', 'percent_dev': '10.76%', 'review_count': '17', 'rating_count': '143', 'status': 'Active', 'date_added': 'Oct 20, 2012'}, {'name': 'Holsten Festbock', 'brewery': 'Holsten-Brauerei', 'location': 'Germany', 'location2': 'Na', 'style': 'Bock', 'ba_score': '76', 'over_all_rank': 'Ranked #27,679', 'style_rank': 'Ranked #92', 'alcohol_percent': '7%', 'avg_rating': '3.3', 'percent_dev': '15.76%', 'review_count': '81', 'rating_count': '136', 'status': 'Active', 'date_added': 'Jul 29, 2002'}, {'name': 'LAG Lagunator Lager', 'brewery': 'Lagunitas Brewing Company', 'location': 'California', 'location2': 'United States', 'style': 'Bock', 'ba_score': '87', 'over_all_rank': 'Ranked #17,602', 'style_rank': 'Ranked #21', 'alcohol_percent': '7.7%', 'avg_rating': '3.86', 'percent_dev': '8.81%', 'review_count': '47', 'rating_count': '133', 'status': 'Active', 'date_added': 'Mar 30, 2017'}, {'name': 'Toasted Bock', 'brewery': 'Jacob Leinenkugel Brewing Company', 'location': 'Wisconsin', 'location2': 'United States', 'style': 'Bock', 'ba_score': '83', 'over_all_rank': 'Ranked #24,440', 'style_rank': 'Ranked #64', 'alcohol_percent': '5.1%', 'avg_rating': '3.65', 'percent_dev': '11.78%', 'review_count': '59', 'rating_count': '130', 'status': 'Active', 'date_added': 'Sep 12, 2020'}, {'name': 'Mountain Holidays In Vermont', 'brewery': 'Rock Art Brewery', 'location': 'Vermont', 'location2': 'United States', 'style': 'Bock', 'ba_score': '83', 'over_all_rank': 'Na', 'style_rank': 'Na', 'alcohol_percent': '5.8%', 'avg_rating': '3.64', 'percent_dev': '10.99%', 'review_count': '87', 'rating_count': '129', 'status': 'Active', 'date_added': 'Dec 02, 2004'}, {'name': 'Koźlak', 'brewery': 'Browar Amber', 'location': 'Poland', 'location2': 'Na', 'style': 'Bock', 'ba_score': '82', 'over_all_rank': 'Ranked #25,315', 'style_rank': 'Ranked #77', 'alcohol_percent': '6.5%', 'avg_rating': '3.6', 'percent_dev': '13.61%', 'review_count': '69', 'rating_count': '116', 'status': 'Active', 'date_added': 'Dec 02, 2005'}, {'name': 'Huber Bock Beer', 'brewery': 'Minhas Craft Brewery', 'location': 'Wisconsin', 'location2': 'United States', 'style': 'Bock', 'ba_score': '74', 'over_all_rank': 'Ranked #27,976', 'style_rank': 'Ranked #95', 'alcohol_percent': '5.5%', 'avg_rating': '3.18', 'percent_dev': '18.24%', 'review_count': '69', 'rating_count': '116', 'status': 'Active', 'date_added': 'Sep 30, 2002'}, {'name': 'Block House Double Chocolate Bock', 'brewery': 'Pittsburgh Brewing Co.', 'location': 'Pennsylvania', 'location2': 'United States', 'style': 'Bock', 'ba_score': '76', 'over_all_rank': 'Ranked #27,634', 'style_rank': 'Ranked #91', 'alcohol_percent': '6.5%', 'avg_rating': '3.3', 'percent_dev': '25.76%', 'review_count': '28', 'rating_count': '110', 'status': 'Active', 'date_added': 'Nov 02, 2014'}, {'name': 'Samuel Adams Amber Bock', 'brewery': 'Boston Beer Company (Samuel Adams)', 'location': 'Massachusetts', 'location2': 'United States', 'style': 'Bock', 'ba_score': '80', 'over_all_rank': 'Ranked #26,574', 'style_rank': 'Ranked #83', 'alcohol_percent': '6%', 'avg_rating': '3.49', 'percent_dev': '11.46%', 'review_count': '26', 'rating_count': '105', 'status': 'Active', 'date_added': 'Jul 03, 2017'}, {'name': 'Bockslider Toadies Texas Bock', 'brewery': 'Martin House Brewing Company', 'location': 'Texas', 'location2': 'United States', 'style': 'Bock', 'ba_score': '85', 'over_all_rank': 'Ranked #22,089', 'style_rank': 'Ranked #46', 'alcohol_percent': '5.6%', 'avg_rating': '3.74', 'percent_dev': '12.3%', 'review_count': '23', 'rating_count': '97', 'status': 'Active', 'date_added': 'May 09, 2015'}, {'name': 'Love Honey', 'brewery': 'Lost Forty Brewing', 'location': 'Arkansas', 'location2': 'United States', 'style': 'Bock', 'ba_score': '86', 'over_all_rank': 'Ranked #18,404', 'style_rank': 'Ranked #28', 'alcohol_percent': '6.3%', 'avg_rating': '3.84', 'percent_dev': '10.94%', 'review_count': '24', 'rating_count': '96', 'status': 'Active', 'date_added': 'Apr 29, 2015'}, {'name': \"Nero's 1st Century Double Dark Malt Ale\", 'brewery': 'Amarcord Birra Artigianale Italiana', 'location': 'Italy', 'location2': 'Na', 'style': 'Bock', 'ba_score': '72', 'over_all_rank': 'Na', 'style_rank': 'Na', 'alcohol_percent': '8%', 'avg_rating': '3.06', 'percent_dev': '19.61%', 'review_count': '48', 'rating_count': '92', 'status': 'Active', 'date_added': 'Dec 09, 2011'}, {'name': 'Crawford Bock', 'brewery': 'Karbach Brewing Co.', 'location': 'Texas', 'location2': 'United States', 'style': 'Bock', 'ba_score': '80', 'over_all_rank': 'Ranked #26,532', 'style_rank': 'Ranked #82', 'alcohol_percent': '4.5%', 'avg_rating': '3.49', 'percent_dev': '14.04%', 'review_count': '28', 'rating_count': '91', 'status': 'Active', 'date_added': 'Mar 06, 2019'}, {'name': 'Bokbier', 'brewery': 'Jopen Bier BV Haarlem', 'location': 'Netherlands', 'location2': 'Na', 'style': 'Bock', 'ba_score': '86', 'over_all_rank': 'Ranked #20,360', 'style_rank': 'Ranked #37', 'alcohol_percent': '6.5%', 'avg_rating': '3.79', 'percent_dev': '11.08%', 'review_count': '54', 'rating_count': '82', 'status': 'Active', 'date_added': 'Aug 07, 2003'}, {'name': 'Der Schwarze Bock', 'brewery': 'Kraftbierwerkstatt', 'location': 'Germany', 'location2': 'Na', 'style': 'Bock', 'ba_score': '86', 'over_all_rank': 'Ranked #18,382', 'style_rank': 'Ranked #29', 'alcohol_percent': '6.2%', 'avg_rating': '3.84', 'percent_dev': '7.03%', 'review_count': '37', 'rating_count': '80', 'status': 'Active', 'date_added': 'Dec 07, 2019'}, {'name': 'Mönchshof Bockbier', 'brewery': 'Kulmbacher Brauerei AG', 'location': 'Germany', 'location2': 'Na', 'style': 'Bock', 'ba_score': '85', 'over_all_rank': 'Ranked #21,985', 'style_rank': 'Ranked #47', 'alcohol_percent': '6.9%', 'avg_rating': '3.74', 'percent_dev': '10.7%', 'review_count': '42', 'rating_count': '79', 'status': 'Active', 'date_added': 'Oct 05, 2003'}, {'name': 'Battlefield Bock', 'brewery': 'Red Oak Brewery', 'location': 'North Carolina', 'location2': 'United States', 'style': 'Bock', 'ba_score': '87', 'over_all_rank': 'Ranked #15,819', 'style_rank': 'Ranked #18', 'alcohol_percent': '6.5%', 'avg_rating': '3.9', 'percent_dev': '13.33%', 'review_count': '20', 'rating_count': '75', 'status': 'Active', 'date_added': 'May 19, 2008'}, {'name': 'Chouffe-Bok 6666', 'brewery': \"Brasserie d'Achouffe\", 'location': 'Belgium', 'location2': 'Na', 'style': 'Bock', 'ba_score': '85', 'over_all_rank': 'Ranked #21,340', 'style_rank': 'Ranked #42', 'alcohol_percent': '6.66%', 'avg_rating': '3.76', 'percent_dev': '14.63%', 'review_count': '34', 'rating_count': '74', 'status': 'Active', 'date_added': 'Jun 24, 2001'}, {'name': 'The Bennie', 'brewery': 'Granite City Food & Brewery', 'location': 'United States', 'location2': 'Na', 'style': 'Bock', 'ba_score': '80', 'over_all_rank': 'Ranked #26,434', 'style_rank': 'Ranked #81', 'alcohol_percent': '5.5%', 'avg_rating': '3.49', 'percent_dev': '12.03%', 'review_count': '9', 'rating_count': '73', 'status': 'Active', 'date_added': 'Jun 17, 2014'}, {'name': 'Christoffel Bokbier', 'brewery': 'Bierbrouwerij Sint Christoffel B.V', 'location': 'Netherlands', 'location2': 'Na', 'style': 'Bock', 'ba_score': '81', 'over_all_rank': 'Na', 'style_rank': 'Na', 'alcohol_percent': '7.8%', 'avg_rating': '3.55', 'percent_dev': '9.58%', 'review_count': '51', 'rating_count': '68', 'status': 'Active', 'date_added': 'Oct 10, 2005'}, {'name': 'Aass Bock', 'brewery': 'Aass Brewery', 'location': 'Norway', 'location2': 'Na', 'style': 'Bock', 'ba_score': '89', 'over_all_rank': 'Ranked #11,838', 'style_rank': 'Ranked #9', 'alcohol_percent': '6.5%', 'avg_rating': '3.99', 'percent_dev': '12.28%', 'review_count': '41', 'rating_count': '67', 'status': 'Active', 'date_added': 'Nov 18, 2000'}, {'name': 'Flensburger Winterbock', 'brewery': 'Flensburger Brauerei', 'location': 'Germany', 'location2': 'Na', 'style': 'Bock', 'ba_score': '83', 'over_all_rank': 'Ranked #24,504', 'style_rank': 'Ranked #72', 'alcohol_percent': '7%', 'avg_rating': '3.63', 'percent_dev': '12.12%', 'review_count': '36', 'rating_count': '67', 'status': 'Active', 'date_added': 'Jan 09, 2005'}, {'name': 'Zywiec Bock', 'brewery': 'Zywiec Breweries PLC (Heineken)', 'location': 'Poland', 'location2': 'Na', 'style': 'Bock', 'ba_score': '85', 'over_all_rank': 'Na', 'style_rank': 'Na', 'alcohol_percent': '6.5%', 'avg_rating': '3.75', 'percent_dev': '9.07%', 'review_count': '25', 'rating_count': '61', 'status': 'Active', 'date_added': 'May 19, 2013'}, {'name': 'Original Stieglbock', 'brewery': 'Stieglbrauerei zu Salzburg GmbH', 'location': 'Austria', 'location2': 'Na', 'style': 'Bock', 'ba_score': '84', 'over_all_rank': 'Ranked #23,592', 'style_rank': 'Ranked #59', 'alcohol_percent': '7%', 'avg_rating': '3.67', 'percent_dev': '13.62%', 'review_count': '37', 'rating_count': '60', 'status': 'Active', 'date_added': 'Aug 05, 2002'}, {'name': 'Billy Jenkins Session Bock', 'brewery': 'Wild Acre Brewing Company', 'location': 'Texas', 'location2': 'United States', 'style': 'Bock', 'ba_score': '84', 'over_all_rank': 'Ranked #22,637', 'style_rank': 'Ranked #53', 'alcohol_percent': '5.2%', 'avg_rating': '3.71', 'percent_dev': '12.13%', 'review_count': '14', 'rating_count': '58', 'status': 'Active', 'date_added': 'Aug 03, 2016'}, {'name': 'Stegmaier Brewhouse Bock', 'brewery': 'Lion Brewery, Inc.', 'location': 'Pennsylvania', 'location2': 'United States', 'style': 'Bock', 'ba_score': '85', 'over_all_rank': 'Na', 'style_rank': 'Na', 'alcohol_percent': '6.6%', 'avg_rating': '3.74', 'percent_dev': '12.83%', 'review_count': '49', 'rating_count': '57', 'status': 'Active', 'date_added': 'Feb 18, 2006'}, {'name': 'Dreher Bak', 'brewery': 'Dreher Brewery', 'location': 'Hungary', 'location2': 'Na', 'style': 'Bock', 'ba_score': '84', 'over_all_rank': 'Ranked #22,612', 'style_rank': 'Ranked #54', 'alcohol_percent': '7.3%', 'avg_rating': '3.71', 'percent_dev': '12.4%', 'review_count': '34', 'rating_count': '57', 'status': 'Active', 'date_added': 'Apr 15, 2003'}, {'name': 'Bock De Joliette', 'brewery': \"Micro-Brasserie L'Alchimiste\", 'location': 'Quebec', 'location2': 'Canada', 'style': 'Bock', 'ba_score': '78', 'over_all_rank': 'Na', 'style_rank': 'Na', 'alcohol_percent': '6.1%', 'avg_rating': '3.34', 'percent_dev': '18.26%', 'review_count': '26', 'rating_count': '55', 'status': 'Active', 'date_added': 'Jun 07, 2003'}, {'name': '3 Best Friends', 'brewery': 'Sudwerk Brewing Company', 'location': 'California', 'location2': 'United States', 'style': 'Bock', 'ba_score': '84', 'over_all_rank': 'Na', 'style_rank': 'Na', 'alcohol_percent': '8%', 'avg_rating': '3.71', 'percent_dev': '12.94%', 'review_count': '12', 'rating_count': '55', 'status': 'Active', 'date_added': 'Mar 19, 2014'}, {'name': 'Ironshore Bock', 'brewery': 'Cayman Islands Brewery Ltd.', 'location': 'Cayman Islands', 'location2': 'Na', 'style': 'Bock', 'ba_score': '78', 'over_all_rank': 'Ranked #27,309', 'style_rank': 'Ranked #87', 'alcohol_percent': '7%', 'avg_rating': '3.33', 'percent_dev': '15.32%', 'review_count': '16', 'rating_count': '53', 'status': 'Active', 'date_added': 'Jun 08, 2011'}, {'name': 'Moza Bock Beer', 'brewery': 'Cervecería Centro Americana, S.A.', 'location': 'Guatemala', 'location2': 'Na', 'style': 'Bock', 'ba_score': '74', 'over_all_rank': 'Ranked #28,023', 'style_rank': 'Ranked #97', 'alcohol_percent': '5%', 'avg_rating': '3.09', 'percent_dev': '17.8%', 'review_count': '29', 'rating_count': '53', 'status': 'Active', 'date_added': 'Feb 19, 2002'}, {'name': 'Poop Your Pants Chocolate Bock', 'brewery': 'Perrin Brewing Co.', 'location': 'Michigan', 'location2': 'United States', 'style': 'Bock', 'ba_score': '88', 'over_all_rank': 'Na', 'style_rank': 'Na', 'alcohol_percent': '6%', 'avg_rating': '3.94', 'percent_dev': '8.63%', 'review_count': '11', 'rating_count': '51', 'status': 'Active', 'date_added': 'Feb 08, 2015'}, {'name': 'Blondibock', 'brewery': 'Mammoth Brewing Company', 'location': 'California', 'location2': 'United States', 'style': 'Bock', 'ba_score': '85', 'over_all_rank': 'Na', 'style_rank': 'Na', 'alcohol_percent': '8%', 'avg_rating': '3.78', 'percent_dev': '14.29%', 'review_count': '16', 'rating_count': '51', 'status': 'Active', 'date_added': 'Jan 29, 2011'}, {'name': 'Pale Bock', 'brewery': 'Celis Brewery', 'location': 'Texas', 'location2': 'United States', 'style': 'Bock', 'ba_score': '83', 'over_all_rank': 'Ranked #24,477', 'style_rank': 'Ranked #75', 'alcohol_percent': '4.9%', 'avg_rating': '3.62', 'percent_dev': '11.05%', 'review_count': '13', 'rating_count': '50', 'status': 'Active', 'date_added': 'Aug 26, 2017'}, {'name': 'Blizzard Bock', 'brewery': 'Flying Bison Brewing Company', 'location': 'New York', 'location2': 'United States', 'style': 'Bock', 'ba_score': '84', 'over_all_rank': 'Ranked #23,235', 'style_rank': 'Ranked #58', 'alcohol_percent': '6.5%', 'avg_rating': '3.68', 'percent_dev': '13.04%', 'review_count': '16', 'rating_count': '50', 'status': 'Active', 'date_added': 'Nov 05, 2006'}, {'name': 'Broegel Bock Beer', 'brewery': 'Brouwerij Martens NV', 'location': 'Belgium', 'location2': 'Na', 'style': 'Bock', 'ba_score': '78', 'over_all_rank': 'Na', 'style_rank': 'Na', 'alcohol_percent': '5%', 'avg_rating': '3.33', 'percent_dev': '19.52%', 'review_count': '26', 'rating_count': '50', 'status': 'Active', 'date_added': 'Apr 01, 2016'}, {'name': 'Grolsch Herfstbok', 'brewery': 'Grolsch Bierbrouwerij N.V.', 'location': 'Netherlands', 'location2': 'Na', 'style': 'Bock', 'ba_score': '76', 'over_all_rank': 'Ranked #27,665', 'style_rank': 'Ranked #93', 'alcohol_percent': '6.5%', 'avg_rating': '3.23', 'percent_dev': '18.89%', 'review_count': '20', 'rating_count': '49', 'status': 'Active', 'date_added': 'Mar 09, 2004'}, {'name': 'Dinkel Bock', 'brewery': 'Apostelbräu', 'location': 'Germany', 'location2': 'Na', 'style': 'Bock', 'ba_score': '83', 'over_all_rank': 'Ranked #23,862', 'style_rank': 'Ranked #61', 'alcohol_percent': '6.8%', 'avg_rating': '3.65', 'percent_dev': '13.15%', 'review_count': '21', 'rating_count': '48', 'status': 'Active', 'date_added': 'Sep 16, 2012'}, {'name': \"Monk's Christmas\", 'brewery': 'Klosterbrauerei Weißenohe', 'location': 'Germany', 'location2': 'Na', 'style': 'Bock', 'ba_score': '84', 'over_all_rank': 'Na', 'style_rank': 'Na', 'alcohol_percent': '7.1%', 'avg_rating': '3.66', 'percent_dev': '13.66%', 'review_count': '29', 'rating_count': '48', 'status': 'Active', 'date_added': 'Dec 11, 2009'}, {'name': 'Amstel Bock', 'brewery': 'Amstel Brouwerij B. V.', 'location': 'Netherlands', 'location2': 'Na', 'style': 'Bock', 'ba_score': '78', 'over_all_rank': 'Na', 'style_rank': 'Na', 'alcohol_percent': '7%', 'avg_rating': '3.3', 'percent_dev': '15.15%', 'review_count': '20', 'rating_count': '47', 'status': 'Active', 'date_added': 'Dec 22, 2004'}, {'name': 'Aero-Head Bock', 'brewery': 'Appalachian Brewing Company', 'location': 'Pennsylvania', 'location2': 'United States', 'style': 'Bock', 'ba_score': '83', 'over_all_rank': 'Ranked #24,196', 'style_rank': 'Ranked #68', 'alcohol_percent': '7%', 'avg_rating': '3.63', 'percent_dev': '9.09%', 'review_count': '11', 'rating_count': '45', 'status': 'Active', 'date_added': 'Feb 08, 2015'}, {'name': 'Torrent', 'brewery': 'Elysian Brewing Company', 'location': 'Washington', 'location2': 'United States', 'style': 'Bock', 'ba_score': '73', 'over_all_rank': 'Na', 'style_rank': 'Na', 'alcohol_percent': '7%', 'avg_rating': '3.03', 'percent_dev': '24.75%', 'review_count': '18', 'rating_count': '43', 'status': 'Active', 'date_added': 'Jul 29, 2012'}, {'name': 'Funeral Bock', 'brewery': 'Wayfinder Beer', 'location': 'Oregon', 'location2': 'United States', 'style': 'Bock', 'ba_score': '92', 'over_all_rank': 'Ranked #4,907', 'style_rank': 'Ranked #1', 'alcohol_percent': '7%', 'avg_rating': '4.19', 'percent_dev': '4.53%', 'review_count': '16', 'rating_count': '41', 'status': 'Active', 'date_added': 'Oct 19, 2019'}, {'name': 'Winter Lager', 'brewery': 'Lake Placid Craft Brewing Company', 'location': 'New York', 'location2': 'United States', 'style': 'Bock', 'ba_score': '83', 'over_all_rank': 'Na', 'style_rank': 'Na', 'alcohol_percent': '6.5%', 'avg_rating': '3.6', 'percent_dev': '13.61%', 'review_count': '22', 'rating_count': '41', 'status': 'Active', 'date_added': 'Dec 12, 2010'}, {'name': 'Steam Brew German Red', 'brewery': 'Privatbrauerei Eichbaum', 'location': 'Germany', 'location2': 'Na', 'style': 'Bock', 'ba_score': '78', 'over_all_rank': 'Ranked #27,283', 'style_rank': 'Ranked #89', 'alcohol_percent': '7.9%', 'avg_rating': '3.31', 'percent_dev': '16.62%', 'review_count': '15', 'rating_count': '41', 'status': 'Active', 'date_added': 'Jun 08, 2018'}, {'name': 'Hertog Jan Lentebock', 'brewery': 'Arcense Stoombierbouwerij (Hertog Jan Brouwerij)', 'location': 'Netherlands', 'location2': 'Na', 'style': 'Bock', 'ba_score': '83', 'over_all_rank': 'Ranked #24,221', 'style_rank': 'Ranked #74', 'alcohol_percent': '7.2%', 'avg_rating': '3.62', 'percent_dev': '12.71%', 'review_count': '12', 'rating_count': '38', 'status': 'Active', 'date_added': 'Apr 18, 2010'}, {'name': 'Faxe Fest Bock', 'brewery': 'Royal Unibrew A/S', 'location': 'Denmark', 'location2': 'Na', 'style': 'Bock', 'ba_score': '80', 'over_all_rank': 'Na', 'style_rank': 'Na', 'alcohol_percent': '7.7%', 'avg_rating': '3.41', 'percent_dev': '13.78%', 'review_count': '29', 'rating_count': '38', 'status': 'Active', 'date_added': 'Feb 08, 2003'}, {'name': 'Baphomet', 'brewery': 'Revolution Brewing', 'location': 'Illinois', 'location2': 'United States', 'style': 'Bock', 'ba_score': '89', 'over_all_rank': 'Ranked #11,059', 'style_rank': 'Ranked #10', 'alcohol_percent': '6.66%', 'avg_rating': '4.02', 'percent_dev': '7.46%', 'review_count': '14', 'rating_count': '37', 'status': 'Active', 'date_added': 'Mar 18, 2011'}, {'name': 'ChickBock', 'brewery': 'Chattanooga Brewing Company', 'location': 'Tennessee', 'location2': 'United States', 'style': 'Bock', 'ba_score': '81', 'over_all_rank': 'Na', 'style_rank': 'Na', 'alcohol_percent': '6.1%', 'avg_rating': '3.5', 'percent_dev': '14.57%', 'review_count': '7', 'rating_count': '36', 'status': 'Active', 'date_added': 'Sep 14, 2012'}, {'name': 'Brugse Bok', 'brewery': 'Brouwerij De Halve Maan', 'location': 'Belgium', 'location2': 'Na', 'style': 'Bock', 'ba_score': '83', 'over_all_rank': 'Ranked #24,142', 'style_rank': 'Ranked #73', 'alcohol_percent': '6.5%', 'avg_rating': '3.62', 'percent_dev': '8.56%', 'review_count': '10', 'rating_count': '35', 'status': 'Active', 'date_added': 'Oct 30, 2008'}, {'name': 'IJBok', 'brewery': \"Brouwerij 't IJ\", 'location': 'Netherlands', 'location2': 'Na', 'style': 'Bock', 'ba_score': '83', 'over_all_rank': 'Ranked #23,753', 'style_rank': 'Ranked #65', 'alcohol_percent': '6.5%', 'avg_rating': '3.64', 'percent_dev': '11.26%', 'review_count': '10', 'rating_count': '35', 'status': 'Active', 'date_added': 'Mar 01, 2005'}, {'name': 'Urbock', 'brewery': 'Feldschlößchen', 'location': 'Germany', 'location2': 'Na', 'style': 'Bock', 'ba_score': '87', 'over_all_rank': 'Ranked #18,111', 'style_rank': 'Ranked #31', 'alcohol_percent': '7%', 'avg_rating': '3.84', 'percent_dev': '8.85%', 'review_count': '17', 'rating_count': '35', 'status': 'Active', 'date_added': 'Jan 25, 2017'}, {'name': \"Satyr's Swill\", 'brewery': 'Back Pew Brewing Company', 'location': 'Texas', 'location2': 'United States', 'style': 'Bock', 'ba_score': '83', 'over_all_rank': 'Na', 'style_rank': 'Na', 'alcohol_percent': '7.2%', 'avg_rating': '3.62', 'percent_dev': '15.75%', 'review_count': '8', 'rating_count': '35', 'status': 'Active', 'date_added': 'Dec 22, 2015'}, {'name': 'Thumbprint Mocha Berry Bock', 'brewery': 'New Glarus Brewing Company', 'location': 'Wisconsin', 'location2': 'United States', 'style': 'Bock', 'ba_score': 'Avg:', 'over_all_rank': 'Ranked #13,482', 'style_rank': 'Ranked #15', 'alcohol_percent': 'Score:', 'avg_rating': '8.33%', 'percent_dev': 'Reviews:', 'review_count': 'Ratings:', 'rating_count': 'Status:', 'status': 'Rated:', 'date_added': 'Wants:'}, {'name': 'Yule Bock', 'brewery': 'The Olde Mecklenburg Brewery', 'location': 'North Carolina', 'location2': 'United States', 'style': 'Bock', 'ba_score': '88', 'over_all_rank': 'Na', 'style_rank': 'Na', 'alcohol_percent': '7%', 'avg_rating': '3.94', 'percent_dev': '14.72%', 'review_count': '19', 'rating_count': '34', 'status': 'Active', 'date_added': 'Dec 20, 2009'}, {'name': 'Brecken Bock', 'brewery': 'State of Brewing', 'location': 'Wisconsin', 'location2': 'United States', 'style': 'Bock', 'ba_score': '84', 'over_all_rank': 'Ranked #22,650', 'style_rank': 'Ranked #57', 'alcohol_percent': '4.5%', 'avg_rating': '3.69', 'percent_dev': '13.01%', 'review_count': '15', 'rating_count': '34', 'status': 'Active', 'date_added': 'Jul 03, 2020'}, {'name': 'Sleeman Bock', 'brewery': 'Sleeman Breweries Ltd.', 'location': 'Ontario', 'location2': 'Canada', 'style': 'Bock', 'ba_score': '74', 'over_all_rank': 'Ranked #28,020', 'style_rank': 'Ranked #98', 'alcohol_percent': '6%', 'avg_rating': '3.02', 'percent_dev': '10.93%', 'review_count': '21', 'rating_count': '34', 'status': 'Active', 'date_added': 'Sep 25, 2009'}, {'name': 'Poretti 6 Luppoli Bock Rossa', 'brewery': 'Carlsberg Italia S.p.A.', 'location': 'Italy', 'location2': 'Na', 'style': 'Bock', 'ba_score': '82', 'over_all_rank': 'Ranked #25,190', 'style_rank': 'Ranked #80', 'alcohol_percent': '7%', 'avg_rating': '3.55', 'percent_dev': '13.52%', 'review_count': '5', 'rating_count': '33', 'status': 'Active', 'date_added': 'Aug 12, 2013'}, {'name': 'Velvet Hammer Bock', 'brewery': 'Great Dane Pub & Brewing Company (Downtown)', 'location': 'Wisconsin', 'location2': 'United States', 'style': 'Bock', 'ba_score': '88', 'over_all_rank': 'Ranked #14,715', 'style_rank': 'Ranked #19', 'alcohol_percent': '6.8%', 'avg_rating': '3.93', 'percent_dev': '11.2%', 'review_count': '16', 'rating_count': '32', 'status': 'Active', 'date_added': 'Sep 21, 2002'}, {'name': 'Point Bock', 'brewery': 'Stevens Point Brewery', 'location': 'Wisconsin', 'location2': 'United States', 'style': 'Bock', 'ba_score': '78', 'over_all_rank': 'Ranked #27,229', 'style_rank': 'Ranked #88', 'alcohol_percent': '5.2%', 'avg_rating': '3.29', 'percent_dev': '14.89%', 'review_count': '14', 'rating_count': '32', 'status': 'Active', 'date_added': 'Feb 07, 2002'}, {'name': 'Knuckle Bock', 'brewery': 'Texas Leaguer Brewing Company', 'location': 'Texas', 'location2': 'United States', 'style': 'Bock', 'ba_score': '85', 'over_all_rank': 'Ranked #20,999', 'style_rank': 'Ranked #45', 'alcohol_percent': '6.5%', 'avg_rating': '3.75', 'percent_dev': '10.13%', 'review_count': '9', 'rating_count': '32', 'status': 'Active', 'date_added': 'Feb 22, 2016'}, {'name': 'Genuine Bock Beer', 'brewery': 'Pipeworks Brewing Company', 'location': 'Illinois', 'location2': 'United States', 'style': 'Bock', 'ba_score': '90', 'over_all_rank': 'Ranked #9,416', 'style_rank': 'Ranked #5', 'alcohol_percent': '6.66%', 'avg_rating': '4.07', 'percent_dev': '4.91%', 'review_count': '14', 'rating_count': '31', 'status': 'Active', 'date_added': 'Dec 11, 2018'}, {'name': 'Bock', 'brewery': 'Texelse Bierbrouwerij', 'location': 'Netherlands', 'location2': 'Na', 'style': 'Bock', 'ba_score': '83', 'over_all_rank': 'Na', 'style_rank': 'Na', 'alcohol_percent': '7.5%', 'avg_rating': '3.61', 'percent_dev': '17.73%', 'review_count': '13', 'rating_count': '31', 'status': 'Active', 'date_added': 'Sep 12, 2004'}, {'name': 'Hertog Jan Bockbier', 'brewery': 'Arcense Stoombierbouwerij (Hertog Jan Brouwerij)', 'location': 'Netherlands', 'location2': 'Na', 'style': 'Bock', 'ba_score': '83', 'over_all_rank': 'Ranked #23,996', 'style_rank': 'Ranked #71', 'alcohol_percent': '6.5%', 'avg_rating': '3.62', 'percent_dev': '11.05%', 'review_count': '14', 'rating_count': '31', 'status': 'Active', 'date_added': 'Dec 14, 2004'}, {'name': 'Hudepohl Festival Bock', 'brewery': 'Hudepohl-Schoenling Brewing Co.', 'location': 'Ohio', 'location2': 'United States', 'style': 'Bock', 'ba_score': '82', 'over_all_rank': 'Na', 'style_rank': 'Na', 'alcohol_percent': '6.5%', 'avg_rating': '3.52', 'percent_dev': '11.93%', 'review_count': '14', 'rating_count': '30', 'status': 'Active', 'date_added': 'Mar 03, 2007'}, {'name': 'Reutberger Josefi Bock', 'brewery': 'Klosterbrauerei Reutberg', 'location': 'Germany', 'location2': 'Na', 'style': 'Bock', 'ba_score': '86', 'over_all_rank': 'Ranked #19,071', 'style_rank': 'Ranked #36', 'alcohol_percent': '6.9%', 'avg_rating': '3.81', 'percent_dev': '8.4%', 'review_count': '19', 'rating_count': '30', 'status': 'Active', 'date_added': 'Aug 18, 2004'}, {'name': 'Winter Bock', 'brewery': 'Frankenmuth Brewery', 'location': 'Michigan', 'location2': 'United States', 'style': 'Bock', 'ba_score': '83', 'over_all_rank': 'Na', 'style_rank': 'Na', 'alcohol_percent': '7%', 'avg_rating': '3.57', 'percent_dev': '12.61%', 'review_count': '11', 'rating_count': '29', 'status': 'Active', 'date_added': 'Feb 16, 2004'}, {'name': 'Berliner Kindl Bock Dunkel', 'brewery': 'Berliner Kindl Brauerei', 'location': 'Germany', 'location2': 'Na', 'style': 'Bock', 'ba_score': '84', 'over_all_rank': 'Ranked #23,513', 'style_rank': 'Ranked #63', 'alcohol_percent': '7%', 'avg_rating': '3.64', 'percent_dev': '12.64%', 'review_count': '13', 'rating_count': '29', 'status': 'Active', 'date_added': 'Mar 29, 2006'}, {'name': 'Brand Imperator', 'brewery': 'Brand Bierbrouwerij', 'location': 'Netherlands', 'location2': 'Na', 'style': 'Bock', 'ba_score': '82', 'over_all_rank': 'Na', 'style_rank': 'Na', 'alcohol_percent': '6.5%', 'avg_rating': '3.5', 'percent_dev': '18.29%', 'review_count': '10', 'rating_count': '28', 'status': 'Active', 'date_added': 'Oct 11, 2002'}, {'name': 'Beer For Burgers', 'brewery': 'Off Color Brewing', 'location': 'Illinois', 'location2': 'United States', 'style': 'Bock', 'ba_score': '88', 'over_all_rank': 'Ranked #14,367', 'style_rank': 'Ranked #17', 'alcohol_percent': '7%', 'avg_rating': '3.94', 'percent_dev': '7.61%', 'review_count': '11', 'rating_count': '28', 'status': 'Active', 'date_added': 'Jun 29, 2020'}, {'name': 'Holiday Bock', 'brewery': 'Dovetail Brewery', 'location': 'Illinois', 'location2': 'United States', 'style': 'Bock', 'ba_score': '90', 'over_all_rank': 'Ranked #9,573', 'style_rank': 'Ranked #6', 'alcohol_percent': '6.9%', 'avg_rating': '4.07', 'percent_dev': '5.9%', 'review_count': '10', 'rating_count': '28', 'status': 'Active', 'date_added': 'Nov 24, 2016'}, {'name': 'Spring Imp', 'brewery': 'Mill Street Brew Pub', 'location': 'Ontario', 'location2': 'Canada', 'style': 'Bock', 'ba_score': '80', 'over_all_rank': 'Na', 'style_rank': 'Na', 'alcohol_percent': '7%', 'avg_rating': '3.4', 'percent_dev': '8.82%', 'review_count': '9', 'rating_count': '27', 'status': 'Active', 'date_added': 'Apr 20, 2010'}, {'name': 'Taybeh Dark', 'brewery': 'Taybeh Brewing Co.', 'location': 'Palestine', 'location2': 'Na', 'style': 'Bock', 'ba_score': '83', 'over_all_rank': 'Ranked #24,808', 'style_rank': 'Ranked #78', 'alcohol_percent': '6%', 'avg_rating': '3.56', 'percent_dev': '8.71%', 'review_count': '13', 'rating_count': '27', 'status': 'Active', 'date_added': 'Aug 05, 2008'}, {'name': 'Butthead Bock Lager', 'brewery': 'Tommyknocker Brewery', 'location': 'Colorado', 'location2': 'United States', 'style': 'Bock', 'ba_score': '85', 'over_all_rank': 'Na', 'style_rank': 'Na', 'alcohol_percent': '8.2%', 'avg_rating': '3.7', 'percent_dev': '10.27%', 'review_count': '3', 'rating_count': '27', 'status': 'Active', 'date_added': 'Jan 24, 2015'}, {'name': 'Bourbon Love Honey (Barrel-Aged Bock)', 'brewery': 'Lost Forty Brewing', 'location': 'Arkansas', 'location2': 'United States', 'style': 'Bock', 'ba_score': '91', 'over_all_rank': 'Ranked #6,430', 'style_rank': 'Ranked #2', 'alcohol_percent': '7.5%', 'avg_rating': '4.17', 'percent_dev': '15.59%', 'review_count': '7', 'rating_count': '26', 'status': 'Active', 'date_added': 'Feb 15, 2015'}, {'name': 'Urbock', 'brewery': 'Camelthorn Brewing Company Ltd', 'location': 'Namibia', 'location2': 'Na', 'style': 'Bock', 'ba_score': '87', 'over_all_rank': 'Ranked #16,192', 'style_rank': 'Ranked #24', 'alcohol_percent': '7%', 'avg_rating': '3.89', 'percent_dev': '11.83%', 'review_count': '21', 'rating_count': '26', 'status': 'Active', 'date_added': 'Dec 02, 2002'}, {'name': 'Bock', 'brewery': 'Compania Cervecera Kunstmann, S.A.', 'location': 'Chile', 'location2': 'Na', 'style': 'Bock', 'ba_score': '83', 'over_all_rank': 'Ranked #24,284', 'style_rank': 'Ranked #76', 'alcohol_percent': '5.3%', 'avg_rating': '3.59', 'percent_dev': '11.7%', 'review_count': '11', 'rating_count': '26', 'status': 'Active', 'date_added': 'Jan 17, 2006'}, {'name': 'Bock', 'brewery': 'Bull Falls Brewery', 'location': 'Wisconsin', 'location2': 'United States', 'style': 'Bock', 'ba_score': '87', 'over_all_rank': 'Ranked #17,607', 'style_rank': 'Ranked #32', 'alcohol_percent': '7.2%', 'avg_rating': '3.85', 'percent_dev': '10.65%', 'review_count': '10', 'rating_count': '26', 'status': 'Active', 'date_added': 'Apr 04, 2008'}, {'name': 'Pfungstädter St. Nikolaus', 'brewery': 'Pfungstädter Brauerei', 'location': 'Germany', 'location2': 'Na', 'style': 'Bock', 'ba_score': '87', 'over_all_rank': 'Ranked #16,190', 'style_rank': 'Ranked #25', 'alcohol_percent': '6.9%', 'avg_rating': '3.89', 'percent_dev': '7.71%', 'review_count': '15', 'rating_count': '25', 'status': 'Active', 'date_added': 'Dec 04, 2004'}, {'name': 'San Martino La Gold', 'brewery': 'Birrificio Ticinese', 'location': 'Switzerland', 'location2': 'Na', 'style': 'Bock', 'ba_score': '80', 'over_all_rank': 'Na', 'style_rank': 'Na', 'alcohol_percent': '7.6%', 'avg_rating': '3.41', 'percent_dev': '14.37%', 'review_count': '7', 'rating_count': '25', 'status': 'Active', 'date_added': 'Feb 23, 2013'}, {'name': 'Bibock', 'brewery': 'Birrificio Italiano', 'location': 'Italy', 'location2': 'Na', 'style': 'Bock', 'ba_score': '86', 'over_all_rank': 'Ranked #18,285', 'style_rank': 'Ranked #34', 'alcohol_percent': '6.2%', 'avg_rating': '3.83', 'percent_dev': '10.97%', 'review_count': '13', 'rating_count': '25', 'status': 'Active', 'date_added': 'Jun 12, 2005'}, {'name': 'Bourbon Barrel Bock', 'brewery': 'Weldebräu', 'location': 'Germany', 'location2': 'Na', 'style': 'Bock', 'ba_score': '84', 'over_all_rank': 'Na', 'style_rank': 'Na', 'alcohol_percent': '6.6%', 'avg_rating': '3.63', 'percent_dev': '14.6%', 'review_count': '10', 'rating_count': '25', 'status': 'Active', 'date_added': 'Mar 02, 2008'}, {'name': 'Quilmes Bock', 'brewery': 'Cervecería y Maltería Quilmes / Grupo Bemberg', 'location': 'Argentina', 'location2': 'Na', 'style': 'Bock', 'ba_score': '72', 'over_all_rank': 'Ranked #28,199', 'style_rank': 'Ranked #99', 'alcohol_percent': '6.3%', 'avg_rating': '2.81', 'percent_dev': '23.13%', 'review_count': '9', 'rating_count': '23', 'status': 'Active', 'date_added': 'Mar 14, 2009'}, {'name': \"Sigi's Wild Horse\", 'brewery': 'Tivoli Brewing Company', 'location': 'Colorado', 'location2': 'United States', 'style': 'Bock', 'ba_score': '83', 'over_all_rank': 'Na', 'style_rank': 'Na', 'alcohol_percent': '6.7%', 'avg_rating': '3.6', 'percent_dev': '14.72%', 'review_count': '9', 'rating_count': '23', 'status': 'Active', 'date_added': 'Nov 06, 2014'}, {'name': 'Silver Star Bock', 'brewery': 'Franconia Brewing Company', 'location': 'Texas', 'location2': 'United States', 'style': 'Bock', 'ba_score': '83', 'over_all_rank': 'Na', 'style_rank': 'Na', 'alcohol_percent': '5.06%', 'avg_rating': '3.58', 'percent_dev': '13.13%', 'review_count': '3', 'rating_count': '23', 'status': 'Active', 'date_added': 'Aug 10, 2016'}, {'name': 'Gulpener Lentebock', 'brewery': 'Gulpener Bierbrouwerij B.V.', 'location': 'Netherlands', 'location2': 'Na', 'style': 'Bock', 'ba_score': '81', 'over_all_rank': 'Na', 'style_rank': 'Na', 'alcohol_percent': '6.5%', 'avg_rating': '3.43', 'percent_dev': '9.91%', 'review_count': '8', 'rating_count': '22', 'status': 'Active', 'date_added': 'Apr 12, 2005'}, {'name': 'Summer Wonder', 'brewery': 'Kuhnhenn Brewing Company', 'location': 'Michigan', 'location2': 'United States', 'style': 'Bock', 'ba_score': '92', 'over_all_rank': 'Na', 'style_rank': 'Na', 'alcohol_percent': '13%', 'avg_rating': '4.24', 'percent_dev': '6.84%', 'review_count': '1', 'rating_count': '22', 'status': 'Active', 'date_added': 'Jun 21, 2014'}, {'name': \"Innstadt D' Inn'Staade\", 'brewery': 'Innstadt-Bräu', 'location': 'Germany', 'location2': 'Na', 'style': 'Bock', 'ba_score': '81', 'over_all_rank': 'Na', 'style_rank': 'Na', 'alcohol_percent': '5.6%', 'avg_rating': '3.46', 'percent_dev': '13.29%', 'review_count': '18', 'rating_count': '22', 'status': 'Active', 'date_added': 'Jan 04, 2006'}, {'name': 'Stolichno Bock', 'brewery': 'Zagorka Brewery / Pivovaren Zavod Zagorka', 'location': 'Bulgaria', 'location2': 'Na', 'style': 'Bock', 'ba_score': '85', 'over_all_rank': 'Ranked #20,584', 'style_rank': 'Ranked #48', 'alcohol_percent': '6.5%', 'avg_rating': '3.75', 'percent_dev': '13.87%', 'review_count': '7', 'rating_count': '22', 'status': 'Active', 'date_added': 'Dec 21, 2008'}, {'name': \"'na Biretta Rossa\", 'brewery': 'Birrificio Ostiense Artigianale (BOA)', 'location': 'Italy', 'location2': 'Na', 'style': 'Bock', 'ba_score': '84', 'over_all_rank': 'Na', 'style_rank': 'Na', 'alcohol_percent': '6.3%', 'avg_rating': '3.64', 'percent_dev': '13.19%', 'review_count': '12', 'rating_count': '21', 'status': 'Active', 'date_added': 'Jun 03, 2012'}, {'name': 'Honey Bock', 'brewery': 'Pyramid Breweries, Inc.', 'location': 'Oregon', 'location2': 'United States', 'style': 'Bock', 'ba_score': '80', 'over_all_rank': 'Na', 'style_rank': 'Na', 'alcohol_percent': '4.9%', 'avg_rating': '3.35', 'percent_dev': '9.55%', 'review_count': '6', 'rating_count': '21', 'status': 'Active', 'date_added': 'Feb 15, 2013'}, {'name': 'Slacker Bock', 'brewery': 'Sly Fox Brewing Company', 'location': 'Pennsylvania', 'location2': 'United States', 'style': 'Bock', 'ba_score': '86', 'over_all_rank': 'Na', 'style_rank': 'Na', 'alcohol_percent': '6.6%', 'avg_rating': '3.82', 'percent_dev': '7.59%', 'review_count': '11', 'rating_count': '21', 'status': 'Active', 'date_added': 'Jun 16, 2005'}, {'name': 'Leipziger Holzbock', 'brewery': 'Gasthaus & Gosebrauerei Bayerischer Bahnhof', 'location': 'Germany', 'location2': 'Na', 'style': 'Bock', 'ba_score': '81', 'over_all_rank': 'Na', 'style_rank': 'Na', 'alcohol_percent': '6.8%', 'avg_rating': '3.44', 'percent_dev': '16.86%', 'review_count': '10', 'rating_count': '20', 'status': 'Active', 'date_added': 'Jan 15, 2011'}, {'name': \"Fall'n Bock\", 'brewery': 'Franconia Brewing Company', 'location': 'Texas', 'location2': 'United States', 'style': 'Bock', 'ba_score': '88', 'over_all_rank': 'Na', 'style_rank': 'Na', 'alcohol_percent': '7%', 'avg_rating': '3.93', 'percent_dev': '11.7%', 'review_count': '5', 'rating_count': '20', 'status': 'Active', 'date_added': 'Nov 05, 2009'}, {'name': 'Boss Kozlak (Bock)', 'brewery': 'BOSS Browar Witnica S.A.', 'location': 'Poland', 'location2': 'Na', 'style': 'Bock', 'ba_score': '82', 'over_all_rank': 'Na', 'style_rank': 'Na', 'alcohol_percent': '6%', 'avg_rating': '3.46', 'percent_dev': '17.05%', 'review_count': '17', 'rating_count': '20', 'status': 'Active', 'date_added': 'Sep 26, 2006'}, {'name': 'Julebuk', 'brewery': 'Søgaards Bryghus', 'location': 'Denmark', 'location2': 'Na', 'style': 'Bock', 'ba_score': '88', 'over_all_rank': 'Na', 'style_rank': 'Na', 'alcohol_percent': '6.3%', 'avg_rating': '3.97', 'percent_dev': '6.3%', 'review_count': '18', 'rating_count': '20', 'status': 'Active', 'date_added': 'Dec 31, 2006'}, {'name': 'Columbia', 'brewery': 'The Conrad Seipp Brewing Company', 'location': 'Illinois', 'location2': 'United States', 'style': 'Bock', 'ba_score': '87', 'over_all_rank': 'Ranked #15,941', 'style_rank': 'Ranked #26', 'alcohol_percent': '6%', 'avg_rating': '3.9', 'percent_dev': '8.46%', 'review_count': '11', 'rating_count': '20', 'status': 'Active', 'date_added': 'Feb 19, 2021'}, {'name': 'Sherman Bock', 'brewery': '903 Brewers', 'location': 'Texas', 'location2': 'United States', 'style': 'Bock', 'ba_score': '84', 'over_all_rank': 'Ranked #23,154', 'style_rank': 'Ranked #66', 'alcohol_percent': '7.1%', 'avg_rating': '3.63', 'percent_dev': '16.53%', 'review_count': '10', 'rating_count': '20', 'status': 'Active', 'date_added': 'Oct 18, 2019'}, {'name': 'Christmas Bock', 'brewery': 'Enegren Brewing Company', 'location': 'California', 'location2': 'United States', 'style': 'Bock', 'ba_score': '91', 'over_all_rank': 'Ranked #7,538', 'style_rank': 'Ranked #3', 'alcohol_percent': '7.2%', 'avg_rating': '4.16', 'percent_dev': '5.05%', 'review_count': '12', 'rating_count': '19', 'status': 'Active', 'date_added': 'Dec 18, 2021'}, {'name': 'Therezópolis Rubine', 'brewery': 'Cervejaria Teresópolis', 'location': 'Brazil', 'location2': 'Na', 'style': 'Bock', 'ba_score': '84', 'over_all_rank': 'Na', 'style_rank': 'Na', 'alcohol_percent': '6.5%', 'avg_rating': '3.64', 'percent_dev': '10.99%', 'review_count': '6', 'rating_count': '18', 'status': 'Active', 'date_added': 'Aug 27, 2012'}, {'name': 'Wild North Midnight Bock', 'brewery': 'Lake of Bays Brewing Company', 'location': 'Ontario', 'location2': 'Canada', 'style': 'Bock', 'ba_score': '85', 'over_all_rank': 'Na', 'style_rank': 'Na', 'alcohol_percent': '5.5%', 'avg_rating': '3.69', 'percent_dev': '6.78%', 'review_count': '3', 'rating_count': '18', 'status': 'Active', 'date_added': 'Oct 22, 2015'}, {'name': 'Illbebock', 'brewery': 'Brau Brothers Brewing Co. LLC', 'location': 'Minnesota', 'location2': 'United States', 'style': 'Bock', 'ba_score': '88', 'over_all_rank': 'Na', 'style_rank': 'Na', 'alcohol_percent': '6.5%', 'avg_rating': '3.92', 'percent_dev': '7.65%', 'review_count': '9', 'rating_count': '18', 'status': 'Active', 'date_added': 'Feb 25, 2015'}, {'name': 'Herfstbok', 'brewery': 'Brouwerij De Prael', 'location': 'Netherlands', 'location2': 'Na', 'style': 'Bock', 'ba_score': '81', 'over_all_rank': 'Na', 'style_rank': 'Na', 'alcohol_percent': '7.7%', 'avg_rating': '3.4', 'percent_dev': '17.06%', 'review_count': '6', 'rating_count': '18', 'status': 'Active', 'date_added': 'Nov 04, 2005'}, {'name': 'St. Martin Dunkler Bock', 'brewery': 'Aktienbrauerei Kaufbeuren AG', 'location': 'Germany', 'location2': 'Na', 'style': 'Bock', 'ba_score': '84', 'over_all_rank': 'Na', 'style_rank': 'Na', 'alcohol_percent': '6.6%', 'avg_rating': '3.65', 'percent_dev': '9.86%', 'review_count': '11', 'rating_count': '18', 'status': 'Active', 'date_added': 'Feb 21, 2008'}, {'name': 'Ice Boom Bock', 'brewery': 'Resurgence Brewing Company', 'location': 'New York', 'location2': 'United States', 'style': 'Bock', 'ba_score': '86', 'over_all_rank': 'Ranked #19,549', 'style_rank': 'Ranked #43', 'alcohol_percent': '7%', 'avg_rating': '3.78', 'percent_dev': '5.56%', 'review_count': '6', 'rating_count': '18', 'status': 'Active', 'date_added': 'Feb 15, 2015'}, {'name': 'Winterhammer', 'brewery': 'Schilling Beer Co.', 'location': 'New Hampshire', 'location2': 'United States', 'style': 'Bock', 'ba_score': '89', 'over_all_rank': 'Ranked #11,979', 'style_rank': 'Ranked #14', 'alcohol_percent': '6.9%', 'avg_rating': '4.02', 'percent_dev': '4.98%', 'review_count': '6', 'rating_count': '18', 'status': 'Active', 'date_added': 'Jan 17, 2020'}, {'name': \"Billy's Bock\", 'brewery': 'Lancaster Brewing Company', 'location': 'Pennsylvania', 'location2': 'United States', 'style': 'Bock', 'ba_score': '83', 'over_all_rank': 'Na', 'style_rank': 'Na', 'alcohol_percent': '6.2%', 'avg_rating': '3.56', 'percent_dev': '9.83%', 'review_count': '2', 'rating_count': '18', 'status': 'Active', 'date_added': 'Mar 18, 2013'}, {'name': 'Los Muertos Cerveza Negra', 'brewery': 'Bad Tattoo Brewing', 'location': 'British Columbia', 'location2': 'Canada', 'style': 'Bock', 'ba_score': '87', 'over_all_rank': 'Na', 'style_rank': 'Na', 'alcohol_percent': '5%', 'avg_rating': '3.83', 'percent_dev': '10.7%', 'review_count': '4', 'rating_count': '18', 'status': 'Active', 'date_added': 'Aug 11, 2014'}, {'name': 'Engel Bock Dunkel', 'brewery': 'Crailsheimer Engelbräu', 'location': 'Germany', 'location2': 'Na', 'style': 'Bock', 'ba_score': '85', 'over_all_rank': 'Na', 'style_rank': 'Na', 'alcohol_percent': '7.2%', 'avg_rating': '3.72', 'percent_dev': '9.95%', 'review_count': '5', 'rating_count': '18', 'status': 'Active', 'date_added': 'Feb 12, 2010'}, {'name': 'Burkhart', 'brewery': 'Schilling Beer Co.', 'location': 'New Hampshire', 'location2': 'United States', 'style': 'Bock', 'ba_score': '90', 'over_all_rank': 'Ranked #9,568', 'style_rank': 'Ranked #11', 'alcohol_percent': '7%', 'avg_rating': '4.1', 'percent_dev': '6.59%', 'review_count': '4', 'rating_count': '17', 'status': 'Active', 'date_added': 'Oct 26, 2020'}, {'name': 'Winter Böckle', 'brewery': 'Fürst Wallerstein Brauhaus', 'location': 'Germany', 'location2': 'Na', 'style': 'Bock', 'ba_score': '83', 'over_all_rank': 'Ranked #24,638', 'style_rank': 'Ranked #79', 'alcohol_percent': '7.5%', 'avg_rating': '3.52', 'percent_dev': '12.22%', 'review_count': '8', 'rating_count': '17', 'status': 'Active', 'date_added': 'Jun 06, 2005'}, {'name': 'Belle Gueule Brassin Des Fêtes', 'brewery': 'Brasseurs R.J.', 'location': 'Quebec', 'location2': 'Canada', 'style': 'Bock', 'ba_score': '76', 'over_all_rank': 'Na', 'style_rank': 'Na', 'alcohol_percent': '6%', 'avg_rating': '3.01', 'percent_dev': '18.27%', 'review_count': '6', 'rating_count': '17', 'status': 'Active', 'date_added': 'Nov 25, 2010'}, {'name': 'Niner Bock', 'brewery': 'Roosters Brewing Company and Restaurant', 'location': 'Utah', 'location2': 'United States', 'style': 'Bock', 'ba_score': '86', 'over_all_rank': 'Ranked #18,315', 'style_rank': 'Ranked #39', 'alcohol_percent': '9%', 'avg_rating': '3.82', 'percent_dev': '5.24%', 'review_count': '6', 'rating_count': '17', 'status': 'Active', 'date_added': 'Apr 21, 2013'}, {'name': 'Wildebok', 'brewery': 'Scheldebrouwerij', 'location': 'Belgium', 'location2': 'Na', 'style': 'Bock', 'ba_score': '84', 'over_all_rank': 'Na', 'style_rank': 'Na', 'alcohol_percent': '6.5%', 'avg_rating': '3.62', 'percent_dev': '13.54%', 'review_count': '10', 'rating_count': '17', 'status': 'Active', 'date_added': 'Nov 10, 2005'}, {'name': 'Will-Brau Ur-Bock', 'brewery': 'Hochstiftliches Brauhaus', 'location': 'Germany', 'location2': 'Na', 'style': 'Bock', 'ba_score': '86', 'over_all_rank': 'Na', 'style_rank': 'Na', 'alcohol_percent': '6.2%', 'avg_rating': '3.76', 'percent_dev': '13.3%', 'review_count': '15', 'rating_count': '16', 'status': 'Active', 'date_added': 'Dec 30, 2002'}, {'name': 'La Valkyrie', 'brewery': 'Microbrasserie Archibald', 'location': 'Quebec', 'location2': 'Canada', 'style': 'Bock', 'ba_score': '83', 'over_all_rank': 'Na', 'style_rank': 'Na', 'alcohol_percent': '7%', 'avg_rating': '3.52', 'percent_dev': '11.65%', 'review_count': '5', 'rating_count': '16', 'status': 'Active', 'date_added': 'Jan 31, 2014'}, {'name': 'Penalty Bock', 'brewery': 'Red River Brewing Co.', 'location': 'Louisiana', 'location2': 'United States', 'style': 'Bock', 'ba_score': '85', 'over_all_rank': 'Na', 'style_rank': 'Na', 'alcohol_percent': '5.5%', 'avg_rating': '3.71', 'percent_dev': '4.58%', 'review_count': '4', 'rating_count': '16', 'status': 'Active', 'date_added': 'Nov 27, 2016'}, {'name': 'Baden Baden Premium Bock', 'brewery': 'Cervejaria Baden Baden', 'location': 'Brazil', 'location2': 'Na', 'style': 'Bock', 'ba_score': '83', 'over_all_rank': 'Na', 'style_rank': 'Na', 'alcohol_percent': '6.5%', 'avg_rating': '3.54', 'percent_dev': '15.25%', 'review_count': '7', 'rating_count': '16', 'status': 'Active', 'date_added': 'Mar 01, 2005'}, {'name': 'Bavaria Hooghe Bock', 'brewery': 'Swinkels Family Brewers', 'location': 'Netherlands', 'location2': 'Na', 'style': 'Bock', 'ba_score': '77', 'over_all_rank': 'Na', 'style_rank': 'Na', 'alcohol_percent': '6.5%', 'avg_rating': '3.03', 'percent_dev': '13.53%', 'review_count': '9', 'rating_count': '16', 'status': 'Active', 'date_added': 'Oct 13, 2006'}, {'name': 'Norbertus Kardinal', 'brewery': 'Allgäuer Brauhaus AG', 'location': 'Germany', 'location2': 'Na', 'style': 'Bock', 'ba_score': '78', 'over_all_rank': 'Na', 'style_rank': 'Na', 'alcohol_percent': '7%', 'avg_rating': '3.15', 'percent_dev': '9.52%', 'review_count': '4', 'rating_count': '15', 'status': 'Active', 'date_added': 'Jun 06, 2010'}, {'name': 'Kneitinger Bock', 'brewery': 'Brauerei Johann Kneitinger', 'location': 'Germany', 'location2': 'Na', 'style': 'Bock', 'ba_score': '90', 'over_all_rank': 'Ranked #8,758', 'style_rank': 'Ranked #8', 'alcohol_percent': '6.8%', 'avg_rating': '4.14', 'percent_dev': '7.49%', 'review_count': '7', 'rating_count': '15', 'status': 'Active', 'date_added': 'Feb 05, 2007'}, {'name': 'Bodacious Bock', 'brewery': 'Wildwood Brewery', 'location': 'Montana', 'location2': 'United States', 'style': 'Bock', 'ba_score': '86', 'over_all_rank': 'Ranked #19,599', 'style_rank': 'Ranked #44', 'alcohol_percent': '7.5%', 'avg_rating': '3.77', 'percent_dev': '17.51%', 'review_count': '6', 'rating_count': '15', 'status': 'Active', 'date_added': 'Apr 03, 2013'}, {'name': 'Shaggy Bock', 'brewery': 'Grand Canyon Brewing Company', 'location': 'Arizona', 'location2': 'United States', 'style': 'Bock', 'ba_score': '80', 'over_all_rank': 'Na', 'style_rank': 'Na', 'alcohol_percent': '6.2%', 'avg_rating': '3.32', 'percent_dev': '21.08%', 'review_count': '4', 'rating_count': '15', 'status': 'Active', 'date_added': 'Jun 21, 2010'}, {'name': 'XReserve Bocktoberfest', 'brewery': 'Saucony Creek Brewing Company + Gastropub', 'location': 'Pennsylvania', 'location2': 'United States', 'style': 'Bock', 'ba_score': '83', 'over_all_rank': 'Na', 'style_rank': 'Na', 'alcohol_percent': '6.4%', 'avg_rating': '3.53', 'percent_dev': '15.3%', 'review_count': '4', 'rating_count': '15', 'status': 'Active', 'date_added': 'Sep 27, 2015'}, {'name': 'Oettinger Bock', 'brewery': 'Oettinger Brauerei GmbH', 'location': 'Germany', 'location2': 'Na', 'style': 'Bock', 'ba_score': '82', 'over_all_rank': 'Na', 'style_rank': 'Na', 'alcohol_percent': '6.7%', 'avg_rating': '3.42', 'percent_dev': '9.36%', 'review_count': '5', 'rating_count': '15', 'status': 'Active', 'date_added': 'Oct 05, 2008'}, {'name': 'OutBock!', 'brewery': 'Lovelady Brewing', 'location': 'Nevada', 'location2': 'United States', 'style': 'Bock', 'ba_score': '86', 'over_all_rank': 'Na', 'style_rank': 'Na', 'alcohol_percent': '7%', 'avg_rating': '3.77', 'percent_dev': '12.47%', 'review_count': '4', 'rating_count': '15', 'status': 'Active', 'date_added': 'Apr 28, 2016'}, {'name': 'Castello Rossa', 'brewery': 'Castello Di Udine S.p.A.', 'location': 'Italy', 'location2': 'Na', 'style': 'Bock', 'ba_score': '80', 'over_all_rank': 'Na', 'style_rank': 'Na', 'alcohol_percent': '6.5%', 'avg_rating': '3.3', 'percent_dev': '17.88%', 'review_count': '3', 'rating_count': '15', 'status': 'Active', 'date_added': 'Apr 21, 2011'}, {'name': 'Capricator Bock', 'brewery': 'Smoky Mountain Brewery & Restaurant', 'location': 'Tennessee', 'location2': 'United States', 'style': 'Bock', 'ba_score': '87', 'over_all_rank': 'Na', 'style_rank': 'Na', 'alcohol_percent': '6.3%', 'avg_rating': '3.86', 'percent_dev': '6.99%', 'review_count': '8', 'rating_count': '15', 'status': 'Active', 'date_added': 'Jun 04, 2005'}, {'name': 'Birra Dolomiti Rossa Doppio Malto', 'brewery': 'Birreria Pedavena', 'location': 'Italy', 'location2': 'Na', 'style': 'Bock', 'ba_score': '85', 'over_all_rank': 'Ranked #21,502', 'style_rank': 'Ranked #56', 'alcohol_percent': '6.7%', 'avg_rating': '3.69', 'percent_dev': '6.78%', 'review_count': '5', 'rating_count': '15', 'status': 'Active', 'date_added': 'Jul 20, 2016'}, {'name': 'Gulpener Bock', 'brewery': 'Gulpener Bierbrouwerij B.V.', 'location': 'Netherlands', 'location2': 'Na', 'style': 'Bock', 'ba_score': '83', 'over_all_rank': 'Na', 'style_rank': 'Na', 'alcohol_percent': '6.5%', 'avg_rating': '3.55', 'percent_dev': '15.49%', 'review_count': '7', 'rating_count': '14', 'status': 'Active', 'date_added': 'Dec 21, 2004'}, {'name': 'Winter Lager', 'brewery': 'Prost Brewing Co. - Denver', 'location': 'Colorado', 'location2': 'United States', 'style': 'Bock', 'ba_score': '85', 'over_all_rank': 'Ranked #21,372', 'style_rank': 'Ranked #55', 'alcohol_percent': '6%', 'avg_rating': '3.69', 'percent_dev': '7.59%', 'review_count': '6', 'rating_count': '14', 'status': 'Active', 'date_added': 'Nov 19, 2021'}, {'name': \"Monk's Christkindl\", 'brewery': 'Klosterbrauerei Weißenohe', 'location': 'Germany', 'location2': 'Na', 'style': 'Bock', 'ba_score': '87', 'over_all_rank': 'Na', 'style_rank': 'Na', 'alcohol_percent': '5.1%', 'avg_rating': '3.9', 'percent_dev': '5.64%', 'review_count': '7', 'rating_count': '14', 'status': 'Active', 'date_added': 'Dec 05, 2014'}, {'name': 'Astra Arschkalt', 'brewery': 'Holsten-Brauerei', 'location': 'Germany', 'location2': 'Na', 'style': 'Bock', 'ba_score': '78', 'over_all_rank': 'Na', 'style_rank': 'Na', 'alcohol_percent': '5.9%', 'avg_rating': '3.1', 'percent_dev': '25.81%', 'review_count': '5', 'rating_count': '14', 'status': 'Active', 'date_added': 'Feb 27, 2013'}, {'name': 'Hill Country Bock Beer', 'brewery': 'Real Ale Brewing Company', 'location': 'Texas', 'location2': 'United States', 'style': 'Bock', 'ba_score': '86', 'over_all_rank': 'Ranked #19,972', 'style_rank': 'Ranked #49', 'alcohol_percent': '4.9%', 'avg_rating': '3.75', 'percent_dev': '7.47%', 'review_count': '5', 'rating_count': '14', 'status': 'Active', 'date_added': 'Jan 14, 2023'}, {'name': 'Salty Caramel Truffle', 'brewery': 'Muskoka Brewery', 'location': 'Ontario', 'location2': 'Canada', 'style': 'Bock', 'ba_score': '78', 'over_all_rank': 'Na', 'style_rank': 'Na', 'alcohol_percent': '5%', 'avg_rating': '3.08', 'percent_dev': '14.94%', 'review_count': '7', 'rating_count': '14', 'status': 'Active', 'date_added': 'Jan 13, 2018'}, {'name': 'Jabalí Bock', 'brewery': 'Cerveceria Primus', 'location': 'Mexico', 'location2': 'Na', 'style': 'Bock', 'ba_score': '85', 'over_all_rank': 'Ranked #20,667', 'style_rank': 'Ranked #52', 'alcohol_percent': '6%', 'avg_rating': '3.72', 'percent_dev': '11.83%', 'review_count': '3', 'rating_count': '14', 'status': 'Active', 'date_added': 'Nov 06, 2015'}, {'name': 'Bock', 'brewery': 'Saddlebock Brewery', 'location': 'Arkansas', 'location2': 'United States', 'style': 'Bock', 'ba_score': '87', 'over_all_rank': 'Na', 'style_rank': 'Na', 'alcohol_percent': '6.3%', 'avg_rating': '3.85', 'percent_dev': '20.78%', 'review_count': '4', 'rating_count': '14', 'status': 'Active', 'date_added': 'Feb 08, 2014'}, {'name': '30 Point Bock', 'brewery': 'Vintage Brewing Company', 'location': 'Wisconsin', 'location2': 'United States', 'style': 'Bock', 'ba_score': '86', 'over_all_rank': 'Na', 'style_rank': 'Na', 'alcohol_percent': '6.7%', 'avg_rating': '3.73', 'percent_dev': '8.31%', 'review_count': '1', 'rating_count': '13', 'status': 'Active', 'date_added': 'Nov 13, 2014'}, {'name': 'Texas style Bock', 'brewery': 'Community Beer Company', 'location': 'Texas', 'location2': 'United States', 'style': 'Bock', 'ba_score': '88', 'over_all_rank': 'Ranked #15,396', 'style_rank': 'Ranked #30', 'alcohol_percent': '6%', 'avg_rating': '3.92', 'percent_dev': '8.93%', 'review_count': '4', 'rating_count': '13', 'status': 'Active', 'date_added': 'Feb 12, 2022'}, {'name': 'Ramstein Summer Bock', 'brewery': 'High Point Brewing Company', 'location': 'New Jersey', 'location2': 'United States', 'style': 'Bock', 'ba_score': '87', 'over_all_rank': 'Ranked #16,759', 'style_rank': 'Ranked #33', 'alcohol_percent': '7%', 'avg_rating': '3.87', 'percent_dev': '10.08%', 'review_count': '3', 'rating_count': '13', 'status': 'Active', 'date_added': 'Jul 24, 2014'}, {'name': 'Bavaria Bok Bier', 'brewery': 'Swinkels Family Brewers', 'location': 'Netherlands', 'location2': 'Na', 'style': 'Bock', 'ba_score': '81', 'over_all_rank': 'Na', 'style_rank': 'Na', 'alcohol_percent': '6.5%', 'avg_rating': '3.37', 'percent_dev': '8.61%', 'review_count': '2', 'rating_count': '13', 'status': 'Active', 'date_added': 'Nov 08, 2014'}, {'name': 'Apostol Bock', 'brewery': 'Inducerv SA', 'location': 'Colombia', 'location2': 'Na', 'style': 'Bock', 'ba_score': '82', 'over_all_rank': 'Na', 'style_rank': 'Na', 'alcohol_percent': '6%', 'avg_rating': '3.44', 'percent_dev': '12.21%', 'review_count': '3', 'rating_count': '13', 'status': 'Active', 'date_added': 'Mar 12, 2012'}, {'name': 'De Rode Toren Bock', 'brewery': 'Brouwerij De Leckere', 'location': 'Netherlands', 'location2': 'Na', 'style': 'Bock', 'ba_score': '79', 'over_all_rank': 'Na', 'style_rank': 'Na', 'alcohol_percent': '6.5%', 'avg_rating': '3.15', 'percent_dev': '16.19%', 'review_count': '5', 'rating_count': '12', 'status': 'Active', 'date_added': 'Sep 28, 2008'}, {'name': 'L’Entêté', 'brewery': 'Brasseurs Du Monde', 'location': 'Quebec', 'location2': 'Canada', 'style': 'Bock', 'ba_score': '83', 'over_all_rank': 'Na', 'style_rank': 'Na', 'alcohol_percent': '6%', 'avg_rating': '3.5', 'percent_dev': '10.86%', 'review_count': '4', 'rating_count': '12', 'status': 'Active', 'date_added': 'Oct 19, 2012'}, {'name': 'Adler Bock', 'brewery': 'UAB Švyturys - Utenos alus', 'location': 'Lithuania', 'location2': 'Na', 'style': 'Bock', 'ba_score': '76', 'over_all_rank': 'Ranked #27,702', 'style_rank': 'Ranked #94', 'alcohol_percent': '7%', 'avg_rating': '2.87', 'percent_dev': '16.72%', 'review_count': '7', 'rating_count': '12', 'status': 'Active', 'date_added': 'Jul 12, 2011'}, {'name': 'Mystic Bock', 'brewery': 'Arches Brewing', 'location': 'Georgia', 'location2': 'United States', 'style': 'Bock', 'ba_score': '91', 'over_all_rank': 'Ranked #6,894', 'style_rank': 'Ranked #4', 'alcohol_percent': '7.3%', 'avg_rating': '4.24', 'percent_dev': '5.9%', 'review_count': '5', 'rating_count': '12', 'status': 'Active', 'date_added': 'Dec 28, 2016'}, {'name': 'Doppio', 'brewery': 'Newburgh Brewing Company', 'location': 'New York', 'location2': 'United States', 'style': 'Bock', 'ba_score': '84', 'over_all_rank': 'Na', 'style_rank': 'Na', 'alcohol_percent': '6.8%', 'avg_rating': '3.54', 'percent_dev': '14.41%', 'review_count': '0', 'rating_count': '12', 'status': 'Active', 'date_added': 'Apr 29, 2014'}, {'name': 'Weiherer Bock', 'brewery': 'Brauerei Gasthof Kundmüller', 'location': 'Germany', 'location2': 'Na', 'style': 'Bock', 'ba_score': '87', 'over_all_rank': 'Na', 'style_rank': 'Na', 'alcohol_percent': '6.6%', 'avg_rating': '3.84', 'percent_dev': '10.42%', 'review_count': '6', 'rating_count': '12', 'status': 'Active', 'date_added': 'Mar 23, 2007'}, {'name': 'Alfa Herfstbok', 'brewery': 'Alfa Bierbrouwerij B.V.', 'location': 'Netherlands', 'location2': 'Na', 'style': 'Bock', 'ba_score': '82', 'over_all_rank': 'Na', 'style_rank': 'Na', 'alcohol_percent': '6.5%', 'avg_rating': '3.42', 'percent_dev': '18.13%', 'review_count': '4', 'rating_count': '12', 'status': 'Active', 'date_added': 'Dec 11, 2003'}, {'name': 'Lifesblood', 'brewery': 'Old Irving Brewing Co.', 'location': 'Illinois', 'location2': 'United States', 'style': 'Bock', 'ba_score': '90', 'over_all_rank': 'Ranked #10,483', 'style_rank': 'Ranked #13', 'alcohol_percent': '6%', 'avg_rating': '4.1', 'percent_dev': '4.39%', 'review_count': '7', 'rating_count': '12', 'status': 'Active', 'date_added': 'Feb 09, 2021'}, {'name': 'BockBREAKER', 'brewery': 'Broken Bow Brewery', 'location': 'New York', 'location2': 'United States', 'style': 'Bock', 'ba_score': '86', 'over_all_rank': 'Ranked #18,288', 'style_rank': 'Ranked #40', 'alcohol_percent': '6.5%', 'avg_rating': '3.81', 'percent_dev': '11.55%', 'review_count': '5', 'rating_count': '12', 'status': 'Active', 'date_added': 'Feb 01, 2015'}, {'name': 'Colorado Native Winterfest', 'brewery': 'AC Golden Brewing Company', 'location': 'Colorado', 'location2': 'United States', 'style': 'Bock', 'ba_score': '86', 'over_all_rank': 'Ranked #19,756', 'style_rank': 'Ranked #51', 'alcohol_percent': '7%', 'avg_rating': '3.75', 'percent_dev': '9.33%', 'review_count': '6', 'rating_count': '12', 'status': 'Active', 'date_added': 'Dec 12, 2015'}, {'name': 'Blackbock', 'brewery': 'vandeStreek Bier', 'location': 'Netherlands', 'location2': 'Na', 'style': 'Bock', 'ba_score': '84', 'over_all_rank': 'Ranked #22,392', 'style_rank': 'Ranked #62', 'alcohol_percent': '6%', 'avg_rating': '3.62', 'percent_dev': '6.08%', 'review_count': '2', 'rating_count': '12', 'status': 'Active', 'date_added': 'Oct 18, 2015'}, {'name': 'Kiper Bock', 'brewery': 'Browar Kiper', 'location': 'Poland', 'location2': 'Na', 'style': 'Bock', 'ba_score': '80', 'over_all_rank': 'Na', 'style_rank': 'Na', 'alcohol_percent': '7%', 'avg_rating': '3.2', 'percent_dev': '16.56%', 'review_count': '10', 'rating_count': '11', 'status': 'Active', 'date_added': 'Mar 01, 2006'}, {'name': '10-Point Bock', 'brewery': \"Bubba Brew's Brewing Company\", 'location': 'Arkansas', 'location2': 'United States', 'style': 'Bock', 'ba_score': '88', 'over_all_rank': 'Ranked #14,048', 'style_rank': 'Ranked #23', 'alcohol_percent': '6.2%', 'avg_rating': '3.97', 'percent_dev': '14.11%', 'review_count': '6', 'rating_count': '11', 'status': 'Active', 'date_added': 'Jun 23, 2015'}, {'name': 'Pacific Schwarzbock', 'brewery': 'Pacific Western Brewing Company', 'location': 'British Columbia', 'location2': 'Canada', 'style': 'Bock', 'ba_score': '85', 'over_all_rank': 'Na', 'style_rank': 'Na', 'alcohol_percent': '8%', 'avg_rating': '3.67', 'percent_dev': '8.72%', 'review_count': '6', 'rating_count': '11', 'status': 'Active', 'date_added': 'Oct 19, 2011'}, {'name': 'Bomb City Bock', 'brewery': 'Big Texan Brewery', 'location': 'Texas', 'location2': 'United States', 'style': 'Bock', 'ba_score': '83', 'over_all_rank': 'Na', 'style_rank': 'Na', 'alcohol_percent': '5.5%', 'avg_rating': '3.51', 'percent_dev': '13.68%', 'review_count': '2', 'rating_count': '11', 'status': 'Active', 'date_added': 'Jan 18, 2015'}, {'name': 'Buckleys Dark Bock', 'brewery': 'Yarra Flats Brewery', 'location': 'Australia', 'location2': 'Na', 'style': 'Bock', 'ba_score': 'Avg:', 'over_all_rank': 'Na', 'style_rank': 'Na', 'alcohol_percent': 'Score:', 'avg_rating': '33.11%', 'percent_dev': 'Reviews:', 'review_count': 'Ratings:', 'rating_count': 'Status:', 'status': 'Rated:', 'date_added': 'Wants:'}, {'name': 'Winterbock', 'brewery': 'Bitburger Brauerei', 'location': 'Germany', 'location2': 'Na', 'style': 'Bock', 'ba_score': '89', 'over_all_rank': 'Ranked #12,983', 'style_rank': 'Ranked #20', 'alcohol_percent': '7%', 'avg_rating': '4.01', 'percent_dev': '7.48%', 'review_count': '6', 'rating_count': '11', 'status': 'Active', 'date_added': 'Jan 11, 2021'}, {'name': 'Bockefeller', 'brewery': 'Atwater Brewery', 'location': 'Michigan', 'location2': 'United States', 'style': 'Bock', 'ba_score': '85', 'over_all_rank': 'Na', 'style_rank': 'Na', 'alcohol_percent': '7.5%', 'avg_rating': '3.64', 'percent_dev': '10.71%', 'review_count': '3', 'rating_count': '11', 'status': 'Active', 'date_added': 'Dec 13, 2016'}, {'name': 'Monsteiner Stein + Bock', 'brewery': 'Brauerei BierVision Monstein AG', 'location': 'Switzerland', 'location2': 'Na', 'style': 'Bock', 'ba_score': '80', 'over_all_rank': 'Na', 'style_rank': 'Na', 'alcohol_percent': '6.5%', 'avg_rating': '3.17', 'percent_dev': '8.83%', 'review_count': '3', 'rating_count': '11', 'status': 'Active', 'date_added': 'Oct 25, 2010'}, {'name': 'Buho Amber Bock', 'brewery': 'Domingo 7: La Micro Brewing Co.', 'location': 'Costa Rica', 'location2': 'Na', 'style': 'Bock', 'ba_score': '81', 'over_all_rank': 'Na', 'style_rank': 'Na', 'alcohol_percent': '5.8%', 'avg_rating': '3.31', 'percent_dev': '16.92%', 'review_count': '4', 'rating_count': '11', 'status': 'Active', 'date_added': 'Nov 14, 2014'}, {'name': 'Schwarze Gams', 'brewery': 'Privatbrauerei Loncium', 'location': 'Austria', 'location2': 'Na', 'style': 'Bock', 'ba_score': '81', 'over_all_rank': 'Na', 'style_rank': 'Na', 'alcohol_percent': '6.4%', 'avg_rating': '3.23', 'percent_dev': '7.12%', 'review_count': '6', 'rating_count': '10', 'status': 'Active', 'date_added': 'Aug 06, 2012'}, {'name': 'Origin of Species', 'brewery': 'Relic Brewing Co.', 'location': 'Connecticut', 'location2': 'United States', 'style': 'Bock', 'ba_score': '89', 'over_all_rank': 'Na', 'style_rank': 'Na', 'alcohol_percent': '6%', 'avg_rating': '4.1', 'percent_dev': '5.85%', 'review_count': '6', 'rating_count': '10', 'status': 'Active', 'date_added': 'Nov 26, 2017'}, {'name': 'Samson Bock', 'brewery': 'První Budějovický Pivovar Samson', 'location': 'Czechia', 'location2': 'Na', 'style': 'Bock', 'ba_score': '87', 'over_all_rank': 'Ranked #18,103', 'style_rank': 'Ranked #41', 'alcohol_percent': '6.1%', 'avg_rating': '3.81', 'percent_dev': '7.61%', 'review_count': '5', 'rating_count': '10', 'status': 'Active', 'date_added': 'Oct 18, 2021'}, {'name': 'The Big Bock', 'brewery': 'Hoyne Brewing Co.', 'location': 'British Columbia', 'location2': 'Canada', 'style': 'Bock', 'ba_score': '84', 'over_all_rank': 'Na', 'style_rank': 'Na', 'alcohol_percent': '6.5%', 'avg_rating': '3.56', 'percent_dev': '5.9%', 'review_count': '3', 'rating_count': '10', 'status': 'Active', 'date_added': 'Feb 14, 2012'}, {'name': 'Bleatboxer', 'brewery': 'Bauhaus Brew Labs', 'location': 'Minnesota', 'location2': 'United States', 'style': 'Bock', 'ba_score': '86', 'over_all_rank': 'Na', 'style_rank': 'Na', 'alcohol_percent': '6.6%', 'avg_rating': '3.71', 'percent_dev': '16.44%', 'review_count': '8', 'rating_count': '10', 'status': 'Active', 'date_added': 'Oct 25, 2019'}, {'name': 'Hubertus Festbock', 'brewery': 'Hubertus Bräu Johann Kühtreiber OHG', 'location': 'Austria', 'location2': 'Na', 'style': 'Bock', 'ba_score': '82', 'over_all_rank': 'Na', 'style_rank': 'Na', 'alcohol_percent': '7.5%', 'avg_rating': '3.31', 'percent_dev': '15.11%', 'review_count': '5', 'rating_count': '10', 'status': 'Active', 'date_added': 'Sep 27, 2012'}, {'name': 'Midtown Bock ', 'brewery': 'Under The Radar Brewery', 'location': 'Texas', 'location2': 'United States', 'style': 'Bock', 'ba_score': '85', 'over_all_rank': 'Na', 'style_rank': 'Na', 'alcohol_percent': '6.8%', 'avg_rating': '3.64', 'percent_dev': '10.99%', 'review_count': '1', 'rating_count': '10', 'status': 'Active', 'date_added': 'May 30, 2016'}, {'name': 'Dunkler Bock', 'brewery': 'Privatbrauerei Gessner', 'location': 'Germany', 'location2': 'Na', 'style': 'Bock', 'ba_score': '87', 'over_all_rank': 'Ranked #16,612', 'style_rank': 'Ranked #35', 'alcohol_percent': '6.8%', 'avg_rating': '3.87', 'percent_dev': '8.79%', 'review_count': '5', 'rating_count': '10', 'status': 'Active', 'date_added': 'May 29, 2008'}, {'name': 'Motor Goat', 'brewery': 'Old Ox Brewery', 'location': 'Virginia', 'location2': 'United States', 'style': 'Bock', 'ba_score': '89', 'over_all_rank': 'Ranked #11,373', 'style_rank': 'Ranked #16', 'alcohol_percent': '6%', 'avg_rating': '4.08', 'percent_dev': '6.13%', 'review_count': '6', 'rating_count': '10', 'status': 'Active', 'date_added': 'Oct 25, 2020'}, {'name': 'Bockbier', 'brewery': 'Löwenbräu Buttenheim', 'location': 'Germany', 'location2': 'Na', 'style': 'Bock', 'ba_score': '85', 'over_all_rank': 'Na', 'style_rank': 'Na', 'alcohol_percent': '6.3%', 'avg_rating': '3.67', 'percent_dev': '12.81%', 'review_count': '6', 'rating_count': '10', 'status': 'Active', 'date_added': 'Apr 14, 2010'}, {'name': 'Tap Room No. 21 Mob Boss Bock Beer', 'brewery': 'World Brews', 'location': 'California', 'location2': 'United States', 'style': 'Bock', 'ba_score': '85', 'over_all_rank': 'Na', 'style_rank': 'Na', 'alcohol_percent': '6.25%', 'avg_rating': '3.61', 'percent_dev': '11.91%', 'review_count': '4', 'rating_count': '10', 'status': 'Active', 'date_added': 'May 05, 2013'}, {'name': 'River Bend Bock', 'brewery': 'Bock', 'location': 'Michigan', 'location2': 'United States', 'style': 'Na', 'ba_score': 'Avg:', 'over_all_rank': 'Na', 'style_rank': 'Na', 'alcohol_percent': '6.4%', 'avg_rating': '17.38%', 'percent_dev': 'Reviews:', 'review_count': 'Ratings:', 'rating_count': 'Status:', 'status': 'Rated:', 'date_added': 'Wants:'}, {'name': 'Sünner Hircus', 'brewery': 'Bock', 'location': 'Germany', 'location2': 'Na', 'style': 'Na', 'ba_score': 'Avg:', 'over_all_rank': 'Na', 'style_rank': 'Na', 'alcohol_percent': '7.2%', 'avg_rating': '10.02%', 'percent_dev': 'Reviews:', 'review_count': 'Ratings:', 'rating_count': 'Status:', 'status': 'Rated:', 'date_added': 'Wants:'}, {'name': 'Kaiser Bock', 'brewery': 'Bock', 'location': 'Brazil', 'location2': 'Na', 'style': 'Na', 'ba_score': 'Avg:', 'over_all_rank': 'Na', 'style_rank': 'Na', 'alcohol_percent': '6%', 'avg_rating': '9.21%', 'percent_dev': 'Reviews:', 'review_count': 'Ratings:', 'rating_count': 'Status:', 'status': 'Rated:', 'date_added': 'Wants:'}, {'name': 'Steenbrugge Abdij Bock', 'brewery': 'Bock', 'location': 'Belgium', 'location2': 'Na', 'style': 'Na', 'ba_score': 'Avg:', 'over_all_rank': 'Na', 'style_rank': 'Na', 'alcohol_percent': '6.5%', 'avg_rating': '10.53%', 'percent_dev': 'Reviews:', 'review_count': 'Ratings:', 'rating_count': 'Status:', 'status': 'Rated:', 'date_added': 'Wants:'}, {'name': 'Bock', 'brewery': 'Bock', 'location': 'Washington', 'location2': 'United States', 'style': 'Na', 'ba_score': 'Avg:', 'over_all_rank': 'Na', 'style_rank': 'Na', 'alcohol_percent': '7%', 'avg_rating': '6.72%', 'percent_dev': 'Reviews:', 'review_count': 'Ratings:', 'rating_count': 'Status:', 'status': 'Rated:', 'date_added': 'Wants:'}, {'name': 'Chewbocka', 'brewery': 'Bock', 'location': 'Vermont', 'location2': 'United States', 'style': 'Na', 'ba_score': 'Avg:', 'over_all_rank': 'Na', 'style_rank': 'Na', 'alcohol_percent': '6.5%', 'avg_rating': '8.45%', 'percent_dev': 'Reviews:', 'review_count': 'Ratings:', 'rating_count': 'Status:', 'status': 'Rated:', 'date_added': 'Wants:'}, {'name': 'Ijsselbock', 'brewery': 'Bock', 'location': 'Netherlands', 'location2': 'Na', 'style': 'Na', 'ba_score': 'Avg:', 'over_all_rank': 'Na', 'style_rank': 'Na', 'alcohol_percent': '6.5%', 'avg_rating': '8.78%', 'percent_dev': 'Reviews:', 'review_count': 'Ratings:', 'rating_count': 'Status:', 'status': 'Rated:', 'date_added': 'Wants:'}, {'name': 'Half-Timbered', 'brewery': 'Bock', 'location': 'New Jersey', 'location2': 'United States', 'style': 'Na', 'ba_score': 'Avg:', 'over_all_rank': 'Na', 'style_rank': 'Na', 'alcohol_percent': '6.4%', 'avg_rating': '2.69%', 'percent_dev': 'Reviews:', 'review_count': 'Ratings:', 'rating_count': 'Status:', 'status': 'Rated:', 'date_added': 'Wants:'}, {'name': 'Sidewinder Holiday Bock', 'brewery': 'Bock', 'location': 'Virginia', 'location2': 'United States', 'style': 'Na', 'ba_score': 'Avg:', 'over_all_rank': 'Na', 'style_rank': 'Na', 'alcohol_percent': '7.5%', 'avg_rating': '9.92%', 'percent_dev': 'Reviews:', 'review_count': 'Ratings:', 'rating_count': 'Status:', 'status': 'Rated:', 'date_added': 'Wants:'}, {'name': 'Gösser Bock', 'brewery': 'Bock', 'location': 'Austria', 'location2': 'Na', 'style': 'Na', 'ba_score': 'Avg:', 'over_all_rank': 'Na', 'style_rank': 'Na', 'alcohol_percent': '7.1%', 'avg_rating': '10.32%', 'percent_dev': 'Reviews:', 'review_count': 'Ratings:', 'rating_count': 'Status:', 'status': 'Rated:', 'date_added': 'Wants:'}, {'name': 'Lübzer Bock', 'brewery': 'Bock', 'location': 'Germany', 'location2': 'Na', 'style': 'Na', 'ba_score': 'Avg:', 'over_all_rank': 'Na', 'style_rank': 'Na', 'alcohol_percent': '7%', 'avg_rating': '12.86%', 'percent_dev': 'Reviews:', 'review_count': 'Ratings:', 'rating_count': 'Status:', 'status': 'Rated:', 'date_added': 'Wants:'}, {'name': 'Spring Bock', 'brewery': 'Bock', 'location': 'Illinois', 'location2': 'United States', 'style': 'Na', 'ba_score': 'Avg:', 'over_all_rank': 'Na', 'style_rank': 'Na', 'alcohol_percent': '6.8%', 'avg_rating': '6.63%', 'percent_dev': 'Reviews:', 'review_count': 'Ratings:', 'rating_count': 'Status:', 'status': 'Rated:', 'date_added': 'Wants:'}, {'name': 'Lagers of the World: Iceland', 'brewery': 'Bock', 'location': 'Massachusetts', 'location2': 'United States', 'style': 'Na', 'ba_score': 'Avg:', 'over_all_rank': 'Na', 'style_rank': 'Na', 'alcohol_percent': '7%', 'avg_rating': '3.1%', 'percent_dev': 'Reviews:', 'review_count': 'Ratings:', 'rating_count': 'Status:', 'status': 'Rated:', 'date_added': 'Wants:'}, {'name': 'Barrel Aged Bucking Bock', 'brewery': 'Bock', 'location': 'Texas', 'location2': 'United States', 'style': 'Na', 'ba_score': '3.56', 'over_all_rank': 'Na', 'style_rank': 'Na', 'alcohol_percent': 'Score:', 'avg_rating': 'Reviews:', 'percent_dev': '0', 'review_count': '9', 'rating_count': 'Active', 'status': '\\nNov 24, 2017', 'date_added': '0'}, {'name': 'Sudworth Bock', 'brewery': 'Bock', 'location': 'Michigan', 'location2': 'United States', 'style': 'Na', 'ba_score': 'Avg:', 'over_all_rank': 'Na', 'style_rank': 'Na', 'alcohol_percent': '6.3%', 'avg_rating': '10.39%', 'percent_dev': 'Reviews:', 'review_count': 'Ratings:', 'rating_count': 'Status:', 'status': 'Rated:', 'date_added': 'Wants:'}, {'name': 'Cremo Bock', 'brewery': 'Bock', 'location': 'Connecticut', 'location2': 'United States', 'style': 'Na', 'ba_score': 'Avg:', 'over_all_rank': 'Na', 'style_rank': 'Na', 'alcohol_percent': '7%', 'avg_rating': '2.22%', 'percent_dev': 'Reviews:', 'review_count': 'Ratings:', 'rating_count': 'Status:', 'status': 'Rated:', 'date_added': 'Wants:'}, {'name': 'Zwettler Kuenringer Festbock', 'brewery': 'Bock', 'location': 'Austria', 'location2': 'Na', 'style': 'Na', 'ba_score': 'Avg:', 'over_all_rank': 'Na', 'style_rank': 'Na', 'alcohol_percent': '6.8%', 'avg_rating': '11.39%', 'percent_dev': 'Reviews:', 'review_count': 'Ratings:', 'rating_count': 'Status:', 'status': 'Rated:', 'date_added': 'Wants:'}, {'name': 'Berliner Kindl Bockbiere', 'brewery': 'Bock', 'location': 'Germany', 'location2': 'Na', 'style': 'Na', 'ba_score': 'Avg:', 'over_all_rank': 'Na', 'style_rank': 'Na', 'alcohol_percent': '6.5%', 'avg_rating': '19.94%', 'percent_dev': 'Reviews:', 'review_count': 'Ratings:', 'rating_count': 'Status:', 'status': 'Rated:', 'date_added': 'Wants:'}, {'name': 'Brewbocka', 'brewery': 'Bock', 'location': 'Virginia', 'location2': 'United States', 'style': 'Na', 'ba_score': 'Avg:', 'over_all_rank': 'Na', 'style_rank': 'Na', 'alcohol_percent': '6%', 'avg_rating': '22.94%', 'percent_dev': 'Reviews:', 'review_count': 'Ratings:', 'rating_count': 'Status:', 'status': 'Rated:', 'date_added': 'Wants:'}, {'name': \"Schell's Anniversary Series #8, 1905 V.T. (Vacuum Tonic)\", 'brewery': 'Bock', 'location': 'Minnesota', 'location2': 'United States', 'style': 'Na', 'ba_score': 'Avg:', 'over_all_rank': 'Na', 'style_rank': 'Na', 'alcohol_percent': '6.4%', 'avg_rating': '2.92%', 'percent_dev': 'Reviews:', 'review_count': 'Ratings:', 'rating_count': 'Status:', 'status': 'Rated:', 'date_added': 'Wants:'}, {'name': 'Krampus Nacht', 'brewery': 'Bock', 'location': 'Tennessee', 'location2': 'United States', 'style': 'Na', 'ba_score': 'Avg:', 'over_all_rank': 'Na', 'style_rank': 'Na', 'alcohol_percent': '5%', 'avg_rating': '6.1%', 'percent_dev': 'Reviews:', 'review_count': 'Ratings:', 'rating_count': 'Status:', 'status': 'Rated:', 'date_added': 'Wants:'}, {'name': 'Pumpkin Bock', 'brewery': 'Bock', 'location': 'North Carolina', 'location2': 'United States', 'style': 'Na', 'ba_score': 'Avg:', 'over_all_rank': 'Na', 'style_rank': 'Na', 'alcohol_percent': '7.2%', 'avg_rating': '11.71%', 'percent_dev': 'Reviews:', 'review_count': 'Ratings:', 'rating_count': 'Status:', 'status': 'Rated:', 'date_added': 'Wants:'}, {'name': 'Bare Bock', 'brewery': 'Bock', 'location': 'New York', 'location2': 'United States', 'style': 'Na', 'ba_score': 'Avg:', 'over_all_rank': 'Na', 'style_rank': 'Na', 'alcohol_percent': '6.5%', 'avg_rating': '15.76%', 'percent_dev': 'Reviews:', 'review_count': 'Ratings:', 'rating_count': 'Status:', 'status': 'Rated:', 'date_added': 'Wants:'}, {'name': 'Hunter Bock', 'brewery': 'Bock', 'location': 'Australia', 'location2': 'Na', 'style': 'Na', 'ba_score': 'Avg:', 'over_all_rank': 'Na', 'style_rank': 'Na', 'alcohol_percent': '5.5%', 'avg_rating': '9.23%', 'percent_dev': 'Reviews:', 'review_count': 'Ratings:', 'rating_count': 'Status:', 'status': 'Rated:', 'date_added': 'Wants:'}, {'name': 'HusarenTrunk RegimentsBock', 'brewery': 'Bock', 'location': 'Germany', 'location2': 'Na', 'style': 'Na', 'ba_score': 'Avg:', 'over_all_rank': 'Na', 'style_rank': 'Na', 'alcohol_percent': '6.5%', 'avg_rating': '22.32%', 'percent_dev': 'Reviews:', 'review_count': 'Ratings:', 'rating_count': 'Status:', 'status': 'Rated:', 'date_added': 'Wants:'}, {'name': 'Highlander Bighorn Peak American Bock', 'brewery': 'Bock', 'location': 'Montana', 'location2': 'United States', 'style': 'Na', 'ba_score': 'Avg:', 'over_all_rank': 'Na', 'style_rank': 'Na', 'alcohol_percent': '5.7%', 'avg_rating': '13.55%', 'percent_dev': 'Reviews:', 'review_count': 'Ratings:', 'rating_count': 'Status:', 'status': 'Rated:', 'date_added': 'Wants:'}, {'name': 'Decennium Bocköl', 'brewery': 'Bock', 'location': 'Sweden', 'location2': 'Na', 'style': 'Na', 'ba_score': 'Avg:', 'over_all_rank': 'Na', 'style_rank': 'Na', 'alcohol_percent': '6.7%', 'avg_rating': '10.71%', 'percent_dev': 'Reviews:', 'review_count': 'Ratings:', 'rating_count': 'Status:', 'status': 'Rated:', 'date_added': 'Wants:'}, {'name': 'Lisberger Bock', 'brewery': 'Bock', 'location': 'Germany', 'location2': 'Na', 'style': 'Na', 'ba_score': 'Avg:', 'over_all_rank': 'Na', 'style_rank': 'Na', 'alcohol_percent': '7%', 'avg_rating': '12.43%', 'percent_dev': 'Reviews:', 'review_count': 'Ratings:', 'rating_count': 'Status:', 'status': 'Rated:', 'date_added': 'Wants:'}, {'name': 'Persha Avtorske', 'brewery': 'Bock', 'location': 'Ukraine', 'location2': 'Na', 'style': 'Na', 'ba_score': 'Avg:', 'over_all_rank': 'Na', 'style_rank': 'Na', 'alcohol_percent': '6.8%', 'avg_rating': '7.8%', 'percent_dev': 'Reviews:', 'review_count': 'Ratings:', 'rating_count': 'Status:', 'status': 'Rated:', 'date_added': 'Wants:'}, {'name': \"Big Chief's Bock\", 'brewery': 'Bock', 'location': 'Texas', 'location2': 'United States', 'style': 'Na', 'ba_score': 'Avg:', 'over_all_rank': 'Na', 'style_rank': 'Na', 'alcohol_percent': '5.9%', 'avg_rating': '10.46%', 'percent_dev': 'Reviews:', 'review_count': 'Ratings:', 'rating_count': 'Status:', 'status': 'Rated:', 'date_added': 'Wants:'}, {'name': 'Brennan', 'brewery': 'Bock', 'location': 'New Hampshire', 'location2': 'United States', 'style': 'Na', 'ba_score': 'Avg:', 'over_all_rank': 'Na', 'style_rank': 'Na', 'alcohol_percent': '6.9%', 'avg_rating': '2.8%', 'percent_dev': 'Reviews:', 'review_count': 'Ratings:', 'rating_count': 'Status:', 'status': 'Rated:', 'date_added': 'Wants:'}, {'name': 'William Goat', 'brewery': 'Bock', 'location': 'Ohio', 'location2': 'United States', 'style': 'Na', 'ba_score': 'Avg:', 'over_all_rank': 'Na', 'style_rank': 'Na', 'alcohol_percent': '6.8%', 'avg_rating': '3.57%', 'percent_dev': 'Reviews:', 'review_count': 'Ratings:', 'rating_count': 'Status:', 'status': 'Rated:', 'date_added': 'Wants:'}, {'name': 'Black Rye Bock', 'brewery': 'Bock', 'location': 'Alaska', 'location2': 'United States', 'style': 'Na', 'ba_score': 'Avg:', 'over_all_rank': 'Na', 'style_rank': 'Na', 'alcohol_percent': '7.07%', 'avg_rating': '6.95%', 'percent_dev': 'Reviews:', 'review_count': 'Ratings:', 'rating_count': 'Status:', 'status': 'Rated:', 'date_added': 'Wants:'}, {'name': 'Lazy Beach Texas Bock', 'brewery': 'Bock', 'location': 'Texas', 'location2': 'United States', 'style': 'Na', 'ba_score': 'Avg:', 'over_all_rank': 'Na', 'style_rank': 'Na', 'alcohol_percent': '4.5%', 'avg_rating': '32.49%', 'percent_dev': 'Reviews:', 'review_count': 'Ratings:', 'rating_count': 'Status:', 'status': 'Rated:', 'date_added': 'Wants:'}, {'name': 'Schornstein Bock', 'brewery': 'Bock', 'location': 'Brazil', 'location2': 'Na', 'style': 'Na', 'ba_score': 'Avg:', 'over_all_rank': 'Na', 'style_rank': 'Na', 'alcohol_percent': '7%', 'avg_rating': '19.08%', 'percent_dev': 'Reviews:', 'review_count': 'Ratings:', 'rating_count': 'Status:', 'status': 'Rated:', 'date_added': 'Wants:'}, {'name': 'Fainting Bock', 'brewery': 'Bock', 'location': 'Alberta', 'location2': 'Canada', 'style': 'Na', 'ba_score': 'Avg:', 'over_all_rank': 'Na', 'style_rank': 'Na', 'alcohol_percent': '5.6%', 'avg_rating': '6.22%', 'percent_dev': 'Reviews:', 'review_count': 'Ratings:', 'rating_count': 'Status:', 'status': 'Rated:', 'date_added': 'Wants:'}, {'name': \"'Na Biretta Rossa Bock\", 'brewery': 'Bock', 'location': 'Italy', 'location2': 'Na', 'style': 'Na', 'ba_score': 'Avg:', 'over_all_rank': 'Na', 'style_rank': 'Na', 'alcohol_percent': '6.3%', 'avg_rating': '13.39%', 'percent_dev': 'Reviews:', 'review_count': 'Ratings:', 'rating_count': 'Status:', 'status': 'Rated:', 'date_added': 'Wants:'}, {'name': 'Amstel Premium Dark Bock', 'brewery': 'Bock', 'location': 'Greece', 'location2': 'Na', 'style': 'Na', 'ba_score': 'Avg:', 'over_all_rank': 'Na', 'style_rank': 'Na', 'alcohol_percent': '6%', 'avg_rating': '5.7%', 'percent_dev': 'Reviews:', 'review_count': 'Ratings:', 'rating_count': 'Status:', 'status': 'Rated:', 'date_added': 'Wants:'}, {'name': 'Bock', 'brewery': 'Bock', 'location': 'Denmark', 'location2': 'Na', 'style': 'Na', 'ba_score': 'Avg:', 'over_all_rank': 'Na', 'style_rank': 'Na', 'alcohol_percent': '7.6%', 'avg_rating': '10.86%', 'percent_dev': 'Reviews:', 'review_count': 'Ratings:', 'rating_count': 'Status:', 'status': 'Rated:', 'date_added': 'Wants:'}, {'name': 'Porpora', 'brewery': 'Bock', 'location': 'Italy', 'location2': 'Na', 'style': 'Na', 'ba_score': 'Avg:', 'over_all_rank': 'Na', 'style_rank': 'Na', 'alcohol_percent': '8%', 'avg_rating': '8.09%', 'percent_dev': 'Reviews:', 'review_count': 'Ratings:', 'rating_count': 'Status:', 'status': 'Rated:', 'date_added': 'Wants:'}, {'name': 'Mauritius Zwickauer Bock Dunkel', 'brewery': 'Bock', 'location': 'Germany', 'location2': 'Na', 'style': 'Na', 'ba_score': 'Avg:', 'over_all_rank': 'Na', 'style_rank': 'Na', 'alcohol_percent': '7.1%', 'avg_rating': '10.66%', 'percent_dev': 'Reviews:', 'review_count': 'Ratings:', 'rating_count': 'Status:', 'status': 'Rated:', 'date_added': 'Wants:'}, {'name': 'Cut A Rug Coffee Bock', 'brewery': 'Bock', 'location': 'Illinois', 'location2': 'United States', 'style': 'Na', 'ba_score': 'Avg:', 'over_all_rank': 'Na', 'style_rank': 'Na', 'alcohol_percent': '6.3%', 'avg_rating': '6.2%', 'percent_dev': 'Reviews:', 'review_count': 'Ratings:', 'rating_count': 'Status:', 'status': 'Rated:', 'date_added': 'Wants:'}, {'name': 'Winternacht', 'brewery': 'Bock', 'location': 'Hungary', 'location2': 'Na', 'style': 'Na', 'ba_score': 'Avg:', 'over_all_rank': 'Na', 'style_rank': 'Na', 'alcohol_percent': '6%', 'avg_rating': '15.2%', 'percent_dev': 'Reviews:', 'review_count': 'Ratings:', 'rating_count': 'Status:', 'status': 'Rated:', 'date_added': 'Wants:'}, {'name': 'Bock-Bier', 'brewery': 'Bock', 'location': 'Germany', 'location2': 'Na', 'style': 'Na', 'ba_score': 'Avg:', 'over_all_rank': 'Na', 'style_rank': 'Na', 'alcohol_percent': '6.5%', 'avg_rating': '17.63%', 'percent_dev': 'Reviews:', 'review_count': 'Ratings:', 'rating_count': 'Status:', 'status': 'Rated:', 'date_added': 'Wants:'}, {'name': 'DaDo Bier Royal Black', 'brewery': 'Bock', 'location': 'Brazil', 'location2': 'Na', 'style': 'Na', 'ba_score': 'Avg:', 'over_all_rank': 'Na', 'style_rank': 'Na', 'alcohol_percent': '5.5%', 'avg_rating': '12.1%', 'percent_dev': 'Reviews:', 'review_count': 'Ratings:', 'rating_count': 'Status:', 'status': 'Rated:', 'date_added': 'Wants:'}, {'name': \"Akpov's Bock\", 'brewery': 'Bock', 'location': 'Ohio', 'location2': 'United States', 'style': 'Na', 'ba_score': 'Avg:', 'over_all_rank': 'Na', 'style_rank': 'Na', 'alcohol_percent': '6%', 'avg_rating': '7.77%', 'percent_dev': 'Reviews:', 'review_count': 'Ratings:', 'rating_count': 'Status:', 'status': 'Rated:', 'date_added': 'Wants:'}, {'name': 'Bierland Bock', 'brewery': 'Bock', 'location': 'Brazil', 'location2': 'Na', 'style': 'Na', 'ba_score': 'Avg:', 'over_all_rank': 'Na', 'style_rank': 'Na', 'alcohol_percent': '5.8%', 'avg_rating': '10.31%', 'percent_dev': 'Reviews:', 'review_count': 'Ratings:', 'rating_count': 'Status:', 'status': 'Rated:', 'date_added': 'Wants:'}, {'name': \"It's Raining Bock\", 'brewery': 'Bock', 'location': 'Ohio', 'location2': 'United States', 'style': 'Na', 'ba_score': 'Avg:', 'over_all_rank': 'Na', 'style_rank': 'Na', 'alcohol_percent': '6.6%', 'avg_rating': '4.93%', 'percent_dev': 'Reviews:', 'review_count': 'Ratings:', 'rating_count': 'Status:', 'status': 'Rated:', 'date_added': 'Wants:'}, {'name': '6 Luppoli Bock Rossa', 'brewery': 'Bock', 'location': 'Italy', 'location2': 'Na', 'style': 'Na', 'ba_score': 'Avg:', 'over_all_rank': 'Na', 'style_rank': 'Na', 'alcohol_percent': '7%', 'avg_rating': '8.16%', 'percent_dev': 'Reviews:', 'review_count': 'Ratings:', 'rating_count': 'Status:', 'status': 'Rated:', 'date_added': 'Wants:'}, {'name': 'Bagge Bocköl', 'brewery': 'Bock', 'location': 'Sweden', 'location2': 'Na', 'style': 'Na', 'ba_score': 'Avg:', 'over_all_rank': 'Na', 'style_rank': 'Na', 'alcohol_percent': '6%', 'avg_rating': '15.66%', 'percent_dev': 'Reviews:', 'review_count': 'Ratings:', 'rating_count': 'Status:', 'status': 'Rated:', 'date_added': 'Wants:'}, {'name': 'Olde Omen', 'brewery': 'Bock', 'location': 'Minnesota', 'location2': 'United States', 'style': 'Na', 'ba_score': 'Avg:', 'over_all_rank': 'Na', 'style_rank': 'Na', 'alcohol_percent': '6.5%', 'avg_rating': '3.01%', 'percent_dev': 'Reviews:', 'review_count': 'Ratings:', 'rating_count': 'Status:', 'status': 'Rated:', 'date_added': 'Wants:'}, {'name': 'Grunn Bock', 'brewery': 'Bock', 'location': 'Netherlands', 'location2': 'Na', 'style': 'Na', 'ba_score': 'Avg:', 'over_all_rank': 'Na', 'style_rank': 'Na', 'alcohol_percent': '7.5%', 'avg_rating': '18.7%', 'percent_dev': 'Reviews:', 'review_count': 'Ratings:', 'rating_count': 'Status:', 'status': 'Rated:', 'date_added': 'Wants:'}, {'name': 'Falesia', 'brewery': 'Bock', 'location': 'Italy', 'location2': 'Na', 'style': 'Na', 'ba_score': 'Avg:', 'over_all_rank': 'Na', 'style_rank': 'Na', 'alcohol_percent': '7%', 'avg_rating': '6.01%', 'percent_dev': 'Reviews:', 'review_count': 'Ratings:', 'rating_count': 'Status:', 'status': 'Rated:', 'date_added': 'Wants:'}, {'name': 'Bierbaum Bock', 'brewery': 'Bock', 'location': 'Brazil', 'location2': 'Na', 'style': 'Na', 'ba_score': 'Avg:', 'over_all_rank': 'Na', 'style_rank': 'Na', 'alcohol_percent': '6.7%', 'avg_rating': '7.3%', 'percent_dev': 'Reviews:', 'review_count': 'Ratings:', 'rating_count': 'Status:', 'status': 'Rated:', 'date_added': 'Wants:'}, {'name': 'Nussknacker', 'brewery': 'Bock', 'location': 'Alabama', 'location2': 'United States', 'style': 'Na', 'ba_score': 'Avg:', 'over_all_rank': 'Na', 'style_rank': 'Na', 'alcohol_percent': '6.6%', 'avg_rating': '4.8%', 'percent_dev': 'Reviews:', 'review_count': 'Ratings:', 'rating_count': 'Status:', 'status': 'Rated:', 'date_added': 'Wants:'}, {'name': 'Vetter Weihnachtsbock', 'brewery': 'Bock', 'location': 'Germany', 'location2': 'Na', 'style': 'Na', 'ba_score': 'Avg:', 'over_all_rank': 'Na', 'style_rank': 'Na', 'alcohol_percent': '6%', 'avg_rating': '8.73%', 'percent_dev': 'Reviews:', 'review_count': 'Ratings:', 'rating_count': 'Status:', 'status': 'Rated:', 'date_added': 'Wants:'}, {'name': 'Grohe Bock', 'brewery': 'Bock', 'location': 'Germany', 'location2': 'Na', 'style': 'Na', 'ba_score': 'Avg:', 'over_all_rank': 'Na', 'style_rank': 'Na', 'alcohol_percent': '6.2%', 'avg_rating': '7.98%', 'percent_dev': 'Reviews:', 'review_count': 'Ratings:', 'rating_count': 'Status:', 'status': 'Rated:', 'date_added': 'Wants:'}, {'name': 'Gotlands Bocken I Paradiset', 'brewery': 'Bock', 'location': 'Sweden', 'location2': 'Na', 'style': 'Na', 'ba_score': 'Avg:', 'over_all_rank': 'Na', 'style_rank': 'Na', 'alcohol_percent': '7.4%', 'avg_rating': '23.2%', 'percent_dev': 'Reviews:', 'review_count': 'Ratings:', 'rating_count': 'Status:', 'status': 'Rated:', 'date_added': 'Wants:'}, {'name': 'Holiday Bock', 'brewery': 'Bock', 'location': 'Louisiana', 'location2': 'United States', 'style': 'Na', 'ba_score': '3.45', 'over_all_rank': 'Na', 'style_rank': 'Na', 'alcohol_percent': 'Score:', 'avg_rating': 'Reviews:', 'percent_dev': '0', 'review_count': '7', 'rating_count': 'Active', 'status': '\\nJan 07, 2020', 'date_added': '0'}, {'name': 'Tarponator', 'brewery': 'Bock', 'location': 'Mississippi', 'location2': 'United States', 'style': 'Na', 'ba_score': 'Avg:', 'over_all_rank': 'Na', 'style_rank': 'Na', 'alcohol_percent': '7.3%', 'avg_rating': '7.18%', 'percent_dev': 'Reviews:', 'review_count': 'Ratings:', 'rating_count': 'Status:', 'status': 'Rated:', 'date_added': 'Wants:'}, {'name': 'Wooden Shoe Bock Beer', 'brewery': 'Bock', 'location': 'Ohio', 'location2': 'United States', 'style': 'Na', 'ba_score': 'Avg:', 'over_all_rank': 'Na', 'style_rank': 'Na', 'alcohol_percent': '6.7%', 'avg_rating': '6.32%', 'percent_dev': 'Reviews:', 'review_count': 'Ratings:', 'rating_count': 'Status:', 'status': 'Rated:', 'date_added': 'Wants:'}, {'name': 'Bohemia Bock', 'brewery': 'Bock', 'location': 'Portugal', 'location2': 'Na', 'style': 'Na', 'ba_score': 'Avg:', 'over_all_rank': 'Na', 'style_rank': 'Na', 'alcohol_percent': '6.5%', 'avg_rating': '11.54%', 'percent_dev': 'Reviews:', 'review_count': 'Ratings:', 'rating_count': 'Status:', 'status': 'Rated:', 'date_added': 'Wants:'}, {'name': 'Ottakringer Bock', 'brewery': 'Bock', 'location': 'Austria', 'location2': 'Na', 'style': 'Na', 'ba_score': 'Avg:', 'over_all_rank': 'Na', 'style_rank': 'Na', 'alcohol_percent': '7.6%', 'avg_rating': '22.32%', 'percent_dev': 'Reviews:', 'review_count': 'Ratings:', 'rating_count': 'Status:', 'status': 'Rated:', 'date_added': 'Wants:'}, {'name': 'Unser Bier Amber', 'brewery': 'Bock', 'location': 'Switzerland', 'location2': 'Na', 'style': 'Na', 'ba_score': 'Avg:', 'over_all_rank': 'Na', 'style_rank': 'Na', 'alcohol_percent': '5%', 'avg_rating': '9.65%', 'percent_dev': 'Reviews:', 'review_count': 'Ratings:', 'rating_count': 'Status:', 'status': 'Rated:', 'date_added': 'Wants:'}, {'name': 'Bock Lager', 'brewery': 'Bock', 'location': 'North Carolina', 'location2': 'United States', 'style': 'Na', 'ba_score': '3.6', 'over_all_rank': 'Na', 'style_rank': 'Na', 'alcohol_percent': 'Score:', 'avg_rating': 'Reviews:', 'percent_dev': '7', 'review_count': '7', 'rating_count': 'Active', 'status': '\\nJul 07, 2011', 'date_added': '1'}, {'name': 'Weihnachtsbier', 'brewery': 'Bock', 'location': 'Austria', 'location2': 'Na', 'style': 'Na', 'ba_score': 'Avg:', 'over_all_rank': 'Na', 'style_rank': 'Na', 'alcohol_percent': '7.2%', 'avg_rating': '10.34%', 'percent_dev': 'Reviews:', 'review_count': 'Ratings:', 'rating_count': 'Status:', 'status': 'Rated:', 'date_added': 'Wants:'}, {'name': 'Svatopavelske', 'brewery': 'Bock', 'location': 'Czechia', 'location2': 'Na', 'style': 'Na', 'ba_score': 'Avg:', 'over_all_rank': 'Na', 'style_rank': 'Na', 'alcohol_percent': '7%', 'avg_rating': '8.13%', 'percent_dev': 'Reviews:', 'review_count': 'Ratings:', 'rating_count': 'Status:', 'status': 'Rated:', 'date_added': 'Wants:'}, {'name': 'Bock Beer', 'brewery': 'Bock', 'location': 'Wisconsin', 'location2': 'United States', 'style': 'Na', 'ba_score': 'Avg:', 'over_all_rank': 'Na', 'style_rank': 'Na', 'alcohol_percent': '4.5%', 'avg_rating': '10.11%', 'percent_dev': 'Reviews:', 'review_count': 'Ratings:', 'rating_count': 'Status:', 'status': 'Rated:', 'date_added': 'Wants:'}, {'name': 'Bockbier', 'brewery': 'Bock', 'location': 'Kentucky', 'location2': 'United States', 'style': 'Na', 'ba_score': 'Avg:', 'over_all_rank': 'Na', 'style_rank': 'Na', 'alcohol_percent': '7%', 'avg_rating': '4.25%', 'percent_dev': 'Reviews:', 'review_count': 'Ratings:', 'rating_count': 'Status:', 'status': 'Rated:', 'date_added': 'Wants:'}, {'name': 'Black Bear Bock', 'brewery': 'Bock', 'location': 'Ontario', 'location2': 'Canada', 'style': 'Na', 'ba_score': 'Avg:', 'over_all_rank': 'Na', 'style_rank': 'Na', 'alcohol_percent': '6.5%', 'avg_rating': '9.78%', 'percent_dev': 'Reviews:', 'review_count': 'Ratings:', 'rating_count': 'Status:', 'status': 'Rated:', 'date_added': 'Wants:'}, {'name': 'Volpe Rosso', 'brewery': 'Bock', 'location': 'Italy', 'location2': 'Na', 'style': 'Na', 'ba_score': 'Avg:', 'over_all_rank': 'Na', 'style_rank': 'Na', 'alcohol_percent': '6.4%', 'avg_rating': '9.26%', 'percent_dev': 'Reviews:', 'review_count': 'Ratings:', 'rating_count': 'Status:', 'status': 'Rated:', 'date_added': 'Wants:'}, {'name': 'Lambrate', 'brewery': 'Bock', 'location': 'Italy', 'location2': 'Na', 'style': 'Na', 'ba_score': 'Avg:', 'over_all_rank': 'Na', 'style_rank': 'Na', 'alcohol_percent': '7%', 'avg_rating': '12.42%', 'percent_dev': 'Reviews:', 'review_count': 'Ratings:', 'rating_count': 'Status:', 'status': 'Rated:', 'date_added': 'Wants:'}, {'name': \"Wohn's Dunkler Bock\", 'brewery': 'Bock', 'location': 'Germany', 'location2': 'Na', 'style': 'Na', 'ba_score': 'Avg:', 'over_all_rank': 'Na', 'style_rank': 'Na', 'alcohol_percent': '7.2%', 'avg_rating': '6.35%', 'percent_dev': 'Reviews:', 'review_count': 'Ratings:', 'rating_count': 'Status:', 'status': 'Rated:', 'date_added': 'Wants:'}, {'name': 'Little ‘Nator Springtime Lager', 'brewery': 'Bock', 'location': 'Pennsylvania', 'location2': 'United States', 'style': 'Na', 'ba_score': 'Avg:', 'over_all_rank': 'Na', 'style_rank': 'Na', 'alcohol_percent': '5.5%', 'avg_rating': '8.55%', 'percent_dev': 'Reviews:', 'review_count': 'Ratings:', 'rating_count': 'Status:', 'status': 'Rated:', 'date_added': 'Wants:'}, {'name': 'Advent Beers - Winter Bock', 'brewery': 'Bock', 'location': 'Wisconsin', 'location2': 'United States', 'style': 'Na', 'ba_score': 'Avg:', 'over_all_rank': 'Na', 'style_rank': 'Na', 'alcohol_percent': '5%', 'avg_rating': '11.18%', 'percent_dev': 'Reviews:', 'review_count': 'Ratings:', 'rating_count': 'Status:', 'status': 'Rated:', 'date_added': 'Wants:'}, {'name': 'Spring Bock', 'brewery': 'Bock', 'location': 'Louisiana', 'location2': 'United States', 'style': 'Na', 'ba_score': 'Avg:', 'over_all_rank': 'Na', 'style_rank': 'Na', 'alcohol_percent': '7%', 'avg_rating': '6.15%', 'percent_dev': 'Reviews:', 'review_count': 'Ratings:', 'rating_count': 'Status:', 'status': 'Rated:', 'date_added': 'Wants:'}, {'name': 'Bocks', 'brewery': 'Bock', 'location': 'Netherlands', 'location2': 'Na', 'style': 'Na', 'ba_score': 'Avg:', 'over_all_rank': 'Na', 'style_rank': 'Na', 'alcohol_percent': '6.8%', 'avg_rating': '9.23%', 'percent_dev': 'Reviews:', 'review_count': 'Ratings:', 'rating_count': 'Status:', 'status': 'Rated:', 'date_added': 'Wants:'}, {'name': 'Bocktoberfest', 'brewery': 'Bock', 'location': 'Rhode Island', 'location2': 'United States', 'style': 'Na', 'ba_score': 'Avg:', 'over_all_rank': 'Na', 'style_rank': 'Na', 'alcohol_percent': '6%', 'avg_rating': '5.33%', 'percent_dev': 'Reviews:', 'review_count': 'Ratings:', 'rating_count': 'Status:', 'status': 'Rated:', 'date_added': 'Wants:'}, {'name': 'Einhorn Bock', 'brewery': 'Bock', 'location': 'Wisconsin', 'location2': 'United States', 'style': 'Na', 'ba_score': 'Avg:', 'over_all_rank': 'Na', 'style_rank': 'Na', 'alcohol_percent': '6.5%', 'avg_rating': '4.12%', 'percent_dev': 'Reviews:', 'review_count': 'Ratings:', 'rating_count': 'Status:', 'status': 'Rated:', 'date_added': 'Wants:'}, {'name': 'Seasonal Bock Farmhouse Lager', 'brewery': 'Bock', 'location': 'Colorado', 'location2': 'United States', 'style': 'Na', 'ba_score': 'Avg:', 'over_all_rank': 'Na', 'style_rank': 'Na', 'alcohol_percent': '7%', 'avg_rating': '6.48%', 'percent_dev': 'Reviews:', 'review_count': 'Ratings:', 'rating_count': 'Status:', 'status': 'Rated:', 'date_added': 'Wants:'}, {'name': 'Bunkerator Bock', 'brewery': 'Bock', 'location': 'Maine', 'location2': 'United States', 'style': 'Na', 'ba_score': 'Avg:', 'over_all_rank': 'Na', 'style_rank': 'Na', 'alcohol_percent': '7.6%', 'avg_rating': '4.84%', 'percent_dev': 'Reviews:', 'review_count': 'Ratings:', 'rating_count': 'Status:', 'status': 'Rated:', 'date_added': 'Wants:'}, {'name': 'Bowie Bock', 'brewery': 'Bock', 'location': 'Texas', 'location2': 'United States', 'style': 'Na', 'ba_score': 'Avg:', 'over_all_rank': 'Na', 'style_rank': 'Na', 'alcohol_percent': '5.3%', 'avg_rating': '4.56%', 'percent_dev': 'Reviews:', 'review_count': 'Ratings:', 'rating_count': 'Status:', 'status': 'Rated:', 'date_added': 'Wants:'}, {'name': 'Boxcar', 'brewery': 'Bock', 'location': 'Ontario', 'location2': 'Canada', 'style': 'Na', 'ba_score': 'Avg:', 'over_all_rank': 'Na', 'style_rank': 'Na', 'alcohol_percent': '6.7%', 'avg_rating': '6.7%', 'percent_dev': 'Reviews:', 'review_count': 'Ratings:', 'rating_count': 'Status:', 'status': 'Rated:', 'date_added': 'Wants:'}, {'name': 'Pfefferbock', 'brewery': 'Bock', 'location': 'New Jersey', 'location2': 'United States', 'style': 'Na', 'ba_score': 'Avg:', 'over_all_rank': 'Na', 'style_rank': 'Na', 'alcohol_percent': '7%', 'avg_rating': '15.35%', 'percent_dev': 'Reviews:', 'review_count': 'Ratings:', 'rating_count': 'Status:', 'status': 'Rated:', 'date_added': 'Wants:'}, {'name': 'Bock', 'brewery': 'Bock', 'location': 'Ohio', 'location2': 'United States', 'style': 'Na', 'ba_score': 'Avg:', 'over_all_rank': 'Na', 'style_rank': 'Na', 'alcohol_percent': '6.2%', 'avg_rating': '6.13%', 'percent_dev': 'Reviews:', 'review_count': 'Ratings:', 'rating_count': 'Status:', 'status': 'Rated:', 'date_added': 'Wants:'}, {'name': 'Bockaveli', 'brewery': 'Bock', 'location': 'Ohio', 'location2': 'United States', 'style': 'Na', 'ba_score': 'Avg:', 'over_all_rank': 'Na', 'style_rank': 'Na', 'alcohol_percent': '6.2%', 'avg_rating': '6.67%', 'percent_dev': 'Reviews:', 'review_count': 'Ratings:', 'rating_count': 'Status:', 'status': 'Rated:', 'date_added': 'Wants:'}, {'name': 'BTO', 'brewery': 'Bock', 'location': 'Wisconsin', 'location2': 'United States', 'style': 'Na', 'ba_score': 'Avg:', 'over_all_rank': 'Na', 'style_rank': 'Na', 'alcohol_percent': '4.5%', 'avg_rating': '17.07%', 'percent_dev': 'Reviews:', 'review_count': 'Ratings:', 'rating_count': 'Status:', 'status': 'Rated:', 'date_added': 'Wants:'}, {'name': 'Nusscracker ', 'brewery': 'Bock', 'location': 'Alabama', 'location2': 'United States', 'style': 'Na', 'ba_score': 'Avg:', 'over_all_rank': 'Na', 'style_rank': 'Na', 'alcohol_percent': '6.5%', 'avg_rating': '6.44%', 'percent_dev': 'Reviews:', 'review_count': 'Ratings:', 'rating_count': 'Status:', 'status': 'Rated:', 'date_added': 'Wants:'}, {'name': 'Urbock', 'brewery': 'Bock', 'location': 'Switzerland', 'location2': 'Na', 'style': 'Na', 'ba_score': 'Avg:', 'over_all_rank': 'Na', 'style_rank': 'Na', 'alcohol_percent': '7%', 'avg_rating': '9.89%', 'percent_dev': 'Reviews:', 'review_count': 'Ratings:', 'rating_count': 'Status:', 'status': 'Rated:', 'date_added': 'Wants:'}, {'name': 'Bock', 'brewery': 'Bock', 'location': 'Minnesota', 'location2': 'United States', 'style': 'Na', 'ba_score': 'Avg:', 'over_all_rank': 'Na', 'style_rank': 'Na', 'alcohol_percent': '5.3%', 'avg_rating': '3.1%', 'percent_dev': 'Reviews:', 'review_count': 'Ratings:', 'rating_count': 'Status:', 'status': 'Rated:', 'date_added': 'Wants:'}, {'name': 'Imperial PYP', 'brewery': 'Bock', 'location': 'Michigan', 'location2': 'United States', 'style': 'Na', 'ba_score': 'Avg:', 'over_all_rank': 'Na', 'style_rank': 'Na', 'alcohol_percent': '8%', 'avg_rating': '6.08%', 'percent_dev': 'Reviews:', 'review_count': 'Ratings:', 'rating_count': 'Status:', 'status': 'Rated:', 'date_added': 'Wants:'}, {'name': 'First Noel Oak Smoked Bock', 'brewery': 'Bock', 'location': 'Indiana', 'location2': 'United States', 'style': 'Na', 'ba_score': 'Avg:', 'over_all_rank': 'Na', 'style_rank': 'Na', 'alcohol_percent': '6.5%', 'avg_rating': '4.99%', 'percent_dev': 'Reviews:', 'review_count': 'Ratings:', 'rating_count': 'Status:', 'status': 'Rated:', 'date_added': 'Wants:'}, {'name': 'Kathrein-Bock', 'brewery': 'Bock', 'location': 'Germany', 'location2': 'Na', 'style': 'Na', 'ba_score': 'Avg:', 'over_all_rank': 'Na', 'style_rank': 'Na', 'alcohol_percent': '7.5%', 'avg_rating': '4.04%', 'percent_dev': 'Reviews:', 'review_count': 'Ratings:', 'rating_count': 'Status:', 'status': 'Rated:', 'date_added': 'Wants:'}, {'name': 'Frydenlund Bokkøl', 'brewery': 'Bock', 'location': 'Norway', 'location2': 'Na', 'style': 'Na', 'ba_score': 'Avg:', 'over_all_rank': 'Na', 'style_rank': 'Na', 'alcohol_percent': '6.5%', 'avg_rating': '12.65%', 'percent_dev': 'Reviews:', 'review_count': 'Ratings:', 'rating_count': 'Status:', 'status': 'Rated:', 'date_added': 'Wants:'}, {'name': 'The Herdsman', 'brewery': 'Bock', 'location': 'New Jersey', 'location2': 'United States', 'style': 'Na', 'ba_score': 'Avg:', 'over_all_rank': 'Na', 'style_rank': 'Na', 'alcohol_percent': '6.7%', 'avg_rating': '3.96%', 'percent_dev': 'Reviews:', 'review_count': 'Ratings:', 'rating_count': 'Status:', 'status': 'Rated:', 'date_added': 'Wants:'}, {'name': 'Dinkel Bock Granite - Whiskey Barrel Aged', 'brewery': 'Bock', 'location': 'Germany', 'location2': 'Na', 'style': 'Na', 'ba_score': 'Avg:', 'over_all_rank': 'Na', 'style_rank': 'Na', 'alcohol_percent': '7%', 'avg_rating': '7.25%', 'percent_dev': 'Reviews:', 'review_count': 'Ratings:', 'rating_count': 'Status:', 'status': 'Rated:', 'date_added': 'Wants:'}, {'name': 'Bock', 'brewery': 'Bock', 'location': 'Michigan', 'location2': 'United States', 'style': 'Na', 'ba_score': 'Avg:', 'over_all_rank': 'Na', 'style_rank': 'Na', 'alcohol_percent': '6.5%', 'avg_rating': '3.03%', 'percent_dev': 'Reviews:', 'review_count': 'Ratings:', 'rating_count': 'Status:', 'status': 'Rated:', 'date_added': 'Wants:'}, {'name': 'Slam Dunkel', 'brewery': 'Bock', 'location': 'Colorado', 'location2': 'United States', 'style': 'Na', 'ba_score': 'Avg:', 'over_all_rank': 'Na', 'style_rank': 'Na', 'alcohol_percent': '5.5%', 'avg_rating': '7.03%', 'percent_dev': 'Reviews:', 'review_count': 'Ratings:', 'rating_count': 'Status:', 'status': 'Rated:', 'date_added': 'Wants:'}, {'name': 'BOCKman Turner Overdrive', 'brewery': 'Bock', 'location': 'Iowa', 'location2': 'United States', 'style': 'Na', 'ba_score': 'Avg:', 'over_all_rank': 'Na', 'style_rank': 'Na', 'alcohol_percent': '6.43%', 'avg_rating': '12.01%', 'percent_dev': 'Reviews:', 'review_count': 'Ratings:', 'rating_count': 'Status:', 'status': 'Rated:', 'date_added': 'Wants:'}, {'name': 'Bock Orange', 'brewery': 'Bock', 'location': 'Germany', 'location2': 'Na', 'style': 'Na', 'ba_score': 'Avg:', 'over_all_rank': 'Na', 'style_rank': 'Na', 'alcohol_percent': '7.9%', 'avg_rating': '8.58%', 'percent_dev': 'Reviews:', 'review_count': 'Ratings:', 'rating_count': 'Status:', 'status': 'Rated:', 'date_added': 'Wants:'}, {'name': 'Hirter Festbock', 'brewery': 'Bock', 'location': 'Austria', 'location2': 'Na', 'style': 'Na', 'ba_score': 'Avg:', 'over_all_rank': 'Na', 'style_rank': 'Na', 'alcohol_percent': '7%', 'avg_rating': '14.58%', 'percent_dev': 'Reviews:', 'review_count': 'Ratings:', 'rating_count': 'Status:', 'status': 'Rated:', 'date_added': 'Wants:'}, {'name': 'Heller Bock', 'brewery': 'Bock', 'location': 'Ohio', 'location2': 'United States', 'style': 'Na', 'ba_score': 'Avg:', 'over_all_rank': 'Na', 'style_rank': 'Na', 'alcohol_percent': '6.2%', 'avg_rating': '4.43%', 'percent_dev': 'Reviews:', 'review_count': 'Ratings:', 'rating_count': 'Status:', 'status': 'Rated:', 'date_added': 'Wants:'}, {'name': 'Bock', 'brewery': 'Bock', 'location': 'Australia', 'location2': 'Na', 'style': 'Na', 'ba_score': 'Avg:', 'over_all_rank': 'Na', 'style_rank': 'Na', 'alcohol_percent': '5.5%', 'avg_rating': '10.48%', 'percent_dev': 'Reviews:', 'review_count': 'Ratings:', 'rating_count': 'Status:', 'status': 'Rated:', 'date_added': 'Wants:'}, {'name': 'Perła Koźlak', 'brewery': 'Bock', 'location': 'Poland', 'location2': 'Na', 'style': 'Na', 'ba_score': 'Avg:', 'over_all_rank': 'Na', 'style_rank': 'Na', 'alcohol_percent': '7%', 'avg_rating': '7.8%', 'percent_dev': 'Reviews:', 'review_count': 'Ratings:', 'rating_count': 'Status:', 'status': 'Rated:', 'date_added': 'Wants:'}, {'name': 'Oktober Bock', 'brewery': 'Bock', 'location': 'Denmark', 'location2': 'Na', 'style': 'Na', 'ba_score': 'Avg:', 'over_all_rank': 'Na', 'style_rank': 'Na', 'alcohol_percent': '7.5%', 'avg_rating': '4.35%', 'percent_dev': 'Reviews:', 'review_count': 'Ratings:', 'rating_count': 'Status:', 'status': 'Rated:', 'date_added': 'Wants:'}, {'name': 'No. 9 Bock', 'brewery': 'Bock', 'location': 'Minnesota', 'location2': 'United States', 'style': 'Na', 'ba_score': 'Avg:', 'over_all_rank': 'Na', 'style_rank': 'Na', 'alcohol_percent': '6.4%', 'avg_rating': '6.05%', 'percent_dev': 'Reviews:', 'review_count': 'Ratings:', 'rating_count': 'Status:', 'status': 'Rated:', 'date_added': 'Wants:'}, {'name': '(512) Bock', 'brewery': 'Bock', 'location': 'Texas', 'location2': 'United States', 'style': 'Na', 'ba_score': 'Avg:', 'over_all_rank': 'Na', 'style_rank': 'Na', 'alcohol_percent': '5.6%', 'avg_rating': '6.49%', 'percent_dev': 'Reviews:', 'review_count': 'Ratings:', 'rating_count': 'Status:', 'status': 'Rated:', 'date_added': 'Wants:'}, {'name': 'Budels Bock', 'brewery': 'Bock', 'location': 'Netherlands', 'location2': 'Na', 'style': 'Na', 'ba_score': 'Avg:', 'over_all_rank': 'Na', 'style_rank': 'Na', 'alcohol_percent': '6.5%', 'avg_rating': '7.69%', 'percent_dev': 'Reviews:', 'review_count': 'Ratings:', 'rating_count': 'Status:', 'status': 'Rated:', 'date_added': 'Wants:'}, {'name': 'Jak W Dym', 'brewery': 'Bock', 'location': 'Poland', 'location2': 'Na', 'style': 'Na', 'ba_score': 'Avg:', 'over_all_rank': 'Na', 'style_rank': 'Na', 'alcohol_percent': '6.9%', 'avg_rating': '10%', 'percent_dev': 'Reviews:', 'review_count': 'Ratings:', 'rating_count': 'Status:', 'status': 'Rated:', 'date_added': 'Wants:'}, {'name': 'Bock Dunkel', 'brewery': 'Bock', 'location': 'Germany', 'location2': 'Na', 'style': 'Na', 'ba_score': 'Avg:', 'over_all_rank': 'Na', 'style_rank': 'Na', 'alcohol_percent': '7.5%', 'avg_rating': '8.87%', 'percent_dev': 'Reviews:', 'review_count': 'Ratings:', 'rating_count': 'Status:', 'status': 'Rated:', 'date_added': 'Wants:'}, {'name': 'Bavarian Bock Style Lager', 'brewery': 'Bock', 'location': 'Virginia', 'location2': 'United States', 'style': 'Na', 'ba_score': 'Avg:', 'over_all_rank': 'Na', 'style_rank': 'Na', 'alcohol_percent': '5.5%', 'avg_rating': '4.64%', 'percent_dev': 'Reviews:', 'review_count': 'Ratings:', 'rating_count': 'Status:', 'status': 'Rated:', 'date_added': 'Wants:'}, {'name': 'Rostocker Bock Dunkel', 'brewery': 'Bock', 'location': 'Germany', 'location2': 'Na', 'style': 'Na', 'ba_score': 'Avg:', 'over_all_rank': 'Na', 'style_rank': 'Na', 'alcohol_percent': '6.9%', 'avg_rating': '3.94%', 'percent_dev': 'Reviews:', 'review_count': 'Ratings:', 'rating_count': 'Status:', 'status': 'Rated:', 'date_added': 'Wants:'}, {'name': 'Blunderbuss Bock', 'brewery': 'Bock', 'location': 'Texas', 'location2': 'United States', 'style': 'Na', 'ba_score': 'Avg:', 'over_all_rank': 'Na', 'style_rank': 'Na', 'alcohol_percent': '5.3%', 'avg_rating': '3.99%', 'percent_dev': 'Reviews:', 'review_count': 'Ratings:', 'rating_count': 'Status:', 'status': 'Rated:', 'date_added': 'Wants:'}, {'name': 'Sugar Shack', 'brewery': 'Bock', 'location': 'Maine', 'location2': 'United States', 'style': 'Na', 'ba_score': 'Avg:', 'over_all_rank': 'Na', 'style_rank': 'Na', 'alcohol_percent': '7.5%', 'avg_rating': '8.38%', 'percent_dev': 'Reviews:', 'review_count': 'Ratings:', 'rating_count': 'Status:', 'status': 'Rated:', 'date_added': 'Wants:'}, {'name': 'Escape From Alcatraz', 'brewery': 'Bock', 'location': 'Indiana', 'location2': 'United States', 'style': 'Na', 'ba_score': 'Avg:', 'over_all_rank': 'Na', 'style_rank': 'Na', 'alcohol_percent': '6.3%', 'avg_rating': '6.44%', 'percent_dev': 'Reviews:', 'review_count': 'Ratings:', 'rating_count': 'Status:', 'status': 'Rated:', 'date_added': 'Wants:'}, {'name': 'Mohren Bockbier Festbier', 'brewery': 'Bock', 'location': 'Austria', 'location2': 'Na', 'style': 'Na', 'ba_score': 'Avg:', 'over_all_rank': 'Na', 'style_rank': 'Na', 'alcohol_percent': '7%', 'avg_rating': '5.4%', 'percent_dev': 'Reviews:', 'review_count': 'Ratings:', 'rating_count': 'Status:', 'status': 'Rated:', 'date_added': 'Wants:'}, {'name': 'Volcanes Del Sur Premium Bock Artesanal Chocolate', 'brewery': 'Bock', 'location': 'Chile', 'location2': 'Na', 'style': 'Na', 'ba_score': 'Avg:', 'over_all_rank': 'Na', 'style_rank': 'Na', 'alcohol_percent': '5.5%', 'avg_rating': '29.43%', 'percent_dev': 'Reviews:', 'review_count': 'Ratings:', 'rating_count': 'Status:', 'status': 'Rated:', 'date_added': 'Wants:'}, {'name': 'Zondebok', 'brewery': 'Bock', 'location': 'Netherlands', 'location2': 'Na', 'style': 'Na', 'ba_score': 'Avg:', 'over_all_rank': 'Na', 'style_rank': 'Na', 'alcohol_percent': '8%', 'avg_rating': '16.72%', 'percent_dev': 'Reviews:', 'review_count': 'Ratings:', 'rating_count': 'Status:', 'status': 'Rated:', 'date_added': 'Wants:'}, {'name': 'Oaked Maibock', 'brewery': 'Bock', 'location': 'Oregon', 'location2': 'United States', 'style': 'Na', 'ba_score': 'Avg:', 'over_all_rank': 'Na', 'style_rank': 'Na', 'alcohol_percent': '7.5%', 'avg_rating': '13.28%', 'percent_dev': 'Reviews:', 'review_count': 'Ratings:', 'rating_count': 'Status:', 'status': 'Rated:', 'date_added': 'Wants:'}, {'name': 'Jailhouse Bock', 'brewery': 'Bock', 'location': 'Texas', 'location2': 'United States', 'style': 'Na', 'ba_score': 'Avg:', 'over_all_rank': 'Na', 'style_rank': 'Na', 'alcohol_percent': '6.1%', 'avg_rating': '4.61%', 'percent_dev': 'Reviews:', 'review_count': 'Ratings:', 'rating_count': 'Status:', 'status': 'Rated:', 'date_added': 'Wants:'}, {'name': 'Buffalo Check', 'brewery': 'Bock', 'location': 'Minnesota', 'location2': 'United States', 'style': 'Na', 'ba_score': 'Avg:', 'over_all_rank': 'Na', 'style_rank': 'Na', 'alcohol_percent': '5.5%', 'avg_rating': '5.96%', 'percent_dev': 'Reviews:', 'review_count': 'Ratings:', 'rating_count': 'Status:', 'status': 'Rated:', 'date_added': 'Wants:'}, {'name': 'Jaws Bock', 'brewery': 'Bock', 'location': 'Russia', 'location2': 'Na', 'style': 'Na', 'ba_score': 'Avg:', 'over_all_rank': 'Na', 'style_rank': 'Na', 'alcohol_percent': '6%', 'avg_rating': '6.96%', 'percent_dev': 'Reviews:', 'review_count': 'Ratings:', 'rating_count': 'Status:', 'status': 'Rated:', 'date_added': 'Wants:'}, {'name': 'Chicken', 'brewery': 'Bock', 'location': 'Maryland', 'location2': 'United States', 'style': 'Na', 'ba_score': 'Avg:', 'over_all_rank': 'Na', 'style_rank': 'Na', 'alcohol_percent': '6.9%', 'avg_rating': '6.22%', 'percent_dev': 'Reviews:', 'review_count': 'Ratings:', 'rating_count': 'Status:', 'status': 'Rated:', 'date_added': 'Wants:'}, {'name': 'Voodoo Bock', 'brewery': 'Bock', 'location': 'Louisiana', 'location2': 'United States', 'style': 'Na', 'ba_score': '3.65', 'over_all_rank': 'Na', 'style_rank': 'Na', 'alcohol_percent': 'Score:', 'avg_rating': 'Reviews:', 'percent_dev': '1', 'review_count': '5', 'rating_count': 'Active', 'status': '\\nNov 10, 2014', 'date_added': '0'}, {'name': 'Bock', 'brewery': 'Bock', 'location': 'Rhode Island', 'location2': 'United States', 'style': 'Na', 'ba_score': 'Avg:', 'over_all_rank': 'Na', 'style_rank': 'Na', 'alcohol_percent': '7%', 'avg_rating': '6.3%', 'percent_dev': 'Reviews:', 'review_count': 'Ratings:', 'rating_count': 'Status:', 'status': 'Rated:', 'date_added': 'Wants:'}, {'name': 'Kreische Bluff', 'brewery': 'Bock', 'location': 'Texas', 'location2': 'United States', 'style': 'Na', 'ba_score': 'Avg:', 'over_all_rank': 'Na', 'style_rank': 'Na', 'alcohol_percent': '4.7%', 'avg_rating': '8.49%', 'percent_dev': 'Reviews:', 'review_count': 'Ratings:', 'rating_count': 'Status:', 'status': 'Rated:', 'date_added': 'Wants:'}, {'name': 'Holy Bock', 'brewery': 'Bock', 'location': 'New York', 'location2': 'United States', 'style': 'Na', 'ba_score': 'Avg:', 'over_all_rank': 'Na', 'style_rank': 'Na', 'alcohol_percent': '6.8%', 'avg_rating': '21.28%', 'percent_dev': 'Reviews:', 'review_count': 'Ratings:', 'rating_count': 'Status:', 'status': 'Rated:', 'date_added': 'Wants:'}, {'name': 'Frylock The Rye Bock', 'brewery': 'Bock', 'location': 'North Carolina', 'location2': 'United States', 'style': 'Na', 'ba_score': 'Avg:', 'over_all_rank': 'Na', 'style_rank': 'Na', 'alcohol_percent': '7.9%', 'avg_rating': '6.11%', 'percent_dev': 'Reviews:', 'review_count': 'Ratings:', 'rating_count': 'Status:', 'status': 'Rated:', 'date_added': 'Wants:'}, {'name': 'Dingslebener Bock', 'brewery': 'Bock', 'location': 'Germany', 'location2': 'Na', 'style': 'Na', 'ba_score': 'Avg:', 'over_all_rank': 'Na', 'style_rank': 'Na', 'alcohol_percent': '7%', 'avg_rating': '16.67%', 'percent_dev': 'Reviews:', 'review_count': 'Ratings:', 'rating_count': 'Status:', 'status': 'Rated:', 'date_added': 'Wants:'}, {'name': 'Saaremaa Tume', 'brewery': 'Bock', 'location': 'Estonia', 'location2': 'Na', 'style': 'Na', 'ba_score': 'Avg:', 'over_all_rank': 'Na', 'style_rank': 'Na', 'alcohol_percent': '6.5%', 'avg_rating': '11.71%', 'percent_dev': 'Reviews:', 'review_count': 'Ratings:', 'rating_count': 'Status:', 'status': 'Rated:', 'date_added': 'Wants:'}, {'name': 'Colts Bock', 'brewery': 'Bock', 'location': 'New Jersey', 'location2': 'United States', 'style': 'Na', 'ba_score': 'Avg:', 'over_all_rank': 'Na', 'style_rank': 'Na', 'alcohol_percent': '7.2%', 'avg_rating': '5.96%', 'percent_dev': 'Reviews:', 'review_count': 'Ratings:', 'rating_count': 'Status:', 'status': 'Rated:', 'date_added': 'Wants:'}, {'name': 'Gleaner Bock', 'brewery': 'Bock', 'location': 'Michigan', 'location2': 'United States', 'style': 'Na', 'ba_score': 'Avg:', 'over_all_rank': 'Na', 'style_rank': 'Na', 'alcohol_percent': '6%', 'avg_rating': '3.44%', 'percent_dev': 'Reviews:', 'review_count': 'Ratings:', 'rating_count': 'Status:', 'status': 'Rated:', 'date_added': 'Wants:'}, {'name': 'Bock', 'brewery': 'Bock', 'location': 'Connecticut', 'location2': 'United States', 'style': 'Na', 'ba_score': 'Avg:', 'over_all_rank': 'Na', 'style_rank': 'Na', 'alcohol_percent': '6.2%', 'avg_rating': '6.62%', 'percent_dev': 'Reviews:', 'review_count': 'Ratings:', 'rating_count': 'Status:', 'status': 'Rated:', 'date_added': 'Wants:'}, {'name': 'Lekkerinde Kauw', 'brewery': 'Bock', 'location': 'Netherlands', 'location2': 'Na', 'style': 'Na', 'ba_score': 'Avg:', 'over_all_rank': 'Na', 'style_rank': 'Na', 'alcohol_percent': '7%', 'avg_rating': '8.65%', 'percent_dev': 'Reviews:', 'review_count': 'Ratings:', 'rating_count': 'Status:', 'status': 'Rated:', 'date_added': 'Wants:'}, {'name': 'Boomenater', 'brewery': 'Bock', 'location': 'New York', 'location2': 'United States', 'style': 'Na', 'ba_score': 'Avg:', 'over_all_rank': 'Na', 'style_rank': 'Na', 'alcohol_percent': '6%', 'avg_rating': '6.11%', 'percent_dev': 'Reviews:', 'review_count': 'Ratings:', 'rating_count': 'Status:', 'status': 'Rated:', 'date_added': 'Wants:'}, {'name': 'Educator', 'brewery': 'Bock', 'location': 'Massachusetts', 'location2': 'United States', 'style': 'Na', 'ba_score': 'Avg:', 'over_all_rank': 'Na', 'style_rank': 'Na', 'alcohol_percent': '6%', 'avg_rating': '17.16%', 'percent_dev': 'Reviews:', 'review_count': 'Ratings:', 'rating_count': 'Status:', 'status': 'Rated:', 'date_added': 'Wants:'}, {'name': 'Csíki Barna Sör', 'brewery': 'Bock', 'location': 'Romania', 'location2': 'Na', 'style': 'Na', 'ba_score': 'Avg:', 'over_all_rank': 'Na', 'style_rank': 'Na', 'alcohol_percent': '7%', 'avg_rating': '10.09%', 'percent_dev': 'Reviews:', 'review_count': 'Ratings:', 'rating_count': 'Status:', 'status': 'Rated:', 'date_added': 'Wants:'}, {'name': 'Raging Goats', 'brewery': 'Bock', 'location': 'Virginia', 'location2': 'United States', 'style': 'Na', 'ba_score': 'Avg:', 'over_all_rank': 'Na', 'style_rank': 'Na', 'alcohol_percent': '9%', 'avg_rating': '9.67%', 'percent_dev': 'Reviews:', 'review_count': 'Ratings:', 'rating_count': 'Status:', 'status': 'Rated:', 'date_added': 'Wants:'}, {'name': 'Kupfer Bock', 'brewery': 'Bock', 'location': 'Germany', 'location2': 'Na', 'style': 'Na', 'ba_score': 'Avg:', 'over_all_rank': 'Na', 'style_rank': 'Na', 'alcohol_percent': '6.4%', 'avg_rating': '12.05%', 'percent_dev': 'Reviews:', 'review_count': 'Ratings:', 'rating_count': 'Status:', 'status': 'Rated:', 'date_added': 'Wants:'}, {'name': 'Bock', 'brewery': 'Bock', 'location': 'Colorado', 'location2': 'United States', 'style': 'Na', 'ba_score': 'Avg:', 'over_all_rank': 'Na', 'style_rank': 'Na', 'alcohol_percent': '6.8%', 'avg_rating': '7.78%', 'percent_dev': 'Reviews:', 'review_count': 'Ratings:', 'rating_count': 'Status:', 'status': 'Rated:', 'date_added': 'Wants:'}, {'name': 'Blitzkrieg Bock', 'brewery': 'Bock', 'location': 'Ohio', 'location2': 'United States', 'style': 'Na', 'ba_score': 'Avg:', 'over_all_rank': 'Na', 'style_rank': 'Na', 'alcohol_percent': '7.6%', 'avg_rating': '2.48%', 'percent_dev': 'Reviews:', 'review_count': 'Ratings:', 'rating_count': 'Status:', 'status': 'Rated:', 'date_added': 'Wants:'}, {'name': 'Frost Beak Winter Lager', 'brewery': 'Bock', 'location': 'Washington', 'location2': 'United States', 'style': 'Na', 'ba_score': 'Avg:', 'over_all_rank': 'Na', 'style_rank': 'Na', 'alcohol_percent': '6.3%', 'avg_rating': '7.05%', 'percent_dev': 'Reviews:', 'review_count': 'Ratings:', 'rating_count': 'Status:', 'status': 'Rated:', 'date_added': 'Wants:'}, {'name': 'Velum', 'brewery': 'Bock', 'location': 'Pennsylvania', 'location2': 'United States', 'style': 'Na', 'ba_score': 'Avg:', 'over_all_rank': 'Na', 'style_rank': 'Na', 'alcohol_percent': '6.5%', 'avg_rating': '6.4%', 'percent_dev': 'Reviews:', 'review_count': 'Ratings:', 'rating_count': 'Status:', 'status': 'Rated:', 'date_added': 'Wants:'}, {'name': 'River Bend Bock', 'brewery': 'Bock', 'location': 'Michigan', 'location2': 'United States', 'style': 'Na', 'ba_score': 'Avg:', 'over_all_rank': 'Na', 'style_rank': 'Na', 'alcohol_percent': '6.4%', 'avg_rating': '16.27%', 'percent_dev': 'Reviews:', 'review_count': 'Ratings:', 'rating_count': 'Status:', 'status': 'Rated:', 'date_added': 'Wants:'}, {'name': 'Keesmann Bock', 'brewery': 'Bock', 'location': 'Germany', 'location2': 'Na', 'style': 'Na', 'ba_score': 'Avg:', 'over_all_rank': 'Na', 'style_rank': 'Na', 'alcohol_percent': '6.2%', 'avg_rating': '10.34%', 'percent_dev': 'Reviews:', 'review_count': 'Ratings:', 'rating_count': 'Status:', 'status': 'Rated:', 'date_added': 'Wants:'}, {'name': 'Beste Bock', 'brewery': 'Bock', 'location': 'Ontario', 'location2': 'Canada', 'style': 'Na', 'ba_score': 'Avg:', 'over_all_rank': 'Na', 'style_rank': 'Na', 'alcohol_percent': '6.6%', 'avg_rating': '1.8%', 'percent_dev': 'Reviews:', 'review_count': 'Ratings:', 'rating_count': 'Status:', 'status': 'Rated:', 'date_added': 'Wants:'}]\n"
     ]
    }
   ],
   "source": [
    "print(beerlist)"
   ]
  },
  {
   "cell_type": "code",
   "execution_count": 162,
   "id": "9d32aa47",
   "metadata": {},
   "outputs": [
    {
     "data": {
      "text/html": [
       "<div>\n",
       "<style scoped>\n",
       "    .dataframe tbody tr th:only-of-type {\n",
       "        vertical-align: middle;\n",
       "    }\n",
       "\n",
       "    .dataframe tbody tr th {\n",
       "        vertical-align: top;\n",
       "    }\n",
       "\n",
       "    .dataframe thead th {\n",
       "        text-align: right;\n",
       "    }\n",
       "</style>\n",
       "<table border=\"1\" class=\"dataframe\">\n",
       "  <thead>\n",
       "    <tr style=\"text-align: right;\">\n",
       "      <th></th>\n",
       "      <th>name</th>\n",
       "      <th>brewery</th>\n",
       "      <th>location</th>\n",
       "      <th>location2</th>\n",
       "      <th>style</th>\n",
       "      <th>ba_score</th>\n",
       "      <th>over_all_rank</th>\n",
       "      <th>style_rank</th>\n",
       "      <th>alcohol_percent</th>\n",
       "      <th>avg_rating</th>\n",
       "      <th>percent_dev</th>\n",
       "      <th>review_count</th>\n",
       "      <th>rating_count</th>\n",
       "      <th>status</th>\n",
       "      <th>date_added</th>\n",
       "    </tr>\n",
       "  </thead>\n",
       "  <tbody>\n",
       "    <tr>\n",
       "      <th>0</th>\n",
       "      <td>Shiner Bock</td>\n",
       "      <td>Spoetzl Brewery</td>\n",
       "      <td>Texas</td>\n",
       "      <td>United States</td>\n",
       "      <td>Bock</td>\n",
       "      <td>74</td>\n",
       "      <td>Ranked #28,041</td>\n",
       "      <td>Ranked #96</td>\n",
       "      <td>4.5%</td>\n",
       "      <td>3.21</td>\n",
       "      <td>19.63%</td>\n",
       "      <td>1,234</td>\n",
       "      <td>4,564</td>\n",
       "      <td>Active</td>\n",
       "      <td>Oct 03, 1999</td>\n",
       "    </tr>\n",
       "    <tr>\n",
       "      <th>1</th>\n",
       "      <td>Samuel Adams Chocolate Bock</td>\n",
       "      <td>Boston Beer Company (Samuel Adams)</td>\n",
       "      <td>Massachusetts</td>\n",
       "      <td>United States</td>\n",
       "      <td>Bock</td>\n",
       "      <td>82</td>\n",
       "      <td>Ranked #24,988</td>\n",
       "      <td>Ranked #70</td>\n",
       "      <td>5.8%</td>\n",
       "      <td>3.64</td>\n",
       "      <td>16.21%</td>\n",
       "      <td>1,247</td>\n",
       "      <td>3,144</td>\n",
       "      <td>Active</td>\n",
       "      <td>Nov 20, 2003</td>\n",
       "    </tr>\n",
       "    <tr>\n",
       "      <th>2</th>\n",
       "      <td>Michelob AmberBock</td>\n",
       "      <td>Anheuser-Busch</td>\n",
       "      <td>Missouri</td>\n",
       "      <td>United States</td>\n",
       "      <td>Bock</td>\n",
       "      <td>68</td>\n",
       "      <td>Ranked #28,543</td>\n",
       "      <td>Ranked #100</td>\n",
       "      <td>5.1%</td>\n",
       "      <td>2.91</td>\n",
       "      <td>22.34%</td>\n",
       "      <td>732</td>\n",
       "      <td>1,970</td>\n",
       "      <td>Active</td>\n",
       "      <td>Aug 17, 2001</td>\n",
       "    </tr>\n",
       "    <tr>\n",
       "      <th>3</th>\n",
       "      <td>Samuel Adams Cherry Chocolate Bock</td>\n",
       "      <td>Boston Beer Company (Samuel Adams)</td>\n",
       "      <td>Massachusetts</td>\n",
       "      <td>United States</td>\n",
       "      <td>Bock</td>\n",
       "      <td>79</td>\n",
       "      <td>Ranked #26,970</td>\n",
       "      <td>Ranked #85</td>\n",
       "      <td>5.8%</td>\n",
       "      <td>3.47</td>\n",
       "      <td>19.6%</td>\n",
       "      <td>188</td>\n",
       "      <td>875</td>\n",
       "      <td>Active</td>\n",
       "      <td>Apr 11, 2011</td>\n",
       "    </tr>\n",
       "    <tr>\n",
       "      <th>4</th>\n",
       "      <td>Uff-da</td>\n",
       "      <td>New Glarus Brewing Company</td>\n",
       "      <td>Wisconsin</td>\n",
       "      <td>United States</td>\n",
       "      <td>Bock</td>\n",
       "      <td>86</td>\n",
       "      <td>Ranked #19,074</td>\n",
       "      <td>Ranked #27</td>\n",
       "      <td>6.7%</td>\n",
       "      <td>3.83</td>\n",
       "      <td>10.97%</td>\n",
       "      <td>342</td>\n",
       "      <td>662</td>\n",
       "      <td>Active</td>\n",
       "      <td>Jan 16, 2002</td>\n",
       "    </tr>\n",
       "    <tr>\n",
       "      <th>...</th>\n",
       "      <td>...</td>\n",
       "      <td>...</td>\n",
       "      <td>...</td>\n",
       "      <td>...</td>\n",
       "      <td>...</td>\n",
       "      <td>...</td>\n",
       "      <td>...</td>\n",
       "      <td>...</td>\n",
       "      <td>...</td>\n",
       "      <td>...</td>\n",
       "      <td>...</td>\n",
       "      <td>...</td>\n",
       "      <td>...</td>\n",
       "      <td>...</td>\n",
       "      <td>...</td>\n",
       "    </tr>\n",
       "    <tr>\n",
       "      <th>337</th>\n",
       "      <td>Frost Beak Winter Lager</td>\n",
       "      <td>Bock</td>\n",
       "      <td>Washington</td>\n",
       "      <td>United States</td>\n",
       "      <td>Na</td>\n",
       "      <td>Avg:</td>\n",
       "      <td>Na</td>\n",
       "      <td>Na</td>\n",
       "      <td>6.3%</td>\n",
       "      <td>7.05%</td>\n",
       "      <td>Reviews:</td>\n",
       "      <td>Ratings:</td>\n",
       "      <td>Status:</td>\n",
       "      <td>Rated:</td>\n",
       "      <td>Wants:</td>\n",
       "    </tr>\n",
       "    <tr>\n",
       "      <th>338</th>\n",
       "      <td>Velum</td>\n",
       "      <td>Bock</td>\n",
       "      <td>Pennsylvania</td>\n",
       "      <td>United States</td>\n",
       "      <td>Na</td>\n",
       "      <td>Avg:</td>\n",
       "      <td>Na</td>\n",
       "      <td>Na</td>\n",
       "      <td>6.5%</td>\n",
       "      <td>6.4%</td>\n",
       "      <td>Reviews:</td>\n",
       "      <td>Ratings:</td>\n",
       "      <td>Status:</td>\n",
       "      <td>Rated:</td>\n",
       "      <td>Wants:</td>\n",
       "    </tr>\n",
       "    <tr>\n",
       "      <th>339</th>\n",
       "      <td>River Bend Bock</td>\n",
       "      <td>Bock</td>\n",
       "      <td>Michigan</td>\n",
       "      <td>United States</td>\n",
       "      <td>Na</td>\n",
       "      <td>Avg:</td>\n",
       "      <td>Na</td>\n",
       "      <td>Na</td>\n",
       "      <td>6.4%</td>\n",
       "      <td>16.27%</td>\n",
       "      <td>Reviews:</td>\n",
       "      <td>Ratings:</td>\n",
       "      <td>Status:</td>\n",
       "      <td>Rated:</td>\n",
       "      <td>Wants:</td>\n",
       "    </tr>\n",
       "    <tr>\n",
       "      <th>340</th>\n",
       "      <td>Keesmann Bock</td>\n",
       "      <td>Bock</td>\n",
       "      <td>Germany</td>\n",
       "      <td>Na</td>\n",
       "      <td>Na</td>\n",
       "      <td>Avg:</td>\n",
       "      <td>Na</td>\n",
       "      <td>Na</td>\n",
       "      <td>6.2%</td>\n",
       "      <td>10.34%</td>\n",
       "      <td>Reviews:</td>\n",
       "      <td>Ratings:</td>\n",
       "      <td>Status:</td>\n",
       "      <td>Rated:</td>\n",
       "      <td>Wants:</td>\n",
       "    </tr>\n",
       "    <tr>\n",
       "      <th>341</th>\n",
       "      <td>Beste Bock</td>\n",
       "      <td>Bock</td>\n",
       "      <td>Ontario</td>\n",
       "      <td>Canada</td>\n",
       "      <td>Na</td>\n",
       "      <td>Avg:</td>\n",
       "      <td>Na</td>\n",
       "      <td>Na</td>\n",
       "      <td>6.6%</td>\n",
       "      <td>1.8%</td>\n",
       "      <td>Reviews:</td>\n",
       "      <td>Ratings:</td>\n",
       "      <td>Status:</td>\n",
       "      <td>Rated:</td>\n",
       "      <td>Wants:</td>\n",
       "    </tr>\n",
       "  </tbody>\n",
       "</table>\n",
       "<p>342 rows × 15 columns</p>\n",
       "</div>"
      ],
      "text/plain": [
       "                                   name                             brewery  \\\n",
       "0                           Shiner Bock                     Spoetzl Brewery   \n",
       "1           Samuel Adams Chocolate Bock  Boston Beer Company (Samuel Adams)   \n",
       "2                    Michelob AmberBock                      Anheuser-Busch   \n",
       "3    Samuel Adams Cherry Chocolate Bock  Boston Beer Company (Samuel Adams)   \n",
       "4                                Uff-da          New Glarus Brewing Company   \n",
       "..                                  ...                                 ...   \n",
       "337             Frost Beak Winter Lager                                Bock   \n",
       "338                               Velum                                Bock   \n",
       "339                     River Bend Bock                                Bock   \n",
       "340                       Keesmann Bock                                Bock   \n",
       "341                          Beste Bock                                Bock   \n",
       "\n",
       "          location      location2 style ba_score   over_all_rank   style_rank  \\\n",
       "0            Texas  United States  Bock       74  Ranked #28,041   Ranked #96   \n",
       "1    Massachusetts  United States  Bock       82  Ranked #24,988   Ranked #70   \n",
       "2         Missouri  United States  Bock       68  Ranked #28,543  Ranked #100   \n",
       "3    Massachusetts  United States  Bock       79  Ranked #26,970   Ranked #85   \n",
       "4        Wisconsin  United States  Bock       86  Ranked #19,074   Ranked #27   \n",
       "..             ...            ...   ...      ...             ...          ...   \n",
       "337     Washington  United States    Na     Avg:              Na           Na   \n",
       "338   Pennsylvania  United States    Na     Avg:              Na           Na   \n",
       "339       Michigan  United States    Na     Avg:              Na           Na   \n",
       "340        Germany             Na    Na     Avg:              Na           Na   \n",
       "341        Ontario         Canada    Na     Avg:              Na           Na   \n",
       "\n",
       "    alcohol_percent avg_rating percent_dev review_count rating_count  status  \\\n",
       "0              4.5%       3.21      19.63%        1,234        4,564  Active   \n",
       "1              5.8%       3.64      16.21%        1,247        3,144  Active   \n",
       "2              5.1%       2.91      22.34%          732        1,970  Active   \n",
       "3              5.8%       3.47       19.6%          188          875  Active   \n",
       "4              6.7%       3.83      10.97%          342          662  Active   \n",
       "..              ...        ...         ...          ...          ...     ...   \n",
       "337            6.3%      7.05%    Reviews:     Ratings:      Status:  Rated:   \n",
       "338            6.5%       6.4%    Reviews:     Ratings:      Status:  Rated:   \n",
       "339            6.4%     16.27%    Reviews:     Ratings:      Status:  Rated:   \n",
       "340            6.2%     10.34%    Reviews:     Ratings:      Status:  Rated:   \n",
       "341            6.6%       1.8%    Reviews:     Ratings:      Status:  Rated:   \n",
       "\n",
       "       date_added  \n",
       "0    Oct 03, 1999  \n",
       "1    Nov 20, 2003  \n",
       "2    Aug 17, 2001  \n",
       "3    Apr 11, 2011  \n",
       "4    Jan 16, 2002  \n",
       "..            ...  \n",
       "337        Wants:  \n",
       "338        Wants:  \n",
       "339        Wants:  \n",
       "340        Wants:  \n",
       "341        Wants:  \n",
       "\n",
       "[342 rows x 15 columns]"
      ]
     },
     "execution_count": 162,
     "metadata": {},
     "output_type": "execute_result"
    }
   ],
   "source": [
    "df=pd.DataFrame(beerlist)\n",
    "df"
   ]
  },
  {
   "cell_type": "code",
   "execution_count": 160,
   "id": "bb941593",
   "metadata": {},
   "outputs": [
    {
     "data": {
      "text/plain": [
       "50"
      ]
     },
     "execution_count": 160,
     "metadata": {},
     "output_type": "execute_result"
    }
   ],
   "source": [
    "len(beerlinks)"
   ]
  },
  {
   "cell_type": "code",
   "execution_count": null,
   "id": "0edfd09f",
   "metadata": {},
   "outputs": [],
   "source": []
  }
 ],
 "metadata": {
  "kernelspec": {
   "display_name": "Python 3 (ipykernel)",
   "language": "python",
   "name": "python3"
  },
  "language_info": {
   "codemirror_mode": {
    "name": "ipython",
    "version": 3
   },
   "file_extension": ".py",
   "mimetype": "text/x-python",
   "name": "python",
   "nbconvert_exporter": "python",
   "pygments_lexer": "ipython3",
   "version": "3.11.5"
  }
 },
 "nbformat": 4,
 "nbformat_minor": 5
}
