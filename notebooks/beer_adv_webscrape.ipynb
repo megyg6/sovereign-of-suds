{
 "cells": [
  {
   "cell_type": "markdown",
   "id": "0b3857ee",
   "metadata": {},
   "source": [
    "#### Goal for this webscrape phase: \"go into\" a page with links to \"zoom in\"/loop through links that then take you to another level that will then loop through links to scrape each webpage with in\n",
    "    Challenge:\n",
    "    -there are 14 styles (categories) and around ~120 links (subcategories)\n",
    "    -each style can have multiptle pages to loop through"
   ]
  },
  {
   "cell_type": "markdown",
   "id": "a4af4fa1",
   "metadata": {},
   "source": [
    "###### Starting small by scraping one page"
   ]
  },
  {
   "cell_type": "code",
   "execution_count": 115,
   "id": "fd3fd91a",
   "metadata": {},
   "outputs": [],
   "source": [
    "import cloudscraper\n",
    "import requests\n",
    "import re\n",
    "from bs4 import BeautifulSoup\n",
    "import pandas as pd  \n",
    "import time \n",
    "from random import randint\n"
   ]
  },
  {
   "cell_type": "code",
   "execution_count": null,
   "id": "50129b5a",
   "metadata": {},
   "outputs": [],
   "source": [
    "url = \"https://www.beeradvocate.com/beer/profile/143/1352/\" \n",
    "# url =\"https://www.beeradvocate.com/beer/profile/17033/53930/\"\n",
    "header= {'User-Agent': 'Mozilla/5.0 (Macintosh; Intel Mac OS X 10_15_7) AppleWebKit/537.36 (KHTML, like Gecko) Chrome/121.0.0.0 Safari/537.36'} \n",
    "scraper = cloudscraper.create_scraper() \n",
    "info = scraper.get(url) \n",
    "print(info.status_code) \n",
    " "
   ]
  },
  {
   "cell_type": "code",
   "execution_count": null,
   "id": "b2e2371d",
   "metadata": {},
   "outputs": [],
   "source": [
    "soup = BeautifulSoup(info.text, 'lxml') "
   ]
  },
  {
   "cell_type": "code",
   "execution_count": null,
   "id": "004a7f75",
   "metadata": {},
   "outputs": [],
   "source": [
    "name=soup.h1.find(string=True)\n",
    "name"
   ]
  },
  {
   "cell_type": "code",
   "execution_count": null,
   "id": "b5458638",
   "metadata": {},
   "outputs": [],
   "source": [
    "soup.find('h1').text\n",
    "#will give me both the beer title and brewery merged together"
   ]
  },
  {
   "cell_type": "code",
   "execution_count": null,
   "id": "a0f0d0a8",
   "metadata": {},
   "outputs": [],
   "source": [
    "# soup.find('dl',{'class':'beerstats'}).text"
   ]
  },
  {
   "cell_type": "code",
   "execution_count": null,
   "id": "a165157e",
   "metadata": {
    "scrolled": false
   },
   "outputs": [],
   "source": [
    "brewery=soup.find_all('a',attrs={'class':'Tooltip'})[4].text\n",
    "brewery"
   ]
  },
  {
   "cell_type": "code",
   "execution_count": null,
   "id": "67af1398",
   "metadata": {},
   "outputs": [],
   "source": [
    "loaction=soup.find_all('dd', attrs={'class':'beerstats'})[1].a.text\n",
    "loaction"
   ]
  },
  {
   "cell_type": "code",
   "execution_count": null,
   "id": "efa8ec02",
   "metadata": {},
   "outputs": [],
   "source": [
    "location2=soup.find_all('dd', attrs={'class':'beerstats'})[1].find_all('a')[1].text\n",
    "location2"
   ]
  },
  {
   "cell_type": "code",
   "execution_count": null,
   "id": "e3c70b7e",
   "metadata": {},
   "outputs": [],
   "source": [
    "style=soup.find_all('a',attrs={'class':'Tooltip'})[5].text\n",
    "style"
   ]
  },
  {
   "cell_type": "code",
   "execution_count": null,
   "id": "3f3cc0ff",
   "metadata": {},
   "outputs": [],
   "source": [
    "ba_score=soup.find_all('span',attrs={'class':'Tooltip'})[5].text\n",
    "ba_score\n",
    "##official score on ba site 74::'okay'"
   ]
  },
  {
   "cell_type": "code",
   "execution_count": null,
   "id": "ba8d86a6",
   "metadata": {},
   "outputs": [],
   "source": [
    "over_all_rank=soup.find_all('a',attrs={'class':'Tooltip'})[7].text\n",
    "over_all_rank\n",
    "##over all rank is against all beers in ba site"
   ]
  },
  {
   "cell_type": "code",
   "execution_count": null,
   "id": "acfc58b1",
   "metadata": {},
   "outputs": [],
   "source": [
    "style_rank=soup.find_all('a',attrs={'class':'Tooltip'})[6].text\n",
    "style_rank\n",
    "## style rank is among all beers within style category"
   ]
  },
  {
   "cell_type": "code",
   "execution_count": null,
   "id": "3dbd3fe0",
   "metadata": {},
   "outputs": [],
   "source": [
    "alcohol_percent=soup.find_all('span',attrs={'class':'Tooltip'})[3].text\n",
    "alcohol_percent"
   ]
  },
  {
   "cell_type": "code",
   "execution_count": null,
   "id": "c5416539",
   "metadata": {},
   "outputs": [],
   "source": [
    "avg_rating=soup.find_all('span',attrs={'class':'Tooltip'})[7].text\n",
    "avg_rating\n",
    "# Average across all ratings for this beer"
   ]
  },
  {
   "cell_type": "code",
   "execution_count": null,
   "id": "d420045c",
   "metadata": {},
   "outputs": [],
   "source": [
    "percent_dev=soup.find_all('span',attrs={'class':'Tooltip'})[8].text\n",
    "percent_dev\n",
    "# Percentage of deviation within the ratings"
   ]
  },
  {
   "cell_type": "code",
   "execution_count": null,
   "id": "13173fe1",
   "metadata": {},
   "outputs": [],
   "source": [
    "review_count=soup.find_all('span',attrs={'class':'Tooltip'})[10].text\n",
    "review_count\n",
    "# Number of reviews for this beer"
   ]
  },
  {
   "cell_type": "code",
   "execution_count": null,
   "id": "c129271d",
   "metadata": {},
   "outputs": [],
   "source": [
    "rating_count=soup.find_all('span',attrs={'class':'Tooltip'})[12].text\n",
    "rating_count\n",
    "# Number of ratings for this beer"
   ]
  },
  {
   "cell_type": "code",
   "execution_count": null,
   "id": "80c0ff82",
   "metadata": {},
   "outputs": [],
   "source": [
    "status=soup.find_all('span',attrs={'class':'Tooltip'})[14].text\n",
    "status\n",
    "# the beer's current activity status"
   ]
  },
  {
   "cell_type": "code",
   "execution_count": null,
   "id": "9c97b53a",
   "metadata": {
    "scrolled": true
   },
   "outputs": [],
   "source": [
    "date_added=soup.find_all('span',attrs={'class':'Tooltip'})[18].text\n",
    "date_added\n",
    "# The date this beer was added to the site"
   ]
  },
  {
   "cell_type": "markdown",
   "id": "d58b18d4",
   "metadata": {},
   "source": [
    "###### zooming out one level to scrape through \"bocks\" pg 1 with 50 results"
   ]
  },
  {
   "cell_type": "code",
   "execution_count": null,
   "id": "feaf9888",
   "metadata": {},
   "outputs": [],
   "source": [
    "# youtube page: John Watson Rooney helped get more of the wabscraping process \n",
    "root='https://www.beeradvocate.com'\n",
    "header= {'User-Agent': 'Mozilla/5.0 (Macintosh; Intel Mac OS X 10_15_7) AppleWebKit/537.36 (KHTML, like Gecko) Chrome/121.0.0.0 Safari/537.36'} \n",
    "website=f'{root}/beer/styles/32/?sort=revsD&start=0'\n",
    "scraper = cloudscraper.create_scraper() \n",
    "info = scraper.get(website) \n",
    "print(info.status_code)\n"
   ]
  },
  {
   "cell_type": "code",
   "execution_count": null,
   "id": "8b495412",
   "metadata": {},
   "outputs": [],
   "source": [
    "soup = BeautifulSoup(info.text, 'lxml')"
   ]
  },
  {
   "cell_type": "code",
   "execution_count": null,
   "id": "77c8b6c1",
   "metadata": {},
   "outputs": [],
   "source": [
    "table=soup.find('table')\n",
    "# table is where the links are concentrated in "
   ]
  },
  {
   "cell_type": "code",
   "execution_count": null,
   "id": "905fb7ad",
   "metadata": {
    "scrolled": true
   },
   "outputs": [],
   "source": [
    "table.find_all(\"a\", href=re.compile(\"profile\"))[::2]"
   ]
  },
  {
   "cell_type": "code",
   "execution_count": null,
   "id": "1bca20f2",
   "metadata": {},
   "outputs": [],
   "source": [
    "links=[link['href'] for link in table.find_all(\"a\", href=re.compile(\"profile\"))[::2]]\n",
    "print(links)"
   ]
  },
  {
   "cell_type": "code",
   "execution_count": null,
   "id": "a0914757",
   "metadata": {
    "scrolled": true
   },
   "outputs": [],
   "source": [
    "beerlinks=[]\n",
    "for link in table.find_all(\"a\", href=re.compile(\"profile\"))[::2]:\n",
    "    beerlinks.append(root + link['href'])\n"
   ]
  },
  {
   "cell_type": "code",
   "execution_count": null,
   "id": "b10a2191",
   "metadata": {
    "scrolled": true
   },
   "outputs": [],
   "source": [
    "beerlinks\n"
   ]
  },
  {
   "cell_type": "markdown",
   "id": "a4ff7f1b",
   "metadata": {},
   "source": [
    "##### Building together code to loop through links on one page  "
   ]
  },
  {
   "cell_type": "code",
   "execution_count": null,
   "id": "02eda3e1",
   "metadata": {},
   "outputs": [],
   "source": [
    "# print(f'{variable im using in the for loop} : {variable 1 i am getting out of the loop this pass}, {variable 2 im getting out of the loop this pass}')\n",
    "# https://medium.com/swlh/improve-your-web-scraper-with-limited-retry-loops-python-35e21730cbf5\n",
    "# https://www.youtube.com/watch?v=sIOMDu6MXJQ&list=PLRzwgpycm-Fio7EyivRKOBN4D3tfQ_rpu&index=3\n",
    "# https://www.youtube.com/watch?v=8dTpNajxaH0&t=503s\n",
    "# https://www.freecodecamp.org/news/how-to-scrape-multiple-web-pages-using-python/"
   ]
  },
  {
   "cell_type": "code",
   "execution_count": null,
   "id": "e4696eb9",
   "metadata": {
    "scrolled": false
   },
   "outputs": [],
   "source": [
    "# testlink='https://www.beeradvocate.com/beer/profile/143/1352/'\n",
    "# for page pagination, ran a range to an imposiblly high number, by 50  (results per page that url uses to fill start param)\n",
    "root='https://www.beeradvocate.com'\n",
    "header= {'User-Agent': 'Mozilla/5.0 (Macintosh; Intel Mac OS X 10_15_7) AppleWebKit/537.36 (KHTML, like Gecko) Chrome/121.0.0.0 Safari/537.36'} \n",
    "website=f'{root}/beer/styles/32/?sort=revsD&start=100'\n",
    "scraper = cloudscraper.create_scraper() \n",
    "response = scraper.get(website)  \n",
    "soup = BeautifulSoup(response.text, 'lxml')\n",
    "table=soup.find('table')\n",
    "# print(table)\n",
    "beerlist=[]\n",
    "\n",
    "beerlinks=[]\n",
    "for link in table.find_all(\"a\", href=re.compile(\"profile\"))[::2]:\n",
    "    beerlinks.append(root + link['href'])\n",
    "# print(beerlinks)\n",
    "\n",
    "for link in beerlinks:\n",
    "    scraper = cloudscraper.create_scraper()\n",
    "    r=scraper.get(link, headers=header)\n",
    "    soup=BeautifulSoup(r.text,'lxml')\n",
    "    name=soup.h1.find(string=True)\n",
    "    try:    \n",
    "        brewery=soup.find_all('a',attrs={'class':'Tooltip'})[4].text\n",
    "    except:\n",
    "        brewery= 'Na'\n",
    "    try:\n",
    "        location=soup.find_all('dd', attrs={'class':'beerstats'})[1].a.text\n",
    "    except:\n",
    "        location= 'Na'\n",
    "    try:\n",
    "        location2=soup.find_all('dd', attrs={'class':'beerstats'})[1].find_all('a')[1].text\n",
    "    except:\n",
    "        location2= 'Na'\n",
    "    try:\n",
    "        style=soup.find_all('a',attrs={'class':'Tooltip'})[5].text\n",
    "    except:\n",
    "        style= 'Na'\n",
    "    try:\n",
    "        ba_score=soup.find_all('span',attrs={'class':'Tooltip'})[5].text\n",
    "    except:\n",
    "        ba_score= 'Na'\n",
    "    try:\n",
    "        over_all_rank=soup.find_all('a',attrs={'class':'Tooltip'})[7].text\n",
    "    except:\n",
    "        over_all_rank= 'Na'\n",
    "    try:\n",
    "        style_rank=soup.find_all('a',attrs={'class':'Tooltip'})[6].text\n",
    "    except:\n",
    "        style_rank= 'Na'\n",
    "    try:\n",
    "        alcohol_percent=soup.find_all('span',attrs={'class':'Tooltip'})[3].text\n",
    "    except:\n",
    "        alcohol_percent= 'Na'\n",
    "    try:\n",
    "        avg_rating=soup.find_all('span',attrs={'class':'Tooltip'})[7].text\n",
    "    except:\n",
    "        avg_rating= 'Na'\n",
    "    try:\n",
    "        percent_dev=soup.find_all('span',attrs={'class':'Tooltip'})[8].text\n",
    "    except:\n",
    "        percent_dev= 'Na'\n",
    "    try:\n",
    "        review_count=soup.find_all('span',attrs={'class':'Tooltip'})[10].text\n",
    "    except:\n",
    "        review_count= 'Na'\n",
    "    try:\n",
    "        rating_count=soup.find_all('span',attrs={'class':'Tooltip'})[12].text\n",
    "    except:\n",
    "        rating_count= 'Na'\n",
    "    try:\n",
    "        status=soup.find_all('span',attrs={'class':'Tooltip'})[14].text\n",
    "    except:\n",
    "        status= 'Na'\n",
    "    try:\n",
    "        date_added=soup.find_all('span',attrs={'class':'Tooltip'})[18].text\n",
    "    except:\n",
    "        date_added= 'Na'\n",
    "    beer_info= {\n",
    "                'name': name,\n",
    "                'brewery': brewery,\n",
    "                'location':location,\n",
    "                'location2':location2,\n",
    "                'style': style,\n",
    "                'ba_score':ba_score,\n",
    "                'over_all_rank': over_all_rank,\n",
    "                'style_rank': style_rank,\n",
    "                'alcohol_percent': alcohol_percent,\n",
    "                'avg_rating':avg_rating,\n",
    "                'percent_dev': percent_dev,\n",
    "                'review_count': review_count,\n",
    "                'rating_count':rating_count,\n",
    "                'status': status,\n",
    "                'date_added': date_added\n",
    "                }\n",
    "    beerlist.append(beer_info)\n",
    "    print(f'{link}-{name}')\n",
    "\n",
    "# print({variable 1 i am getting out of the loop this pass}, {variable 2 im getting out of the loop this pass}')"
   ]
  },
  {
   "cell_type": "code",
   "execution_count": null,
   "id": "6a1415b9",
   "metadata": {},
   "outputs": [],
   "source": [
    "print(beerlist)"
   ]
  },
  {
   "cell_type": "code",
   "execution_count": null,
   "id": "cb7dbd9f",
   "metadata": {},
   "outputs": [],
   "source": [
    "df=pd.DataFrame(beerlist)\n",
    "df"
   ]
  },
  {
   "cell_type": "code",
   "execution_count": null,
   "id": "61a55726",
   "metadata": {
    "scrolled": true
   },
   "outputs": [],
   "source": [
    "len(beerlinks)"
   ]
  },
  {
   "cell_type": "markdown",
   "id": "c4137419",
   "metadata": {},
   "source": [
    "##### Building together code to loop through links of different styles of beer (zooming out another level/ another loop)\n",
    "-challanges: url for different beer styles has a slight change in on of the parameters for each style of beer, need to be mindful of this in loop, meaing a few changes must be implimented on code above\n"
   ]
  },
  {
   "cell_type": "code",
   "execution_count": null,
   "id": "4fc3c6a5",
   "metadata": {},
   "outputs": [],
   "source": [
    "# root='https://www.beeradvocate.com'\n",
    "# header= {'User-Agent': 'Mozilla/5.0 (Macintosh; Intel Mac OS X 10_15_7) AppleWebKit/537.36 (KHTML, like Gecko) Chrome/121.0.0.0 Safari/537.36'} \n",
    "\n",
    "    \n",
    "# website=f'{root}/beer/styles/'\n",
    "# scraper = cloudscraper.create_scraper() \n",
    "# info = scraper.get(website)  \n",
    "# soup = BeautifulSoup(info.text, 'lxml')\n",
    "# container=soup.find('div',{'id':'ba-content'})\n",
    "# container.find_all('a', href=True)[0:-1]\n",
    "\n",
    "# style_links=[]\n",
    "# for link in container.find_all('a', href=True)[0:-1]:\n",
    "#     style_links.append(link['href'])\n",
    "\n",
    "#  beerlinks=[]\n",
    "#         for link in table.find_all(\"a\", href=re.compile(\"profile\"))[::2]:\n",
    "#             beerlinks.append(root + link['href'])"
   ]
  },
  {
   "cell_type": "code",
   "execution_count": null,
   "id": "b4a02e79",
   "metadata": {},
   "outputs": [],
   "source": [
    "# style_links"
   ]
  },
  {
   "cell_type": "code",
   "execution_count": null,
   "id": "4fd2a2a0",
   "metadata": {},
   "outputs": [],
   "source": [
    "root='https://www.beeradvocate.com'\n",
    "header= {'User-Agent': 'Mozilla/5.0 (Macintosh; Intel Mac OS X 10_15_7) AppleWebKit/537.36 (KHTML, like Gecko) Chrome/121.0.0.0 Safari/537.36'} \n",
    "\n",
    "website=f'{root}/beer/styles/'\n",
    "scraper = cloudscraper.create_scraper() \n",
    "info = scraper.get(website)  \n",
    "soup = BeautifulSoup(info.text, 'lxml')\n",
    "container=soup.find('div',{'id':'ba-content'})\n",
    "\n",
    "beerlist=[]\n",
    "\n",
    "style_href=[]\n",
    "for link in container.find_all('a', href=True)[0:-1]:\n",
    "    style_href.append(link['href'])\n",
    "\n",
    "for h in style_href:\n",
    "    webber=f'{root}{h}'\n",
    "    time.sleep(5)\n",
    "    print(webber)\n",
    "    \n",
    "\n",
    "#     for x in range(0,100000,50):\n",
    "#         print(requests.get(f'{root}/beer/styles/32/?sort=revsD&start={x}'))\n",
    "#         if requests.get(f'{root}/beer/styles/32/?sort=revsD&start={x}').status_code == 200:    \n",
    "#             web=f'{webber}?sort=revsD&start={x}'\n",
    "#             scraper = cloudscraper.create_scraper() \n",
    "#             info = scraper.get(web)  \n",
    "#             soup = BeautifulSoup(info.text, 'lxml')\n",
    "#             table=soup.find('table')\n",
    "\n",
    "#             beerlinks=[]\n",
    "#             for link in table.find_all(\"a\", href=re.compile(\"profile\"))[::2]:\n",
    "#                 beerlinks.append(root + link['href'])\n",
    "\n",
    "\n",
    "#             for link in beerlinks:\n",
    "#                 r=requests.get(link, headers=header)\n",
    "#                 soup=BeautifulSoup(r.content,'lxml')\n",
    "#                 name=soup.h1.find(string=True)\n",
    "#                 try:    \n",
    "#                     brewery=soup.find_all('a',attrs={'class':'Tooltip'})[4].text\n",
    "#                 except:\n",
    "#                     brewery= 'Na'\n",
    "#                 try:\n",
    "#                     location=soup.find_all('dd', attrs={'class':'beerstats'})[1].a.text\n",
    "#                 except:\n",
    "#                     location= 'Na'\n",
    "#                 try:\n",
    "#                     location2=soup.find_all('dd', attrs={'class':'beerstats'})[1].find_all('a')[1].text\n",
    "#                 except:\n",
    "#                     location2= 'Na'\n",
    "#                 try:\n",
    "#                     style=soup.find_all('a',attrs={'class':'Tooltip'})[5].text\n",
    "#                 except:\n",
    "#                     style= 'Na'\n",
    "#                 try:\n",
    "#                     ba_score=soup.find_all('span',attrs={'class':'Tooltip'})[5].text\n",
    "#                 except:\n",
    "#                     ba_score= 'Na'\n",
    "#                 try:\n",
    "#                     over_all_rank=soup.find_all('a',attrs={'class':'Tooltip'})[7].text\n",
    "#                 except:\n",
    "#                     over_all_rank= 'Na'\n",
    "#                 try:\n",
    "#                     style_rank=soup.find_all('a',attrs={'class':'Tooltip'})[6].text\n",
    "#                 except:\n",
    "#                     style_rank= 'Na'\n",
    "#                 try:\n",
    "#                     alcohol_percent=soup.find_all('span',attrs={'class':'Tooltip'})[3].text\n",
    "#                 except:\n",
    "#                     alcohol_percent= 'Na'\n",
    "#                 try:\n",
    "#                     avg_rating=soup.find_all('span',attrs={'class':'Tooltip'})[7].text\n",
    "#                 except:\n",
    "#                     avg_rating= 'Na'\n",
    "#                 try:\n",
    "#                     percent_dev=soup.find_all('span',attrs={'class':'Tooltip'})[8].text\n",
    "#                 except:\n",
    "#                     percent_dev= 'Na'\n",
    "#                 try:\n",
    "#                     review_count=soup.find_all('span',attrs={'class':'Tooltip'})[10].text\n",
    "#                 except:\n",
    "#                     review_count= 'Na'\n",
    "#                 try:\n",
    "#                     rating_count=soup.find_all('span',attrs={'class':'Tooltip'})[12].text\n",
    "#                 except:\n",
    "#                     rating_count= 'Na'\n",
    "#                 try:\n",
    "#                     status=soup.find_all('span',attrs={'class':'Tooltip'})[14].text\n",
    "#                 except:\n",
    "#                     status= 'Na'\n",
    "#                 try:\n",
    "#                     date_added=soup.find_all('span',attrs={'class':'Tooltip'})[18].text\n",
    "#                 except:\n",
    "#                     date_added= 'Na'\n",
    "#                 beer_info= {\n",
    "#                              'name': name,\n",
    "#                              'brewery': brewery,\n",
    "#                             'location':location,\n",
    "#                             'location2':location2,\n",
    "#                             'style': style,\n",
    "#                             'ba_score':ba_score,\n",
    "#                             'over_all_rank': over_all_rank,\n",
    "#                             'style_rank': style_rank,\n",
    "#                             'alcohol_percent': alcohol_percent,\n",
    "#                             'avg_rating':avg_rating,\n",
    "#                             'percent_dev': percent_dev,\n",
    "#                             'review_count': review_count,\n",
    "#                             'rating_count':rating_count,\n",
    "#                             'status': status,\n",
    "#                             'date_added': date_added\n",
    "#                             }\n",
    "#                 beerlist.append(beer_info)\n",
    "#                 print(f'{h}-{x}-{link}-{name}')\n",
    "#         else:\n",
    "#             break          \n",
    "\n"
   ]
  },
  {
   "cell_type": "code",
   "execution_count": null,
   "id": "77e6ab51",
   "metadata": {},
   "outputs": [],
   "source": [
    "# root='https://www.beeradvocate.com'  #base url\n",
    "# headers= {'User-Agent': 'Mozilla/5.0 (Macintosh; Intel Mac OS X 10_15_7) AppleWebKit/537.36 (KHTML, like Gecko) Chrome/121.0.0.0 Safari/537.36'} \n",
    "# website=f'{root}/beer/styles/'  #base url + path to beer style list \n",
    "# scraper = cloudscraper.create_scraper() #calling a scraper session\n",
    "# response = scraper.get(website,headers=headers)  #built scraper (documnetation says treat it like response)\n",
    "# soup = BeautifulSoup(response.text, 'html.parser')  #soup of beer style list \n",
    "# container=soup.find('div',{'id':'ba-content'}) #getting section of html that contains most of href style ids'\n",
    "# # print(response.status_code)    ##ran and got 200 scraper works\n",
    "\n",
    "# beerlist=[]\n",
    "\n",
    "style_href=[link['href'] for link in  container.find_all('a', href=True)][0:-1] #getting text of href that needs to later be paired with root and other parameters\n",
    "# print(len(style_href)) ## 120 links from beer style list\n",
    "for h in style_href: #contatinating root and h to pull up style lists\n",
    "#     webber=f'{root}{h}'\n",
    "#     print(f'{webber}')\n",
    "for x in range(0,100000,50):\n",
    "    m=f'{root}{h}?sort=revsD&start={x}'\n",
    "    print(m)\n",
    "#     scraper = cloudscraper.create_scraper()\n",
    "    res = scraper.get(webber,headers=headers)\n",
    "    time.sleep(3)\n",
    "    print(scraper.get(f'{res}').status_code)\n",
    "    print(response.status_code) ##ran 200 for each response from webber\n",
    "    if scraper.get(webber).status_code == 200:   \n",
    "        scraper = cloudscraper.create_scraper()\n",
    "        response = scraper.get(webber,headers=headers)\n",
    "#         time.sleep(3)\n",
    "#         print(response.status_code)\n",
    "        print(f'{webber}')\n",
    "        for x in range(0,100000,50):\n",
    "            web=f'{webber}{x}'\n",
    "            if scraper.get(f'{webber}{x}').status_code == 200:        \n",
    "                scraper = cloudscraper.create_scraper() \n",
    "                info = scraper.get(website)  \n",
    "                soup = BeautifulSoup(info.text, 'lxml')\n",
    "                table=soup.find('table')\n",
    "                beerlinks=[root + link['href'] for link in table.find_all(\"a\", href=re.compile(\"profile\"))][::2]\n",
    "                for link in beerlinks:\n",
    "                    scraper = cloudscraper.create_scraper()\n",
    "                    r=scraper.get(link, headers=header)\n",
    "                    soup=BeautifulSoup(r.text,'lxml')\n",
    "                    name=soup.h1.find(string=True)\n",
    "                    try:    \n",
    "                        brewery=soup.find_all('a',attrs={'class':'Tooltip'})[4].text\n",
    "                    except:\n",
    "                        brewery= 'Na'\n",
    "                    try:\n",
    "                        location=soup.find_all('dd', attrs={'class':'beerstats'})[1].a.text\n",
    "                    except:\n",
    "                        location= 'Na'\n",
    "                    try:\n",
    "                        location2=soup.find_all('dd', attrs={'class':'beerstats'})[1].find_all('a')[1].text\n",
    "                    except:\n",
    "                        location2= 'Na'\n",
    "                    try:\n",
    "                        style=soup.find_all('a',attrs={'class':'Tooltip'})[5].text\n",
    "                    except:\n",
    "                        style= 'Na'\n",
    "                    try:\n",
    "                        ba_score=soup.find_all('span',attrs={'class':'Tooltip'})[5].text\n",
    "                    except:\n",
    "                        ba_score= 'Na'\n",
    "                    try:\n",
    "                        over_all_rank=soup.find_all('a',attrs={'class':'Tooltip'})[7].text\n",
    "                    except:\n",
    "                        over_all_rank= 'Na'\n",
    "                    try:\n",
    "                        style_rank=soup.find_all('a',attrs={'class':'Tooltip'})[6].text\n",
    "                    except:\n",
    "                        style_rank= 'Na'\n",
    "                    try:\n",
    "                        alcohol_percent=soup.find_all('span',attrs={'class':'Tooltip'})[3].text\n",
    "                    except:\n",
    "                        alcohol_percent= 'Na'\n",
    "                    try:\n",
    "                        avg_rating=soup.find_all('span',attrs={'class':'Tooltip'})[7].text\n",
    "                    except:\n",
    "                        avg_rating= 'Na'\n",
    "                    try:\n",
    "                        percent_dev=soup.find_all('span',attrs={'class':'Tooltip'})[8].text\n",
    "                    except:\n",
    "                        percent_dev= 'Na'\n",
    "                    try:\n",
    "                        review_count=soup.find_all('span',attrs={'class':'Tooltip'})[10].text\n",
    "                    except:\n",
    "                        review_count= 'Na'\n",
    "                    try:\n",
    "                        rating_count=soup.find_all('span',attrs={'class':'Tooltip'})[12].text\n",
    "                    except:\n",
    "                        rating_count= 'Na'\n",
    "                    try:\n",
    "                        status=soup.find_all('span',attrs={'class':'Tooltip'})[14].text\n",
    "                    except:\n",
    "                        status= 'Na'\n",
    "                    try:\n",
    "                        date_added=soup.find_all('span',attrs={'class':'Tooltip'})[18].text\n",
    "                    except:\n",
    "                        date_added= 'Na'\n",
    "                    beer_info= {\n",
    "                                'name': name,\n",
    "                                 'brewery': brewery,\n",
    "                                'location':location,\n",
    "                                'location2':location2,\n",
    "                                'style': style,\n",
    "                                'ba_score':ba_score,\n",
    "                                'over_all_rank': over_all_rank,\n",
    "                                'style_rank': style_rank,\n",
    "                                'alcohol_percent': alcohol_percent,\n",
    "                                'avg_rating':avg_rating,\n",
    "                                'percent_dev': percent_dev,\n",
    "                                'review_count': review_count,\n",
    "                                'rating_count':rating_count,\n",
    "                                'status': status,\n",
    "                                'date_added': date_added\n",
    "                                }\n",
    "                    beerlist.append(beer_info)\n",
    "                    print(f'{h}-{x}-{link}-{name}')\n",
    "            else:\n",
    "                break \n"
   ]
  },
  {
   "cell_type": "code",
   "execution_count": null,
   "id": "16df25de",
   "metadata": {},
   "outputs": [],
   "source": [
    "def cook_soup(url):\n",
    "    scraper = cloudscraper.create_scraper()\n",
    "    headers= {'User-Agent':'Mozilla/5.0 (Macintosh; Intel Mac OS X 10_15_7) AppleWebKit/537.36 (KHTML, like Gecko) Chrome/121.0.0.0 Safari/537.36'}\n",
    "    response = scraper.get(url,headers=headers)\n",
    "    soup = BeautifulSoup(response.text,'lxml')\n",
    "    print(f'url: {url} - status:{response.status_code} -')\n",
    "    \n",
    "\n",
    "#will create an instance of cloudscraper session for url and print status code\n",
    "# https://stackoverflow.com/questions/73027049/how-to-ensure-response-200-for-multiple-requests-when-webscraping"
   ]
  },
  {
   "cell_type": "code",
   "execution_count": null,
   "id": "4e37bcd3",
   "metadata": {},
   "outputs": [],
   "source": [
    "test=cook_soup('https://www.beeradvocate.com/beer/profile/57/7714/')\n"
   ]
  },
  {
   "cell_type": "code",
   "execution_count": null,
   "id": "1ba89796",
   "metadata": {
    "scrolled": true
   },
   "outputs": [],
   "source": [
    "url=\"https://www.beeradvocate.com/beer/profile/417/47795/\"\n",
    "test_2=cook_soup(url)"
   ]
  },
  {
   "cell_type": "code",
   "execution_count": null,
   "id": "8cdfee21",
   "metadata": {},
   "outputs": [],
   "source": [
    "root='https://www.beeradvocate.com' # base url\n",
    "website=f'{root}/beer/styles/' #url that has links to styles of beers (14 styles, and 120 links)\n",
    "cook_soup(website) #makes soup of previous url\n",
    "container=soup.find('div',{'id':'ba-content'}) #looks for place where href are\n",
    "style_href=[link['href'] for link in  container.find_all('a', href=True)][0:-1] #saves hrefs\n",
    "for h in style_href:\n",
    "    webber=f'{root}{h}'\n",
    "#     print(webber)\n",
    "    cook_soup(webber)\n",
    "    for x in range(0,100000,50):\n",
    "        web=f'{root}{h}?sort=revsD&start={x}'\n",
    "        cook_soup(web)\n",
    "#         if response.status_code != 200:\n",
    "#             break ## issue is that it keeps going after last results page with existing page with empty results\n",
    "#         else:\n",
    "        table=soup.find('table')\n",
    "        beerlinks=[root + link['href'] for link in table.find_all(\"a\", href=re.compile(\"profile\"))][::2]\n",
    "#         print(beerlinks)\n",
    "# #         while beerlinks \n",
    "            \n",
    "        \n",
    "        \n",
    "        \n",
    "        \n",
    "        \n",
    "#             table=soup.find('table')\n",
    "#             beerlinks=[root + link['href'] for link in table.find_all(\"a\", href=re.compile(\"profile\"))][::2]\n",
    "#             for link in beerlinks:\n",
    "#                 scraper = cloudscraper.create_scraper()\n",
    "#                 r=scraper.get(link, headers=header)\n",
    "#                 soup=BeautifulSoup(r.text,'lxml')\n",
    "#                 name=soup.h1.find(string=True)\n",
    "#                 try:    \n",
    "#                     brewery=soup.find_all('a',attrs={'class':'Tooltip'})[4].text\n",
    "#                 except:\n",
    "#                     brewery= 'Na'\n",
    "#                 try:\n",
    "#                     location=soup.find_all('dd', attrs={'class':'beerstats'})[1].a.text\n",
    "#                 except:\n",
    "#                     location= 'Na'\n",
    "#                 try:\n",
    "#                         location2=soup.find_all('dd', attrs={'class':'beerstats'})[1].find_all('a')[1].text\n",
    "#                 except:\n",
    "#                         location2= 'Na'\n",
    "#                 try:\n",
    "#                         style=soup.find_all('a',attrs={'class':'Tooltip'})[5].text\n",
    "#                 except:\n",
    "#                         style= 'Na'\n",
    "#                 try:\n",
    "#                         ba_score=soup.find_all('span',attrs={'class':'Tooltip'})[5].text\n",
    "#                 except:\n",
    "#                         ba_score= 'Na'\n",
    "#                 try:\n",
    "#                         over_all_rank=soup.find_all('a',attrs={'class':'Tooltip'})[7].text\n",
    "#                 except:\n",
    "#                         over_all_rank= 'Na'\n",
    "#                 try:\n",
    "#                         style_rank=soup.find_all('a',attrs={'class':'Tooltip'})[6].text\n",
    "#                 except:\n",
    "#                         style_rank= 'Na'\n",
    "#                 try:\n",
    "#                         alcohol_percent=soup.find_all('span',attrs={'class':'Tooltip'})[3].text\n",
    "#                 except:\n",
    "#                         alcohol_percent= 'Na'\n",
    "#                 try:\n",
    "#                         avg_rating=soup.find_all('span',attrs={'class':'Tooltip'})[7].text\n",
    "#                 except:\n",
    "#                         avg_rating= 'Na'\n",
    "#                 try:\n",
    "#                         percent_dev=soup.find_all('span',attrs={'class':'Tooltip'})[8].text\n",
    "#                 except:\n",
    "#                         percent_dev= 'Na'\n",
    "#                 try:\n",
    "#                         review_count=soup.find_all('span',attrs={'class':'Tooltip'})[10].text\n",
    "#                 except:\n",
    "#                         review_count= 'Na'\n",
    "#                 try:\n",
    "#                         rating_count=soup.find_all('span',attrs={'class':'Tooltip'})[12].text\n",
    "#                 except:\n",
    "#                         rating_count= 'Na'\n",
    "#                 try:\n",
    "#                         status=soup.find_all('span',attrs={'class':'Tooltip'})[14].text\n",
    "#                 except:\n",
    "#                     status= 'Na'\n",
    "#                 try:\n",
    "#                     date_added=soup.find_all('span',attrs={'class':'Tooltip'})[18].text\n",
    "#                 except:\n",
    "#                     date_added= 'Na'\n",
    "#                 beer_info= {\n",
    "#                             'name': name,\n",
    "#                             'brewery': brewery,\n",
    "#                             'location':location,\n",
    "#                             'location2':location2,\n",
    "#                             'style': style,\n",
    "#                             'ba_score':ba_score,\n",
    "#                             'over_all_rank': over_all_rank,\n",
    "#                             'style_rank': style_rank,\n",
    "#                             'alcohol_percent': alcohol_percent,\n",
    "#                             'avg_rating':avg_rating,\n",
    "#                             'percent_dev': percent_dev,\n",
    "#                             'review_count': review_count,\n",
    "#                             'rating_count':rating_count,\n",
    "#                             'status': status,\n",
    "#                             'date_added': date_added\n",
    "#                             }\n",
    "#                 beerlist.append(beer_info)\n",
    "#                 print(f'{h}-{x}-{link}-{name}')    \n",
    "    \n",
    "        "
   ]
  },
  {
   "cell_type": "code",
   "execution_count": null,
   "id": "2593d053",
   "metadata": {},
   "outputs": [],
   "source": []
  }
 ],
 "metadata": {
  "kernelspec": {
   "display_name": "Python 3 (ipykernel)",
   "language": "python",
   "name": "python3"
  },
  "language_info": {
   "codemirror_mode": {
    "name": "ipython",
    "version": 3
   },
   "file_extension": ".py",
   "mimetype": "text/x-python",
   "name": "python",
   "nbconvert_exporter": "python",
   "pygments_lexer": "ipython3",
   "version": "3.11.5"
  }
 },
 "nbformat": 4,
 "nbformat_minor": 5
}
