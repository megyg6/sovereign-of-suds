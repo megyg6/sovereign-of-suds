{
 "cells": [
  {
   "cell_type": "markdown",
   "id": "a4af4fa1",
   "metadata": {},
   "source": [
    "Starting small by scraping one page"
   ]
  },
  {
   "cell_type": "code",
   "execution_count": 3,
   "id": "fd3fd91a",
   "metadata": {},
   "outputs": [],
   "source": [
    "import cloudscraper\n",
    "import requests\n",
    "from bs4 import BeautifulSoup"
   ]
  },
  {
   "cell_type": "code",
   "execution_count": 5,
   "id": "50129b5a",
   "metadata": {},
   "outputs": [
    {
     "name": "stdout",
     "output_type": "stream",
     "text": [
      "200\n"
     ]
    }
   ],
   "source": [
    "url = \"https://www.beeradvocate.com/beer/profile/143/1352/\" \n",
    "scraper = cloudscraper.create_scraper() \n",
    "info = scraper.get(url) \n",
    " \n",
    "print(info.status_code) \n",
    " "
   ]
  },
  {
   "cell_type": "code",
   "execution_count": 177,
   "id": "b2e2371d",
   "metadata": {},
   "outputs": [],
   "source": [
    "soup = BeautifulSoup(info.text, 'lxml') "
   ]
  },
  {
   "cell_type": "code",
   "execution_count": 178,
   "id": "004a7f75",
   "metadata": {},
   "outputs": [
    {
     "data": {
      "text/plain": [
       "'Shiner Bock'"
      ]
     },
     "execution_count": 178,
     "metadata": {},
     "output_type": "execute_result"
    }
   ],
   "source": [
    "name=soup.h1.find(string=True)\n",
    "name"
   ]
  },
  {
   "cell_type": "code",
   "execution_count": 176,
   "id": "b5458638",
   "metadata": {},
   "outputs": [
    {
     "data": {
      "text/plain": [
       "'Shiner BockSpoetzl Brewery'"
      ]
     },
     "execution_count": 176,
     "metadata": {},
     "output_type": "execute_result"
    }
   ],
   "source": [
    "# soup.find('h1').text\n",
    "##will give me both the beer title and brewery merged together"
   ]
  },
  {
   "cell_type": "code",
   "execution_count": 74,
   "id": "a0f0d0a8",
   "metadata": {},
   "outputs": [
    {
     "data": {
      "text/plain": [
       "'\\nFrom:\\nSpoetzl Brewery\\n\\xa0\\nTexas, United States\\nStyle:\\nBockRanked #96\\nABV:\\n 4.5%\\nScore:\\n74Ranked #28,088\\nAvg:\\n3.21 | pDev: 19.63%\\nReviews:\\n1,234\\nRatings:\\n4,564\\nStatus:\\nActive\\nRated:\\n\\nSunday at 10:11 AM\\nAdded:\\nOct 03, 1999\\nWants:\\n\\xa0\\xa0111\\nGots:\\n\\xa0\\xa01,369\\n'"
      ]
     },
     "execution_count": 74,
     "metadata": {},
     "output_type": "execute_result"
    }
   ],
   "source": [
    "soup.find('dl',{'class':'beerstats'}).text"
   ]
  },
  {
   "cell_type": "code",
   "execution_count": 86,
   "id": "a165157e",
   "metadata": {
    "scrolled": false
   },
   "outputs": [
    {
     "data": {
      "text/plain": [
       "'Spoetzl Brewery'"
      ]
     },
     "execution_count": 86,
     "metadata": {},
     "output_type": "execute_result"
    }
   ],
   "source": [
    "brewery=soup.find_all('a',attrs={'class':'Tooltip'})[4].text\n",
    "brewery"
   ]
  },
  {
   "cell_type": "code",
   "execution_count": 109,
   "id": "67af1398",
   "metadata": {},
   "outputs": [
    {
     "data": {
      "text/plain": [
       "'Texas'"
      ]
     },
     "execution_count": 109,
     "metadata": {},
     "output_type": "execute_result"
    }
   ],
   "source": [
    "loaction=soup.find_all('dd', attrs={'class':'beerstats'})[1].a.text\n",
    "loaction"
   ]
  },
  {
   "cell_type": "code",
   "execution_count": 149,
   "id": "efa8ec02",
   "metadata": {},
   "outputs": [
    {
     "data": {
      "text/plain": [
       "'United States'"
      ]
     },
     "execution_count": 149,
     "metadata": {},
     "output_type": "execute_result"
    }
   ],
   "source": [
    "country=soup.find_all('dd', attrs={'class':'beerstats'})[1].find_all('a')[1].text\n",
    "country"
   ]
  },
  {
   "cell_type": "code",
   "execution_count": 157,
   "id": "e3c70b7e",
   "metadata": {},
   "outputs": [
    {
     "data": {
      "text/plain": [
       "'Bock'"
      ]
     },
     "execution_count": 157,
     "metadata": {},
     "output_type": "execute_result"
    }
   ],
   "source": [
    "style=soup.find_all('a',attrs={'class':'Tooltip'})[5].text\n",
    "style"
   ]
  },
  {
   "cell_type": "code",
   "execution_count": 174,
   "id": "3f3cc0ff",
   "metadata": {},
   "outputs": [
    {
     "data": {
      "text/plain": [
       "'74'"
      ]
     },
     "execution_count": 174,
     "metadata": {},
     "output_type": "execute_result"
    }
   ],
   "source": [
    "ba_score=soup.find_all('span',attrs={'class':'Tooltip'})[5].text\n",
    "ba_score\n",
    "##official score on ba site 74::'okay'"
   ]
  },
  {
   "cell_type": "code",
   "execution_count": 160,
   "id": "ba8d86a6",
   "metadata": {},
   "outputs": [
    {
     "data": {
      "text/plain": [
       "'Ranked #28,088'"
      ]
     },
     "execution_count": 160,
     "metadata": {},
     "output_type": "execute_result"
    }
   ],
   "source": [
    "over_all_rank=soup.find_all('a',attrs={'class':'Tooltip'})[7].text\n",
    "over_all_rank\n",
    "##over all rank is against all beers in ba site"
   ]
  },
  {
   "cell_type": "code",
   "execution_count": 164,
   "id": "acfc58b1",
   "metadata": {},
   "outputs": [
    {
     "data": {
      "text/plain": [
       "'Ranked #96'"
      ]
     },
     "execution_count": 164,
     "metadata": {},
     "output_type": "execute_result"
    }
   ],
   "source": [
    "style_rank=soup.find_all('a',attrs={'class':'Tooltip'})[6].text\n",
    "style_rank\n",
    "## style rank is among all beers within style category"
   ]
  },
  {
   "cell_type": "code",
   "execution_count": 169,
   "id": "3dbd3fe0",
   "metadata": {},
   "outputs": [
    {
     "data": {
      "text/plain": [
       "'4.5%'"
      ]
     },
     "execution_count": 169,
     "metadata": {},
     "output_type": "execute_result"
    }
   ],
   "source": [
    "alcohol_percent=soup.find_all('span',attrs={'class':'Tooltip'})[3].text\n",
    "alcohol_percent"
   ]
  },
  {
   "cell_type": "code",
   "execution_count": 181,
   "id": "c5416539",
   "metadata": {},
   "outputs": [
    {
     "data": {
      "text/plain": [
       "'3.21'"
      ]
     },
     "execution_count": 181,
     "metadata": {},
     "output_type": "execute_result"
    }
   ],
   "source": [
    "avg_rating=soup.find_all('span',attrs={'class':'Tooltip'})[7].text\n",
    "avg_rating\n",
    "# Average across all ratings for this beer"
   ]
  },
  {
   "cell_type": "code",
   "execution_count": 185,
   "id": "d420045c",
   "metadata": {},
   "outputs": [
    {
     "data": {
      "text/plain": [
       "'19.63%'"
      ]
     },
     "execution_count": 185,
     "metadata": {},
     "output_type": "execute_result"
    }
   ],
   "source": [
    "percent_dev=soup.find_all('span',attrs={'class':'Tooltip'})[8].text\n",
    "# Percentage of deviation within the ratings"
   ]
  },
  {
   "cell_type": "code",
   "execution_count": 195,
   "id": "13173fe1",
   "metadata": {},
   "outputs": [
    {
     "data": {
      "text/plain": [
       "'1,234'"
      ]
     },
     "execution_count": 195,
     "metadata": {},
     "output_type": "execute_result"
    }
   ],
   "source": [
    "review_count=soup.find_all('span',attrs={'class':'Tooltip'})[10].text\n",
    "review_count\n",
    "# Number of reviews for this beer"
   ]
  },
  {
   "cell_type": "code",
   "execution_count": 196,
   "id": "c129271d",
   "metadata": {},
   "outputs": [
    {
     "data": {
      "text/plain": [
       "'4,564'"
      ]
     },
     "execution_count": 196,
     "metadata": {},
     "output_type": "execute_result"
    }
   ],
   "source": [
    "rating_count=soup.find_all('span',attrs={'class':'Tooltip'})[12].text\n",
    "rating_count\n",
    "# Number of ratings for this beer"
   ]
  },
  {
   "cell_type": "code",
   "execution_count": 202,
   "id": "80c0ff82",
   "metadata": {},
   "outputs": [
    {
     "data": {
      "text/plain": [
       "'Active'"
      ]
     },
     "execution_count": 202,
     "metadata": {},
     "output_type": "execute_result"
    }
   ],
   "source": [
    "status=soup.find_all('span',attrs={'class':'Tooltip'})[14].text\n",
    "status\n",
    "# the beer's current activity status"
   ]
  },
  {
   "cell_type": "code",
   "execution_count": 206,
   "id": "9c97b53a",
   "metadata": {},
   "outputs": [
    {
     "data": {
      "text/plain": [
       "'Oct 03, 1999'"
      ]
     },
     "execution_count": 206,
     "metadata": {},
     "output_type": "execute_result"
    }
   ],
   "source": [
    "date_added=soup.find_all('span',attrs={'class':'Tooltip'})[18].text\n",
    "date_added\n",
    "# The date this beer was added to the site"
   ]
  },
  {
   "cell_type": "code",
   "execution_count": null,
   "id": "feaf9888",
   "metadata": {},
   "outputs": [],
   "source": []
  }
 ],
 "metadata": {
  "kernelspec": {
   "display_name": "Python 3 (ipykernel)",
   "language": "python",
   "name": "python3"
  },
  "language_info": {
   "codemirror_mode": {
    "name": "ipython",
    "version": 3
   },
   "file_extension": ".py",
   "mimetype": "text/x-python",
   "name": "python",
   "nbconvert_exporter": "python",
   "pygments_lexer": "ipython3",
   "version": "3.11.5"
  }
 },
 "nbformat": 4,
 "nbformat_minor": 5
}
