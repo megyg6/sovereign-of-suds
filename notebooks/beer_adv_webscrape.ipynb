{
 "cells": [
  {
   "cell_type": "markdown",
   "id": "d7a42446",
   "metadata": {},
   "source": [
    "#### Goal for this webscrape phase: \"go into\" a page with links to \"zoom in\"/loop through links that then take you to another level that will then loop through links to scrape each webpage with in\n",
    "    Challenge:\n",
    "    -there are 14 styles (categories) and around ~120 links (subcategories)\n",
    "    -each style can have multiptle pages to loop through"
   ]
  },
  {
   "cell_type": "markdown",
   "id": "a4af4fa1",
   "metadata": {},
   "source": [
    "###### Starting small by scraping one page"
   ]
  },
  {
   "cell_type": "code",
   "execution_count": 67,
   "id": "fd3fd91a",
   "metadata": {},
   "outputs": [],
   "source": [
    "import cloudscraper\n",
    "import requests\n",
    "import re\n",
    "from bs4 import BeautifulSoup\n",
    "import pandas as pd  \n",
    "import time \n",
    "from random import randint"
   ]
  },
  {
   "cell_type": "code",
   "execution_count": null,
   "id": "50129b5a",
   "metadata": {},
   "outputs": [],
   "source": [
    "# url = \"https://www.beeradvocate.com/beer/profile/143/1352/\" \n",
    "# header= {'User-Agent': 'Mozilla/5.0 (Macintosh; Intel Mac OS X 10_15_7) AppleWebKit/537.36 (KHTML, like Gecko) Chrome/121.0.0.0 Safari/537.36'} \n",
    "# scraper = cloudscraper.create_scraper() \n",
    "# info = scraper.get(url) \n",
    "# print(info.status_code) \n",
    " "
   ]
  },
  {
   "cell_type": "code",
   "execution_count": null,
   "id": "b2e2371d",
   "metadata": {},
   "outputs": [],
   "source": [
    "# soup = BeautifulSoup(info.text, 'lxml') "
   ]
  },
  {
   "cell_type": "code",
   "execution_count": null,
   "id": "004a7f75",
   "metadata": {},
   "outputs": [],
   "source": [
    "# name=soup.h1.find(string=True)\n",
    "# name"
   ]
  },
  {
   "cell_type": "code",
   "execution_count": null,
   "id": "b5458638",
   "metadata": {},
   "outputs": [],
   "source": [
    "# soup.find('h1').text\n",
    "##will give me both the beer title and brewery merged together"
   ]
  },
  {
   "cell_type": "code",
   "execution_count": null,
   "id": "a0f0d0a8",
   "metadata": {},
   "outputs": [],
   "source": [
    "# soup.find('dl',{'class':'beerstats'}).text"
   ]
  },
  {
   "cell_type": "code",
   "execution_count": null,
   "id": "a165157e",
   "metadata": {
    "scrolled": false
   },
   "outputs": [],
   "source": [
    "# brewery=soup.find_all('a',attrs={'class':'Tooltip'})[4].text\n",
    "# brewery"
   ]
  },
  {
   "cell_type": "code",
   "execution_count": null,
   "id": "67af1398",
   "metadata": {},
   "outputs": [],
   "source": [
    "# loaction=soup.find_all('dd', attrs={'class':'beerstats'})[1].a.text\n",
    "# loaction"
   ]
  },
  {
   "cell_type": "code",
   "execution_count": null,
   "id": "efa8ec02",
   "metadata": {},
   "outputs": [],
   "source": [
    "# location2=soup.find_all('dd', attrs={'class':'beerstats'})[1].find_all('a')[1].text\n",
    "# location2"
   ]
  },
  {
   "cell_type": "code",
   "execution_count": null,
   "id": "e3c70b7e",
   "metadata": {},
   "outputs": [],
   "source": [
    "# style=soup.find_all('a',attrs={'class':'Tooltip'})[5].text\n",
    "# style"
   ]
  },
  {
   "cell_type": "code",
   "execution_count": null,
   "id": "3f3cc0ff",
   "metadata": {},
   "outputs": [],
   "source": [
    "# ba_score=soup.find_all('span',attrs={'class':'Tooltip'})[5].text\n",
    "# ba_score\n",
    "##official score on ba site 74::'okay'"
   ]
  },
  {
   "cell_type": "code",
   "execution_count": null,
   "id": "ba8d86a6",
   "metadata": {},
   "outputs": [],
   "source": [
    "# over_all_rank=soup.find_all('a',attrs={'class':'Tooltip'})[7].text\n",
    "# over_all_rank\n",
    "##over all rank is against all beers in ba site"
   ]
  },
  {
   "cell_type": "code",
   "execution_count": null,
   "id": "acfc58b1",
   "metadata": {},
   "outputs": [],
   "source": [
    "# style_rank=soup.find_all('a',attrs={'class':'Tooltip'})[6].text\n",
    "# style_rank\n",
    "## style rank is among all beers within style category"
   ]
  },
  {
   "cell_type": "code",
   "execution_count": null,
   "id": "3dbd3fe0",
   "metadata": {},
   "outputs": [],
   "source": [
    "# alcohol_percent=soup.find_all('span',attrs={'class':'Tooltip'})[3].text\n",
    "# alcohol_percent"
   ]
  },
  {
   "cell_type": "code",
   "execution_count": null,
   "id": "c5416539",
   "metadata": {},
   "outputs": [],
   "source": [
    "# avg_rating=soup.find_all('span',attrs={'class':'Tooltip'})[7].text\n",
    "# avg_rating\n",
    "# Average across all ratings for this beer"
   ]
  },
  {
   "cell_type": "code",
   "execution_count": null,
   "id": "d420045c",
   "metadata": {},
   "outputs": [],
   "source": [
    "# percent_dev=soup.find_all('span',attrs={'class':'Tooltip'})[8].text\n",
    "# percent_dev\n",
    "# Percentage of deviation within the ratings"
   ]
  },
  {
   "cell_type": "code",
   "execution_count": null,
   "id": "13173fe1",
   "metadata": {},
   "outputs": [],
   "source": [
    "# review_count=soup.find_all('span',attrs={'class':'Tooltip'})[10].text\n",
    "# review_count\n",
    "# Number of reviews for this beer"
   ]
  },
  {
   "cell_type": "code",
   "execution_count": null,
   "id": "c129271d",
   "metadata": {},
   "outputs": [],
   "source": [
    "# rating_count=soup.find_all('span',attrs={'class':'Tooltip'})[12].text\n",
    "# rating_count\n",
    "# Number of ratings for this beer"
   ]
  },
  {
   "cell_type": "code",
   "execution_count": null,
   "id": "80c0ff82",
   "metadata": {},
   "outputs": [],
   "source": [
    "# status=soup.find_all('span',attrs={'class':'Tooltip'})[14].text\n",
    "# status\n",
    "# the beer's current activity status"
   ]
  },
  {
   "cell_type": "code",
   "execution_count": null,
   "id": "9c97b53a",
   "metadata": {
    "scrolled": true
   },
   "outputs": [],
   "source": [
    "# date_added=soup.find_all('span',attrs={'class':'Tooltip'})[18].text\n",
    "# date_added\n",
    "# The date this beer was added to the site"
   ]
  },
  {
   "cell_type": "markdown",
   "id": "b96d6d46",
   "metadata": {},
   "source": [
    "###### zooming out one level to scrape through \"bocks\" pg 1 with 50 results"
   ]
  },
  {
   "cell_type": "code",
   "execution_count": null,
   "id": "feaf9888",
   "metadata": {},
   "outputs": [],
   "source": [
    "# youtube page: John Watson Rooney helped get more of the wabscraping process \n",
    "# root='https://www.beeradvocate.com'\n",
    "# header= {'User-Agent': 'Mozilla/5.0 (Macintosh; Intel Mac OS X 10_15_7) AppleWebKit/537.36 (KHTML, like Gecko) Chrome/121.0.0.0 Safari/537.36'} \n",
    "# website=f'{root}/beer/styles/32/?sort=revsD&start=0'\n",
    "# scraper = cloudscraper.create_scraper() \n",
    "# info = scraper.get(website) \n",
    "# print(info.status_code)\n"
   ]
  },
  {
   "cell_type": "code",
   "execution_count": null,
   "id": "8dd32891",
   "metadata": {},
   "outputs": [],
   "source": [
    "# soup = BeautifulSoup(info.text, 'lxml')"
   ]
  },
  {
   "cell_type": "code",
   "execution_count": null,
   "id": "bd6ce4b9",
   "metadata": {},
   "outputs": [],
   "source": [
    "# table=soup.find('table')\n",
    "#table is where the links are concentrated in "
   ]
  },
  {
   "cell_type": "code",
   "execution_count": null,
   "id": "06e26d6d",
   "metadata": {
    "scrolled": true
   },
   "outputs": [],
   "source": [
    "# table.find_all(\"a\", href=re.compile(\"profile\"))[::2]"
   ]
  },
  {
   "cell_type": "code",
   "execution_count": null,
   "id": "6908fa2d",
   "metadata": {},
   "outputs": [],
   "source": [
    "# links=[link['href'] for link in table.find_all(\"a\", href=re.compile(\"profile\"))[::2]]\n",
    "# len(links)"
   ]
  },
  {
   "cell_type": "code",
   "execution_count": null,
   "id": "18369d3e",
   "metadata": {
    "scrolled": true
   },
   "outputs": [],
   "source": [
    "# beerlinks=[]\n",
    "# for link in table.find_all(\"a\", href=re.compile(\"profile\"))[::2]:\n",
    "#     beerlinks.append(root + link['href'])\n"
   ]
  },
  {
   "cell_type": "code",
   "execution_count": null,
   "id": "a3e03efe",
   "metadata": {
    "scrolled": true
   },
   "outputs": [],
   "source": [
    "# beerlinks"
   ]
  },
  {
   "cell_type": "markdown",
   "id": "38f70eb5",
   "metadata": {},
   "source": [
    "##### Building together code to loop through links on one page  "
   ]
  },
  {
   "cell_type": "code",
   "execution_count": null,
   "id": "08710a91",
   "metadata": {},
   "outputs": [],
   "source": [
    "# print(f'{variable im using in the for loop} : {variable 1 i am getting out of the loop this pass}, {variable 2 im getting out of the loop this pass}')\n",
    "# https://medium.com/swlh/improve-your-web-scraper-with-limited-retry-loops-python-35e21730cbf5\n",
    "# https://www.youtube.com/watch?v=sIOMDu6MXJQ&list=PLRzwgpycm-Fio7EyivRKOBN4D3tfQ_rpu&index=3\n",
    "# https://www.youtube.com/watch?v=8dTpNajxaH0&t=503s\n",
    "# https://www.freecodecamp.org/news/how-to-scrape-multiple-web-pages-using-python/"
   ]
  },
  {
   "cell_type": "code",
   "execution_count": 68,
   "id": "02ec384f",
   "metadata": {},
   "outputs": [
    {
     "name": "stdout",
     "output_type": "stream",
     "text": [
      "0-https://www.beeradvocate.com/beer/profile/143/1352/-Shiner Bock\n",
      "0-https://www.beeradvocate.com/beer/profile/35/14309/-Samuel Adams Chocolate Bock\n",
      "0-https://www.beeradvocate.com/beer/profile/29/1252/-Michelob AmberBock\n",
      "0-https://www.beeradvocate.com/beer/profile/35/68000/-Samuel Adams Cherry Chocolate Bock\n",
      "0-https://www.beeradvocate.com/beer/profile/590/2565/-Uff-da\n",
      "0-https://www.beeradvocate.com/beer/profile/35/74579/-Samuel Adams The Vixen\n",
      "0-https://www.beeradvocate.com/beer/profile/590/62671/-Back Forty Bock\n"
     ]
    },
    {
     "ename": "KeyboardInterrupt",
     "evalue": "",
     "output_type": "error",
     "traceback": [
      "\u001b[0;31m---------------------------------------------------------------------------\u001b[0m",
      "\u001b[0;31mKeyboardInterrupt\u001b[0m                         Traceback (most recent call last)",
      "Cell \u001b[0;32mIn[68], line 22\u001b[0m\n\u001b[1;32m     18\u001b[0m     beerlinks\u001b[38;5;241m.\u001b[39mappend(root \u001b[38;5;241m+\u001b[39m link[\u001b[38;5;124m'\u001b[39m\u001b[38;5;124mhref\u001b[39m\u001b[38;5;124m'\u001b[39m])\n\u001b[1;32m     21\u001b[0m \u001b[38;5;28;01mfor\u001b[39;00m link \u001b[38;5;129;01min\u001b[39;00m beerlinks:\n\u001b[0;32m---> 22\u001b[0m     r\u001b[38;5;241m=\u001b[39mrequests\u001b[38;5;241m.\u001b[39mget(link, headers\u001b[38;5;241m=\u001b[39mheader)\n\u001b[1;32m     23\u001b[0m     soup\u001b[38;5;241m=\u001b[39mBeautifulSoup(r\u001b[38;5;241m.\u001b[39mcontent,\u001b[38;5;124m'\u001b[39m\u001b[38;5;124mlxml\u001b[39m\u001b[38;5;124m'\u001b[39m)\n\u001b[1;32m     24\u001b[0m     name\u001b[38;5;241m=\u001b[39msoup\u001b[38;5;241m.\u001b[39mh1\u001b[38;5;241m.\u001b[39mfind(string\u001b[38;5;241m=\u001b[39m\u001b[38;5;28;01mTrue\u001b[39;00m)\n",
      "File \u001b[0;32m~/anaconda3/lib/python3.11/site-packages/requests/api.py:73\u001b[0m, in \u001b[0;36mget\u001b[0;34m(url, params, **kwargs)\u001b[0m\n\u001b[1;32m     62\u001b[0m \u001b[38;5;28;01mdef\u001b[39;00m \u001b[38;5;21mget\u001b[39m(url, params\u001b[38;5;241m=\u001b[39m\u001b[38;5;28;01mNone\u001b[39;00m, \u001b[38;5;241m*\u001b[39m\u001b[38;5;241m*\u001b[39mkwargs):\n\u001b[1;32m     63\u001b[0m \u001b[38;5;250m    \u001b[39m\u001b[38;5;124mr\u001b[39m\u001b[38;5;124;03m\"\"\"Sends a GET request.\u001b[39;00m\n\u001b[1;32m     64\u001b[0m \n\u001b[1;32m     65\u001b[0m \u001b[38;5;124;03m    :param url: URL for the new :class:`Request` object.\u001b[39;00m\n\u001b[0;32m   (...)\u001b[0m\n\u001b[1;32m     70\u001b[0m \u001b[38;5;124;03m    :rtype: requests.Response\u001b[39;00m\n\u001b[1;32m     71\u001b[0m \u001b[38;5;124;03m    \"\"\"\u001b[39;00m\n\u001b[0;32m---> 73\u001b[0m     \u001b[38;5;28;01mreturn\u001b[39;00m request(\u001b[38;5;124m\"\u001b[39m\u001b[38;5;124mget\u001b[39m\u001b[38;5;124m\"\u001b[39m, url, params\u001b[38;5;241m=\u001b[39mparams, \u001b[38;5;241m*\u001b[39m\u001b[38;5;241m*\u001b[39mkwargs)\n",
      "File \u001b[0;32m~/anaconda3/lib/python3.11/site-packages/requests/api.py:59\u001b[0m, in \u001b[0;36mrequest\u001b[0;34m(method, url, **kwargs)\u001b[0m\n\u001b[1;32m     55\u001b[0m \u001b[38;5;66;03m# By using the 'with' statement we are sure the session is closed, thus we\u001b[39;00m\n\u001b[1;32m     56\u001b[0m \u001b[38;5;66;03m# avoid leaving sockets open which can trigger a ResourceWarning in some\u001b[39;00m\n\u001b[1;32m     57\u001b[0m \u001b[38;5;66;03m# cases, and look like a memory leak in others.\u001b[39;00m\n\u001b[1;32m     58\u001b[0m \u001b[38;5;28;01mwith\u001b[39;00m sessions\u001b[38;5;241m.\u001b[39mSession() \u001b[38;5;28;01mas\u001b[39;00m session:\n\u001b[0;32m---> 59\u001b[0m     \u001b[38;5;28;01mreturn\u001b[39;00m session\u001b[38;5;241m.\u001b[39mrequest(method\u001b[38;5;241m=\u001b[39mmethod, url\u001b[38;5;241m=\u001b[39murl, \u001b[38;5;241m*\u001b[39m\u001b[38;5;241m*\u001b[39mkwargs)\n",
      "File \u001b[0;32m~/anaconda3/lib/python3.11/site-packages/requests/sessions.py:589\u001b[0m, in \u001b[0;36mSession.request\u001b[0;34m(self, method, url, params, data, headers, cookies, files, auth, timeout, allow_redirects, proxies, hooks, stream, verify, cert, json)\u001b[0m\n\u001b[1;32m    584\u001b[0m send_kwargs \u001b[38;5;241m=\u001b[39m {\n\u001b[1;32m    585\u001b[0m     \u001b[38;5;124m\"\u001b[39m\u001b[38;5;124mtimeout\u001b[39m\u001b[38;5;124m\"\u001b[39m: timeout,\n\u001b[1;32m    586\u001b[0m     \u001b[38;5;124m\"\u001b[39m\u001b[38;5;124mallow_redirects\u001b[39m\u001b[38;5;124m\"\u001b[39m: allow_redirects,\n\u001b[1;32m    587\u001b[0m }\n\u001b[1;32m    588\u001b[0m send_kwargs\u001b[38;5;241m.\u001b[39mupdate(settings)\n\u001b[0;32m--> 589\u001b[0m resp \u001b[38;5;241m=\u001b[39m \u001b[38;5;28mself\u001b[39m\u001b[38;5;241m.\u001b[39msend(prep, \u001b[38;5;241m*\u001b[39m\u001b[38;5;241m*\u001b[39msend_kwargs)\n\u001b[1;32m    591\u001b[0m \u001b[38;5;28;01mreturn\u001b[39;00m resp\n",
      "File \u001b[0;32m~/anaconda3/lib/python3.11/site-packages/requests/sessions.py:703\u001b[0m, in \u001b[0;36mSession.send\u001b[0;34m(self, request, **kwargs)\u001b[0m\n\u001b[1;32m    700\u001b[0m start \u001b[38;5;241m=\u001b[39m preferred_clock()\n\u001b[1;32m    702\u001b[0m \u001b[38;5;66;03m# Send the request\u001b[39;00m\n\u001b[0;32m--> 703\u001b[0m r \u001b[38;5;241m=\u001b[39m adapter\u001b[38;5;241m.\u001b[39msend(request, \u001b[38;5;241m*\u001b[39m\u001b[38;5;241m*\u001b[39mkwargs)\n\u001b[1;32m    705\u001b[0m \u001b[38;5;66;03m# Total elapsed time of the request (approximately)\u001b[39;00m\n\u001b[1;32m    706\u001b[0m elapsed \u001b[38;5;241m=\u001b[39m preferred_clock() \u001b[38;5;241m-\u001b[39m start\n",
      "File \u001b[0;32m~/anaconda3/lib/python3.11/site-packages/requests/adapters.py:486\u001b[0m, in \u001b[0;36mHTTPAdapter.send\u001b[0;34m(self, request, stream, timeout, verify, cert, proxies)\u001b[0m\n\u001b[1;32m    483\u001b[0m     timeout \u001b[38;5;241m=\u001b[39m TimeoutSauce(connect\u001b[38;5;241m=\u001b[39mtimeout, read\u001b[38;5;241m=\u001b[39mtimeout)\n\u001b[1;32m    485\u001b[0m \u001b[38;5;28;01mtry\u001b[39;00m:\n\u001b[0;32m--> 486\u001b[0m     resp \u001b[38;5;241m=\u001b[39m conn\u001b[38;5;241m.\u001b[39murlopen(\n\u001b[1;32m    487\u001b[0m         method\u001b[38;5;241m=\u001b[39mrequest\u001b[38;5;241m.\u001b[39mmethod,\n\u001b[1;32m    488\u001b[0m         url\u001b[38;5;241m=\u001b[39murl,\n\u001b[1;32m    489\u001b[0m         body\u001b[38;5;241m=\u001b[39mrequest\u001b[38;5;241m.\u001b[39mbody,\n\u001b[1;32m    490\u001b[0m         headers\u001b[38;5;241m=\u001b[39mrequest\u001b[38;5;241m.\u001b[39mheaders,\n\u001b[1;32m    491\u001b[0m         redirect\u001b[38;5;241m=\u001b[39m\u001b[38;5;28;01mFalse\u001b[39;00m,\n\u001b[1;32m    492\u001b[0m         assert_same_host\u001b[38;5;241m=\u001b[39m\u001b[38;5;28;01mFalse\u001b[39;00m,\n\u001b[1;32m    493\u001b[0m         preload_content\u001b[38;5;241m=\u001b[39m\u001b[38;5;28;01mFalse\u001b[39;00m,\n\u001b[1;32m    494\u001b[0m         decode_content\u001b[38;5;241m=\u001b[39m\u001b[38;5;28;01mFalse\u001b[39;00m,\n\u001b[1;32m    495\u001b[0m         retries\u001b[38;5;241m=\u001b[39m\u001b[38;5;28mself\u001b[39m\u001b[38;5;241m.\u001b[39mmax_retries,\n\u001b[1;32m    496\u001b[0m         timeout\u001b[38;5;241m=\u001b[39mtimeout,\n\u001b[1;32m    497\u001b[0m         chunked\u001b[38;5;241m=\u001b[39mchunked,\n\u001b[1;32m    498\u001b[0m     )\n\u001b[1;32m    500\u001b[0m \u001b[38;5;28;01mexcept\u001b[39;00m (ProtocolError, \u001b[38;5;167;01mOSError\u001b[39;00m) \u001b[38;5;28;01mas\u001b[39;00m err:\n\u001b[1;32m    501\u001b[0m     \u001b[38;5;28;01mraise\u001b[39;00m \u001b[38;5;167;01mConnectionError\u001b[39;00m(err, request\u001b[38;5;241m=\u001b[39mrequest)\n",
      "File \u001b[0;32m~/anaconda3/lib/python3.11/site-packages/urllib3/connectionpool.py:714\u001b[0m, in \u001b[0;36mHTTPConnectionPool.urlopen\u001b[0;34m(self, method, url, body, headers, retries, redirect, assert_same_host, timeout, pool_timeout, release_conn, chunked, body_pos, **response_kw)\u001b[0m\n\u001b[1;32m    711\u001b[0m     \u001b[38;5;28mself\u001b[39m\u001b[38;5;241m.\u001b[39m_prepare_proxy(conn)\n\u001b[1;32m    713\u001b[0m \u001b[38;5;66;03m# Make the request on the httplib connection object.\u001b[39;00m\n\u001b[0;32m--> 714\u001b[0m httplib_response \u001b[38;5;241m=\u001b[39m \u001b[38;5;28mself\u001b[39m\u001b[38;5;241m.\u001b[39m_make_request(\n\u001b[1;32m    715\u001b[0m     conn,\n\u001b[1;32m    716\u001b[0m     method,\n\u001b[1;32m    717\u001b[0m     url,\n\u001b[1;32m    718\u001b[0m     timeout\u001b[38;5;241m=\u001b[39mtimeout_obj,\n\u001b[1;32m    719\u001b[0m     body\u001b[38;5;241m=\u001b[39mbody,\n\u001b[1;32m    720\u001b[0m     headers\u001b[38;5;241m=\u001b[39mheaders,\n\u001b[1;32m    721\u001b[0m     chunked\u001b[38;5;241m=\u001b[39mchunked,\n\u001b[1;32m    722\u001b[0m )\n\u001b[1;32m    724\u001b[0m \u001b[38;5;66;03m# If we're going to release the connection in ``finally:``, then\u001b[39;00m\n\u001b[1;32m    725\u001b[0m \u001b[38;5;66;03m# the response doesn't need to know about the connection. Otherwise\u001b[39;00m\n\u001b[1;32m    726\u001b[0m \u001b[38;5;66;03m# it will also try to release it and we'll have a double-release\u001b[39;00m\n\u001b[1;32m    727\u001b[0m \u001b[38;5;66;03m# mess.\u001b[39;00m\n\u001b[1;32m    728\u001b[0m response_conn \u001b[38;5;241m=\u001b[39m conn \u001b[38;5;28;01mif\u001b[39;00m \u001b[38;5;129;01mnot\u001b[39;00m release_conn \u001b[38;5;28;01melse\u001b[39;00m \u001b[38;5;28;01mNone\u001b[39;00m\n",
      "File \u001b[0;32m~/anaconda3/lib/python3.11/site-packages/urllib3/connectionpool.py:466\u001b[0m, in \u001b[0;36mHTTPConnectionPool._make_request\u001b[0;34m(self, conn, method, url, timeout, chunked, **httplib_request_kw)\u001b[0m\n\u001b[1;32m    461\u001b[0m             httplib_response \u001b[38;5;241m=\u001b[39m conn\u001b[38;5;241m.\u001b[39mgetresponse()\n\u001b[1;32m    462\u001b[0m         \u001b[38;5;28;01mexcept\u001b[39;00m \u001b[38;5;167;01mBaseException\u001b[39;00m \u001b[38;5;28;01mas\u001b[39;00m e:\n\u001b[1;32m    463\u001b[0m             \u001b[38;5;66;03m# Remove the TypeError from the exception chain in\u001b[39;00m\n\u001b[1;32m    464\u001b[0m             \u001b[38;5;66;03m# Python 3 (including for exceptions like SystemExit).\u001b[39;00m\n\u001b[1;32m    465\u001b[0m             \u001b[38;5;66;03m# Otherwise it looks like a bug in the code.\u001b[39;00m\n\u001b[0;32m--> 466\u001b[0m             six\u001b[38;5;241m.\u001b[39mraise_from(e, \u001b[38;5;28;01mNone\u001b[39;00m)\n\u001b[1;32m    467\u001b[0m \u001b[38;5;28;01mexcept\u001b[39;00m (SocketTimeout, BaseSSLError, SocketError) \u001b[38;5;28;01mas\u001b[39;00m e:\n\u001b[1;32m    468\u001b[0m     \u001b[38;5;28mself\u001b[39m\u001b[38;5;241m.\u001b[39m_raise_timeout(err\u001b[38;5;241m=\u001b[39me, url\u001b[38;5;241m=\u001b[39murl, timeout_value\u001b[38;5;241m=\u001b[39mread_timeout)\n",
      "File \u001b[0;32m<string>:3\u001b[0m, in \u001b[0;36mraise_from\u001b[0;34m(value, from_value)\u001b[0m\n",
      "File \u001b[0;32m~/anaconda3/lib/python3.11/site-packages/urllib3/connectionpool.py:461\u001b[0m, in \u001b[0;36mHTTPConnectionPool._make_request\u001b[0;34m(self, conn, method, url, timeout, chunked, **httplib_request_kw)\u001b[0m\n\u001b[1;32m    458\u001b[0m \u001b[38;5;28;01mexcept\u001b[39;00m \u001b[38;5;167;01mTypeError\u001b[39;00m:\n\u001b[1;32m    459\u001b[0m     \u001b[38;5;66;03m# Python 3\u001b[39;00m\n\u001b[1;32m    460\u001b[0m     \u001b[38;5;28;01mtry\u001b[39;00m:\n\u001b[0;32m--> 461\u001b[0m         httplib_response \u001b[38;5;241m=\u001b[39m conn\u001b[38;5;241m.\u001b[39mgetresponse()\n\u001b[1;32m    462\u001b[0m     \u001b[38;5;28;01mexcept\u001b[39;00m \u001b[38;5;167;01mBaseException\u001b[39;00m \u001b[38;5;28;01mas\u001b[39;00m e:\n\u001b[1;32m    463\u001b[0m         \u001b[38;5;66;03m# Remove the TypeError from the exception chain in\u001b[39;00m\n\u001b[1;32m    464\u001b[0m         \u001b[38;5;66;03m# Python 3 (including for exceptions like SystemExit).\u001b[39;00m\n\u001b[1;32m    465\u001b[0m         \u001b[38;5;66;03m# Otherwise it looks like a bug in the code.\u001b[39;00m\n\u001b[1;32m    466\u001b[0m         six\u001b[38;5;241m.\u001b[39mraise_from(e, \u001b[38;5;28;01mNone\u001b[39;00m)\n",
      "File \u001b[0;32m~/anaconda3/lib/python3.11/http/client.py:1378\u001b[0m, in \u001b[0;36mHTTPConnection.getresponse\u001b[0;34m(self)\u001b[0m\n\u001b[1;32m   1376\u001b[0m \u001b[38;5;28;01mtry\u001b[39;00m:\n\u001b[1;32m   1377\u001b[0m     \u001b[38;5;28;01mtry\u001b[39;00m:\n\u001b[0;32m-> 1378\u001b[0m         response\u001b[38;5;241m.\u001b[39mbegin()\n\u001b[1;32m   1379\u001b[0m     \u001b[38;5;28;01mexcept\u001b[39;00m \u001b[38;5;167;01mConnectionError\u001b[39;00m:\n\u001b[1;32m   1380\u001b[0m         \u001b[38;5;28mself\u001b[39m\u001b[38;5;241m.\u001b[39mclose()\n",
      "File \u001b[0;32m~/anaconda3/lib/python3.11/http/client.py:318\u001b[0m, in \u001b[0;36mHTTPResponse.begin\u001b[0;34m(self)\u001b[0m\n\u001b[1;32m    316\u001b[0m \u001b[38;5;66;03m# read until we get a non-100 response\u001b[39;00m\n\u001b[1;32m    317\u001b[0m \u001b[38;5;28;01mwhile\u001b[39;00m \u001b[38;5;28;01mTrue\u001b[39;00m:\n\u001b[0;32m--> 318\u001b[0m     version, status, reason \u001b[38;5;241m=\u001b[39m \u001b[38;5;28mself\u001b[39m\u001b[38;5;241m.\u001b[39m_read_status()\n\u001b[1;32m    319\u001b[0m     \u001b[38;5;28;01mif\u001b[39;00m status \u001b[38;5;241m!=\u001b[39m CONTINUE:\n\u001b[1;32m    320\u001b[0m         \u001b[38;5;28;01mbreak\u001b[39;00m\n",
      "File \u001b[0;32m~/anaconda3/lib/python3.11/http/client.py:279\u001b[0m, in \u001b[0;36mHTTPResponse._read_status\u001b[0;34m(self)\u001b[0m\n\u001b[1;32m    278\u001b[0m \u001b[38;5;28;01mdef\u001b[39;00m \u001b[38;5;21m_read_status\u001b[39m(\u001b[38;5;28mself\u001b[39m):\n\u001b[0;32m--> 279\u001b[0m     line \u001b[38;5;241m=\u001b[39m \u001b[38;5;28mstr\u001b[39m(\u001b[38;5;28mself\u001b[39m\u001b[38;5;241m.\u001b[39mfp\u001b[38;5;241m.\u001b[39mreadline(_MAXLINE \u001b[38;5;241m+\u001b[39m \u001b[38;5;241m1\u001b[39m), \u001b[38;5;124m\"\u001b[39m\u001b[38;5;124miso-8859-1\u001b[39m\u001b[38;5;124m\"\u001b[39m)\n\u001b[1;32m    280\u001b[0m     \u001b[38;5;28;01mif\u001b[39;00m \u001b[38;5;28mlen\u001b[39m(line) \u001b[38;5;241m>\u001b[39m _MAXLINE:\n\u001b[1;32m    281\u001b[0m         \u001b[38;5;28;01mraise\u001b[39;00m LineTooLong(\u001b[38;5;124m\"\u001b[39m\u001b[38;5;124mstatus line\u001b[39m\u001b[38;5;124m\"\u001b[39m)\n",
      "File \u001b[0;32m~/anaconda3/lib/python3.11/socket.py:706\u001b[0m, in \u001b[0;36mSocketIO.readinto\u001b[0;34m(self, b)\u001b[0m\n\u001b[1;32m    704\u001b[0m \u001b[38;5;28;01mwhile\u001b[39;00m \u001b[38;5;28;01mTrue\u001b[39;00m:\n\u001b[1;32m    705\u001b[0m     \u001b[38;5;28;01mtry\u001b[39;00m:\n\u001b[0;32m--> 706\u001b[0m         \u001b[38;5;28;01mreturn\u001b[39;00m \u001b[38;5;28mself\u001b[39m\u001b[38;5;241m.\u001b[39m_sock\u001b[38;5;241m.\u001b[39mrecv_into(b)\n\u001b[1;32m    707\u001b[0m     \u001b[38;5;28;01mexcept\u001b[39;00m timeout:\n\u001b[1;32m    708\u001b[0m         \u001b[38;5;28mself\u001b[39m\u001b[38;5;241m.\u001b[39m_timeout_occurred \u001b[38;5;241m=\u001b[39m \u001b[38;5;28;01mTrue\u001b[39;00m\n",
      "File \u001b[0;32m~/anaconda3/lib/python3.11/ssl.py:1311\u001b[0m, in \u001b[0;36mSSLSocket.recv_into\u001b[0;34m(self, buffer, nbytes, flags)\u001b[0m\n\u001b[1;32m   1307\u001b[0m     \u001b[38;5;28;01mif\u001b[39;00m flags \u001b[38;5;241m!=\u001b[39m \u001b[38;5;241m0\u001b[39m:\n\u001b[1;32m   1308\u001b[0m         \u001b[38;5;28;01mraise\u001b[39;00m \u001b[38;5;167;01mValueError\u001b[39;00m(\n\u001b[1;32m   1309\u001b[0m           \u001b[38;5;124m\"\u001b[39m\u001b[38;5;124mnon-zero flags not allowed in calls to recv_into() on \u001b[39m\u001b[38;5;132;01m%s\u001b[39;00m\u001b[38;5;124m\"\u001b[39m \u001b[38;5;241m%\u001b[39m\n\u001b[1;32m   1310\u001b[0m           \u001b[38;5;28mself\u001b[39m\u001b[38;5;241m.\u001b[39m\u001b[38;5;18m__class__\u001b[39m)\n\u001b[0;32m-> 1311\u001b[0m     \u001b[38;5;28;01mreturn\u001b[39;00m \u001b[38;5;28mself\u001b[39m\u001b[38;5;241m.\u001b[39mread(nbytes, buffer)\n\u001b[1;32m   1312\u001b[0m \u001b[38;5;28;01melse\u001b[39;00m:\n\u001b[1;32m   1313\u001b[0m     \u001b[38;5;28;01mreturn\u001b[39;00m \u001b[38;5;28msuper\u001b[39m()\u001b[38;5;241m.\u001b[39mrecv_into(buffer, nbytes, flags)\n",
      "File \u001b[0;32m~/anaconda3/lib/python3.11/ssl.py:1167\u001b[0m, in \u001b[0;36mSSLSocket.read\u001b[0;34m(self, len, buffer)\u001b[0m\n\u001b[1;32m   1165\u001b[0m \u001b[38;5;28;01mtry\u001b[39;00m:\n\u001b[1;32m   1166\u001b[0m     \u001b[38;5;28;01mif\u001b[39;00m buffer \u001b[38;5;129;01mis\u001b[39;00m \u001b[38;5;129;01mnot\u001b[39;00m \u001b[38;5;28;01mNone\u001b[39;00m:\n\u001b[0;32m-> 1167\u001b[0m         \u001b[38;5;28;01mreturn\u001b[39;00m \u001b[38;5;28mself\u001b[39m\u001b[38;5;241m.\u001b[39m_sslobj\u001b[38;5;241m.\u001b[39mread(\u001b[38;5;28mlen\u001b[39m, buffer)\n\u001b[1;32m   1168\u001b[0m     \u001b[38;5;28;01melse\u001b[39;00m:\n\u001b[1;32m   1169\u001b[0m         \u001b[38;5;28;01mreturn\u001b[39;00m \u001b[38;5;28mself\u001b[39m\u001b[38;5;241m.\u001b[39m_sslobj\u001b[38;5;241m.\u001b[39mread(\u001b[38;5;28mlen\u001b[39m)\n",
      "\u001b[0;31mKeyboardInterrupt\u001b[0m: "
     ]
    }
   ],
   "source": [
    "# testlink='https://www.beeradvocate.com/beer/profile/143/1352/'\n",
    "# for page pagination, ran a range to an imposiblly high number, by 50  (results per page that url uses to fill start param)\n",
    "root='https://www.beeradvocate.com'\n",
    "header= {'User-Agent': 'Mozilla/5.0 (Macintosh; Intel Mac OS X 10_15_7) AppleWebKit/537.36 (KHTML, like Gecko) Chrome/121.0.0.0 Safari/537.36'} \n",
    "\n",
    "beerlist=[]\n",
    "for x in range(0,100000,50):\n",
    "    if content.status_code == 200:    \n",
    "\n",
    "        website=f'{root}/beer/styles/32/?sort=revsD&start={x}'\n",
    "        scraper = cloudscraper.create_scraper() \n",
    "        info = scraper.get(website)  \n",
    "        soup = BeautifulSoup(info.text, 'lxml')\n",
    "        table=soup.find('table')\n",
    "\n",
    "        beerlinks=[]\n",
    "        for link in table.find_all(\"a\", href=re.compile(\"profile\"))[::2]:\n",
    "            beerlinks.append(root + link['href'])\n",
    "\n",
    "\n",
    "        for link in beerlinks:\n",
    "            r=requests.get(link, headers=header)\n",
    "            soup=BeautifulSoup(r.content,'lxml')\n",
    "            name=soup.h1.find(string=True)\n",
    "            try:    \n",
    "                brewery=soup.find_all('a',attrs={'class':'Tooltip'})[4].text\n",
    "            except:\n",
    "                brewery= 'Na'\n",
    "            try:\n",
    "                location=soup.find_all('dd', attrs={'class':'beerstats'})[1].a.text\n",
    "            except:\n",
    "                location= 'Na'\n",
    "            try:\n",
    "                location2=soup.find_all('dd', attrs={'class':'beerstats'})[1].find_all('a')[1].text\n",
    "            except:\n",
    "                location2= 'Na'\n",
    "            try:\n",
    "                style=soup.find_all('a',attrs={'class':'Tooltip'})[5].text\n",
    "            except:\n",
    "                style= 'Na'\n",
    "            try:\n",
    "                ba_score=soup.find_all('span',attrs={'class':'Tooltip'})[5].text\n",
    "            except:\n",
    "                ba_score= 'Na'\n",
    "            try:\n",
    "                over_all_rank=soup.find_all('a',attrs={'class':'Tooltip'})[7].text\n",
    "            except:\n",
    "                over_all_rank= 'Na'\n",
    "            try:\n",
    "                style_rank=soup.find_all('a',attrs={'class':'Tooltip'})[6].text\n",
    "            except:\n",
    "                style_rank= 'Na'\n",
    "            try:\n",
    "                alcohol_percent=soup.find_all('span',attrs={'class':'Tooltip'})[3].text\n",
    "            except:\n",
    "                alcohol_percent= 'Na'\n",
    "            try:\n",
    "                avg_rating=soup.find_all('span',attrs={'class':'Tooltip'})[7].text\n",
    "            except:\n",
    "                avg_rating= 'Na'\n",
    "            try:\n",
    "                percent_dev=soup.find_all('span',attrs={'class':'Tooltip'})[8].text\n",
    "            except:\n",
    "                percent_dev= 'Na'\n",
    "            try:\n",
    "                review_count=soup.find_all('span',attrs={'class':'Tooltip'})[10].text\n",
    "            except:\n",
    "                review_count= 'Na'\n",
    "            try:\n",
    "                rating_count=soup.find_all('span',attrs={'class':'Tooltip'})[12].text\n",
    "            except:\n",
    "                rating_count= 'Na'\n",
    "            try:\n",
    "                status=soup.find_all('span',attrs={'class':'Tooltip'})[14].text\n",
    "            except:\n",
    "                status= 'Na'\n",
    "            try:\n",
    "                date_added=soup.find_all('span',attrs={'class':'Tooltip'})[18].text\n",
    "            except:\n",
    "                date_added= 'Na'\n",
    "            beer_info= {\n",
    "                        'name': name,\n",
    "                        'brewery': brewery,\n",
    "                        'location':location,\n",
    "                        'location2':location2,\n",
    "                        'style': style,\n",
    "                        'ba_score':ba_score,\n",
    "                        'over_all_rank': over_all_rank,\n",
    "                        'style_rank': style_rank,\n",
    "                        'alcohol_percent': alcohol_percent,\n",
    "                        'avg_rating':avg_rating,\n",
    "                        'percent_dev': percent_dev,\n",
    "                        'review_count': review_count,\n",
    "                        'rating_count':rating_count,\n",
    "                        'status': status,\n",
    "                        'date_added': date_added\n",
    "                            }\n",
    "            beerlist.append(beer_info)\n",
    "            print(f'{x}-{link}-{name}')\n",
    "    else:\n",
    "        break          \n",
    "\n",
    "print(beerlist)\n",
    "                  \n",
    "# print({variable 1 i am getting out of the loop this pass}, {variable 2 im getting out of the loop this pass}')"
   ]
  },
  {
   "cell_type": "code",
   "execution_count": null,
   "id": "97258446",
   "metadata": {},
   "outputs": [],
   "source": [
    "df=pd.DataFrame(beerlist)\n",
    "df"
   ]
  },
  {
   "cell_type": "code",
   "execution_count": null,
   "id": "319f88eb",
   "metadata": {
    "scrolled": true
   },
   "outputs": [],
   "source": [
    "len(beerlinks)"
   ]
  },
  {
   "cell_type": "markdown",
   "id": "74fbdbc1",
   "metadata": {},
   "source": [
    "##### Building together code to loop through links of different styles of beer (zooming out another level/ another loop)\n",
    "-challanges: url for different beer styles has a slight change in on of the parameters for each style of beer, need to be mindful of this in loop, meaing a few changes must be implimented on code above\n"
   ]
  },
  {
   "cell_type": "code",
   "execution_count": 61,
   "id": "9000c683",
   "metadata": {},
   "outputs": [],
   "source": [
    "root='https://www.beeradvocate.com'\n",
    "header= {'User-Agent': 'Mozilla/5.0 (Macintosh; Intel Mac OS X 10_15_7) AppleWebKit/537.36 (KHTML, like Gecko) Chrome/121.0.0.0 Safari/537.36'} \n",
    "\n",
    "    \n",
    "website=f'{root}/beer/styles/'\n",
    "scraper = cloudscraper.create_scraper() \n",
    "info = scraper.get(website)  \n",
    "soup = BeautifulSoup(info.text, 'lxml')\n",
    "container=soup.find('div',{'id':'ba-content'})\n",
    "container.find_all('a', href=True)[0:-1]\n",
    "\n",
    "style_links=[]\n",
    "for link in container.find_all('a', href=True)[0:-1]:\n",
    "    style_links.append(link['href'])\n",
    "\n",
    "#  beerlinks=[]\n",
    "#         for link in table.find_all(\"a\", href=re.compile(\"profile\"))[::2]:\n",
    "#             beerlinks.append(root + link['href'])"
   ]
  },
  {
   "cell_type": "code",
   "execution_count": 63,
   "id": "09854b87",
   "metadata": {},
   "outputs": [
    {
     "data": {
      "text/plain": [
       "['/beer/styles/32/',\n",
       " '/beer/styles/35/',\n",
       " '/beer/styles/36/',\n",
       " '/beer/styles/33/',\n",
       " '/beer/styles/92/',\n",
       " '/beer/styles/86/',\n",
       " '/beer/styles/73/',\n",
       " '/beer/styles/119/',\n",
       " '/beer/styles/74/',\n",
       " '/beer/styles/75/',\n",
       " '/beer/styles/57/',\n",
       " '/beer/styles/18/',\n",
       " '/beer/styles/68/',\n",
       " '/beer/styles/47/',\n",
       " '/beer/styles/147/',\n",
       " '/beer/styles/238/',\n",
       " '/beer/styles/240/',\n",
       " '/beer/styles/149/',\n",
       " '/beer/styles/29/',\n",
       " '/beer/styles/46/',\n",
       " '/beer/styles/7/',\n",
       " '/beer/styles/31/',\n",
       " '/beer/styles/30/',\n",
       " '/beer/styles/141/',\n",
       " '/beer/styles/114/',\n",
       " '/beer/styles/132/',\n",
       " '/beer/styles/6/',\n",
       " '/beer/styles/116/',\n",
       " '/beer/styles/174/',\n",
       " '/beer/styles/175/',\n",
       " '/beer/styles/199/',\n",
       " '/beer/styles/150/',\n",
       " '/beer/styles/140/',\n",
       " '/beer/styles/237/',\n",
       " '/beer/styles/189/',\n",
       " '/beer/styles/128/',\n",
       " '/beer/styles/99/',\n",
       " '/beer/styles/97/',\n",
       " '/beer/styles/190/',\n",
       " '/beer/styles/54/',\n",
       " '/beer/styles/127/',\n",
       " '/beer/styles/98/',\n",
       " '/beer/styles/154/',\n",
       " '/beer/styles/76/',\n",
       " '/beer/styles/66/',\n",
       " '/beer/styles/241/',\n",
       " '/beer/styles/161/',\n",
       " '/beer/styles/85/',\n",
       " '/beer/styles/129/',\n",
       " '/beer/styles/38/',\n",
       " '/beer/styles/155/',\n",
       " '/beer/styles/40/',\n",
       " '/beer/styles/239/',\n",
       " '/beer/styles/20/',\n",
       " '/beer/styles/37/',\n",
       " '/beer/styles/43/',\n",
       " '/beer/styles/235/',\n",
       " '/beer/styles/41/',\n",
       " '/beer/styles/21/',\n",
       " '/beer/styles/164/',\n",
       " '/beer/styles/233/',\n",
       " '/beer/styles/131/',\n",
       " '/beer/styles/39/',\n",
       " '/beer/styles/42/',\n",
       " '/beer/styles/159/',\n",
       " '/beer/styles/80/',\n",
       " '/beer/styles/101/',\n",
       " '/beer/styles/192/',\n",
       " '/beer/styles/193/',\n",
       " '/beer/styles/194/',\n",
       " '/beer/styles/163/',\n",
       " '/beer/styles/9/',\n",
       " '/beer/styles/70/',\n",
       " '/beer/styles/168/',\n",
       " '/beer/styles/8/',\n",
       " '/beer/styles/169/',\n",
       " '/beer/styles/173/',\n",
       " '/beer/styles/5/',\n",
       " '/beer/styles/72/',\n",
       " '/beer/styles/12/',\n",
       " '/beer/styles/148/',\n",
       " '/beer/styles/11/',\n",
       " '/beer/styles/157/',\n",
       " '/beer/styles/158/',\n",
       " '/beer/styles/13/',\n",
       " '/beer/styles/95/',\n",
       " '/beer/styles/162/',\n",
       " '/beer/styles/69/',\n",
       " '/beer/styles/84/',\n",
       " '/beer/styles/82/',\n",
       " '/beer/styles/19/',\n",
       " '/beer/styles/78/',\n",
       " '/beer/styles/56/',\n",
       " '/beer/styles/55/',\n",
       " '/beer/styles/152/',\n",
       " '/beer/styles/165/',\n",
       " '/beer/styles/191/',\n",
       " '/beer/styles/79/',\n",
       " '/beer/styles/142/',\n",
       " '/beer/styles/77/',\n",
       " '/beer/styles/58/',\n",
       " '/beer/styles/60/',\n",
       " '/beer/styles/94/',\n",
       " '/beer/styles/93/',\n",
       " '/beer/styles/91/',\n",
       " '/beer/styles/236/',\n",
       " '/beer/styles/89/',\n",
       " '/beer/styles/90/',\n",
       " '/beer/styles/48/',\n",
       " '/beer/styles/87/',\n",
       " '/beer/styles/198/',\n",
       " '/beer/styles/15/',\n",
       " '/beer/styles/52/',\n",
       " '/beer/styles/53/',\n",
       " '/beer/styles/10/',\n",
       " '/beer/styles/234/',\n",
       " '/beer/styles/16/',\n",
       " '/beer/styles/14/',\n",
       " '/beer/styles/50/',\n",
       " '/beer/styles/171/']"
      ]
     },
     "execution_count": 63,
     "metadata": {},
     "output_type": "execute_result"
    }
   ],
   "source": [
    "style_links"
   ]
  },
  {
   "cell_type": "code",
   "execution_count": null,
   "id": "3a699477",
   "metadata": {},
   "outputs": [
    {
     "name": "stdout",
     "output_type": "stream",
     "text": [
      "/beer/styles/32/-0-https://www.beeradvocate.com/beer/profile/143/1352/-Shiner Bock\n",
      "/beer/styles/32/-0-https://www.beeradvocate.com/beer/profile/35/14309/-Samuel Adams Chocolate Bock\n",
      "/beer/styles/32/-0-https://www.beeradvocate.com/beer/profile/29/1252/-Michelob AmberBock\n",
      "/beer/styles/32/-0-https://www.beeradvocate.com/beer/profile/35/68000/-Samuel Adams Cherry Chocolate Bock\n",
      "/beer/styles/32/-0-https://www.beeradvocate.com/beer/profile/590/2565/-Uff-da\n",
      "/beer/styles/32/-0-https://www.beeradvocate.com/beer/profile/35/74579/-Samuel Adams The Vixen\n",
      "/beer/styles/32/-0-https://www.beeradvocate.com/beer/profile/590/62671/-Back Forty Bock\n",
      "/beer/styles/32/-0-https://www.beeradvocate.com/beer/profile/125/2272/-St. Nikolaus Bock Bier\n",
      "/beer/styles/32/-0-https://www.beeradvocate.com/beer/profile/337/1070/-Spring Bock\n",
      "/beer/styles/32/-0-https://www.beeradvocate.com/beer/profile/2137/3835/-Pandora's Bock\n",
      "/beer/styles/32/-0-https://www.beeradvocate.com/beer/profile/302/41422/-Genesee Spring Bock\n",
      "/beer/styles/32/-0-https://www.beeradvocate.com/beer/profile/66/1873/-Ur-Bock Dunkel\n",
      "/beer/styles/32/-0-https://www.beeradvocate.com/beer/profile/184/20299/-La Trappe Bockbier\n",
      "/beer/styles/32/-0-https://www.beeradvocate.com/beer/profile/35/520715/-Samuel Adams Winter Lager\n",
      "/beer/styles/32/-0-https://www.beeradvocate.com/beer/profile/428/14899/-Christmas Bock\n",
      "/beer/styles/32/-0-https://www.beeradvocate.com/beer/profile/417/47795/-Schell's Bock\n",
      "/beer/styles/32/-0-https://www.beeradvocate.com/beer/profile/57/7714/-Noche Buena\n",
      "/beer/styles/32/-0-https://www.beeradvocate.com/beer/profile/35/225611/-Samuel Adams Toasted Caramel Bock\n",
      "/beer/styles/32/-0-https://www.beeradvocate.com/beer/profile/107/7904/-Schokolade Bock\n",
      "/beer/styles/32/-0-https://www.beeradvocate.com/beer/profile/99/75739/-Saranac Chocolate Lager\n",
      "/beer/styles/32/-0-https://www.beeradvocate.com/beer/profile/1819/31215/-Brother Benedict's Bock\n",
      "/beer/styles/32/-0-https://www.beeradvocate.com/beer/profile/455/2250/-Creemore Springs UrBock\n",
      "/beer/styles/32/-0-https://www.beeradvocate.com/beer/profile/15280/39884/-Winterbock\n",
      "/beer/styles/32/-0-https://www.beeradvocate.com/beer/profile/30128/86334/-Revolver Bock\n",
      "/beer/styles/32/-0-https://www.beeradvocate.com/beer/profile/628/5119/-Holsten Festbock\n",
      "/beer/styles/32/-0-https://www.beeradvocate.com/beer/profile/220/283116/-LAG Lagunator Lager\n",
      "/beer/styles/32/-0-https://www.beeradvocate.com/beer/profile/710/507335/-Toasted Bock\n",
      "/beer/styles/32/-0-https://www.beeradvocate.com/beer/profile/1805/20968/-Mountain Holidays In Vermont\n",
      "/beer/styles/32/-0-https://www.beeradvocate.com/beer/profile/5502/27167/-Koźlak\n",
      "/beer/styles/32/-0-https://www.beeradvocate.com/beer/profile/435/6340/-Huber Bock Beer\n",
      "/beer/styles/32/-0-https://www.beeradvocate.com/beer/profile/410/144046/-Block House Double Chocolate Bock\n",
      "/beer/styles/32/-0-https://www.beeradvocate.com/beer/profile/35/289887/-Samuel Adams Amber Bock\n",
      "/beer/styles/32/-0-https://www.beeradvocate.com/beer/profile/31272/171485/-Bockslider Toadies Texas Bock\n",
      "/beer/styles/32/-0-https://www.beeradvocate.com/beer/profile/38015/170131/-Love Honey\n",
      "/beer/styles/32/-0-https://www.beeradvocate.com/beer/profile/7734/76116/-Nero's 1st Century Double Dark Malt Ale\n",
      "/beer/styles/32/-0-https://www.beeradvocate.com/beer/profile/26762/401984/-Crawford Bock\n",
      "/beer/styles/32/-0-https://www.beeradvocate.com/beer/profile/514/11985/-Bokbier\n",
      "/beer/styles/32/-0-https://www.beeradvocate.com/beer/profile/46029/453249/-Der Schwarze Bock\n",
      "/beer/styles/32/-0-https://www.beeradvocate.com/beer/profile/412/13231/-Mönchshof Bockbier\n",
      "/beer/styles/32/-0-https://www.beeradvocate.com/beer/profile/2951/42771/-Battlefield Bock\n",
      "/beer/styles/32/-0-https://www.beeradvocate.com/beer/profile/321/872/-Chouffe-Bok 6666\n",
      "/beer/styles/32/-0-https://www.beeradvocate.com/beer/profile/1819/125387/-The Bennie\n",
      "/beer/styles/32/-0-https://www.beeradvocate.com/beer/profile/553/26322/-Christoffel Bokbier\n",
      "/beer/styles/32/-0-https://www.beeradvocate.com/beer/profile/185/664/-Aass Bock\n",
      "/beer/styles/32/-0-https://www.beeradvocate.com/beer/profile/2854/21493/-Flensburger Winterbock\n",
      "/beer/styles/32/-0-https://www.beeradvocate.com/beer/profile/623/93901/-Zywiec Bock\n",
      "/beer/styles/32/-0-https://www.beeradvocate.com/beer/profile/817/5286/-Original Stieglbock\n",
      "/beer/styles/32/-0-https://www.beeradvocate.com/beer/profile/46663/243251/-Billy Jenkins Session Bock\n",
      "/beer/styles/32/-0-https://www.beeradvocate.com/beer/profile/150/28396/-Stegmaier Brewhouse Bock\n",
      "/beer/styles/32/-0-https://www.beeradvocate.com/beer/profile/503/9465/-Dreher Bak\n",
      "/beer/styles/32/-50-https://www.beeradvocate.com/beer/profile/143/1352/-Shiner Bock\n",
      "/beer/styles/32/-50-https://www.beeradvocate.com/beer/profile/35/14309/-Samuel Adams Chocolate Bock\n",
      "/beer/styles/32/-50-https://www.beeradvocate.com/beer/profile/29/1252/-Michelob AmberBock\n",
      "/beer/styles/32/-50-https://www.beeradvocate.com/beer/profile/35/68000/-Samuel Adams Cherry Chocolate Bock\n",
      "/beer/styles/32/-50-https://www.beeradvocate.com/beer/profile/590/2565/-Uff-da\n",
      "/beer/styles/32/-50-https://www.beeradvocate.com/beer/profile/35/74579/-Samuel Adams The Vixen\n",
      "/beer/styles/32/-50-https://www.beeradvocate.com/beer/profile/590/62671/-Back Forty Bock\n",
      "/beer/styles/32/-50-https://www.beeradvocate.com/beer/profile/125/2272/-St. Nikolaus Bock Bier\n",
      "/beer/styles/32/-50-https://www.beeradvocate.com/beer/profile/337/1070/-Spring Bock\n",
      "/beer/styles/32/-50-https://www.beeradvocate.com/beer/profile/2137/3835/-Pandora's Bock\n",
      "/beer/styles/32/-50-https://www.beeradvocate.com/beer/profile/302/41422/-Genesee Spring Bock\n",
      "/beer/styles/32/-50-https://www.beeradvocate.com/beer/profile/66/1873/-Ur-Bock Dunkel\n",
      "/beer/styles/32/-50-https://www.beeradvocate.com/beer/profile/184/20299/-La Trappe Bockbier\n",
      "/beer/styles/32/-50-https://www.beeradvocate.com/beer/profile/35/520715/-Samuel Adams Winter Lager\n",
      "/beer/styles/32/-50-https://www.beeradvocate.com/beer/profile/428/14899/-Christmas Bock\n",
      "/beer/styles/32/-50-https://www.beeradvocate.com/beer/profile/417/47795/-Schell's Bock\n",
      "/beer/styles/32/-50-https://www.beeradvocate.com/beer/profile/57/7714/-Noche Buena\n",
      "/beer/styles/32/-50-https://www.beeradvocate.com/beer/profile/35/225611/-Samuel Adams Toasted Caramel Bock\n",
      "/beer/styles/32/-50-https://www.beeradvocate.com/beer/profile/107/7904/-Schokolade Bock\n",
      "/beer/styles/32/-50-https://www.beeradvocate.com/beer/profile/99/75739/-Saranac Chocolate Lager\n",
      "/beer/styles/32/-50-https://www.beeradvocate.com/beer/profile/1819/31215/-Brother Benedict's Bock\n",
      "/beer/styles/32/-50-https://www.beeradvocate.com/beer/profile/455/2250/-Creemore Springs UrBock\n",
      "/beer/styles/32/-50-https://www.beeradvocate.com/beer/profile/15280/39884/-Winterbock\n",
      "/beer/styles/32/-50-https://www.beeradvocate.com/beer/profile/30128/86334/-Revolver Bock\n",
      "/beer/styles/32/-50-https://www.beeradvocate.com/beer/profile/628/5119/-Holsten Festbock\n",
      "/beer/styles/32/-50-https://www.beeradvocate.com/beer/profile/220/283116/-LAG Lagunator Lager\n",
      "/beer/styles/32/-50-https://www.beeradvocate.com/beer/profile/710/507335/-Toasted Bock\n",
      "/beer/styles/32/-50-https://www.beeradvocate.com/beer/profile/1805/20968/-Mountain Holidays In Vermont\n",
      "/beer/styles/32/-50-https://www.beeradvocate.com/beer/profile/5502/27167/-Koźlak\n",
      "/beer/styles/32/-50-https://www.beeradvocate.com/beer/profile/435/6340/-Huber Bock Beer\n",
      "/beer/styles/32/-50-https://www.beeradvocate.com/beer/profile/410/144046/-Block House Double Chocolate Bock\n",
      "/beer/styles/32/-50-https://www.beeradvocate.com/beer/profile/35/289887/-Samuel Adams Amber Bock\n",
      "/beer/styles/32/-50-https://www.beeradvocate.com/beer/profile/31272/171485/-Bockslider Toadies Texas Bock\n",
      "/beer/styles/32/-50-https://www.beeradvocate.com/beer/profile/38015/170131/-Love Honey\n",
      "/beer/styles/32/-50-https://www.beeradvocate.com/beer/profile/7734/76116/-Nero's 1st Century Double Dark Malt Ale\n",
      "/beer/styles/32/-50-https://www.beeradvocate.com/beer/profile/26762/401984/-Crawford Bock\n",
      "/beer/styles/32/-50-https://www.beeradvocate.com/beer/profile/514/11985/-Bokbier\n",
      "/beer/styles/32/-50-https://www.beeradvocate.com/beer/profile/46029/453249/-Der Schwarze Bock\n",
      "/beer/styles/32/-50-https://www.beeradvocate.com/beer/profile/412/13231/-Mönchshof Bockbier\n",
      "/beer/styles/32/-50-https://www.beeradvocate.com/beer/profile/2951/42771/-Battlefield Bock\n"
     ]
    },
    {
     "name": "stdout",
     "output_type": "stream",
     "text": [
      "/beer/styles/32/-50-https://www.beeradvocate.com/beer/profile/321/872/-Chouffe-Bok 6666\n",
      "/beer/styles/32/-50-https://www.beeradvocate.com/beer/profile/1819/125387/-The Bennie\n",
      "/beer/styles/32/-50-https://www.beeradvocate.com/beer/profile/553/26322/-Christoffel Bokbier\n",
      "/beer/styles/32/-50-https://www.beeradvocate.com/beer/profile/185/664/-Aass Bock\n",
      "/beer/styles/32/-50-https://www.beeradvocate.com/beer/profile/2854/21493/-Flensburger Winterbock\n",
      "/beer/styles/32/-50-https://www.beeradvocate.com/beer/profile/623/93901/-Zywiec Bock\n",
      "/beer/styles/32/-50-https://www.beeradvocate.com/beer/profile/817/5286/-Original Stieglbock\n",
      "/beer/styles/32/-50-https://www.beeradvocate.com/beer/profile/46663/243251/-Billy Jenkins Session Bock\n",
      "/beer/styles/32/-50-https://www.beeradvocate.com/beer/profile/150/28396/-Stegmaier Brewhouse Bock\n",
      "/beer/styles/32/-50-https://www.beeradvocate.com/beer/profile/503/9465/-Dreher Bak\n"
     ]
    }
   ],
   "source": [
    "root='https://www.beeradvocate.com'\n",
    "header= {'User-Agent': 'Mozilla/5.0 (Macintosh; Intel Mac OS X 10_15_7) AppleWebKit/537.36 (KHTML, like Gecko) Chrome/121.0.0.0 Safari/537.36'} \n",
    "\n",
    "website=f'{root}/beer/styles/'\n",
    "scraper = cloudscraper.create_scraper() \n",
    "info = scraper.get(website)  \n",
    "soup = BeautifulSoup(info.text, 'lxml')\n",
    "container=soup.find('div',{'id':'ba-content'})\n",
    "\n",
    "\n",
    "style_href=[]\n",
    "for link in container.find_all('a', href=True)[0:-1]:\n",
    "    style_href.append(link['href'])\n",
    "\n",
    "for h in style_href:\n",
    "    website=f'{root}{h}'\n",
    "    time.sleep(randint(5,7))\n",
    "    beerlist=[]\n",
    "    for x in range(0,100000,50):\n",
    "        if content.status_code == 200:    \n",
    "\n",
    "            website=f'{website}{x}'\n",
    "            scraper = cloudscraper.create_scraper() \n",
    "            info = scraper.get(website)  \n",
    "            soup = BeautifulSoup(info.text, 'lxml')\n",
    "            table=soup.find('table')\n",
    "\n",
    "            beerlinks=[]\n",
    "            for link in table.find_all(\"a\", href=re.compile(\"profile\"))[::2]:\n",
    "                beerlinks.append(root + link['href'])\n",
    "\n",
    "\n",
    "            for link in beerlinks:\n",
    "                r=requests.get(link, headers=header)\n",
    "                soup=BeautifulSoup(r.content,'lxml')\n",
    "                name=soup.h1.find(string=True)\n",
    "                try:    \n",
    "                    brewery=soup.find_all('a',attrs={'class':'Tooltip'})[4].text\n",
    "                except:\n",
    "                    brewery= 'Na'\n",
    "                try:\n",
    "                    location=soup.find_all('dd', attrs={'class':'beerstats'})[1].a.text\n",
    "                except:\n",
    "                    location= 'Na'\n",
    "                try:\n",
    "                    location2=soup.find_all('dd', attrs={'class':'beerstats'})[1].find_all('a')[1].text\n",
    "                except:\n",
    "                    location2= 'Na'\n",
    "                try:\n",
    "                    style=soup.find_all('a',attrs={'class':'Tooltip'})[5].text\n",
    "                except:\n",
    "                    style= 'Na'\n",
    "                try:\n",
    "                    ba_score=soup.find_all('span',attrs={'class':'Tooltip'})[5].text\n",
    "                except:\n",
    "                    ba_score= 'Na'\n",
    "                try:\n",
    "                    over_all_rank=soup.find_all('a',attrs={'class':'Tooltip'})[7].text\n",
    "                except:\n",
    "                    over_all_rank= 'Na'\n",
    "                try:\n",
    "                    style_rank=soup.find_all('a',attrs={'class':'Tooltip'})[6].text\n",
    "                except:\n",
    "                    style_rank= 'Na'\n",
    "                try:\n",
    "                    alcohol_percent=soup.find_all('span',attrs={'class':'Tooltip'})[3].text\n",
    "                except:\n",
    "                    alcohol_percent= 'Na'\n",
    "                try:\n",
    "                    avg_rating=soup.find_all('span',attrs={'class':'Tooltip'})[7].text\n",
    "                except:\n",
    "                    avg_rating= 'Na'\n",
    "                try:\n",
    "                    percent_dev=soup.find_all('span',attrs={'class':'Tooltip'})[8].text\n",
    "                except:\n",
    "                    percent_dev= 'Na'\n",
    "                try:\n",
    "                    review_count=soup.find_all('span',attrs={'class':'Tooltip'})[10].text\n",
    "                except:\n",
    "                    review_count= 'Na'\n",
    "                try:\n",
    "                    rating_count=soup.find_all('span',attrs={'class':'Tooltip'})[12].text\n",
    "                except:\n",
    "                    rating_count= 'Na'\n",
    "                try:\n",
    "                    status=soup.find_all('span',attrs={'class':'Tooltip'})[14].text\n",
    "                except:\n",
    "                    status= 'Na'\n",
    "                try:\n",
    "                    date_added=soup.find_all('span',attrs={'class':'Tooltip'})[18].text\n",
    "                except:\n",
    "                    date_added= 'Na'\n",
    "                beer_info= {\n",
    "                            'name': name,\n",
    "                            'brewery': brewery,\n",
    "                            'location':location,\n",
    "                            'location2':location2,\n",
    "                            'style': style,\n",
    "                            'ba_score':ba_score,\n",
    "                            'over_all_rank': over_all_rank,\n",
    "                            'style_rank': style_rank,\n",
    "                            'alcohol_percent': alcohol_percent,\n",
    "                            'avg_rating':avg_rating,\n",
    "                            'percent_dev': percent_dev,\n",
    "                            'review_count': review_count,\n",
    "                            'rating_count':rating_count,\n",
    "                            'status': status,\n",
    "                            'date_added': date_added\n",
    "                                }\n",
    "                beerlist.append(beer_info)\n",
    "                print(f'{h}-{x}-{link}-{name}')\n",
    "        else:\n",
    "            break          \n",
    "\n",
    "print(beerlist)\n",
    "# print(f'{x}-{link}-{name}')                  "
   ]
  },
  {
   "cell_type": "code",
   "execution_count": null,
   "id": "5457a7f5",
   "metadata": {},
   "outputs": [],
   "source": []
  }
 ],
 "metadata": {
  "kernelspec": {
   "display_name": "Python 3 (ipykernel)",
   "language": "python",
   "name": "python3"
  },
  "language_info": {
   "codemirror_mode": {
    "name": "ipython",
    "version": 3
   },
   "file_extension": ".py",
   "mimetype": "text/x-python",
   "name": "python",
   "nbconvert_exporter": "python",
   "pygments_lexer": "ipython3",
   "version": "3.11.5"
  }
 },
 "nbformat": 4,
 "nbformat_minor": 5
}
