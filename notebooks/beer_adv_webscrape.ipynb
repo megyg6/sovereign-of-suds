{
 "cells": [
  {
   "cell_type": "markdown",
   "id": "99013284",
   "metadata": {},
   "source": [
    "#### Goal for this webscrape phase: \"go into\" a page with links to \"zoom in\"/loop through links that then take you to another level that will then loop through links to scrape each webpage with in\n",
    "    Challenge:\n",
    "    -there are 14 styles (categories) and around ~120 links (subcategories)\n",
    "    -each style can have multiptle pages to loop through"
   ]
  },
  {
   "cell_type": "markdown",
   "id": "a4af4fa1",
   "metadata": {},
   "source": [
    "###### Starting small by scraping one page"
   ]
  },
  {
   "cell_type": "code",
   "execution_count": 114,
   "id": "fd3fd91a",
   "metadata": {},
   "outputs": [],
   "source": [
    "import cloudscraper\n",
    "import requests\n",
    "import re\n",
    "from bs4 import BeautifulSoup\n",
    "import pandas as pd  \n",
    "import time "
   ]
  },
  {
   "cell_type": "code",
   "execution_count": 2,
   "id": "50129b5a",
   "metadata": {},
   "outputs": [
    {
     "name": "stdout",
     "output_type": "stream",
     "text": [
      "200\n"
     ]
    }
   ],
   "source": [
    "url = \"https://www.beeradvocate.com/beer/profile/143/1352/\" \n",
    "header= {'User-Agent': 'Mozilla/5.0 (Macintosh; Intel Mac OS X 10_15_7) AppleWebKit/537.36 (KHTML, like Gecko) Chrome/121.0.0.0 Safari/537.36'} \n",
    "scraper = cloudscraper.create_scraper() \n",
    "info = scraper.get(url) \n",
    "print(info.status_code) \n",
    " "
   ]
  },
  {
   "cell_type": "code",
   "execution_count": 3,
   "id": "b2e2371d",
   "metadata": {},
   "outputs": [],
   "source": [
    "soup = BeautifulSoup(info.text, 'lxml') "
   ]
  },
  {
   "cell_type": "code",
   "execution_count": 4,
   "id": "004a7f75",
   "metadata": {},
   "outputs": [
    {
     "data": {
      "text/plain": [
       "'Shiner Bock'"
      ]
     },
     "execution_count": 4,
     "metadata": {},
     "output_type": "execute_result"
    }
   ],
   "source": [
    "name=soup.h1.find(string=True)\n",
    "name"
   ]
  },
  {
   "cell_type": "code",
   "execution_count": 5,
   "id": "b5458638",
   "metadata": {},
   "outputs": [],
   "source": [
    "# soup.find('h1').text\n",
    "##will give me both the beer title and brewery merged together"
   ]
  },
  {
   "cell_type": "code",
   "execution_count": 6,
   "id": "a0f0d0a8",
   "metadata": {},
   "outputs": [],
   "source": [
    "# soup.find('dl',{'class':'beerstats'}).text"
   ]
  },
  {
   "cell_type": "code",
   "execution_count": 7,
   "id": "a165157e",
   "metadata": {
    "scrolled": false
   },
   "outputs": [
    {
     "data": {
      "text/plain": [
       "'Spoetzl Brewery'"
      ]
     },
     "execution_count": 7,
     "metadata": {},
     "output_type": "execute_result"
    }
   ],
   "source": [
    "brewery=soup.find_all('a',attrs={'class':'Tooltip'})[4].text\n",
    "brewery"
   ]
  },
  {
   "cell_type": "code",
   "execution_count": 9,
   "id": "67af1398",
   "metadata": {},
   "outputs": [
    {
     "data": {
      "text/plain": [
       "'Texas'"
      ]
     },
     "execution_count": 9,
     "metadata": {},
     "output_type": "execute_result"
    }
   ],
   "source": [
    "loaction=soup.find_all('dd', attrs={'class':'beerstats'})[1].a.text\n",
    "loaction"
   ]
  },
  {
   "cell_type": "code",
   "execution_count": 10,
   "id": "efa8ec02",
   "metadata": {},
   "outputs": [
    {
     "data": {
      "text/plain": [
       "'United States'"
      ]
     },
     "execution_count": 10,
     "metadata": {},
     "output_type": "execute_result"
    }
   ],
   "source": [
    "location2=soup.find_all('dd', attrs={'class':'beerstats'})[1].find_all('a')[1].text\n",
    "location2"
   ]
  },
  {
   "cell_type": "code",
   "execution_count": 11,
   "id": "e3c70b7e",
   "metadata": {},
   "outputs": [
    {
     "data": {
      "text/plain": [
       "'Bock'"
      ]
     },
     "execution_count": 11,
     "metadata": {},
     "output_type": "execute_result"
    }
   ],
   "source": [
    "style=soup.find_all('a',attrs={'class':'Tooltip'})[5].text\n",
    "style"
   ]
  },
  {
   "cell_type": "code",
   "execution_count": 12,
   "id": "3f3cc0ff",
   "metadata": {},
   "outputs": [
    {
     "data": {
      "text/plain": [
       "'74'"
      ]
     },
     "execution_count": 12,
     "metadata": {},
     "output_type": "execute_result"
    }
   ],
   "source": [
    "ba_score=soup.find_all('span',attrs={'class':'Tooltip'})[5].text\n",
    "ba_score\n",
    "##official score on ba site 74::'okay'"
   ]
  },
  {
   "cell_type": "code",
   "execution_count": 13,
   "id": "ba8d86a6",
   "metadata": {},
   "outputs": [
    {
     "data": {
      "text/plain": [
       "'Ranked #28,056'"
      ]
     },
     "execution_count": 13,
     "metadata": {},
     "output_type": "execute_result"
    }
   ],
   "source": [
    "over_all_rank=soup.find_all('a',attrs={'class':'Tooltip'})[7].text\n",
    "over_all_rank\n",
    "##over all rank is against all beers in ba site"
   ]
  },
  {
   "cell_type": "code",
   "execution_count": 14,
   "id": "acfc58b1",
   "metadata": {},
   "outputs": [
    {
     "data": {
      "text/plain": [
       "'Ranked #96'"
      ]
     },
     "execution_count": 14,
     "metadata": {},
     "output_type": "execute_result"
    }
   ],
   "source": [
    "style_rank=soup.find_all('a',attrs={'class':'Tooltip'})[6].text\n",
    "style_rank\n",
    "## style rank is among all beers within style category"
   ]
  },
  {
   "cell_type": "code",
   "execution_count": 15,
   "id": "3dbd3fe0",
   "metadata": {},
   "outputs": [
    {
     "data": {
      "text/plain": [
       "'4.5%'"
      ]
     },
     "execution_count": 15,
     "metadata": {},
     "output_type": "execute_result"
    }
   ],
   "source": [
    "alcohol_percent=soup.find_all('span',attrs={'class':'Tooltip'})[3].text\n",
    "alcohol_percent"
   ]
  },
  {
   "cell_type": "code",
   "execution_count": 16,
   "id": "c5416539",
   "metadata": {},
   "outputs": [
    {
     "data": {
      "text/plain": [
       "'3.21'"
      ]
     },
     "execution_count": 16,
     "metadata": {},
     "output_type": "execute_result"
    }
   ],
   "source": [
    "avg_rating=soup.find_all('span',attrs={'class':'Tooltip'})[7].text\n",
    "avg_rating\n",
    "# Average across all ratings for this beer"
   ]
  },
  {
   "cell_type": "code",
   "execution_count": 17,
   "id": "d420045c",
   "metadata": {},
   "outputs": [],
   "source": [
    "percent_dev=soup.find_all('span',attrs={'class':'Tooltip'})[8].text\n",
    "# Percentage of deviation within the ratings"
   ]
  },
  {
   "cell_type": "code",
   "execution_count": 18,
   "id": "13173fe1",
   "metadata": {},
   "outputs": [
    {
     "data": {
      "text/plain": [
       "'1,234'"
      ]
     },
     "execution_count": 18,
     "metadata": {},
     "output_type": "execute_result"
    }
   ],
   "source": [
    "review_count=soup.find_all('span',attrs={'class':'Tooltip'})[10].text\n",
    "review_count\n",
    "# Number of reviews for this beer"
   ]
  },
  {
   "cell_type": "code",
   "execution_count": 19,
   "id": "c129271d",
   "metadata": {},
   "outputs": [
    {
     "data": {
      "text/plain": [
       "'4,564'"
      ]
     },
     "execution_count": 19,
     "metadata": {},
     "output_type": "execute_result"
    }
   ],
   "source": [
    "rating_count=soup.find_all('span',attrs={'class':'Tooltip'})[12].text\n",
    "rating_count\n",
    "# Number of ratings for this beer"
   ]
  },
  {
   "cell_type": "code",
   "execution_count": 20,
   "id": "80c0ff82",
   "metadata": {},
   "outputs": [
    {
     "data": {
      "text/plain": [
       "'Active'"
      ]
     },
     "execution_count": 20,
     "metadata": {},
     "output_type": "execute_result"
    }
   ],
   "source": [
    "status=soup.find_all('span',attrs={'class':'Tooltip'})[14].text\n",
    "status\n",
    "# the beer's current activity status"
   ]
  },
  {
   "cell_type": "code",
   "execution_count": 21,
   "id": "9c97b53a",
   "metadata": {
    "scrolled": true
   },
   "outputs": [
    {
     "data": {
      "text/plain": [
       "'Oct 03, 1999'"
      ]
     },
     "execution_count": 21,
     "metadata": {},
     "output_type": "execute_result"
    }
   ],
   "source": [
    "date_added=soup.find_all('span',attrs={'class':'Tooltip'})[18].text\n",
    "date_added\n",
    "# The date this beer was added to the site"
   ]
  },
  {
   "cell_type": "markdown",
   "id": "468a7419",
   "metadata": {},
   "source": [
    "###### zooming out one level to scrape through \"bocks\" pg 1 with 50 results"
   ]
  },
  {
   "cell_type": "code",
   "execution_count": 110,
   "id": "feaf9888",
   "metadata": {},
   "outputs": [],
   "source": [
    "# youtube page: John Watson Rooney helped get more of the wabscraping process \n",
    "root='https://www.beeradvocate.com'\n",
    "header= {'User-Agent': 'Mozilla/5.0 (Macintosh; Intel Mac OS X 10_15_7) AppleWebKit/537.36 (KHTML, like Gecko) Chrome/121.0.0.0 Safari/537.36'} \n",
    "website=f'{root}/beer/styles/32/?sort=revsD&start=0'\n",
    "scraper = cloudscraper.create_scraper() \n",
    "info = scraper.get(website) \n",
    "# print(info.status_code)\n"
   ]
  },
  {
   "cell_type": "code",
   "execution_count": 111,
   "id": "aec0bfdd",
   "metadata": {},
   "outputs": [],
   "source": [
    "soup = BeautifulSoup(info.text, 'lxml')"
   ]
  },
  {
   "cell_type": "code",
   "execution_count": 24,
   "id": "a7c7861e",
   "metadata": {},
   "outputs": [],
   "source": [
    "table=soup.find('table')\n",
    "#table is where the links are concentrated in "
   ]
  },
  {
   "cell_type": "code",
   "execution_count": 25,
   "id": "44f53337",
   "metadata": {
    "scrolled": true
   },
   "outputs": [
    {
     "data": {
      "text/plain": [
       "[<a href=\"/beer/profile/143/1352/\"><b>Shiner Bock</b><br/></a>,\n",
       " <a href=\"/beer/profile/35/14309/\"><b>Samuel Adams Chocolate Bock</b><br/></a>,\n",
       " <a href=\"/beer/profile/29/1252/\"><b>Michelob AmberBock</b><br/></a>,\n",
       " <a href=\"/beer/profile/35/68000/\"><b>Samuel Adams Cherry Chocolate Bock</b><br/></a>,\n",
       " <a href=\"/beer/profile/590/2565/\"><b>Uff-da</b><br/></a>,\n",
       " <a href=\"/beer/profile/35/74579/\"><b>Samuel Adams The Vixen</b><br/></a>,\n",
       " <a href=\"/beer/profile/590/62671/\"><b>Back Forty Bock</b><br/></a>,\n",
       " <a href=\"/beer/profile/125/2272/\"><b>St. Nikolaus Bock Bier</b><br/></a>,\n",
       " <a href=\"/beer/profile/337/1070/\"><b>Spring Bock</b><br/></a>,\n",
       " <a href=\"/beer/profile/2137/3835/\"><b>Pandora's Bock</b><br/></a>,\n",
       " <a href=\"/beer/profile/302/41422/\"><b>Genesee Spring Bock</b><br/></a>,\n",
       " <a href=\"/beer/profile/66/1873/\"><b>Ur-Bock Dunkel</b><br/></a>,\n",
       " <a href=\"/beer/profile/184/20299/\"><b>La Trappe Bockbier</b><br/></a>,\n",
       " <a href=\"/beer/profile/35/520715/\"><b>Samuel Adams Winter Lager</b><br/></a>,\n",
       " <a href=\"/beer/profile/428/14899/\"><b>Christmas Bock</b><br/></a>,\n",
       " <a href=\"/beer/profile/417/47795/\"><b>Schell's Bock</b><br/></a>,\n",
       " <a href=\"/beer/profile/57/7714/\"><b>Noche Buena</b><br/></a>,\n",
       " <a href=\"/beer/profile/35/225611/\"><b>Samuel Adams Toasted Caramel Bock</b><br/></a>,\n",
       " <a href=\"/beer/profile/107/7904/\"><b>Schokolade Bock</b><br/></a>,\n",
       " <a href=\"/beer/profile/99/75739/\"><b>Saranac Chocolate Lager</b><br/></a>,\n",
       " <a href=\"/beer/profile/1819/31215/\"><b>Brother Benedict's Bock</b><br/></a>,\n",
       " <a href=\"/beer/profile/455/2250/\"><b>Creemore Springs UrBock</b><br/></a>,\n",
       " <a href=\"/beer/profile/15280/39884/\"><b>Winterbock</b><br/></a>,\n",
       " <a href=\"/beer/profile/30128/86334/\"><b>Revolver Bock</b><br/></a>,\n",
       " <a href=\"/beer/profile/628/5119/\"><b>Holsten Festbock</b><br/></a>,\n",
       " <a href=\"/beer/profile/220/283116/\"><b>LAG Lagunator Lager</b><br/></a>,\n",
       " <a href=\"/beer/profile/710/507335/\"><b>Toasted Bock</b><br/></a>,\n",
       " <a href=\"/beer/profile/1805/20968/\"><b>Mountain Holidays In Vermont</b><br/></a>,\n",
       " <a href=\"/beer/profile/5502/27167/\"><b>Koźlak</b><br/></a>,\n",
       " <a href=\"/beer/profile/435/6340/\"><b>Huber Bock Beer</b><br/></a>,\n",
       " <a href=\"/beer/profile/410/144046/\"><b>Block House Double Chocolate Bock</b><br/></a>,\n",
       " <a href=\"/beer/profile/35/289887/\"><b>Samuel Adams Amber Bock</b><br/></a>,\n",
       " <a href=\"/beer/profile/31272/171485/\"><b>Bockslider Toadies Texas Bock</b><br/></a>,\n",
       " <a href=\"/beer/profile/38015/170131/\"><b>Love Honey</b><br/></a>,\n",
       " <a href=\"/beer/profile/7734/76116/\"><b>Nero's 1st Century Double Dark Malt Ale</b><br/></a>,\n",
       " <a href=\"/beer/profile/26762/401984/\"><b>Crawford Bock</b><br/></a>,\n",
       " <a href=\"/beer/profile/514/11985/\"><b>Bokbier</b><br/></a>,\n",
       " <a href=\"/beer/profile/46029/453249/\"><b>Der Schwarze Bock</b><br/></a>,\n",
       " <a href=\"/beer/profile/412/13231/\"><b>Mönchshof Bockbier</b><br/></a>,\n",
       " <a href=\"/beer/profile/2951/42771/\"><b>Battlefield Bock</b><br/></a>,\n",
       " <a href=\"/beer/profile/321/872/\"><b>Chouffe-Bok 6666</b><br/></a>,\n",
       " <a href=\"/beer/profile/1819/125387/\"><b>The Bennie</b><br/></a>,\n",
       " <a href=\"/beer/profile/553/26322/\"><b>Christoffel Bokbier</b><br/></a>,\n",
       " <a href=\"/beer/profile/185/664/\"><b>Aass Bock</b><br/></a>,\n",
       " <a href=\"/beer/profile/2854/21493/\"><b>Flensburger Winterbock</b><br/></a>,\n",
       " <a href=\"/beer/profile/623/93901/\"><b>Zywiec Bock</b><br/></a>,\n",
       " <a href=\"/beer/profile/817/5286/\"><b>Original Stieglbock</b><br/></a>,\n",
       " <a href=\"/beer/profile/46663/243251/\"><b>Billy Jenkins Session Bock</b><br/></a>,\n",
       " <a href=\"/beer/profile/150/28396/\"><b>Stegmaier Brewhouse Bock</b><br/></a>,\n",
       " <a href=\"/beer/profile/503/9465/\"><b>Dreher Bak</b><br/></a>]"
      ]
     },
     "execution_count": 25,
     "metadata": {},
     "output_type": "execute_result"
    }
   ],
   "source": [
    "table.find_all(\"a\", href=re.compile(\"profile\"))[::2]"
   ]
  },
  {
   "cell_type": "code",
   "execution_count": 27,
   "id": "8c2eb211",
   "metadata": {},
   "outputs": [
    {
     "data": {
      "text/plain": [
       "50"
      ]
     },
     "execution_count": 27,
     "metadata": {},
     "output_type": "execute_result"
    }
   ],
   "source": [
    "# links=[link['href'] for link in table.find_all(\"a\", href=re.compile(\"profile\"))[::2]]\n",
    "# len(links)"
   ]
  },
  {
   "cell_type": "code",
   "execution_count": 36,
   "id": "46c66d0f",
   "metadata": {
    "scrolled": true
   },
   "outputs": [],
   "source": [
    "beerlinks=[]\n",
    "for link in table.find_all(\"a\", href=re.compile(\"profile\"))[::2]:\n",
    "    beerlinks.append(root + link['href'])\n"
   ]
  },
  {
   "cell_type": "code",
   "execution_count": 40,
   "id": "9845431b",
   "metadata": {
    "scrolled": true
   },
   "outputs": [
    {
     "data": {
      "text/plain": [
       "['https://www.beeradvocate.com/beer/profile/143/1352/',\n",
       " 'https://www.beeradvocate.com/beer/profile/35/14309/',\n",
       " 'https://www.beeradvocate.com/beer/profile/29/1252/',\n",
       " 'https://www.beeradvocate.com/beer/profile/35/68000/',\n",
       " 'https://www.beeradvocate.com/beer/profile/590/2565/',\n",
       " 'https://www.beeradvocate.com/beer/profile/35/74579/',\n",
       " 'https://www.beeradvocate.com/beer/profile/590/62671/',\n",
       " 'https://www.beeradvocate.com/beer/profile/125/2272/',\n",
       " 'https://www.beeradvocate.com/beer/profile/337/1070/',\n",
       " 'https://www.beeradvocate.com/beer/profile/2137/3835/',\n",
       " 'https://www.beeradvocate.com/beer/profile/302/41422/',\n",
       " 'https://www.beeradvocate.com/beer/profile/66/1873/',\n",
       " 'https://www.beeradvocate.com/beer/profile/184/20299/',\n",
       " 'https://www.beeradvocate.com/beer/profile/35/520715/',\n",
       " 'https://www.beeradvocate.com/beer/profile/428/14899/',\n",
       " 'https://www.beeradvocate.com/beer/profile/417/47795/',\n",
       " 'https://www.beeradvocate.com/beer/profile/57/7714/',\n",
       " 'https://www.beeradvocate.com/beer/profile/35/225611/',\n",
       " 'https://www.beeradvocate.com/beer/profile/107/7904/',\n",
       " 'https://www.beeradvocate.com/beer/profile/99/75739/',\n",
       " 'https://www.beeradvocate.com/beer/profile/1819/31215/',\n",
       " 'https://www.beeradvocate.com/beer/profile/455/2250/',\n",
       " 'https://www.beeradvocate.com/beer/profile/15280/39884/',\n",
       " 'https://www.beeradvocate.com/beer/profile/30128/86334/',\n",
       " 'https://www.beeradvocate.com/beer/profile/628/5119/',\n",
       " 'https://www.beeradvocate.com/beer/profile/220/283116/',\n",
       " 'https://www.beeradvocate.com/beer/profile/710/507335/',\n",
       " 'https://www.beeradvocate.com/beer/profile/1805/20968/',\n",
       " 'https://www.beeradvocate.com/beer/profile/5502/27167/',\n",
       " 'https://www.beeradvocate.com/beer/profile/435/6340/',\n",
       " 'https://www.beeradvocate.com/beer/profile/410/144046/',\n",
       " 'https://www.beeradvocate.com/beer/profile/35/289887/',\n",
       " 'https://www.beeradvocate.com/beer/profile/31272/171485/',\n",
       " 'https://www.beeradvocate.com/beer/profile/38015/170131/',\n",
       " 'https://www.beeradvocate.com/beer/profile/7734/76116/',\n",
       " 'https://www.beeradvocate.com/beer/profile/26762/401984/',\n",
       " 'https://www.beeradvocate.com/beer/profile/514/11985/',\n",
       " 'https://www.beeradvocate.com/beer/profile/46029/453249/',\n",
       " 'https://www.beeradvocate.com/beer/profile/412/13231/',\n",
       " 'https://www.beeradvocate.com/beer/profile/2951/42771/',\n",
       " 'https://www.beeradvocate.com/beer/profile/321/872/',\n",
       " 'https://www.beeradvocate.com/beer/profile/1819/125387/',\n",
       " 'https://www.beeradvocate.com/beer/profile/553/26322/',\n",
       " 'https://www.beeradvocate.com/beer/profile/185/664/',\n",
       " 'https://www.beeradvocate.com/beer/profile/2854/21493/',\n",
       " 'https://www.beeradvocate.com/beer/profile/623/93901/',\n",
       " 'https://www.beeradvocate.com/beer/profile/817/5286/',\n",
       " 'https://www.beeradvocate.com/beer/profile/46663/243251/',\n",
       " 'https://www.beeradvocate.com/beer/profile/150/28396/',\n",
       " 'https://www.beeradvocate.com/beer/profile/503/9465/']"
      ]
     },
     "execution_count": 40,
     "metadata": {},
     "output_type": "execute_result"
    }
   ],
   "source": [
    "beerlinks"
   ]
  },
  {
   "cell_type": "markdown",
   "id": "e9405dd3",
   "metadata": {},
   "source": [
    "##### Need to loop through pages now, as the above only has info for one page which contains 50 links \n",
    "-bock category has around 35 pages\n",
    "-/?sort=revsD&start=1700 (last page of bocks)\n",
    "-/?sort=revsD&start=0 (first page of bocks)\n",
    "\n",
    "the number at the end is the only change, however each style has a different number of results and 1700 will not be consistent\n",
    "\n",
    "maybe there is a way to count down and some how have that be the range when paginating through pages"
   ]
  },
  {
   "cell_type": "code",
   "execution_count": 65,
   "id": "30760bc4",
   "metadata": {},
   "outputs": [],
   "source": [
    "# testlink='https://www.beeradvocate.com/beer/profile/143/1352/'\n",
    "\n",
    "\n",
    "beerlist=[]\n",
    "for x in range(0,)    \n",
    "    root='https://www.beeradvocate.com'\n",
    "    header= {'User-Agent': 'Mozilla/5.0 (Macintosh; Intel Mac OS X 10_15_7) AppleWebKit/537.36 (KHTML, like Gecko) Chrome/121.0.0.0 Safari/537.36'} \n",
    "    website=f'{root}/beer/styles/32/?sort=revsD&start={x}'\n",
    "    scraper = cloudscraper.create_scraper() \n",
    "    info = scraper.get(website)     \n",
    "    soup = BeautifulSoup(info.text, 'lxml')\n",
    "    table=soup.find('table')\n",
    "    \n",
    "    beerlinks=[]\n",
    "    for link in table.find_all(\"a\", href=re.compile(\"profile\"))[::2]:\n",
    "        beerlinks.append(root + link['href'])\n",
    "    \n",
    "    \n",
    "        for link in beerlinks:\n",
    "            r=requests.get(link, headers=header)\n",
    "            soup=BeautifulSoup(r.content,'lxml')\n",
    "            try:\n",
    "                name=soup.h1.find(string=True)\n",
    "            except:\n",
    "                name= 'Na'\n",
    "            try:    \n",
    "                brewery=soup.find_all('a',attrs={'class':'Tooltip'})[4].text\n",
    "            except:\n",
    "                brewery= 'Na'\n",
    "            try:\n",
    "                location=soup.find_all('dd', attrs={'class':'beerstats'})[1].a.text\n",
    "            except:\n",
    "                location= 'Na'\n",
    "            try:\n",
    "                location2=soup.find_all('dd', attrs={'class':'beerstats'})[1].find_all('a')[1].text\n",
    "            except:\n",
    "                location2= 'Na'\n",
    "            try:\n",
    "                style=soup.find_all('a',attrs={'class':'Tooltip'})[5].text\n",
    "            except:\n",
    "                style= 'Na'\n",
    "            try:\n",
    "                ba_score=soup.find_all('span',attrs={'class':'Tooltip'})[5].text\n",
    "            except:\n",
    "                ba_score= 'Na'\n",
    "            try:\n",
    "                over_all_rank=soup.find_all('a',attrs={'class':'Tooltip'})[7].text\n",
    "            except:\n",
    "                over_all_rank= 'Na'\n",
    "            try:\n",
    "                style_rank=soup.find_all('a',attrs={'class':'Tooltip'})[6].text\n",
    "            except:\n",
    "                style_rank= 'Na'\n",
    "            try:\n",
    "                alcohol_percent=soup.find_all('span',attrs={'class':'Tooltip'})[3].text\n",
    "            except:\n",
    "                alcohol_percent= 'Na'\n",
    "            try:\n",
    "                avg_rating=soup.find_all('span',attrs={'class':'Tooltip'})[7].text\n",
    "            except:\n",
    "                avg_rating= 'Na'\n",
    "            try:\n",
    "                percent_dev=soup.find_all('span',attrs={'class':'Tooltip'})[8].text\n",
    "            except:\n",
    "                percent_dev= 'Na'\n",
    "            try:\n",
    "                review_count=soup.find_all('span',attrs={'class':'Tooltip'})[10].text\n",
    "            except:\n",
    "                review_count= 'Na'\n",
    "            try:\n",
    "                rating_count=soup.find_all('span',attrs={'class':'Tooltip'})[12].text\n",
    "            except:\n",
    "                rating_count= 'Na'\n",
    "            try:\n",
    "                status=soup.find_all('span',attrs={'class':'Tooltip'})[14].text\n",
    "            except:\n",
    "                status= 'Na'\n",
    "            try:\n",
    "                date_added=soup.find_all('span',attrs={'class':'Tooltip'})[18].text\n",
    "            except:\n",
    "                date_added= 'Na'\n",
    "            beer_info= {\n",
    "                'name': name,\n",
    "                'brewery': brewery,\n",
    "                'location':location,\n",
    "                'location2':location2,\n",
    "                'style': style,\n",
    "                'ba_score':ba_score,\n",
    "                'over_all_rank': over_all_rank,\n",
    "                'style_rank': style_rank,\n",
    "                'alcohol_percent': alcohol_percent,\n",
    "                'avg_rating':avg_rating,\n",
    "                'percent_dev': percent_dev,\n",
    "                'review_count': review_count,\n",
    "                'rating_count':rating_count,\n",
    "                'status': status,\n",
    "                'date_added': date_added\n",
    "                }\n",
    "            time.sleep(5)\n",
    "            beerlist.append(beer_info)"
   ]
  },
  {
   "cell_type": "code",
   "execution_count": 66,
   "id": "4774af51",
   "metadata": {},
   "outputs": [
    {
     "name": "stdout",
     "output_type": "stream",
     "text": [
      "[{'name': 'Shiner Bock', 'brewery': 'Spoetzl Brewery', 'location': 'Texas', 'location2': 'United States', 'style': 'Bock', 'ba_score': '74', 'over_all_rank': 'Ranked #28,056', 'style_rank': 'Ranked #96', 'alcohol_percent': '4.5%', 'avg_rating': '3.21', 'percent_dev': '19.63%', 'review_count': '1,234', 'rating_count': '4,564', 'status': 'Active', 'date_added': 'Oct 03, 1999'}, {'name': 'Samuel Adams Chocolate Bock', 'brewery': 'Boston Beer Company (Samuel Adams)', 'location': 'Massachusetts', 'location2': 'United States', 'style': 'Bock', 'ba_score': '82', 'over_all_rank': 'Ranked #25,002', 'style_rank': 'Ranked #70', 'alcohol_percent': '5.8%', 'avg_rating': '3.64', 'percent_dev': '16.21%', 'review_count': '1,247', 'rating_count': '3,144', 'status': 'Active', 'date_added': 'Nov 20, 2003'}, {'name': 'Michelob AmberBock', 'brewery': 'Anheuser-Busch', 'location': 'Missouri', 'location2': 'United States', 'style': 'Bock', 'ba_score': '68', 'over_all_rank': 'Ranked #28,558', 'style_rank': 'Ranked #100', 'alcohol_percent': '5.1%', 'avg_rating': '2.91', 'percent_dev': '22.34%', 'review_count': '732', 'rating_count': '1,970', 'status': 'Active', 'date_added': 'Aug 17, 2001'}, {'name': 'Samuel Adams Cherry Chocolate Bock', 'brewery': 'Boston Beer Company (Samuel Adams)', 'location': 'Massachusetts', 'location2': 'United States', 'style': 'Bock', 'ba_score': '79', 'over_all_rank': 'Ranked #26,984', 'style_rank': 'Ranked #85', 'alcohol_percent': '5.8%', 'avg_rating': '3.47', 'percent_dev': '19.6%', 'review_count': '188', 'rating_count': '875', 'status': 'Active', 'date_added': 'Apr 11, 2011'}, {'name': 'Uff-da', 'brewery': 'New Glarus Brewing Company', 'location': 'Wisconsin', 'location2': 'United States', 'style': 'Bock', 'ba_score': '86', 'over_all_rank': 'Ranked #19,084', 'style_rank': 'Ranked #27', 'alcohol_percent': '6.7%', 'avg_rating': '3.83', 'percent_dev': '10.97%', 'review_count': '342', 'rating_count': '662', 'status': 'Active', 'date_added': 'Jan 16, 2002'}, {'name': 'Samuel Adams The Vixen', 'brewery': 'Boston Beer Company (Samuel Adams)', 'location': 'Massachusetts', 'location2': 'United States', 'style': 'Bock', 'ba_score': '83', 'over_all_rank': 'Na', 'style_rank': 'Na', 'alcohol_percent': '8.5%', 'avg_rating': '3.67', 'percent_dev': '15.26%', 'review_count': '256', 'rating_count': '612', 'status': 'Active', 'date_added': 'Oct 27, 2011'}, {'name': 'Back Forty Bock', 'brewery': 'New Glarus Brewing Company', 'location': 'Wisconsin', 'location2': 'United States', 'style': 'Bock', 'ba_score': '85', 'over_all_rank': 'Ranked #21,100', 'style_rank': 'Ranked #38', 'alcohol_percent': '5.5%', 'avg_rating': '3.78', 'percent_dev': '12.7%', 'review_count': '149', 'rating_count': '546', 'status': 'Active', 'date_added': 'Oct 16, 2010'}, {'name': 'St. Nikolaus Bock Bier', 'brewery': 'Pennsylvania Brewing Company', 'location': 'Pennsylvania', 'location2': 'United States', 'style': 'Bock', 'ba_score': '88', 'over_all_rank': 'Ranked #13,284', 'style_rank': 'Ranked #12', 'alcohol_percent': '6%', 'avg_rating': '3.95', 'percent_dev': '11.39%', 'review_count': '229', 'rating_count': '449', 'status': 'Active', 'date_added': 'Dec 03, 2002'}, {'name': 'Spring Bock', 'brewery': 'Saint Arnold Brewing Company', 'location': 'Texas', 'location2': 'United States', 'style': 'Bock', 'ba_score': '82', 'over_all_rank': 'Ranked #24,904', 'style_rank': 'Ranked #69', 'alcohol_percent': '6.9%', 'avg_rating': '3.64', 'percent_dev': '12.91%', 'review_count': '160', 'rating_count': '421', 'status': 'Active', 'date_added': 'Jan 24, 2003'}, {'name': \"Pandora's Bock\", 'brewery': 'Breckenridge Brewery', 'location': 'Colorado', 'location2': 'United States', 'style': 'Bock', 'ba_score': '78', 'over_all_rank': 'Ranked #27,199', 'style_rank': 'Ranked #86', 'alcohol_percent': '7.5%', 'avg_rating': '3.43', 'percent_dev': '14.87%', 'review_count': '155', 'rating_count': '385', 'status': 'Active', 'date_added': 'May 25, 2002'}, {'name': 'Genesee Spring Bock', 'brewery': 'Genesee Brewing Co. / Dundee Brewing Co.', 'location': 'New York', 'location2': 'United States', 'style': 'Bock', 'ba_score': '79', 'over_all_rank': 'Ranked #26,934', 'style_rank': 'Ranked #84', 'alcohol_percent': '5.2%', 'avg_rating': '3.47', 'percent_dev': '13.54%', 'review_count': '170', 'rating_count': '356', 'status': 'Active', 'date_added': 'Mar 07, 2008'}, {'name': 'Ur-Bock Dunkel', 'brewery': 'Einbecker Brauhaus', 'location': 'Germany', 'location2': 'Na', 'style': 'Bock', 'ba_score': '84', 'over_all_rank': 'Ranked #22,707', 'style_rank': 'Ranked #50', 'alcohol_percent': '6.5%', 'avg_rating': '3.73', 'percent_dev': '11.53%', 'review_count': '204', 'rating_count': '331', 'status': 'Active', 'date_added': 'Jun 15, 2002'}, {'name': 'La Trappe Bockbier', 'brewery': 'Bierbrouwerij De Koningshoeven B.V.', 'location': 'Netherlands', 'location2': 'Na', 'style': 'Bock', 'ba_score': '89', 'over_all_rank': 'Ranked #11,849', 'style_rank': 'Ranked #7', 'alcohol_percent': '7%', 'avg_rating': '3.98', 'percent_dev': '9.55%', 'review_count': '124', 'rating_count': '305', 'status': 'Active', 'date_added': 'Mar 01, 2005'}, {'name': 'Samuel Adams Winter Lager', 'brewery': 'Boston Beer Company (Samuel Adams)', 'location': 'Massachusetts', 'location2': 'United States', 'style': 'Bock', 'ba_score': '83', 'over_all_rank': 'Ranked #24,640', 'style_rank': 'Ranked #67', 'alcohol_percent': '5.6%', 'avg_rating': '3.65', 'percent_dev': '10.96%', 'review_count': '105', 'rating_count': '249', 'status': 'Active', 'date_added': 'Nov 29, 2020'}, {'name': 'Christmas Bock', 'brewery': \"Mahr's Bräu\", 'location': 'Germany', 'location2': 'Na', 'style': 'Bock', 'ba_score': '83', 'over_all_rank': 'Na', 'style_rank': 'Na', 'alcohol_percent': '6%', 'avg_rating': '3.68', 'percent_dev': '12.23%', 'review_count': '180', 'rating_count': '249', 'status': 'Active', 'date_added': 'Dec 16, 2003'}, {'name': \"Schell's Bock\", 'brewery': 'August Schell Brewing Company', 'location': 'Minnesota', 'location2': 'United States', 'style': 'Bock', 'ba_score': '87', 'over_all_rank': 'Ranked #18,125', 'style_rank': 'Ranked #22', 'alcohol_percent': '6.1%', 'avg_rating': '3.85', 'percent_dev': '12.21%', 'review_count': '98', 'rating_count': '227', 'status': 'Active', 'date_added': 'Feb 07, 2009'}, {'name': 'Noche Buena', 'brewery': 'Cervecería Cuauhtémoc Moctezuma, S.A. de C.V.', 'location': 'Mexico', 'location2': 'Na', 'style': 'Bock', 'ba_score': '77', 'over_all_rank': 'Ranked #27,552', 'style_rank': 'Ranked #90', 'alcohol_percent': '5.9%', 'avg_rating': '3.35', 'percent_dev': '17.91%', 'review_count': '96', 'rating_count': '226', 'status': 'Active', 'date_added': 'Dec 28, 2002'}, {'name': 'Samuel Adams Toasted Caramel Bock', 'brewery': 'Boston Beer Company (Samuel Adams)', 'location': 'Massachusetts', 'location2': 'United States', 'style': 'Bock', 'ba_score': '82', 'over_all_rank': 'Na', 'style_rank': 'Na', 'alcohol_percent': '5.8%', 'avg_rating': '3.63', 'percent_dev': '11.57%', 'review_count': '68', 'rating_count': '207', 'status': 'Active', 'date_added': 'Apr 20, 2016'}, {'name': 'Schokolade Bock', 'brewery': 'Millstream Brewing Company', 'location': 'Iowa', 'location2': 'United States', 'style': 'Bock', 'ba_score': '89', 'over_all_rank': 'Na', 'style_rank': 'Na', 'alcohol_percent': '6%', 'avg_rating': '3.98', 'percent_dev': '10.8%', 'review_count': '109', 'rating_count': '187', 'status': 'Active', 'date_added': 'Jan 08, 2003'}, {'name': 'Saranac Chocolate Lager', 'brewery': 'Matt Brewing Company / Saranac Brewery', 'location': 'New York', 'location2': 'United States', 'style': 'Bock', 'ba_score': '77', 'over_all_rank': 'Na', 'style_rank': 'Na', 'alcohol_percent': '6%', 'avg_rating': '3.37', 'percent_dev': '15.13%', 'review_count': '65', 'rating_count': '176', 'status': 'Active', 'date_added': 'Nov 27, 2011'}, {'name': \"Brother Benedict's Bock\", 'brewery': 'Granite City Food & Brewery', 'location': 'United States', 'location2': 'Na', 'style': 'Bock', 'ba_score': '77', 'over_all_rank': 'Na', 'style_rank': 'Na', 'alcohol_percent': '5.1%', 'avg_rating': '3.35', 'percent_dev': '15.82%', 'review_count': '55', 'rating_count': '170', 'status': 'Active', 'date_added': 'Aug 01, 2002'}, {'name': 'Creemore Springs UrBock', 'brewery': 'Creemore Springs Brewery Limited', 'location': 'Ontario', 'location2': 'Canada', 'style': 'Bock', 'ba_score': '83', 'over_all_rank': 'Ranked #24,322', 'style_rank': 'Ranked #60', 'alcohol_percent': '6%', 'avg_rating': '3.66', 'percent_dev': '10.66%', 'review_count': '95', 'rating_count': '167', 'status': 'Active', 'date_added': 'Dec 10, 2001'}, {'name': 'Winterbock', 'brewery': 'Atwater Brewery', 'location': 'Michigan', 'location2': 'United States', 'style': 'Bock', 'ba_score': '76', 'over_all_rank': 'Na', 'style_rank': 'Na', 'alcohol_percent': '7.5%', 'avg_rating': '3.3', 'percent_dev': '18.79%', 'review_count': '71', 'rating_count': '162', 'status': 'Active', 'date_added': 'Dec 02, 2007'}, {'name': 'Revolver Bock', 'brewery': 'Revolver Brewing', 'location': 'Texas', 'location2': 'United States', 'style': 'Bock', 'ba_score': '86', 'over_all_rank': 'Na', 'style_rank': 'Na', 'alcohol_percent': '6.5%', 'avg_rating': '3.81', 'percent_dev': '10.76%', 'review_count': '17', 'rating_count': '143', 'status': 'Active', 'date_added': 'Oct 20, 2012'}, {'name': 'Holsten Festbock', 'brewery': 'Holsten-Brauerei', 'location': 'Germany', 'location2': 'Na', 'style': 'Bock', 'ba_score': '76', 'over_all_rank': 'Ranked #27,693', 'style_rank': 'Ranked #92', 'alcohol_percent': '7%', 'avg_rating': '3.3', 'percent_dev': '15.76%', 'review_count': '81', 'rating_count': '136', 'status': 'Active', 'date_added': 'Jul 29, 2002'}, {'name': 'LAG Lagunator Lager', 'brewery': 'Lagunitas Brewing Company', 'location': 'California', 'location2': 'United States', 'style': 'Bock', 'ba_score': '87', 'over_all_rank': 'Ranked #17,611', 'style_rank': 'Ranked #21', 'alcohol_percent': '7.7%', 'avg_rating': '3.86', 'percent_dev': '8.81%', 'review_count': '47', 'rating_count': '133', 'status': 'Active', 'date_added': 'Mar 30, 2017'}, {'name': 'Toasted Bock', 'brewery': 'Jacob Leinenkugel Brewing Company', 'location': 'Wisconsin', 'location2': 'United States', 'style': 'Bock', 'ba_score': '83', 'over_all_rank': 'Ranked #24,455', 'style_rank': 'Ranked #64', 'alcohol_percent': '5.1%', 'avg_rating': '3.65', 'percent_dev': '11.78%', 'review_count': '59', 'rating_count': '130', 'status': 'Active', 'date_added': 'Sep 12, 2020'}, {'name': 'Mountain Holidays In Vermont', 'brewery': 'Rock Art Brewery', 'location': 'Vermont', 'location2': 'United States', 'style': 'Bock', 'ba_score': '83', 'over_all_rank': 'Na', 'style_rank': 'Na', 'alcohol_percent': '5.8%', 'avg_rating': '3.64', 'percent_dev': '10.99%', 'review_count': '87', 'rating_count': '129', 'status': 'Active', 'date_added': 'Dec 02, 2004'}, {'name': 'Koźlak', 'brewery': 'Browar Amber', 'location': 'Poland', 'location2': 'Na', 'style': 'Bock', 'ba_score': '82', 'over_all_rank': 'Ranked #25,329', 'style_rank': 'Ranked #77', 'alcohol_percent': '6.5%', 'avg_rating': '3.6', 'percent_dev': '13.61%', 'review_count': '69', 'rating_count': '116', 'status': 'Active', 'date_added': 'Dec 02, 2005'}, {'name': 'Huber Bock Beer', 'brewery': 'Minhas Craft Brewery', 'location': 'Wisconsin', 'location2': 'United States', 'style': 'Bock', 'ba_score': '74', 'over_all_rank': 'Ranked #27,990', 'style_rank': 'Ranked #95', 'alcohol_percent': '5.5%', 'avg_rating': '3.18', 'percent_dev': '18.24%', 'review_count': '69', 'rating_count': '116', 'status': 'Active', 'date_added': 'Sep 30, 2002'}, {'name': 'Block House Double Chocolate Bock', 'brewery': 'Pittsburgh Brewing Co.', 'location': 'Pennsylvania', 'location2': 'United States', 'style': 'Bock', 'ba_score': '76', 'over_all_rank': 'Ranked #27,648', 'style_rank': 'Ranked #91', 'alcohol_percent': '6.5%', 'avg_rating': '3.3', 'percent_dev': '25.76%', 'review_count': '28', 'rating_count': '110', 'status': 'Active', 'date_added': 'Nov 02, 2014'}, {'name': 'Samuel Adams Amber Bock', 'brewery': 'Boston Beer Company (Samuel Adams)', 'location': 'Massachusetts', 'location2': 'United States', 'style': 'Bock', 'ba_score': '80', 'over_all_rank': 'Ranked #26,587', 'style_rank': 'Ranked #83', 'alcohol_percent': '6%', 'avg_rating': '3.49', 'percent_dev': '11.46%', 'review_count': '26', 'rating_count': '105', 'status': 'Active', 'date_added': 'Jul 03, 2017'}, {'name': 'Bockslider Toadies Texas Bock', 'brewery': 'Martin House Brewing Company', 'location': 'Texas', 'location2': 'United States', 'style': 'Bock', 'ba_score': '85', 'over_all_rank': 'Ranked #22,105', 'style_rank': 'Ranked #46', 'alcohol_percent': '5.6%', 'avg_rating': '3.74', 'percent_dev': '12.3%', 'review_count': '23', 'rating_count': '97', 'status': 'Active', 'date_added': 'May 09, 2015'}, {'name': 'Love Honey', 'brewery': 'Lost Forty Brewing', 'location': 'Arkansas', 'location2': 'United States', 'style': 'Bock', 'ba_score': '86', 'over_all_rank': 'Ranked #18,413', 'style_rank': 'Ranked #28', 'alcohol_percent': '6.3%', 'avg_rating': '3.84', 'percent_dev': '10.94%', 'review_count': '24', 'rating_count': '96', 'status': 'Active', 'date_added': 'Apr 29, 2015'}, {'name': \"Nero's 1st Century Double Dark Malt Ale\", 'brewery': 'Amarcord Birra Artigianale Italiana', 'location': 'Italy', 'location2': 'Na', 'style': 'Bock', 'ba_score': '72', 'over_all_rank': 'Na', 'style_rank': 'Na', 'alcohol_percent': '8%', 'avg_rating': '3.06', 'percent_dev': '19.61%', 'review_count': '48', 'rating_count': '92', 'status': 'Active', 'date_added': 'Dec 09, 2011'}, {'name': 'Crawford Bock', 'brewery': 'Karbach Brewing Co.', 'location': 'Texas', 'location2': 'United States', 'style': 'Bock', 'ba_score': '80', 'over_all_rank': 'Ranked #26,545', 'style_rank': 'Ranked #82', 'alcohol_percent': '4.5%', 'avg_rating': '3.49', 'percent_dev': '14.04%', 'review_count': '28', 'rating_count': '91', 'status': 'Active', 'date_added': 'Mar 06, 2019'}, {'name': 'Bokbier', 'brewery': 'Jopen Bier BV Haarlem', 'location': 'Netherlands', 'location2': 'Na', 'style': 'Bock', 'ba_score': '86', 'over_all_rank': 'Ranked #20,374', 'style_rank': 'Ranked #37', 'alcohol_percent': '6.5%', 'avg_rating': '3.79', 'percent_dev': '11.08%', 'review_count': '54', 'rating_count': '82', 'status': 'Active', 'date_added': 'Aug 07, 2003'}, {'name': 'Der Schwarze Bock', 'brewery': 'Kraftbierwerkstatt', 'location': 'Germany', 'location2': 'Na', 'style': 'Bock', 'ba_score': '86', 'over_all_rank': 'Ranked #18,391', 'style_rank': 'Ranked #29', 'alcohol_percent': '6.2%', 'avg_rating': '3.84', 'percent_dev': '7.03%', 'review_count': '37', 'rating_count': '80', 'status': 'Active', 'date_added': 'Dec 07, 2019'}, {'name': 'Mönchshof Bockbier', 'brewery': 'Kulmbacher Brauerei AG', 'location': 'Germany', 'location2': 'Na', 'style': 'Bock', 'ba_score': '85', 'over_all_rank': 'Ranked #22,001', 'style_rank': 'Ranked #47', 'alcohol_percent': '6.9%', 'avg_rating': '3.74', 'percent_dev': '10.7%', 'review_count': '42', 'rating_count': '79', 'status': 'Active', 'date_added': 'Oct 05, 2003'}, {'name': 'Battlefield Bock', 'brewery': 'Red Oak Brewery', 'location': 'North Carolina', 'location2': 'United States', 'style': 'Bock', 'ba_score': '87', 'over_all_rank': 'Ranked #15,823', 'style_rank': 'Ranked #18', 'alcohol_percent': '6.5%', 'avg_rating': '3.9', 'percent_dev': '13.33%', 'review_count': '20', 'rating_count': '75', 'status': 'Active', 'date_added': 'May 19, 2008'}, {'name': 'Chouffe-Bok 6666', 'brewery': \"Brasserie d'Achouffe\", 'location': 'Belgium', 'location2': 'Na', 'style': 'Bock', 'ba_score': '85', 'over_all_rank': 'Ranked #21,357', 'style_rank': 'Ranked #42', 'alcohol_percent': '6.66%', 'avg_rating': '3.76', 'percent_dev': '14.63%', 'review_count': '34', 'rating_count': '74', 'status': 'Active', 'date_added': 'Jun 24, 2001'}, {'name': 'The Bennie', 'brewery': 'Granite City Food & Brewery', 'location': 'United States', 'location2': 'Na', 'style': 'Bock', 'ba_score': '80', 'over_all_rank': 'Ranked #26,447', 'style_rank': 'Ranked #81', 'alcohol_percent': '5.5%', 'avg_rating': '3.49', 'percent_dev': '12.03%', 'review_count': '9', 'rating_count': '73', 'status': 'Active', 'date_added': 'Jun 17, 2014'}, {'name': 'Christoffel Bokbier', 'brewery': 'Bierbrouwerij Sint Christoffel B.V', 'location': 'Netherlands', 'location2': 'Na', 'style': 'Bock', 'ba_score': '81', 'over_all_rank': 'Na', 'style_rank': 'Na', 'alcohol_percent': '7.8%', 'avg_rating': '3.55', 'percent_dev': '9.58%', 'review_count': '51', 'rating_count': '68', 'status': 'Active', 'date_added': 'Oct 10, 2005'}, {'name': 'Aass Bock', 'brewery': 'Aass Brewery', 'location': 'Norway', 'location2': 'Na', 'style': 'Bock', 'ba_score': '89', 'over_all_rank': 'Ranked #11,843', 'style_rank': 'Ranked #9', 'alcohol_percent': '6.5%', 'avg_rating': '3.99', 'percent_dev': '12.28%', 'review_count': '41', 'rating_count': '67', 'status': 'Active', 'date_added': 'Nov 18, 2000'}, {'name': 'Flensburger Winterbock', 'brewery': 'Flensburger Brauerei', 'location': 'Germany', 'location2': 'Na', 'style': 'Bock', 'ba_score': '83', 'over_all_rank': 'Ranked #24,519', 'style_rank': 'Ranked #72', 'alcohol_percent': '7%', 'avg_rating': '3.63', 'percent_dev': '12.12%', 'review_count': '36', 'rating_count': '67', 'status': 'Active', 'date_added': 'Jan 09, 2005'}, {'name': 'Zywiec Bock', 'brewery': 'Zywiec Breweries PLC (Heineken)', 'location': 'Poland', 'location2': 'Na', 'style': 'Bock', 'ba_score': '85', 'over_all_rank': 'Na', 'style_rank': 'Na', 'alcohol_percent': '6.5%', 'avg_rating': '3.75', 'percent_dev': '9.07%', 'review_count': '25', 'rating_count': '61', 'status': 'Active', 'date_added': 'May 19, 2013'}, {'name': 'Original Stieglbock', 'brewery': 'Stieglbrauerei zu Salzburg GmbH', 'location': 'Austria', 'location2': 'Na', 'style': 'Bock', 'ba_score': '84', 'over_all_rank': 'Ranked #23,608', 'style_rank': 'Ranked #59', 'alcohol_percent': '7%', 'avg_rating': '3.67', 'percent_dev': '13.62%', 'review_count': '37', 'rating_count': '60', 'status': 'Active', 'date_added': 'Aug 05, 2002'}, {'name': 'Billy Jenkins Session Bock', 'brewery': 'Wild Acre Brewing Company', 'location': 'Texas', 'location2': 'United States', 'style': 'Bock', 'ba_score': '84', 'over_all_rank': 'Ranked #22,640', 'style_rank': 'Ranked #53', 'alcohol_percent': '5.2%', 'avg_rating': '3.71', 'percent_dev': '12.13%', 'review_count': '14', 'rating_count': '58', 'status': 'Active', 'date_added': 'Aug 03, 2016'}, {'name': 'Stegmaier Brewhouse Bock', 'brewery': 'Lion Brewery, Inc.', 'location': 'Pennsylvania', 'location2': 'United States', 'style': 'Bock', 'ba_score': '85', 'over_all_rank': 'Na', 'style_rank': 'Na', 'alcohol_percent': '6.6%', 'avg_rating': '3.74', 'percent_dev': '12.83%', 'review_count': '49', 'rating_count': '57', 'status': 'Active', 'date_added': 'Feb 18, 2006'}, {'name': 'Dreher Bak', 'brewery': 'Dreher Brewery', 'location': 'Hungary', 'location2': 'Na', 'style': 'Bock', 'ba_score': '84', 'over_all_rank': 'Ranked #22,627', 'style_rank': 'Ranked #54', 'alcohol_percent': '7.3%', 'avg_rating': '3.71', 'percent_dev': '12.4%', 'review_count': '34', 'rating_count': '57', 'status': 'Active', 'date_added': 'Apr 15, 2003'}]\n"
     ]
    }
   ],
   "source": [
    "# print(beerlist)"
   ]
  },
  {
   "cell_type": "code",
   "execution_count": 105,
   "id": "f83c1d14",
   "metadata": {},
   "outputs": [
    {
     "data": {
      "text/html": [
       "<div>\n",
       "<style scoped>\n",
       "    .dataframe tbody tr th:only-of-type {\n",
       "        vertical-align: middle;\n",
       "    }\n",
       "\n",
       "    .dataframe tbody tr th {\n",
       "        vertical-align: top;\n",
       "    }\n",
       "\n",
       "    .dataframe thead th {\n",
       "        text-align: right;\n",
       "    }\n",
       "</style>\n",
       "<table border=\"1\" class=\"dataframe\">\n",
       "  <thead>\n",
       "    <tr style=\"text-align: right;\">\n",
       "      <th></th>\n",
       "      <th>name</th>\n",
       "      <th>brewery</th>\n",
       "      <th>location</th>\n",
       "      <th>location2</th>\n",
       "      <th>style</th>\n",
       "      <th>ba_score</th>\n",
       "      <th>over_all_rank</th>\n",
       "      <th>style_rank</th>\n",
       "      <th>alcohol_percent</th>\n",
       "      <th>avg_rating</th>\n",
       "      <th>percent_dev</th>\n",
       "      <th>review_count</th>\n",
       "      <th>rating_count</th>\n",
       "      <th>status</th>\n",
       "      <th>date_added</th>\n",
       "    </tr>\n",
       "  </thead>\n",
       "  <tbody>\n",
       "    <tr>\n",
       "      <th>0</th>\n",
       "      <td>Shiner Bock</td>\n",
       "      <td>Spoetzl Brewery</td>\n",
       "      <td>Texas</td>\n",
       "      <td>United States</td>\n",
       "      <td>Bock</td>\n",
       "      <td>74</td>\n",
       "      <td>Ranked #28,056</td>\n",
       "      <td>Ranked #96</td>\n",
       "      <td>4.5%</td>\n",
       "      <td>3.21</td>\n",
       "      <td>19.63%</td>\n",
       "      <td>1,234</td>\n",
       "      <td>4,564</td>\n",
       "      <td>Active</td>\n",
       "      <td>Oct 03, 1999</td>\n",
       "    </tr>\n",
       "    <tr>\n",
       "      <th>1</th>\n",
       "      <td>Samuel Adams Chocolate Bock</td>\n",
       "      <td>Boston Beer Company (Samuel Adams)</td>\n",
       "      <td>Massachusetts</td>\n",
       "      <td>United States</td>\n",
       "      <td>Bock</td>\n",
       "      <td>82</td>\n",
       "      <td>Ranked #25,002</td>\n",
       "      <td>Ranked #70</td>\n",
       "      <td>5.8%</td>\n",
       "      <td>3.64</td>\n",
       "      <td>16.21%</td>\n",
       "      <td>1,247</td>\n",
       "      <td>3,144</td>\n",
       "      <td>Active</td>\n",
       "      <td>Nov 20, 2003</td>\n",
       "    </tr>\n",
       "    <tr>\n",
       "      <th>2</th>\n",
       "      <td>Michelob AmberBock</td>\n",
       "      <td>Anheuser-Busch</td>\n",
       "      <td>Missouri</td>\n",
       "      <td>United States</td>\n",
       "      <td>Bock</td>\n",
       "      <td>68</td>\n",
       "      <td>Ranked #28,558</td>\n",
       "      <td>Ranked #100</td>\n",
       "      <td>5.1%</td>\n",
       "      <td>2.91</td>\n",
       "      <td>22.34%</td>\n",
       "      <td>732</td>\n",
       "      <td>1,970</td>\n",
       "      <td>Active</td>\n",
       "      <td>Aug 17, 2001</td>\n",
       "    </tr>\n",
       "    <tr>\n",
       "      <th>3</th>\n",
       "      <td>Samuel Adams Cherry Chocolate Bock</td>\n",
       "      <td>Boston Beer Company (Samuel Adams)</td>\n",
       "      <td>Massachusetts</td>\n",
       "      <td>United States</td>\n",
       "      <td>Bock</td>\n",
       "      <td>79</td>\n",
       "      <td>Ranked #26,984</td>\n",
       "      <td>Ranked #85</td>\n",
       "      <td>5.8%</td>\n",
       "      <td>3.47</td>\n",
       "      <td>19.6%</td>\n",
       "      <td>188</td>\n",
       "      <td>875</td>\n",
       "      <td>Active</td>\n",
       "      <td>Apr 11, 2011</td>\n",
       "    </tr>\n",
       "    <tr>\n",
       "      <th>4</th>\n",
       "      <td>Uff-da</td>\n",
       "      <td>New Glarus Brewing Company</td>\n",
       "      <td>Wisconsin</td>\n",
       "      <td>United States</td>\n",
       "      <td>Bock</td>\n",
       "      <td>86</td>\n",
       "      <td>Ranked #19,084</td>\n",
       "      <td>Ranked #27</td>\n",
       "      <td>6.7%</td>\n",
       "      <td>3.83</td>\n",
       "      <td>10.97%</td>\n",
       "      <td>342</td>\n",
       "      <td>662</td>\n",
       "      <td>Active</td>\n",
       "      <td>Jan 16, 2002</td>\n",
       "    </tr>\n",
       "  </tbody>\n",
       "</table>\n",
       "</div>"
      ],
      "text/plain": [
       "                                 name                             brewery  \\\n",
       "0                         Shiner Bock                     Spoetzl Brewery   \n",
       "1         Samuel Adams Chocolate Bock  Boston Beer Company (Samuel Adams)   \n",
       "2                  Michelob AmberBock                      Anheuser-Busch   \n",
       "3  Samuel Adams Cherry Chocolate Bock  Boston Beer Company (Samuel Adams)   \n",
       "4                              Uff-da          New Glarus Brewing Company   \n",
       "\n",
       "        location      location2 style ba_score   over_all_rank   style_rank  \\\n",
       "0          Texas  United States  Bock       74  Ranked #28,056   Ranked #96   \n",
       "1  Massachusetts  United States  Bock       82  Ranked #25,002   Ranked #70   \n",
       "2       Missouri  United States  Bock       68  Ranked #28,558  Ranked #100   \n",
       "3  Massachusetts  United States  Bock       79  Ranked #26,984   Ranked #85   \n",
       "4      Wisconsin  United States  Bock       86  Ranked #19,084   Ranked #27   \n",
       "\n",
       "  alcohol_percent avg_rating percent_dev review_count rating_count  status  \\\n",
       "0            4.5%       3.21      19.63%        1,234        4,564  Active   \n",
       "1            5.8%       3.64      16.21%        1,247        3,144  Active   \n",
       "2            5.1%       2.91      22.34%          732        1,970  Active   \n",
       "3            5.8%       3.47       19.6%          188          875  Active   \n",
       "4            6.7%       3.83      10.97%          342          662  Active   \n",
       "\n",
       "     date_added  \n",
       "0  Oct 03, 1999  \n",
       "1  Nov 20, 2003  \n",
       "2  Aug 17, 2001  \n",
       "3  Apr 11, 2011  \n",
       "4  Jan 16, 2002  "
      ]
     },
     "execution_count": 105,
     "metadata": {},
     "output_type": "execute_result"
    }
   ],
   "source": [
    "# df=pd.DataFrame(beerlist)\n",
    "# df.head()"
   ]
  },
  {
   "cell_type": "markdown",
   "id": "0933909d",
   "metadata": {},
   "source": []
  },
  {
   "cell_type": "code",
   "execution_count": null,
   "id": "f089585e",
   "metadata": {},
   "outputs": [],
   "source": []
  }
 ],
 "metadata": {
  "kernelspec": {
   "display_name": "Python 3 (ipykernel)",
   "language": "python",
   "name": "python3"
  },
  "language_info": {
   "codemirror_mode": {
    "name": "ipython",
    "version": 3
   },
   "file_extension": ".py",
   "mimetype": "text/x-python",
   "name": "python",
   "nbconvert_exporter": "python",
   "pygments_lexer": "ipython3",
   "version": "3.11.5"
  }
 },
 "nbformat": 4,
 "nbformat_minor": 5
}
