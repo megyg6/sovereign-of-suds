{
 "cells": [
  {
   "cell_type": "markdown",
   "id": "f6a40501",
   "metadata": {},
   "source": [
    "#### Goal for this webscrape phase: \"go into\" a page with links to \"zoom in\"/loop through links that then take you to another level that will then loop through links to scrape each webpage with in\n",
    "    Challenge:\n",
    "    -there are 14 styles (categories) and around ~120 links (subcategories)\n",
    "    -each style can have multiptle pages to loop through"
   ]
  },
  {
   "cell_type": "markdown",
   "id": "a4af4fa1",
   "metadata": {},
   "source": [
    "###### Starting small by scraping one page"
   ]
  },
  {
   "cell_type": "code",
   "execution_count": null,
   "id": "fd3fd91a",
   "metadata": {},
   "outputs": [],
   "source": [
    "import cloudscraper\n",
    "import requests\n",
    "import re\n",
    "from bs4 import BeautifulSoup\n",
    "import pandas as pd  \n",
    "import time \n",
    "import random"
   ]
  },
  {
   "cell_type": "code",
   "execution_count": null,
   "id": "50129b5a",
   "metadata": {},
   "outputs": [],
   "source": [
    "# url = \"https://www.beeradvocate.com/beer/profile/143/1352/\" \n",
    "# header= {'User-Agent': 'Mozilla/5.0 (Macintosh; Intel Mac OS X 10_15_7) AppleWebKit/537.36 (KHTML, like Gecko) Chrome/121.0.0.0 Safari/537.36'} \n",
    "# scraper = cloudscraper.create_scraper() \n",
    "# info = scraper.get(url) \n",
    "# print(info.status_code) \n",
    " "
   ]
  },
  {
   "cell_type": "code",
   "execution_count": null,
   "id": "b2e2371d",
   "metadata": {},
   "outputs": [],
   "source": [
    "# soup = BeautifulSoup(info.text, 'lxml') "
   ]
  },
  {
   "cell_type": "code",
   "execution_count": null,
   "id": "004a7f75",
   "metadata": {},
   "outputs": [],
   "source": [
    "# name=soup.h1.find(string=True)\n",
    "# name"
   ]
  },
  {
   "cell_type": "code",
   "execution_count": null,
   "id": "b5458638",
   "metadata": {},
   "outputs": [],
   "source": [
    "# soup.find('h1').text\n",
    "##will give me both the beer title and brewery merged together"
   ]
  },
  {
   "cell_type": "code",
   "execution_count": null,
   "id": "a0f0d0a8",
   "metadata": {},
   "outputs": [],
   "source": [
    "# soup.find('dl',{'class':'beerstats'}).text"
   ]
  },
  {
   "cell_type": "code",
   "execution_count": null,
   "id": "a165157e",
   "metadata": {
    "scrolled": false
   },
   "outputs": [],
   "source": [
    "# brewery=soup.find_all('a',attrs={'class':'Tooltip'})[4].text\n",
    "# brewery"
   ]
  },
  {
   "cell_type": "code",
   "execution_count": null,
   "id": "67af1398",
   "metadata": {},
   "outputs": [],
   "source": [
    "# loaction=soup.find_all('dd', attrs={'class':'beerstats'})[1].a.text\n",
    "# loaction"
   ]
  },
  {
   "cell_type": "code",
   "execution_count": null,
   "id": "efa8ec02",
   "metadata": {},
   "outputs": [],
   "source": [
    "# location2=soup.find_all('dd', attrs={'class':'beerstats'})[1].find_all('a')[1].text\n",
    "# location2"
   ]
  },
  {
   "cell_type": "code",
   "execution_count": null,
   "id": "e3c70b7e",
   "metadata": {},
   "outputs": [],
   "source": [
    "# style=soup.find_all('a',attrs={'class':'Tooltip'})[5].text\n",
    "# style"
   ]
  },
  {
   "cell_type": "code",
   "execution_count": null,
   "id": "3f3cc0ff",
   "metadata": {},
   "outputs": [],
   "source": [
    "# ba_score=soup.find_all('span',attrs={'class':'Tooltip'})[5].text\n",
    "# ba_score\n",
    "##official score on ba site 74::'okay'"
   ]
  },
  {
   "cell_type": "code",
   "execution_count": null,
   "id": "ba8d86a6",
   "metadata": {},
   "outputs": [],
   "source": [
    "# over_all_rank=soup.find_all('a',attrs={'class':'Tooltip'})[7].text\n",
    "# over_all_rank\n",
    "##over all rank is against all beers in ba site"
   ]
  },
  {
   "cell_type": "code",
   "execution_count": null,
   "id": "acfc58b1",
   "metadata": {},
   "outputs": [],
   "source": [
    "# style_rank=soup.find_all('a',attrs={'class':'Tooltip'})[6].text\n",
    "# style_rank\n",
    "## style rank is among all beers within style category"
   ]
  },
  {
   "cell_type": "code",
   "execution_count": null,
   "id": "3dbd3fe0",
   "metadata": {},
   "outputs": [],
   "source": [
    "# alcohol_percent=soup.find_all('span',attrs={'class':'Tooltip'})[3].text\n",
    "# alcohol_percent"
   ]
  },
  {
   "cell_type": "code",
   "execution_count": null,
   "id": "c5416539",
   "metadata": {},
   "outputs": [],
   "source": [
    "# avg_rating=soup.find_all('span',attrs={'class':'Tooltip'})[7].text\n",
    "# avg_rating\n",
    "# Average across all ratings for this beer"
   ]
  },
  {
   "cell_type": "code",
   "execution_count": null,
   "id": "d420045c",
   "metadata": {},
   "outputs": [],
   "source": [
    "# percent_dev=soup.find_all('span',attrs={'class':'Tooltip'})[8].text\n",
    "# percent_dev\n",
    "# Percentage of deviation within the ratings"
   ]
  },
  {
   "cell_type": "code",
   "execution_count": null,
   "id": "13173fe1",
   "metadata": {},
   "outputs": [],
   "source": [
    "# review_count=soup.find_all('span',attrs={'class':'Tooltip'})[10].text\n",
    "# review_count\n",
    "# Number of reviews for this beer"
   ]
  },
  {
   "cell_type": "code",
   "execution_count": null,
   "id": "c129271d",
   "metadata": {},
   "outputs": [],
   "source": [
    "# rating_count=soup.find_all('span',attrs={'class':'Tooltip'})[12].text\n",
    "# rating_count\n",
    "# Number of ratings for this beer"
   ]
  },
  {
   "cell_type": "code",
   "execution_count": null,
   "id": "80c0ff82",
   "metadata": {},
   "outputs": [],
   "source": [
    "# status=soup.find_all('span',attrs={'class':'Tooltip'})[14].text\n",
    "# status\n",
    "# the beer's current activity status"
   ]
  },
  {
   "cell_type": "code",
   "execution_count": null,
   "id": "9c97b53a",
   "metadata": {
    "scrolled": true
   },
   "outputs": [],
   "source": [
    "# date_added=soup.find_all('span',attrs={'class':'Tooltip'})[18].text\n",
    "# date_added\n",
    "# The date this beer was added to the site"
   ]
  },
  {
   "cell_type": "markdown",
   "id": "7a2f5d12",
   "metadata": {},
   "source": [
    "###### zooming out one level to scrape through \"bocks\" pg 1 with 50 results"
   ]
  },
  {
   "cell_type": "code",
   "execution_count": null,
   "id": "feaf9888",
   "metadata": {},
   "outputs": [],
   "source": [
    "# youtube page: John Watson Rooney helped get more of the wabscraping process \n",
    "# root='https://www.beeradvocate.com'\n",
    "# header= {'User-Agent': 'Mozilla/5.0 (Macintosh; Intel Mac OS X 10_15_7) AppleWebKit/537.36 (KHTML, like Gecko) Chrome/121.0.0.0 Safari/537.36'} \n",
    "# website=f'{root}/beer/styles/32/?sort=revsD&start=0'\n",
    "# scraper = cloudscraper.create_scraper() \n",
    "# info = scraper.get(website) \n",
    "# print(info.status_code)\n"
   ]
  },
  {
   "cell_type": "code",
   "execution_count": null,
   "id": "8efe38f3",
   "metadata": {},
   "outputs": [],
   "source": [
    "# soup = BeautifulSoup(info.text, 'lxml')"
   ]
  },
  {
   "cell_type": "code",
   "execution_count": null,
   "id": "36d3fac2",
   "metadata": {},
   "outputs": [],
   "source": [
    "# table=soup.find('table')\n",
    "#table is where the links are concentrated in "
   ]
  },
  {
   "cell_type": "code",
   "execution_count": null,
   "id": "3e05430b",
   "metadata": {
    "scrolled": true
   },
   "outputs": [],
   "source": [
    "# table.find_all(\"a\", href=re.compile(\"profile\"))[::2]"
   ]
  },
  {
   "cell_type": "code",
   "execution_count": null,
   "id": "d8f2a7c4",
   "metadata": {},
   "outputs": [],
   "source": [
    "# links=[link['href'] for link in table.find_all(\"a\", href=re.compile(\"profile\"))[::2]]\n",
    "# len(links)"
   ]
  },
  {
   "cell_type": "code",
   "execution_count": null,
   "id": "05f6534d",
   "metadata": {
    "scrolled": true
   },
   "outputs": [],
   "source": [
    "# beerlinks=[]\n",
    "# for link in table.find_all(\"a\", href=re.compile(\"profile\"))[::2]:\n",
    "#     beerlinks.append(root + link['href'])\n"
   ]
  },
  {
   "cell_type": "code",
   "execution_count": null,
   "id": "181f5739",
   "metadata": {
    "scrolled": true
   },
   "outputs": [],
   "source": [
    "# beerlinks"
   ]
  },
  {
   "cell_type": "markdown",
   "id": "0efdab88",
   "metadata": {},
   "source": [
    "##### Building together code to loop through links on one page  "
   ]
  },
  {
   "cell_type": "code",
   "execution_count": null,
   "id": "b784a62e",
   "metadata": {},
   "outputs": [],
   "source": [
    "# print(f'{variable im using in the for loop} : {variable 1 i am getting out of the loop this pass}, {variable 2 im getting out of the loop this pass}')\n",
    "# https://medium.com/swlh/improve-your-web-scraper-with-limited-retry-loops-python-35e21730cbf5\n",
    "# https://www.youtube.com/watch?v=sIOMDu6MXJQ&list=PLRzwgpycm-Fio7EyivRKOBN4D3tfQ_rpu&index=3\n",
    "# https://www.youtube.com/watch?v=8dTpNajxaH0&t=503s\n",
    "# https://www.freecodecamp.org/news/how-to-scrape-multiple-web-pages-using-python/"
   ]
  },
  {
   "cell_type": "code",
   "execution_count": null,
   "id": "015a40d3",
   "metadata": {},
   "outputs": [],
   "source": [
    "# testlink='https://www.beeradvocate.com/beer/profile/143/1352/'\n",
    "# for page pagination, ran a range to an imposiblly high number, by 50  (results per page that url uses to fill start param)\n",
    "root='https://www.beeradvocate.com'\n",
    "header= {'User-Agent': 'Mozilla/5.0 (Macintosh; Intel Mac OS X 10_15_7) AppleWebKit/537.36 (KHTML, like Gecko) Chrome/121.0.0.0 Safari/537.36'} \n",
    "\n",
    "beerlist=[]\n",
    "for x in range(0,100000,50):\n",
    "    if content.status_code == 200:    \n",
    "\n",
    "        website=f'{root}/beer/styles/32/?sort=revsD&start={x}'\n",
    "        scraper = cloudscraper.create_scraper() \n",
    "        info = scraper.get(website)  \n",
    "        soup = BeautifulSoup(info.text, 'lxml')\n",
    "        table=soup.find('table')\n",
    "\n",
    "        beerlinks=[]\n",
    "        for link in table.find_all(\"a\", href=re.compile(\"profile\"))[::2]:\n",
    "            beerlinks.append(root + link['href'])\n",
    "\n",
    "\n",
    "        for link in beerlinks:\n",
    "            r=requests.get(link, headers=header)\n",
    "            soup=BeautifulSoup(r.content,'lxml')\n",
    "            name=soup.h1.find(string=True)\n",
    "            try:    \n",
    "                brewery=soup.find_all('a',attrs={'class':'Tooltip'})[4].text\n",
    "            except:\n",
    "                brewery= 'Na'\n",
    "            try:\n",
    "                location=soup.find_all('dd', attrs={'class':'beerstats'})[1].a.text\n",
    "            except:\n",
    "                location= 'Na'\n",
    "            try:\n",
    "                location2=soup.find_all('dd', attrs={'class':'beerstats'})[1].find_all('a')[1].text\n",
    "            except:\n",
    "                location2= 'Na'\n",
    "            try:\n",
    "                style=soup.find_all('a',attrs={'class':'Tooltip'})[5].text\n",
    "            except:\n",
    "                style= 'Na'\n",
    "            try:\n",
    "                ba_score=soup.find_all('span',attrs={'class':'Tooltip'})[5].text\n",
    "            except:\n",
    "                ba_score= 'Na'\n",
    "            try:\n",
    "                over_all_rank=soup.find_all('a',attrs={'class':'Tooltip'})[7].text\n",
    "            except:\n",
    "                over_all_rank= 'Na'\n",
    "            try:\n",
    "                style_rank=soup.find_all('a',attrs={'class':'Tooltip'})[6].text\n",
    "            except:\n",
    "                style_rank= 'Na'\n",
    "            try:\n",
    "                alcohol_percent=soup.find_all('span',attrs={'class':'Tooltip'})[3].text\n",
    "            except:\n",
    "                alcohol_percent= 'Na'\n",
    "            try:\n",
    "                avg_rating=soup.find_all('span',attrs={'class':'Tooltip'})[7].text\n",
    "            except:\n",
    "                avg_rating= 'Na'\n",
    "            try:\n",
    "                percent_dev=soup.find_all('span',attrs={'class':'Tooltip'})[8].text\n",
    "            except:\n",
    "                percent_dev= 'Na'\n",
    "            try:\n",
    "                review_count=soup.find_all('span',attrs={'class':'Tooltip'})[10].text\n",
    "            except:\n",
    "                review_count= 'Na'\n",
    "            try:\n",
    "                rating_count=soup.find_all('span',attrs={'class':'Tooltip'})[12].text\n",
    "            except:\n",
    "                rating_count= 'Na'\n",
    "            try:\n",
    "                status=soup.find_all('span',attrs={'class':'Tooltip'})[14].text\n",
    "            except:\n",
    "                status= 'Na'\n",
    "            try:\n",
    "                date_added=soup.find_all('span',attrs={'class':'Tooltip'})[18].text\n",
    "            except:\n",
    "                date_added= 'Na'\n",
    "            beer_info= {\n",
    "                        'name': name,\n",
    "                        'brewery': brewery,\n",
    "                        'location':location,\n",
    "                        'location2':location2,\n",
    "                        'style': style,\n",
    "                        'ba_score':ba_score,\n",
    "                        'over_all_rank': over_all_rank,\n",
    "                        'style_rank': style_rank,\n",
    "                        'alcohol_percent': alcohol_percent,\n",
    "                        'avg_rating':avg_rating,\n",
    "                        'percent_dev': percent_dev,\n",
    "                        'review_count': review_count,\n",
    "                        'rating_count':rating_count,\n",
    "                        'status': status,\n",
    "                        'date_added': date_added\n",
    "                            }\n",
    "            beerlist.append(beer_info)\n",
    "            print(f'{x}-{link}-{name}')\n",
    "    else:\n",
    "        break          \n",
    "\n",
    "print(beerlist)\n",
    "                  \n",
    "# print({variable 1 i am getting out of the loop this pass}, {variable 2 im getting out of the loop this pass}')"
   ]
  },
  {
   "cell_type": "code",
   "execution_count": null,
   "id": "96c1c775",
   "metadata": {},
   "outputs": [],
   "source": [
    "df=pd.DataFrame(beerlist)\n",
    "df"
   ]
  },
  {
   "cell_type": "code",
   "execution_count": null,
   "id": "6e23db3c",
   "metadata": {
    "scrolled": true
   },
   "outputs": [],
   "source": [
    "len(beerlinks)"
   ]
  },
  {
   "cell_type": "markdown",
   "id": "3de252c8",
   "metadata": {},
   "source": [
    "##### Building together code to loop through links of different styles of beer (zooming out another level/ another loop)\n",
    "-challanges: url for different beer styles has a slight change in on of the parameters for each style of beer, need to be mindful of this in loop, meaing a few changes must be implimented on code above\n"
   ]
  },
  {
   "cell_type": "code",
   "execution_count": null,
   "id": "7787af3c",
   "metadata": {},
   "outputs": [],
   "source": [
    "root='https://www.beeradvocate.com'\n",
    "header= {'User-Agent': 'Mozilla/5.0 (Macintosh; Intel Mac OS X 10_15_7) AppleWebKit/537.36 (KHTML, like Gecko) Chrome/121.0.0.0 Safari/537.36'} \n",
    "\n",
    "    \n",
    "website=f'{root}/beer/styles/32/?sort=revsD&start={x}'\n",
    "scraper = cloudscraper.create_scraper() \n",
    "info = scraper.get(website)  \n",
    "soup = BeautifulSoup(info.text, 'lxml')\n",
    "table=soup.find('table')"
   ]
  }
 ],
 "metadata": {
  "kernelspec": {
   "display_name": "Python 3 (ipykernel)",
   "language": "python",
   "name": "python3"
  },
  "language_info": {
   "codemirror_mode": {
    "name": "ipython",
    "version": 3
   },
   "file_extension": ".py",
   "mimetype": "text/x-python",
   "name": "python",
   "nbconvert_exporter": "python",
   "pygments_lexer": "ipython3",
   "version": "3.11.5"
  }
 },
 "nbformat": 4,
 "nbformat_minor": 5
}
